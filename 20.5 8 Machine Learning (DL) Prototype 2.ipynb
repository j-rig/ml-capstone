{
 "cells": [
  {
   "cell_type": "markdown",
   "id": "e62b6a5c",
   "metadata": {},
   "source": [
    "# 20.5 8 Machine Learning (DL) Prototype 2"
   ]
  },
  {
   "cell_type": "code",
   "execution_count": 1,
   "id": "c0b35564",
   "metadata": {},
   "outputs": [],
   "source": [
    "import warnings\n",
    "warnings.filterwarnings('ignore')"
   ]
  },
  {
   "cell_type": "code",
   "execution_count": 2,
   "id": "76377611",
   "metadata": {},
   "outputs": [],
   "source": [
    "import pandas as pd\n",
    "import numpy as np\n",
    "from sklearn.model_selection import train_test_split\n",
    "from sklearn.feature_extraction.text import TfidfVectorizer\n",
    "from sklearn.linear_model import *\n",
    "from sklearn.ensemble import *\n",
    "from sklearn.metrics import r2_score\n",
    "from sklearn.decomposition import PCA"
   ]
  },
  {
   "cell_type": "code",
   "execution_count": 3,
   "id": "b64463bf",
   "metadata": {},
   "outputs": [],
   "source": [
    "import seaborn as sns"
   ]
  },
  {
   "cell_type": "markdown",
   "id": "fa62a419",
   "metadata": {},
   "source": [
    "### load processed bizbuysell dataset"
   ]
  },
  {
   "cell_type": "code",
   "execution_count": 4,
   "id": "865ee479",
   "metadata": {},
   "outputs": [],
   "source": [
    "df_in=pd.read_parquet('data/bizwiz_value_score_2.parquet')"
   ]
  },
  {
   "cell_type": "code",
   "execution_count": 5,
   "id": "e7f61acd",
   "metadata": {},
   "outputs": [],
   "source": [
    "#df_in=df_in[:10000]"
   ]
  },
  {
   "cell_type": "code",
   "execution_count": 6,
   "id": "7264960c",
   "metadata": {},
   "outputs": [
    {
     "name": "stdout",
     "output_type": "stream",
     "text": [
      "<class 'pandas.core.frame.DataFrame'>\n",
      "Index: 12143 entries, 1427 to 36567\n",
      "Data columns (total 21 columns):\n",
      " #   Column                                 Non-Null Count  Dtype  \n",
      "---  ------                                 --------------  -----  \n",
      " 0   id                                     12143 non-null  float64\n",
      " 1   pptitle                                12143 non-null  object \n",
      " 2   ppdesc                                 12143 non-null  object \n",
      " 3   ppdetails                              12143 non-null  object \n",
      " 4   ppfinancials                           12143 non-null  object \n",
      " 5   pcategories                            12143 non-null  object \n",
      " 6   COUNTY_NAME                            12143 non-null  object \n",
      " 7   STATE_NAME                             12143 non-null  object \n",
      " 8   price                                  12143 non-null  float64\n",
      " 9   cash_flow                              12143 non-null  float64\n",
      " 10  gross_revenue                          12143 non-null  float64\n",
      " 11  established                            12143 non-null  float64\n",
      " 12  POVERTY_PERCENT                        12143 non-null  float64\n",
      " 13  MEDIAN_HOUSEHOLD_INCOME                12143 non-null  float64\n",
      " 14  bizwiz_value_score                     12143 non-null  float64\n",
      " 15  bizwiz_class                           12143 non-null  int64  \n",
      " 16  bizwiz_label                           12143 non-null  object \n",
      " 17  label_num                              12143 non-null  int64  \n",
      " 18  label                                  12143 non-null  object \n",
      " 19  exp(sqrt(cash_flow) - cash_flow)       12143 non-null  float64\n",
      " 20  sqrt(cash_flow + sqrt(gross_revenue))  12143 non-null  float64\n",
      "dtypes: float64(10), int64(2), object(9)\n",
      "memory usage: 2.0+ MB\n"
     ]
    }
   ],
   "source": [
    "df_in.info()"
   ]
  },
  {
   "cell_type": "markdown",
   "id": "91bf75ee",
   "metadata": {},
   "source": [
    "### vectorize text"
   ]
  },
  {
   "cell_type": "code",
   "execution_count": 6,
   "id": "04adcf7b",
   "metadata": {},
   "outputs": [],
   "source": [
    "vect_text=TfidfVectorizer(stop_words='english',ngram_range=(1, 2),max_df=0.5,min_df=20)"
   ]
  },
  {
   "cell_type": "code",
   "execution_count": 7,
   "id": "48edb03b",
   "metadata": {},
   "outputs": [],
   "source": [
    "text= df_in.pptitle + ' ' + df_in.ppdesc + ' ' + df_in.ppdetails + ' ' + df_in.ppfinancials "
   ]
  },
  {
   "cell_type": "code",
   "execution_count": 8,
   "id": "c4465f5c",
   "metadata": {},
   "outputs": [
    {
     "name": "stdout",
     "output_type": "stream",
     "text": [
      "CPU times: user 4.8 s, sys: 0 ns, total: 4.8 s\n",
      "Wall time: 4.8 s\n"
     ]
    }
   ],
   "source": [
    "%time X_text = vect_text.fit_transform(text)"
   ]
  },
  {
   "cell_type": "code",
   "execution_count": 9,
   "id": "305b35a7",
   "metadata": {},
   "outputs": [
    {
     "data": {
      "text/plain": [
       "(12143, 13646)"
      ]
     },
     "execution_count": 9,
     "metadata": {},
     "output_type": "execute_result"
    }
   ],
   "source": [
    "X_text.shape"
   ]
  },
  {
   "cell_type": "code",
   "execution_count": 10,
   "id": "b0c6617b",
   "metadata": {},
   "outputs": [],
   "source": [
    "pca_text=PCA(1000)"
   ]
  },
  {
   "cell_type": "code",
   "execution_count": 11,
   "id": "88fb7ba1",
   "metadata": {},
   "outputs": [
    {
     "name": "stdout",
     "output_type": "stream",
     "text": [
      "CPU times: user 8min 59s, sys: 2min 28s, total: 11min 27s\n",
      "Wall time: 1min 12s\n"
     ]
    }
   ],
   "source": [
    "%time X_text_pca = pca_text.fit_transform(X_text.toarray())"
   ]
  },
  {
   "cell_type": "code",
   "execution_count": 12,
   "id": "bf4a8d12",
   "metadata": {},
   "outputs": [
    {
     "data": {
      "text/plain": [
       "(12143, 1000)"
      ]
     },
     "execution_count": 12,
     "metadata": {},
     "output_type": "execute_result"
    }
   ],
   "source": [
    "X_text_pca.shape"
   ]
  },
  {
   "cell_type": "markdown",
   "id": "50af66e0",
   "metadata": {},
   "source": [
    "### test train sets"
   ]
  },
  {
   "cell_type": "code",
   "execution_count": 13,
   "id": "ab02a326",
   "metadata": {},
   "outputs": [],
   "source": [
    "X_train, X_test, y_train, y_test = train_test_split(X_text_pca, df_in.price,random_state=1)"
   ]
  },
  {
   "cell_type": "markdown",
   "id": "083bbc40",
   "metadata": {},
   "source": [
    "### score different models"
   ]
  },
  {
   "cell_type": "code",
   "execution_count": 14,
   "id": "f0a0dd8f",
   "metadata": {},
   "outputs": [],
   "source": [
    "lm_r2_scores={}\n",
    "em_r2_scores={}"
   ]
  },
  {
   "cell_type": "code",
   "execution_count": 15,
   "id": "ef23eb5b",
   "metadata": {},
   "outputs": [],
   "source": [
    "def test_model(model, X_train, y_train, X_test, y_test):\n",
    "    print(f'testing {model}...')\n",
    "    regr= eval(model)()\n",
    "    regr.fit(X_train, y_train)\n",
    "    y_pred = regr.predict(X_test)\n",
    "    r2=r2_score(y_test,y_pred)\n",
    "    print(f'{model}: {r2}')\n",
    "    return r2"
   ]
  },
  {
   "cell_type": "code",
   "execution_count": 12,
   "id": "015201f5",
   "metadata": {},
   "outputs": [],
   "source": [
    "linear_models=['LinearRegression','Ridge','RidgeCV ',\n",
    "               'Lasso','LassoCV','LassoLarsCV',\n",
    "               'LassoLarsIC','ElasticNet','Lars','LassoLars',\n",
    "              'OrthogonalMatchingPursuit','BayesianRidge','ARDRegression','TweedieRegressor',\n",
    "               'SGDRegressor','PassiveAggressiveRegressor','RANSACRegressor',\n",
    "               'HuberRegressor']"
   ]
  },
  {
   "cell_type": "code",
   "execution_count": 13,
   "id": "9c0ee105",
   "metadata": {},
   "outputs": [],
   "source": [
    "ensemble_models=['GradientBoostingRegressor','HistGradientBoostingRegressor','RandomForestRegressor',\n",
    "                'ExtraTreesRegressor','BaggingRegressor']"
   ]
  },
  {
   "cell_type": "code",
   "execution_count": 23,
   "id": "2a81d97d",
   "metadata": {},
   "outputs": [
    {
     "name": "stdout",
     "output_type": "stream",
     "text": [
      "testing LinearRegression...\n",
      "LinearRegression: 0.2817734802665818\n",
      "testing Ridge...\n",
      "Ridge: 0.3120161214144277\n",
      "testing RidgeCV ...\n",
      "RidgeCV : 0.3120161214144268\n",
      "testing Lasso...\n",
      "Lasso: 0.2832053084346037\n",
      "testing LassoCV...\n",
      "LassoCV: 0.3060939811355712\n",
      "testing LassoLarsCV...\n",
      "LassoLarsCV: 0.2963423544930541\n",
      "testing LassoLarsIC...\n",
      "LassoLarsIC: 0.29969172668500454\n",
      "testing ElasticNet...\n",
      "ElasticNet: 0.004971881608421658\n",
      "testing Lars...\n",
      "Lars: 0.2996917437668374\n",
      "testing LassoLars...\n",
      "LassoLars: 0.2996917437668374\n",
      "testing OrthogonalMatchingPursuit...\n",
      "OrthogonalMatchingPursuit: 0.2579416952734289\n",
      "testing BayesianRidge...\n",
      "BayesianRidge: 0.31549236299247696\n",
      "testing ARDRegression...\n",
      "ARDRegression: -0.00023076497349339142\n",
      "testing TweedieRegressor...\n",
      "TweedieRegressor: 0.002422513309377816\n",
      "testing SGDRegressor...\n",
      "SGDRegressor: 0.3179972751764515\n",
      "testing PassiveAggressiveRegressor...\n",
      "PassiveAggressiveRegressor: -0.07277028935821761\n",
      "testing RANSACRegressor...\n",
      "RANSACRegressor: -120.6987769143425\n",
      "testing HuberRegressor...\n",
      "HuberRegressor: 0.14135650052537252\n"
     ]
    }
   ],
   "source": [
    "for m in linear_models:\n",
    "   lm_r2_scores[m]=test_model(m,X_train, y_train, X_test, y_test)"
   ]
  },
  {
   "cell_type": "code",
   "execution_count": 58,
   "id": "09b31157",
   "metadata": {},
   "outputs": [],
   "source": [
    "dfr=pd.DataFrame.from_dict(lm_r2_scores,'index')\n",
    "dfr['linear model']=dfr.index\n",
    "dfr['r2']=dfr[0]\n",
    "dfr=dfr[dfr.r2 > 0]\n",
    "dfr=dfr.sort_values('r2',ascending=False)"
   ]
  },
  {
   "cell_type": "code",
   "execution_count": 60,
   "id": "a6bd980e",
   "metadata": {},
   "outputs": [
    {
     "data": {
      "text/plain": [
       "<Axes: xlabel='r2', ylabel='linear model'>"
      ]
     },
     "execution_count": 60,
     "metadata": {},
     "output_type": "execute_result"
    },
    {
     "data": {
      "image/png": "[encoded data removed]",
      "text/plain": [
       "<Figure size 640x480 with 1 Axes>"
      ]
     },
     "metadata": {},
     "output_type": "display_data"
    }
   ],
   "source": [
    "sns.barplot(dfr,x='r2', y='linear model',orient='h')"
   ]
  },
  {
   "cell_type": "code",
   "execution_count": 69,
   "id": "8878f3b8",
   "metadata": {},
   "outputs": [
    {
     "name": "stdout",
     "output_type": "stream",
     "text": [
      "testing GradientBoostingRegressor...\n",
      "GradientBoostingRegressor: 0.2127015639773322\n",
      "testing HistGradientBoostingRegressor...\n",
      "HistGradientBoostingRegressor: 0.22445836165286126\n",
      "testing RandomForestRegressor...\n",
      "RandomForestRegressor: 0.18559969433543821\n",
      "testing ExtraTreesRegressor...\n",
      "ExtraTreesRegressor: 0.20902168299531576\n",
      "testing BaggingRegressor...\n",
      "BaggingRegressor: 0.12911267741122257\n"
     ]
    }
   ],
   "source": [
    "for m in ensemble_models:\n",
    "   em_r2_scores[m]=test_model(m,X_train, y_train, X_test, y_test)"
   ]
  },
  {
   "cell_type": "code",
   "execution_count": 70,
   "id": "8e02e5e7",
   "metadata": {},
   "outputs": [],
   "source": [
    "dfr=pd.DataFrame.from_dict(em_r2_scores,'index')\n",
    "dfr['ensemble model']=dfr.index\n",
    "dfr['r2']=dfr[0]\n",
    "dfr=dfr[dfr.r2 > 0]\n",
    "dfr=dfr.sort_values('r2',ascending=False)"
   ]
  },
  {
   "cell_type": "code",
   "execution_count": 71,
   "id": "9fba861b",
   "metadata": {},
   "outputs": [
    {
     "data": {
      "text/plain": [
       "<Axes: xlabel='r2', ylabel='ensemble model'>"
      ]
     },
     "execution_count": 71,
     "metadata": {},
     "output_type": "execute_result"
    },
    {
     "data": {
      "image/png": "[encoded data removed]",
      "text/plain": [
       "<Figure size 640x480 with 1 Axes>"
      ]
     },
     "metadata": {},
     "output_type": "display_data"
    }
   ],
   "source": [
    "sns.barplot(dfr,x='r2', y='ensemble model',orient='h')"
   ]
  },
  {
   "cell_type": "markdown",
   "id": "bd199e31",
   "metadata": {},
   "source": [
    "### test feature model"
   ]
  },
  {
   "cell_type": "code",
   "execution_count": 59,
   "id": "b36ccb87",
   "metadata": {},
   "outputs": [
    {
     "data": {
      "text/plain": [
       "Index(['id', 'pptitle', 'ppdesc', 'ppdetails', 'ppfinancials', 'pcategories',\n",
       "       'COUNTY_NAME', 'STATE_NAME', 'price', 'cash_flow', 'gross_revenue',\n",
       "       'established', 'POVERTY_PERCENT', 'MEDIAN_HOUSEHOLD_INCOME',\n",
       "       'bizwiz_value_score', 'bizwiz_class', 'bizwiz_label', 'label_num',\n",
       "       'label', 'exp(sqrt(cash_flow) - cash_flow)',\n",
       "       'sqrt(cash_flow + sqrt(gross_revenue))'],\n",
       "      dtype='object')"
      ]
     },
     "execution_count": 59,
     "metadata": {},
     "output_type": "execute_result"
    }
   ],
   "source": [
    "df_in.columns"
   ]
  },
  {
   "cell_type": "code",
   "execution_count": 72,
   "id": "63146028",
   "metadata": {},
   "outputs": [],
   "source": [
    "# X_df=df_in[['cash_flow', 'gross_revenue','established', 'POVERTY_PERCENT', \n",
    "#             'MEDIAN_HOUSEHOLD_INCOME','exp(sqrt(cash_flow) - cash_flow)']]\n",
    "X_df=df_in[['cash_flow', 'gross_revenue']]"
   ]
  },
  {
   "cell_type": "code",
   "execution_count": 73,
   "id": "63e0d361",
   "metadata": {},
   "outputs": [],
   "source": [
    "X_train, X_test, y_train, y_test = train_test_split(X_df, df_in.price,random_state=1)"
   ]
  },
  {
   "cell_type": "code",
   "execution_count": 74,
   "id": "5a28d65e",
   "metadata": {},
   "outputs": [],
   "source": [
    "em2_r2_scores={}"
   ]
  },
  {
   "cell_type": "code",
   "execution_count": 75,
   "id": "13d776a4",
   "metadata": {},
   "outputs": [
    {
     "name": "stdout",
     "output_type": "stream",
     "text": [
      "testing GradientBoostingRegressor...\n",
      "GradientBoostingRegressor: 0.6018361594177633\n",
      "testing HistGradientBoostingRegressor...\n",
      "HistGradientBoostingRegressor: 0.5938403493140993\n",
      "testing RandomForestRegressor...\n",
      "RandomForestRegressor: 0.5713444395135823\n",
      "testing ExtraTreesRegressor...\n",
      "ExtraTreesRegressor: 0.549593161398336\n",
      "testing BaggingRegressor...\n",
      "BaggingRegressor: 0.5395729008298524\n"
     ]
    }
   ],
   "source": [
    "for m in ensemble_models:\n",
    "   em2_r2_scores[m]=test_model(m,X_train, y_train, X_test, y_test)"
   ]
  },
  {
   "cell_type": "code",
   "execution_count": 76,
   "id": "e2a0b7a1",
   "metadata": {},
   "outputs": [],
   "source": [
    "dfr=pd.DataFrame.from_dict(em2_r2_scores,'index')\n",
    "dfr['ensemble model']=dfr.index\n",
    "dfr['r2']=dfr[0]\n",
    "dfr=dfr[dfr.r2 > 0]\n",
    "dfr=dfr.sort_values('r2',ascending=False)"
   ]
  },
  {
   "cell_type": "code",
   "execution_count": 71,
   "id": "c691e9c2",
   "metadata": {},
   "outputs": [
    {
     "data": {
      "text/plain": [
       "<Axes: xlabel='r2', ylabel='ensemble model'>"
      ]
     },
     "execution_count": 71,
     "metadata": {},
     "output_type": "execute_result"
    },
    {
     "data": {
      "image/png": "[encoded data removed]",
      "text/plain": [
       "<Figure size 640x480 with 1 Axes>"
      ]
     },
     "metadata": {},
     "output_type": "display_data"
    }
   ],
   "source": [
    "sns.barplot(dfr,x='r2', y='ensemble model',orient='h')"
   ]
  },
  {
   "cell_type": "code",
   "execution_count": null,
   "id": "261e6fd1",
   "metadata": {},
   "outputs": [],
   "source": []
  }
 ],
 "metadata": {
  "kernelspec": {
   "display_name": "Python 3 (ipykernel)",
   "language": "python",
   "name": "python3"
  },
  "language_info": {
   "codemirror_mode": {
    "name": "ipython",
    "version": 3
   },
   "file_extension": ".py",
   "mimetype": "text/x-python",
   "name": "python",
   "nbconvert_exporter": "python",
   "pygments_lexer": "ipython3",
   "version": "3.9.17"
  }
 },
 "nbformat": 4,
 "nbformat_minor": 5
}
