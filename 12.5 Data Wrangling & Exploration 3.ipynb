{
 "cells": [
  {
   "cell_type": "markdown",
   "metadata": {},
   "source": [
    "### Bizbuysell Data Wrangling & Exploration 3"
   ]
  },
  {
   "cell_type": "markdown",
   "metadata": {},
   "source": [
    "https://www.springboard.com/archeio/download/2c28c1ea344a4f71a7489f3b8ce78755/\n",
    "https://docs.google.com/document/d/1ySJxTqB79npcJZ2VQSE4PZEydSYYWI5IvNcwrCKpkto/edit"
   ]
  },
  {
   "cell_type": "code",
   "execution_count": 1,
   "metadata": {},
   "outputs": [],
   "source": [
    "import warnings\n",
    "warnings.filterwarnings('ignore')"
   ]
  },
  {
   "cell_type": "code",
   "execution_count": 2,
   "metadata": {},
   "outputs": [],
   "source": [
    "import pandas as pd\n",
    "import seaborn as sns"
   ]
  },
  {
   "cell_type": "markdown",
   "metadata": {},
   "source": [
    "### Load dataset"
   ]
  },
  {
   "cell_type": "code",
   "execution_count": 3,
   "metadata": {},
   "outputs": [],
   "source": [
    "df_in=pd.read_parquet('data/bizbuysell.dataset.2.parquet')"
   ]
  },
  {
   "cell_type": "code",
   "execution_count": 4,
   "metadata": {},
   "outputs": [
    {
     "data": {
      "text/plain": [
       "(252852, 31)"
      ]
     },
     "execution_count": 4,
     "metadata": {},
     "output_type": "execute_result"
    }
   ],
   "source": [
    "df_in.shape"
   ]
  },
  {
   "cell_type": "code",
   "execution_count": 5,
   "metadata": {},
   "outputs": [
    {
     "data": {
      "text/html": [
       "<div>\n",
       "<style scoped>\n",
       "    .dataframe tbody tr th:only-of-type {\n",
       "        vertical-align: middle;\n",
       "    }\n",
       "\n",
       "    .dataframe tbody tr th {\n",
       "        vertical-align: top;\n",
       "    }\n",
       "\n",
       "    .dataframe thead th {\n",
       "        text-align: right;\n",
       "    }\n",
       "</style>\n",
       "<table border=\"1\" class=\"dataframe\">\n",
       "  <thead>\n",
       "    <tr style=\"text-align: right;\">\n",
       "      <th></th>\n",
       "      <th>id</th>\n",
       "      <th>src</th>\n",
       "      <th>url</th>\n",
       "      <th>title</th>\n",
       "      <th>desc</th>\n",
       "      <th>local</th>\n",
       "      <th>region</th>\n",
       "      <th>location</th>\n",
       "      <th>title_loc</th>\n",
       "      <th>categories</th>\n",
       "      <th>...</th>\n",
       "      <th>STATE_NUMERIC</th>\n",
       "      <th>STATE_ALPHA</th>\n",
       "      <th>COUNTY_SEQUENCE</th>\n",
       "      <th>COUNTY_NUMERIC</th>\n",
       "      <th>COUNTY_NAME</th>\n",
       "      <th>PRIMARY_LATITUDE</th>\n",
       "      <th>PRIMARY_LONGITUDE</th>\n",
       "      <th>DATE_CREATED</th>\n",
       "      <th>DATE_EDITED</th>\n",
       "      <th>STATE_NAME</th>\n",
       "    </tr>\n",
       "  </thead>\n",
       "  <tbody>\n",
       "    <tr>\n",
       "      <th>0</th>\n",
       "      <td>2067319.0</td>\n",
       "      <td>details</td>\n",
       "      <td>https://www.bizbuysell.com/Business-Real-Estat...</td>\n",
       "      <td>Popular Marina in Central New Jersey in Middle...</td>\n",
       "      <td>It is fully owned by a man and his wife since ...</td>\n",
       "      <td>Middlesex</td>\n",
       "      <td>New Jersey</td>\n",
       "      <td>Middlesex County, NJ</td>\n",
       "      <td>Central New Jersey in Middlesex County, New Je...</td>\n",
       "      <td>[Real Estate For Sale, New Jersey, Marinas and...</td>\n",
       "      <td>...</td>\n",
       "      <td>34.0</td>\n",
       "      <td>NJ</td>\n",
       "      <td>1.0</td>\n",
       "      <td>23.0</td>\n",
       "      <td>Middlesex</td>\n",
       "      <td>40.572603</td>\n",
       "      <td>-74.492654</td>\n",
       "      <td>09/08/1979</td>\n",
       "      <td>03/17/2008</td>\n",
       "      <td>New Jersey</td>\n",
       "    </tr>\n",
       "    <tr>\n",
       "      <th>1</th>\n",
       "      <td>1990890.0</td>\n",
       "      <td>details</td>\n",
       "      <td>https://www.bizbuysell.com/Business-Real-Estat...</td>\n",
       "      <td>High Exposure in Mays Landing, New Jersey - Bi...</td>\n",
       "      <td>AMAZING OPPORTUNITY! Priced to sell and ready ...</td>\n",
       "      <td>Mays Landing</td>\n",
       "      <td>New Jersey</td>\n",
       "      <td>Mays Landing, NJ (Atlantic County)</td>\n",
       "      <td>Mays Landing, New Jersey</td>\n",
       "      <td>[Real Estate For Sale, New Jersey, Other, Mays...</td>\n",
       "      <td>...</td>\n",
       "      <td>34.0</td>\n",
       "      <td>NJ</td>\n",
       "      <td>1.0</td>\n",
       "      <td>1.0</td>\n",
       "      <td>Atlantic</td>\n",
       "      <td>39.452339</td>\n",
       "      <td>-74.727663</td>\n",
       "      <td>09/08/1979</td>\n",
       "      <td>12/06/2013</td>\n",
       "      <td>New Jersey</td>\n",
       "    </tr>\n",
       "    <tr>\n",
       "      <th>2</th>\n",
       "      <td>2050006.0</td>\n",
       "      <td>details</td>\n",
       "      <td>https://www.bizbuysell.com/Business-Real-Estat...</td>\n",
       "      <td>Rental Units with Real Estate in Randolph, New...</td>\n",
       "      <td>This is a 6 unit Airbnb with an average occupa...</td>\n",
       "      <td>Randolph</td>\n",
       "      <td>New York</td>\n",
       "      <td>Randolph, NY (Cattaraugus County)</td>\n",
       "      <td>Randolph, New York</td>\n",
       "      <td>[Real Estate For Sale, New York, Hotels, Rando...</td>\n",
       "      <td>...</td>\n",
       "      <td>36.0</td>\n",
       "      <td>NY</td>\n",
       "      <td>1.0</td>\n",
       "      <td>9.0</td>\n",
       "      <td>Cattaraugus</td>\n",
       "      <td>42.162005</td>\n",
       "      <td>-78.975317</td>\n",
       "      <td>01/23/1980</td>\n",
       "      <td>11/08/2019</td>\n",
       "      <td>New York</td>\n",
       "    </tr>\n",
       "    <tr>\n",
       "      <th>3</th>\n",
       "      <td>2039720.0</td>\n",
       "      <td>details</td>\n",
       "      <td>https://www.bizbuysell.com/Business-Real-Estat...</td>\n",
       "      <td>Duplex, Short term or Long term in Pinellas Co...</td>\n",
       "      <td>Rare Largo/Seminole area duplex centrally loca...</td>\n",
       "      <td>Pinellas</td>\n",
       "      <td>Florida</td>\n",
       "      <td>Pinellas County, FL</td>\n",
       "      <td>Pinellas County, Florida</td>\n",
       "      <td>[Real Estate For Sale, Florida, Other, Pinella...</td>\n",
       "      <td>...</td>\n",
       "      <td>12.0</td>\n",
       "      <td>FL</td>\n",
       "      <td>1.0</td>\n",
       "      <td>103.0</td>\n",
       "      <td>Pinellas</td>\n",
       "      <td>27.905111</td>\n",
       "      <td>-82.799568</td>\n",
       "      <td>08/28/1987</td>\n",
       "      <td>06/04/2021</td>\n",
       "      <td>Florida</td>\n",
       "    </tr>\n",
       "    <tr>\n",
       "      <th>4</th>\n",
       "      <td>1576680.0</td>\n",
       "      <td>details</td>\n",
       "      <td>https://www.bizbuysell.com/Business-Real-Estat...</td>\n",
       "      <td>Major Price Reduction Rest/Tavern/ 13,000sq. f...</td>\n",
       "      <td>Price reduced to $850. 000 MAKE AN OFFER!!!!!!...</td>\n",
       "      <td>Baltimore</td>\n",
       "      <td>Maryland</td>\n",
       "      <td>Baltimore, MD (Baltimore City County)</td>\n",
       "      <td>Baltimore, Maryland</td>\n",
       "      <td>[Real Estate For Sale, Maryland, Bars, Pubs an...</td>\n",
       "      <td>...</td>\n",
       "      <td>24.0</td>\n",
       "      <td>MD</td>\n",
       "      <td>1.0</td>\n",
       "      <td>510.0</td>\n",
       "      <td>Baltimore (city)</td>\n",
       "      <td>39.290385</td>\n",
       "      <td>-76.612189</td>\n",
       "      <td>09/12/1979</td>\n",
       "      <td>03/17/2008</td>\n",
       "      <td>Maryland</td>\n",
       "    </tr>\n",
       "  </tbody>\n",
       "</table>\n",
       "<p>5 rows × 31 columns</p>\n",
       "</div>"
      ],
      "text/plain": [
       "          id      src                                                url  \\\n",
       "0  2067319.0  details  https://www.bizbuysell.com/Business-Real-Estat...   \n",
       "1  1990890.0  details  https://www.bizbuysell.com/Business-Real-Estat...   \n",
       "2  2050006.0  details  https://www.bizbuysell.com/Business-Real-Estat...   \n",
       "3  2039720.0  details  https://www.bizbuysell.com/Business-Real-Estat...   \n",
       "4  1576680.0  details  https://www.bizbuysell.com/Business-Real-Estat...   \n",
       "\n",
       "                                               title  \\\n",
       "0  Popular Marina in Central New Jersey in Middle...   \n",
       "1  High Exposure in Mays Landing, New Jersey - Bi...   \n",
       "2  Rental Units with Real Estate in Randolph, New...   \n",
       "3  Duplex, Short term or Long term in Pinellas Co...   \n",
       "4  Major Price Reduction Rest/Tavern/ 13,000sq. f...   \n",
       "\n",
       "                                                desc         local  \\\n",
       "0  It is fully owned by a man and his wife since ...     Middlesex   \n",
       "1  AMAZING OPPORTUNITY! Priced to sell and ready ...  Mays Landing   \n",
       "2  This is a 6 unit Airbnb with an average occupa...      Randolph   \n",
       "3  Rare Largo/Seminole area duplex centrally loca...      Pinellas   \n",
       "4  Price reduced to $850. 000 MAKE AN OFFER!!!!!!...     Baltimore   \n",
       "\n",
       "       region                               location  \\\n",
       "0  New Jersey                   Middlesex County, NJ   \n",
       "1  New Jersey     Mays Landing, NJ (Atlantic County)   \n",
       "2    New York      Randolph, NY (Cattaraugus County)   \n",
       "3     Florida                    Pinellas County, FL   \n",
       "4    Maryland  Baltimore, MD (Baltimore City County)   \n",
       "\n",
       "                                           title_loc  \\\n",
       "0  Central New Jersey in Middlesex County, New Je...   \n",
       "1                           Mays Landing, New Jersey   \n",
       "2                                 Randolph, New York   \n",
       "3                           Pinellas County, Florida   \n",
       "4                                Baltimore, Maryland   \n",
       "\n",
       "                                          categories  ... STATE_NUMERIC  \\\n",
       "0  [Real Estate For Sale, New Jersey, Marinas and...  ...          34.0   \n",
       "1  [Real Estate For Sale, New Jersey, Other, Mays...  ...          34.0   \n",
       "2  [Real Estate For Sale, New York, Hotels, Rando...  ...          36.0   \n",
       "3  [Real Estate For Sale, Florida, Other, Pinella...  ...          12.0   \n",
       "4  [Real Estate For Sale, Maryland, Bars, Pubs an...  ...          24.0   \n",
       "\n",
       "  STATE_ALPHA COUNTY_SEQUENCE  COUNTY_NUMERIC       COUNTY_NAME  \\\n",
       "0          NJ             1.0            23.0         Middlesex   \n",
       "1          NJ             1.0             1.0          Atlantic   \n",
       "2          NY             1.0             9.0       Cattaraugus   \n",
       "3          FL             1.0           103.0          Pinellas   \n",
       "4          MD             1.0           510.0  Baltimore (city)   \n",
       "\n",
       "  PRIMARY_LATITUDE PRIMARY_LONGITUDE DATE_CREATED DATE_EDITED  STATE_NAME  \n",
       "0        40.572603        -74.492654   09/08/1979  03/17/2008  New Jersey  \n",
       "1        39.452339        -74.727663   09/08/1979  12/06/2013  New Jersey  \n",
       "2        42.162005        -78.975317   01/23/1980  11/08/2019    New York  \n",
       "3        27.905111        -82.799568   08/28/1987  06/04/2021     Florida  \n",
       "4        39.290385        -76.612189   09/12/1979  03/17/2008    Maryland  \n",
       "\n",
       "[5 rows x 31 columns]"
      ]
     },
     "execution_count": 5,
     "metadata": {},
     "output_type": "execute_result"
    }
   ],
   "source": [
    "df_in.head()"
   ]
  },
  {
   "cell_type": "markdown",
   "metadata": {},
   "source": [
    "### Drop duplicate or missing listing ids"
   ]
  },
  {
   "cell_type": "code",
   "execution_count": 6,
   "metadata": {},
   "outputs": [],
   "source": [
    "dfa=df_in.drop_duplicates('id')\n",
    "dfa=dfa.dropna(subset=['id'])"
   ]
  },
  {
   "cell_type": "code",
   "execution_count": 7,
   "metadata": {},
   "outputs": [
    {
     "data": {
      "text/plain": [
       "(33774, 31)"
      ]
     },
     "execution_count": 7,
     "metadata": {},
     "output_type": "execute_result"
    }
   ],
   "source": [
    "dfa.shape"
   ]
  },
  {
   "cell_type": "markdown",
   "metadata": {},
   "source": [
    "### Drop missing/zero/negative price"
   ]
  },
  {
   "cell_type": "code",
   "execution_count": 8,
   "metadata": {},
   "outputs": [],
   "source": [
    "dfb=dfa.dropna(subset=['price'])\n",
    "dfb=dfb.query('price > 0')"
   ]
  },
  {
   "cell_type": "code",
   "execution_count": 9,
   "metadata": {},
   "outputs": [
    {
     "data": {
      "text/plain": [
       "(33570, 31)"
      ]
     },
     "execution_count": 9,
     "metadata": {},
     "output_type": "execute_result"
    }
   ],
   "source": [
    "dfb.shape"
   ]
  },
  {
   "cell_type": "markdown",
   "metadata": {},
   "source": [
    "### Get rid of franchise, lease, auction, rent"
   ]
  },
  {
   "cell_type": "code",
   "execution_count": 10,
   "metadata": {},
   "outputs": [],
   "source": [
    "dfc=dfb\n",
    "dfc['franchise']=dfc.title.str.contains(\"franchise\", case=False)\n",
    "dfc['lease']=dfc.title.str.contains(\"lease\", case=False)\n",
    "dfc['auction']=dfc.title.str.contains(\"auction\", case= False)\n",
    "dfc['rent']=dfc.title.str.contains(\"rent\", case= False)"
   ]
  },
  {
   "cell_type": "code",
   "execution_count": 11,
   "metadata": {},
   "outputs": [],
   "source": [
    "dfc=dfc.loc[(dfc.franchise==False)&(dfc.lease==False)&(dfc.auction==False)&(dfc.rent==False)]\n",
    "#dfc=dfc.loc[(dfc.lease==False)&(dfc.auction==False)&(dfc.rent==False)]"
   ]
  },
  {
   "cell_type": "code",
   "execution_count": 12,
   "metadata": {},
   "outputs": [
    {
     "data": {
      "text/plain": [
       "(30632, 35)"
      ]
     },
     "execution_count": 12,
     "metadata": {},
     "output_type": "execute_result"
    }
   ],
   "source": [
    "dfc.shape"
   ]
  },
  {
   "cell_type": "markdown",
   "metadata": {},
   "source": [
    "### Get rid of price anomalies with IQR"
   ]
  },
  {
   "cell_type": "code",
   "execution_count": 13,
   "metadata": {},
   "outputs": [],
   "source": [
    "Q1 = dfc.price.quantile(0.25)\n",
    "Q3 = dfc.price.quantile(0.75)\n",
    "IQR = Q3 - Q1\n",
    "\n",
    "dfd = dfc.query('(@Q1 - 1.5 * @IQR) <= price <= (@Q3 + 1.5 * @IQR)')"
   ]
  },
  {
   "cell_type": "code",
   "execution_count": 14,
   "metadata": {},
   "outputs": [
    {
     "data": {
      "text/plain": [
       "(27316, 35)"
      ]
     },
     "execution_count": 14,
     "metadata": {},
     "output_type": "execute_result"
    }
   ],
   "source": [
    "dfd.shape"
   ]
  },
  {
   "cell_type": "code",
   "execution_count": 15,
   "metadata": {},
   "outputs": [
    {
     "data": {
      "text/plain": [
       "<AxesSubplot:xlabel='price', ylabel='Count'>"
      ]
     },
     "execution_count": 15,
     "metadata": {},
     "output_type": "execute_result"
    },
    {
     "data": {
      "image/png": "[encoded data removed]",
      "text/plain": [
       "<Figure size 640x480 with 1 Axes>"
      ]
     },
     "metadata": {},
     "output_type": "display_data"
    }
   ],
   "source": [
    "sns.histplot(data=dfd, x=\"price\")"
   ]
  },
  {
   "cell_type": "code",
   "execution_count": 16,
   "metadata": {},
   "outputs": [
    {
     "name": "stdout",
     "output_type": "stream",
     "text": [
      "<class 'pandas.core.frame.DataFrame'>\n",
      "Int64Index: 27316 entries, 1 to 76314\n",
      "Data columns (total 35 columns):\n",
      " #   Column             Non-Null Count  Dtype  \n",
      "---  ------             --------------  -----  \n",
      " 0   id                 27316 non-null  float64\n",
      " 1   src                27316 non-null  object \n",
      " 2   url                27316 non-null  object \n",
      " 3   title              27316 non-null  object \n",
      " 4   desc               27316 non-null  object \n",
      " 5   local              27316 non-null  object \n",
      " 6   region             27316 non-null  object \n",
      " 7   location           27316 non-null  object \n",
      " 8   title_loc          27281 non-null  object \n",
      " 9   categories         27316 non-null  object \n",
      " 10  similar            27316 non-null  object \n",
      " 11  details            27316 non-null  object \n",
      " 12  financials         27316 non-null  object \n",
      " 13  price              27316 non-null  float64\n",
      " 14  FEATURE_ID         27316 non-null  float64\n",
      " 15  FEATURE_NAME       27316 non-null  object \n",
      " 16  FEATURE_CLASS      27316 non-null  object \n",
      " 17  CENSUS_CODE        27209 non-null  object \n",
      " 18  CENSUS_CLASS_CODE  27056 non-null  object \n",
      " 19  GSA_CODE           21116 non-null  float64\n",
      " 20  OPM_CODE           21116 non-null  float64\n",
      " 21  STATE_NUMERIC      27316 non-null  float64\n",
      " 22  STATE_ALPHA        27316 non-null  object \n",
      " 23  COUNTY_SEQUENCE    27316 non-null  float64\n",
      " 24  COUNTY_NUMERIC     27316 non-null  float64\n",
      " 25  COUNTY_NAME        27316 non-null  object \n",
      " 26  PRIMARY_LATITUDE   27316 non-null  float64\n",
      " 27  PRIMARY_LONGITUDE  27316 non-null  float64\n",
      " 28  DATE_CREATED       27316 non-null  object \n",
      " 29  DATE_EDITED        24653 non-null  object \n",
      " 30  STATE_NAME         27316 non-null  object \n",
      " 31  franchise          27316 non-null  bool   \n",
      " 32  lease              27316 non-null  bool   \n",
      " 33  auction            27316 non-null  bool   \n",
      " 34  rent               27316 non-null  bool   \n",
      "dtypes: bool(4), float64(10), object(21)\n",
      "memory usage: 7.8+ MB\n"
     ]
    }
   ],
   "source": [
    "dfd.info()"
   ]
  },
  {
   "cell_type": "code",
   "execution_count": 17,
   "metadata": {},
   "outputs": [],
   "source": [
    "df_out=dfd"
   ]
  },
  {
   "cell_type": "markdown",
   "metadata": {},
   "source": [
    "### Save processed data to parquet file"
   ]
  },
  {
   "cell_type": "code",
   "execution_count": 18,
   "metadata": {},
   "outputs": [],
   "source": [
    "df_out.to_parquet('data/bizbuysell.dataset.3.parquet')"
   ]
  }
 ],
 "metadata": {
  "kernelspec": {
   "display_name": "Python 3 (ipykernel)",
   "language": "python",
   "name": "python3"
  },
  "language_info": {
   "codemirror_mode": {
    "name": "ipython",
    "version": 3
   },
   "file_extension": ".py",
   "mimetype": "text/x-python",
   "name": "python",
   "nbconvert_exporter": "python",
   "pygments_lexer": "ipython3",
   "version": "3.7.17"
  }
 },
 "nbformat": 4,
 "nbformat_minor": 4
}
