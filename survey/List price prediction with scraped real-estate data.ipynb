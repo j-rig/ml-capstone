{
 "cells": [
  {
   "cell_type": "code",
   "execution_count": 3,
   "id": "22c06e04",
   "metadata": {},
   "outputs": [],
   "source": [
    "import warnings\n",
    "warnings.filterwarnings('ignore')"
   ]
  },
  {
   "cell_type": "code",
   "execution_count": 12,
   "id": "8b3fec43",
   "metadata": {},
   "outputs": [
    {
     "name": "stdout",
     "output_type": "stream",
     "text": [
      "Requirement already satisfied: missingno in /usr/local/lib/python3.9/site-packages (0.5.2)\n",
      "Collecting lightgbm\n",
      "  Obtaining dependency information for lightgbm from https://files.pythonhosted.org/packages/b8/9d/1ce80cee7c5ef60f2fcc7e9fa97f29f7a8de3dc5a08922b3b2f1e9106481/lightgbm-4.1.0-py3-none-manylinux_2_28_x86_64.whl.metadata\n",
      "  Downloading lightgbm-4.1.0-py3-none-manylinux_2_28_x86_64.whl.metadata (19 kB)\n",
      "Requirement already satisfied: numpy in /usr/local/lib/python3.9/site-packages (from missingno) (1.22.4)\n",
      "Requirement already satisfied: matplotlib in /usr/local/lib/python3.9/site-packages (from missingno) (3.8.0)\n",
      "Requirement already satisfied: scipy in /usr/local/lib/python3.9/site-packages (from missingno) (1.7.3)\n",
      "Requirement already satisfied: seaborn in /usr/local/lib/python3.9/site-packages (from missingno) (0.12.2)\n",
      "Requirement already satisfied: contourpy>=1.0.1 in /usr/local/lib/python3.9/site-packages (from matplotlib->missingno) (1.1.1)\n",
      "Requirement already satisfied: cycler>=0.10 in /usr/local/lib/python3.9/site-packages (from matplotlib->missingno) (0.11.0)\n",
      "Requirement already satisfied: fonttools>=4.22.0 in /usr/local/lib/python3.9/site-packages (from matplotlib->missingno) (4.42.1)\n",
      "Requirement already satisfied: kiwisolver>=1.0.1 in /usr/local/lib/python3.9/site-packages (from matplotlib->missingno) (1.4.5)\n",
      "Requirement already satisfied: packaging>=20.0 in /usr/local/lib/python3.9/site-packages (from matplotlib->missingno) (23.1)\n",
      "Requirement already satisfied: pillow>=6.2.0 in /usr/local/lib/python3.9/site-packages (from matplotlib->missingno) (10.0.1)\n",
      "Requirement already satisfied: pyparsing>=2.3.1 in /usr/local/lib/python3.9/site-packages (from matplotlib->missingno) (3.1.1)\n",
      "Requirement already satisfied: python-dateutil>=2.7 in /usr/local/lib/python3.9/site-packages (from matplotlib->missingno) (2.8.2)\n",
      "Requirement already satisfied: importlib-resources>=3.2.0 in /usr/local/lib/python3.9/site-packages (from matplotlib->missingno) (6.1.0)\n",
      "Requirement already satisfied: pandas>=0.25 in /usr/local/lib/python3.9/site-packages (from seaborn->missingno) (2.1.1)\n",
      "Requirement already satisfied: zipp>=3.1.0 in /usr/local/lib/python3.9/site-packages (from importlib-resources>=3.2.0->matplotlib->missingno) (3.17.0)\n",
      "Requirement already satisfied: pytz>=2020.1 in /usr/local/lib/python3.9/site-packages (from pandas>=0.25->seaborn->missingno) (2023.3.post1)\n",
      "Requirement already satisfied: tzdata>=2022.1 in /usr/local/lib/python3.9/site-packages (from pandas>=0.25->seaborn->missingno) (2023.3)\n",
      "Requirement already satisfied: six>=1.5 in /usr/local/lib/python3.9/site-packages (from python-dateutil>=2.7->matplotlib->missingno) (1.16.0)\n",
      "Downloading lightgbm-4.1.0-py3-none-manylinux_2_28_x86_64.whl (3.1 MB)\n",
      "\u001b[2K   \u001b[90m━━━━━━━━━━━━━━━━━━━━━━━━━━━━━━━━━━━━━━━━\u001b[0m \u001b[32m3.1/3.1 MB\u001b[0m \u001b[31m8.9 MB/s\u001b[0m eta \u001b[36m0:00:00\u001b[0m00:01\u001b[0m00:01\u001b[0m\n",
      "\u001b[?25hInstalling collected packages: lightgbm\n",
      "Successfully installed lightgbm-4.1.0\n",
      "\u001b[33mWARNING: Running pip as the 'root' user can result in broken permissions and conflicting behaviour with the system package manager. It is recommended to use a virtual environment instead: https://pip.pypa.io/warnings/venv\u001b[0m\u001b[33m\n",
      "\u001b[0m"
     ]
    }
   ],
   "source": [
    "!pip install missingno lightgbm"
   ]
  },
  {
   "cell_type": "code",
   "execution_count": 13,
   "id": "4c9f1bbc",
   "metadata": {},
   "outputs": [],
   "source": [
    "import pandas as pd\n",
    "from sklearn.model_selection import train_test_split\n",
    "import missingno\n",
    "# from sklearn.preprocessing import preprocessing_pipeline\n",
    "from lightgbm import LGBMRegressor\n",
    "from sklearn.metrics import mean_absolute_error\n",
    "from sklearn.metrics import median_absolute_error\n",
    "from sklearn.metrics import mean_squared_error\n",
    "from sklearn.metrics import mean_absolute_percentage_error\n",
    "from sklearn.metrics import r2_score\n",
    "from sklearn.model_selection import RandomizedSearchCV"
   ]
  },
  {
   "cell_type": "markdown",
   "id": "f9bed2a9",
   "metadata": {},
   "source": [
    "1. seloger.com\n",
    "2. bienici.com\n",
    "3. logic-immo.com\n",
    "4. al-in.fr\n",
    "5. pap.fr."
   ]
  },
  {
   "cell_type": "code",
   "execution_count": 16,
   "id": "8639bf55",
   "metadata": {},
   "outputs": [
    {
     "data": {
      "text/plain": [
       "{'categorie_energie',\n",
       " 'categorie_ges',\n",
       " 'departement',\n",
       " 'etage',\n",
       " 'etage_dernier_etage',\n",
       " 'etage_etage_eleve',\n",
       " 'etage_rez_de_jardin',\n",
       " 'exposition',\n",
       " 'is_neuf',\n",
       " 'latitude',\n",
       " 'longitude',\n",
       " 'nombre_box',\n",
       " 'nombre_chambres',\n",
       " 'nombre_parkings',\n",
       " 'nombre_photos',\n",
       " 'nombre_pieces',\n",
       " 'nombre_salles_de_bain',\n",
       " 'nombre_terrasses',\n",
       " 'presence_balcon',\n",
       " 'presence_cave',\n",
       " 'presence_climatisation',\n",
       " 'presence_garage',\n",
       " 'prix',\n",
       " 'source',\n",
       " 'superficie',\n",
       " 'superficie_multiples_biens',\n",
       " 'superficie_terrain',\n",
       " 'type_bien',\n",
       " 'type_client',\n",
       " 'valeur_energie',\n",
       " 'valeur_ges',\n",
       " 'ville'}"
      ]
     },
     "execution_count": 16,
     "metadata": {},
     "output_type": "execute_result"
    }
   ],
   "source": [
    "continuous_numerical = [ \n",
    "    'prix', # price\n",
    "    'valeur_energie', # energy performance value\n",
    "    'valeur_ges', # greenhouse gas emission performance value\n",
    "    'latitude',\n",
    "    'longitude',\n",
    "    'superficie', # living area \n",
    "    'superficie_terrain', # land size\n",
    "    ]\n",
    "discrete_numerical = [\n",
    "    'nombre_pieces', #number of rooms\n",
    "    'nombre_chambres', #number of bedrooms\n",
    "    'nombre_salles_de_bain', #number of bathrooms\n",
    "    'etage', #floor\n",
    "    'nombre_box', #number of boxes\n",
    "    'nombre_terrasses', #number of terrasses\n",
    "    'nombre_parkings', #number of parking spots\n",
    "    'nombre_photos'#number of photos attached to the listing\n",
    "]\n",
    "binary = [ \n",
    "    'presence_balcon', # has a balcony\n",
    "    'presence_cave', # has a cellar\n",
    "    'presence_garage', # has a garage\n",
    "    'presence_climatisation', # has air conditionning\n",
    "    'etage_dernier_etage', # on the top floor\n",
    "    'etage_etage_eleve', # in the upper floors\n",
    "    'etage_rez_de_jardin', # on the ground floor\n",
    "    'superficie_multiples_biens', # combined area of several \n",
    "                                  # properties\n",
    "    'is_neuf', # is new\n",
    "    ]\n",
    "categorical = [\n",
    "    'categorie_energie', #energy performance category\n",
    "    'categorie_ges', #greenhouse gas emission category\n",
    "    'ville', #city\n",
    "    'departement', #postal code\n",
    "    'type_client', #type of client advertising the listing\n",
    "    'source', #source of the listing\n",
    "    'exposition', #direction the property is facing\n",
    "    'type_bien', #property type\n",
    "]\n",
    "\n",
    "columns=set(continuous_numerical+discrete_numerical+binary+categorical)\n",
    "columns"
   ]
  },
  {
   "cell_type": "code",
   "execution_count": null,
   "id": "6d727211",
   "metadata": {},
   "outputs": [],
   "source": [
    "\n",
    "file_path = \"real_estate_data.csv\"\n",
    "data = pd.read_csv(file_path, sep=',', index_col=0)\n",
    "train_data, test_data = train_test_split(data, train_size=int(3e5),    \n",
    "                                         random_state=42)\n",
    "df = train_data"
   ]
  },
  {
   "cell_type": "code",
   "execution_count": null,
   "id": "015bde54",
   "metadata": {},
   "outputs": [],
   "source": [
    "df.duplicated(keep = False).sum()\n",
    "# returns 0"
   ]
  },
  {
   "cell_type": "code",
   "execution_count": null,
   "id": "6a70b6b3",
   "metadata": {},
   "outputs": [],
   "source": [
    "df.drop_duplicates(subset = \"id_annonce\", keep=False, inplace=True)\n",
    "df.drop_duplicates(subset = \"description\", keep=False, inplace=True)"
   ]
  },
  {
   "cell_type": "code",
   "execution_count": null,
   "id": "748920b1",
   "metadata": {},
   "outputs": [],
   "source": [
    "df.isna().sum()/len(df)"
   ]
  },
  {
   "cell_type": "code",
   "execution_count": null,
   "id": "3ac9541e",
   "metadata": {},
   "outputs": [],
   "source": [
    "df = df.dropna(subset = ['prix', 'latitude', 'longitude'])"
   ]
  },
  {
   "cell_type": "code",
   "execution_count": null,
   "id": "13ffc157",
   "metadata": {},
   "outputs": [],
   "source": [
    "df.loc[df.type_bien.isin(['appartement', 'loft', 'chambre']) \\\n",
    "       & df.superficie_terrain.isna(), 'superficie_terrain'] = 0\n",
    "rows = df.type_bien.isin(['terrain à bâtir', 'terrain']) \\\n",
    "                          & df.superficie_terrain.isna() \\\n",
    "                          & ~df.superficie.isna()\n",
    "df.loc[rows, 'superficie_terrain'] = df.loc[rows, 'superficie']\n",
    "df.loc[rows, 'superficie'] = 0"
   ]
  },
  {
   "cell_type": "code",
   "execution_count": null,
   "id": "6583a078",
   "metadata": {},
   "outputs": [],
   "source": [
    "\n",
    "missingno.matrix(df[['categorie_energie', 'valeur_energie',  \n",
    "                     'categorie_ges', 'valeur_ges']])"
   ]
  },
  {
   "cell_type": "code",
   "execution_count": null,
   "id": "698feabb",
   "metadata": {},
   "outputs": [],
   "source": [
    "from pandas.api.types import is_string_dtype\n",
    "from pandas.api.types import is_numeric_dtype\n",
    "for col in df.columns:\n",
    "    if col != 'prix':\n",
    "        if is_numeric_dtype(df[col]):\n",
    "            df[col] = df[col].fillna(df[col].median())\n",
    "        elif is_string_dtype(df[col]):\n",
    "            df[col] = df[col].fillna('Unknown')"
   ]
  },
  {
   "cell_type": "code",
   "execution_count": null,
   "id": "58322092",
   "metadata": {},
   "outputs": [],
   "source": [
    "continuous_numerical = [ \n",
    "    'prix', # price\n",
    "    'valeur_energie', # energy performance value\n",
    "    'valeur_ges', # greenhouse gas emission performance value\n",
    "    'latitude',\n",
    "    'longitude',\n",
    "    'superficie', # living area \n",
    "    'superficie_terrain', # land size\n",
    "    ]\n",
    "df[continuous_numerical].describe([0.1, 0.25, 0.5, 0.75, 0.9, \n",
    "                                 0.99]).round()"
   ]
  },
  {
   "cell_type": "code",
   "execution_count": null,
   "id": "cfeb1f7d",
   "metadata": {},
   "outputs": [],
   "source": [
    "discrete_numerical = [\n",
    "    'nombre_pieces', #number of rooms\n",
    "    'nombre_chambres', #number of bedrooms\n",
    "    'nombre_salles_de_bain', #number of bathrooms\n",
    "    'etage', #floor\n",
    "    'nombre_box', #number of boxes\n",
    "    'nombre_terrasses', #number of terrasses\n",
    "    'nombre_parkings', #number of parking spots\n",
    "    'nombre_photos'#number of photos attached to the listing\n",
    "]\n",
    "df[discrete_numerical].describe([0.1, 0.25, 0.5, 0.75, 0.9, 0.99]).round()"
   ]
  },
  {
   "cell_type": "code",
   "execution_count": null,
   "id": "bc4879a8",
   "metadata": {},
   "outputs": [],
   "source": [
    "def remove_outliers(df, lower_outliers, q_bottom, upper_outliers, \n",
    "                    q_top):\n",
    "    lower_quantiles = df[lower_outliers].quantile(q_bottom)\n",
    "    for col in lower_outliers:\n",
    "        df = df[df[col] >= lower_quantiles[col]]\n",
    "    upper_quantiles = df[upper_outliers].quantile(q_top)\n",
    "    for col in upper_outliers:\n",
    "        df = df[df[col] <= upper_quantiles[col]]\n",
    "    return df\n",
    "upper_outliers = ['prix', 'valeur_ges', 'valeur_energie', \n",
    "                  'superficie', 'superficie_terrain']\n",
    "upper_outliers += discrete_numerical\n",
    "lower_outliers = ['prix']\n",
    "df = remove_outliers(df, lower_outliers, 0.01, upper_outliers, 0.99)"
   ]
  },
  {
   "cell_type": "code",
   "execution_count": null,
   "id": "d15b4771",
   "metadata": {},
   "outputs": [],
   "source": [
    "binary = [ \n",
    "    'presence_balcon', # has a balcony\n",
    "    'presence_cave', # has a cellar\n",
    "    'presence_garage', # has a garage\n",
    "    'presence_climatisation', # has air conditionning\n",
    "    'etage_dernier_etage', # on the top floor\n",
    "    'etage_etage_eleve', # in the upper floors\n",
    "    'etage_rez_de_jardin', # on the ground floor\n",
    "    'superficie_multiples_biens', # combined area of several \n",
    "                                  # properties\n",
    "    'is_neuf', # is new\n",
    "    ]\n",
    "binary_rates = 100*df[binary].sum()/len(df)"
   ]
  },
  {
   "cell_type": "code",
   "execution_count": null,
   "id": "14852773",
   "metadata": {},
   "outputs": [],
   "source": [
    "categorical = [\n",
    "    'categorie_energie', #energy performance category\n",
    "    'categorie_ges', #greenhouse gas emission category\n",
    "    'ville', #city\n",
    "    'departement', #postal code\n",
    "    'type_client', #type of client advertising the listing\n",
    "    'source', #source of the listing\n",
    "    'exposition', #direction the property is facing\n",
    "    'type_bien', #property type\n",
    "]\n",
    "modality_counts = df[categorical].nunique()"
   ]
  },
  {
   "cell_type": "code",
   "execution_count": null,
   "id": "50b4ae4c",
   "metadata": {},
   "outputs": [],
   "source": [
    "for col in ['categorie_energie', 'categorie_ges']:\n",
    "        df[col] = df[col].replace({'A':0, \n",
    "                                   'B':1, \n",
    "                                   'C':2, \n",
    "                                   'D':3, \n",
    "                                   'E':4, \n",
    "                                   'F':5, \n",
    "                                   'G':6, \n",
    "                                   'Unknown': None})\n",
    "        df[col] = df[col].fillna(value=df[col].median())"
   ]
  },
  {
   "cell_type": "code",
   "execution_count": null,
   "id": "110d5f23",
   "metadata": {},
   "outputs": [],
   "source": [
    "type_shares = df['type_bien'].value_counts(normalize = True)\n",
    "minor_types = type_shares[type_shares<0.01].index.tolist()\n",
    "df['type_bien'] = df['type_bien'].replace(minor_types, 'autre')"
   ]
  },
  {
   "cell_type": "code",
   "execution_count": null,
   "id": "f64ab0e4",
   "metadata": {},
   "outputs": [],
   "source": [
    "dummies = ['type_bien', 'type_client', 'source', 'exposition']\n",
    "df = pd.get_dummies(df, columns=dummies)"
   ]
  },
  {
   "cell_type": "code",
   "execution_count": null,
   "id": "2debc69f",
   "metadata": {},
   "outputs": [],
   "source": [
    "df = df[df.description.apply(len)>100]"
   ]
  },
  {
   "cell_type": "code",
   "execution_count": null,
   "id": "8f188f4a",
   "metadata": {},
   "outputs": [],
   "source": [
    "\n",
    "train_data = preprocessing_pipeline.fit_transform(train_data)\n",
    "test_data = preprocessing_pipeline.transform(test_data)\n",
    "train_data = train_data.drop(['titre', 'description','id_annonce', \n",
    "                              'ville', 'departement'], axis = 1)\n",
    "test_data = test_data.drop(['titre', 'description','id_annonce', \n",
    "                            'ville', 'departement'], axis = 1)"
   ]
  },
  {
   "cell_type": "code",
   "execution_count": null,
   "id": "88cd0fb3",
   "metadata": {},
   "outputs": [],
   "source": [
    "\n",
    "estimator = LGBMRegressor(random_state = 42)"
   ]
  },
  {
   "cell_type": "code",
   "execution_count": null,
   "id": "521d6641",
   "metadata": {},
   "outputs": [],
   "source": [
    "\n",
    "parameters = {\n",
    "    'num_leaves' : [10, 30, 50, 100, 200],\n",
    "    'max_depth': [None, 5, 10, 20, 50],\n",
    "    'n_estimators': [150, 200, 400, 600],\n",
    "    'learning_rate': [0.05, 0.1, 0.25, 0.5]\n",
    "    }\n",
    "model = RandomizedSearchCV(estimator, parameters, random_state=42, \n",
    "                           scoring = 'r2', n_iter = 50)"
   ]
  },
  {
   "cell_type": "code",
   "execution_count": null,
   "id": "5df72ee7",
   "metadata": {},
   "outputs": [],
   "source": [
    "X_train = train_data.drop(['prix'], axis = 1)\n",
    "y_train = train_data.prix\n",
    "model.fit(X_train, y_train)"
   ]
  },
  {
   "cell_type": "code",
   "execution_count": null,
   "id": "e5f9eb96",
   "metadata": {},
   "outputs": [],
   "source": [
    "X_test = test_data.drop(['prix'], axis = 1)\n",
    "y_test = test_data.prix\n",
    "y_pred = model.best_estimator_.predict(X_test)"
   ]
  },
  {
   "cell_type": "code",
   "execution_count": null,
   "id": "fd3ddb43",
   "metadata": {},
   "outputs": [],
   "source": [
    "\n",
    "mae = mean_absolute_error(y_test, y_pred)\n",
    "mdae = median_absolute_error(y_test, y_pred)\n",
    "mse = mean_squared_error(y_test, y_pred)\n",
    "mape = mean_absolute_percentage_error(y_test, y_pred)\n",
    "mdape = ((pd.Series(y_test.to_numpy()) \\\n",
    "         - pd.Series(y_pred))\\\n",
    "         / pd.Series(y_test.to_numpy())).abs().median()\n",
    "r_squared = r2_score(y_test, y_pred)"
   ]
  },
  {
   "cell_type": "code",
   "execution_count": null,
   "id": "bdfe3343",
   "metadata": {},
   "outputs": [],
   "source": [
    "feature_importances = \\\n",
    "            pd.DataFrame(model.best_estimator_.feature_importances_,\n",
    "                 index = X_train.columns, columns = ['importance'] \\\n",
    "                 ).sort_values('importance', ascending=False)"
   ]
  }
 ],
 "metadata": {
  "kernelspec": {
   "display_name": "Python 3 (ipykernel)",
   "language": "python",
   "name": "python3"
  },
  "language_info": {
   "codemirror_mode": {
    "name": "ipython",
    "version": 3
   },
   "file_extension": ".py",
   "mimetype": "text/x-python",
   "name": "python",
   "nbconvert_exporter": "python",
   "pygments_lexer": "ipython3",
   "version": "3.9.17"
  }
 },
 "nbformat": 4,
 "nbformat_minor": 5
}
