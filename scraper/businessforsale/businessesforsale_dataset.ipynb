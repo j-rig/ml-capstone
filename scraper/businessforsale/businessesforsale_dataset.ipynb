{
 "cells": [
  {
   "cell_type": "code",
   "execution_count": 1,
   "id": "1cdaff51",
   "metadata": {},
   "outputs": [],
   "source": [
    "import pandas as pd"
   ]
  },
  {
   "cell_type": "code",
   "execution_count": 2,
   "id": "c6700bee",
   "metadata": {},
   "outputs": [],
   "source": [
    "df=pd.read_json('businessesforsale.detail.lines.json',lines=True)"
   ]
  },
  {
   "cell_type": "code",
   "execution_count": 3,
   "id": "285ab7ba",
   "metadata": {},
   "outputs": [
    {
     "data": {
      "text/plain": [
       "(25098, 14)"
      ]
     },
     "execution_count": 3,
     "metadata": {},
     "output_type": "execute_result"
    }
   ],
   "source": [
    "df.shape"
   ]
  },
  {
   "cell_type": "code",
   "execution_count": 4,
   "id": "a28295a1",
   "metadata": {},
   "outputs": [
    {
     "data": {
      "text/html": [
       "<div>\n",
       "<style scoped>\n",
       "    .dataframe tbody tr th:only-of-type {\n",
       "        vertical-align: middle;\n",
       "    }\n",
       "\n",
       "    .dataframe tbody tr th {\n",
       "        vertical-align: top;\n",
       "    }\n",
       "\n",
       "    .dataframe thead th {\n",
       "        text-align: right;\n",
       "    }\n",
       "</style>\n",
       "<table border=\"1\" class=\"dataframe\">\n",
       "  <thead>\n",
       "    <tr style=\"text-align: right;\">\n",
       "      <th></th>\n",
       "      <th>props</th>\n",
       "      <th>broker_details</th>\n",
       "      <th>listing_id</th>\n",
       "      <th>listing_id_text</th>\n",
       "      <th>listing_title</th>\n",
       "      <th>address</th>\n",
       "      <th>asking_price</th>\n",
       "      <th>sales_revenue</th>\n",
       "      <th>cash_flow</th>\n",
       "      <th>listing</th>\n",
       "      <th>business_operation</th>\n",
       "      <th>property-information</th>\n",
       "      <th>ranchise-terms</th>\n",
       "      <th>other_information</th>\n",
       "    </tr>\n",
       "  </thead>\n",
       "  <tbody>\n",
       "    <tr>\n",
       "      <th>0</th>\n",
       "      <td>{'og:url': 'https://us.businessesforsale.com/u...</td>\n",
       "      <td>Transworld Business Advisors Greenville East</td>\n",
       "      <td>3055843</td>\n",
       "      <td>Listing ID: 3055843\\nSeller ref: 52661-814795</td>\n",
       "      <td>Grab This Profitable, High Traffic Mexican Bar...</td>\n",
       "      <td>South Carolina, US</td>\n",
       "      <td>$847,880 \\nFurniture / Fixtures and Inventory ...</td>\n",
       "      <td>$1,984,186</td>\n",
       "      <td>$252,751</td>\n",
       "      <td>Jump on this growth opportunity that produced ...</td>\n",
       "      <td>{'Reasons for selling:': 'other business inter...</td>\n",
       "      <td>{'Location:': 'Beautiful dining room, bar, kit...</td>\n",
       "      <td>{}</td>\n",
       "      <td>{'Support &amp; training:': '2 weeks', 'Owner fina...</td>\n",
       "    </tr>\n",
       "    <tr>\n",
       "      <th>1</th>\n",
       "      <td>{'og:url': 'https://us.businessesforsale.com/u...</td>\n",
       "      <td>Empire Business Management</td>\n",
       "      <td>3399695</td>\n",
       "      <td>Listing ID: 3399695\\nSeller ref: 28646</td>\n",
       "      <td>Eco Friendly Car Wash On Mixed Use Property Fo...</td>\n",
       "      <td>Massachusetts, US</td>\n",
       "      <td>$1,500,000</td>\n",
       "      <td>$250,000</td>\n",
       "      <td>$174,000</td>\n",
       "      <td>HS Listing ID-28646\\n\\n\\nEco-Friendly Semi-Abs...</td>\n",
       "      <td>{'Expansion Potential:': 'There is a new Sobri...</td>\n",
       "      <td>{'Real Estate:': 'Real Property Included', 'Pr...</td>\n",
       "      <td>{}</td>\n",
       "      <td>{'Support &amp; training:': 'Yes.'}</td>\n",
       "    </tr>\n",
       "    <tr>\n",
       "      <th>2</th>\n",
       "      <td>{'og:url': 'https://us.businessesforsale.com/u...</td>\n",
       "      <td>Benchmark International</td>\n",
       "      <td>2986000</td>\n",
       "      <td>Listing ID: 2986000\\nSeller ref: BM001492</td>\n",
       "      <td>Established And Full Size Electrical Contracto...</td>\n",
       "      <td>US</td>\n",
       "      <td>On request</td>\n",
       "      <td>Over $5M</td>\n",
       "      <td>$500K - $2.5M</td>\n",
       "      <td>The company is a non-union electrical contract...</td>\n",
       "      <td>{'Reasons for selling:': 'The owners are appro...</td>\n",
       "      <td>{'Premises Details:': 'The property contains o...</td>\n",
       "      <td>{}</td>\n",
       "      <td>{'Related Documents:': 'Document'}</td>\n",
       "    </tr>\n",
       "    <tr>\n",
       "      <th>3</th>\n",
       "      <td>{'og:url': 'https://us.businessesforsale.com/u...</td>\n",
       "      <td>Vested Business Brokers HQ</td>\n",
       "      <td>3322603</td>\n",
       "      <td>Listing ID: 3322603\\nSeller ref: 22891</td>\n",
       "      <td>Auto Repair Business In Middlesex County For Sale</td>\n",
       "      <td>Middlesex County,\\nNew Jersey, US</td>\n",
       "      <td>$135,000 \\nInventory / Stock included</td>\n",
       "      <td>$63,200</td>\n",
       "      <td>$54,800</td>\n",
       "      <td>One of a kind opportunity to own both business...</td>\n",
       "      <td>{'Reasons for selling:': 'Retiring after 37 ye...</td>\n",
       "      <td>{}</td>\n",
       "      <td>{}</td>\n",
       "      <td>{'Support &amp; training:': 'Seller will train', '...</td>\n",
       "    </tr>\n",
       "    <tr>\n",
       "      <th>4</th>\n",
       "      <td>{'og:url': 'https://us.businessesforsale.com/u...</td>\n",
       "      <td>BTI Group</td>\n",
       "      <td>3333333</td>\n",
       "      <td>Listing ID: 3333333\\nSeller ref: EG10926</td>\n",
       "      <td>Popular Profitable Garden Center With Inventor...</td>\n",
       "      <td>Lane County,\\nOregon, US</td>\n",
       "      <td>$299,000 \\nInventory / Stock included</td>\n",
       "      <td>$513,643</td>\n",
       "      <td>$48,280</td>\n",
       "      <td>Popular, profitable and dependable local sourc...</td>\n",
       "      <td>{'Reasons for selling:': 'Nursing School', 'Tr...</td>\n",
       "      <td>{'Real Estate:': 'Lease', 'Lease Terms:': 'The...</td>\n",
       "      <td>{}</td>\n",
       "      <td>{'Support &amp; training:': '4 weeks, 20 hours er ...</td>\n",
       "    </tr>\n",
       "  </tbody>\n",
       "</table>\n",
       "</div>"
      ],
      "text/plain": [
       "                                               props   \n",
       "0  {'og:url': 'https://us.businessesforsale.com/u...  \\\n",
       "1  {'og:url': 'https://us.businessesforsale.com/u...   \n",
       "2  {'og:url': 'https://us.businessesforsale.com/u...   \n",
       "3  {'og:url': 'https://us.businessesforsale.com/u...   \n",
       "4  {'og:url': 'https://us.businessesforsale.com/u...   \n",
       "\n",
       "                                 broker_details  listing_id   \n",
       "0  Transworld Business Advisors Greenville East     3055843  \\\n",
       "1                    Empire Business Management     3399695   \n",
       "2                       Benchmark International     2986000   \n",
       "3                    Vested Business Brokers HQ     3322603   \n",
       "4                                     BTI Group     3333333   \n",
       "\n",
       "                                 listing_id_text   \n",
       "0  Listing ID: 3055843\\nSeller ref: 52661-814795  \\\n",
       "1         Listing ID: 3399695\\nSeller ref: 28646   \n",
       "2      Listing ID: 2986000\\nSeller ref: BM001492   \n",
       "3         Listing ID: 3322603\\nSeller ref: 22891   \n",
       "4       Listing ID: 3333333\\nSeller ref: EG10926   \n",
       "\n",
       "                                       listing_title   \n",
       "0  Grab This Profitable, High Traffic Mexican Bar...  \\\n",
       "1  Eco Friendly Car Wash On Mixed Use Property Fo...   \n",
       "2  Established And Full Size Electrical Contracto...   \n",
       "3  Auto Repair Business In Middlesex County For Sale   \n",
       "4  Popular Profitable Garden Center With Inventor...   \n",
       "\n",
       "                             address   \n",
       "0                 South Carolina, US  \\\n",
       "1                  Massachusetts, US   \n",
       "2                                 US   \n",
       "3  Middlesex County,\\nNew Jersey, US   \n",
       "4           Lane County,\\nOregon, US   \n",
       "\n",
       "                                        asking_price sales_revenue   \n",
       "0  $847,880 \\nFurniture / Fixtures and Inventory ...    $1,984,186  \\\n",
       "1                                         $1,500,000      $250,000   \n",
       "2                                         On request      Over $5M   \n",
       "3              $135,000 \\nInventory / Stock included       $63,200   \n",
       "4              $299,000 \\nInventory / Stock included      $513,643   \n",
       "\n",
       "       cash_flow                                            listing   \n",
       "0       $252,751  Jump on this growth opportunity that produced ...  \\\n",
       "1       $174,000  HS Listing ID-28646\\n\\n\\nEco-Friendly Semi-Abs...   \n",
       "2  $500K - $2.5M  The company is a non-union electrical contract...   \n",
       "3        $54,800  One of a kind opportunity to own both business...   \n",
       "4        $48,280  Popular, profitable and dependable local sourc...   \n",
       "\n",
       "                                  business_operation   \n",
       "0  {'Reasons for selling:': 'other business inter...  \\\n",
       "1  {'Expansion Potential:': 'There is a new Sobri...   \n",
       "2  {'Reasons for selling:': 'The owners are appro...   \n",
       "3  {'Reasons for selling:': 'Retiring after 37 ye...   \n",
       "4  {'Reasons for selling:': 'Nursing School', 'Tr...   \n",
       "\n",
       "                                property-information ranchise-terms   \n",
       "0  {'Location:': 'Beautiful dining room, bar, kit...             {}  \\\n",
       "1  {'Real Estate:': 'Real Property Included', 'Pr...             {}   \n",
       "2  {'Premises Details:': 'The property contains o...             {}   \n",
       "3                                                 {}             {}   \n",
       "4  {'Real Estate:': 'Lease', 'Lease Terms:': 'The...             {}   \n",
       "\n",
       "                                   other_information  \n",
       "0  {'Support & training:': '2 weeks', 'Owner fina...  \n",
       "1                    {'Support & training:': 'Yes.'}  \n",
       "2                 {'Related Documents:': 'Document'}  \n",
       "3  {'Support & training:': 'Seller will train', '...  \n",
       "4  {'Support & training:': '4 weeks, 20 hours er ...  "
      ]
     },
     "execution_count": 4,
     "metadata": {},
     "output_type": "execute_result"
    }
   ],
   "source": [
    "df.head()"
   ]
  },
  {
   "cell_type": "code",
   "execution_count": 5,
   "id": "6735691f",
   "metadata": {},
   "outputs": [
    {
     "data": {
      "text/plain": [
       "listing_id    0\n",
       "dtype: int64"
      ]
     },
     "execution_count": 5,
     "metadata": {},
     "output_type": "execute_result"
    }
   ],
   "source": [
    "df[['listing_id']].isna().sum()"
   ]
  },
  {
   "cell_type": "code",
   "execution_count": 6,
   "id": "04cc39da",
   "metadata": {},
   "outputs": [],
   "source": [
    "df=df.drop_duplicates(subset=['listing_id','listing_title','address'])"
   ]
  },
  {
   "cell_type": "code",
   "execution_count": 7,
   "id": "c1364b92",
   "metadata": {},
   "outputs": [
    {
     "data": {
      "text/plain": [
       "(15077, 14)"
      ]
     },
     "execution_count": 7,
     "metadata": {},
     "output_type": "execute_result"
    }
   ],
   "source": [
    "df.shape"
   ]
  },
  {
   "cell_type": "code",
   "execution_count": 8,
   "id": "f5639adc",
   "metadata": {},
   "outputs": [],
   "source": [
    "df.to_pickle('businessesforsale.detail.pkl')"
   ]
  },
  {
   "cell_type": "code",
   "execution_count": 2,
   "id": "8cb9499a",
   "metadata": {},
   "outputs": [
    {
     "ename": "FileNotFoundError",
     "evalue": "File businessesforsale.search.lines.json does not exist",
     "output_type": "error",
     "traceback": [
      "\u001b[0;31m---------------------------------------------------------------------------\u001b[0m",
      "\u001b[0;31mFileNotFoundError\u001b[0m                         Traceback (most recent call last)",
      "Cell \u001b[0;32mIn[2], line 1\u001b[0m\n\u001b[0;32m----> 1\u001b[0m df\u001b[38;5;241m=\u001b[39m\u001b[43mpd\u001b[49m\u001b[38;5;241;43m.\u001b[39;49m\u001b[43mread_json\u001b[49m\u001b[43m(\u001b[49m\u001b[38;5;124;43m'\u001b[39;49m\u001b[38;5;124;43mbusinessesforsale.search.lines.json\u001b[39;49m\u001b[38;5;124;43m'\u001b[39;49m\u001b[43m,\u001b[49m\u001b[43mlines\u001b[49m\u001b[38;5;241;43m=\u001b[39;49m\u001b[38;5;28;43;01mTrue\u001b[39;49;00m\u001b[43m)\u001b[49m\n",
      "File \u001b[0;32m~/Documents/GitHub/gh/small_biz_lab/data/venv/lib/python3.9/site-packages/pandas/io/json/_json.py:760\u001b[0m, in \u001b[0;36mread_json\u001b[0;34m(path_or_buf, orient, typ, dtype, convert_axes, convert_dates, keep_default_dates, precise_float, date_unit, encoding, encoding_errors, lines, chunksize, compression, nrows, storage_options, dtype_backend, engine)\u001b[0m\n\u001b[1;32m    757\u001b[0m \u001b[38;5;28;01mif\u001b[39;00m convert_axes \u001b[38;5;129;01mis\u001b[39;00m \u001b[38;5;28;01mNone\u001b[39;00m \u001b[38;5;129;01mand\u001b[39;00m orient \u001b[38;5;241m!=\u001b[39m \u001b[38;5;124m\"\u001b[39m\u001b[38;5;124mtable\u001b[39m\u001b[38;5;124m\"\u001b[39m:\n\u001b[1;32m    758\u001b[0m     convert_axes \u001b[38;5;241m=\u001b[39m \u001b[38;5;28;01mTrue\u001b[39;00m\n\u001b[0;32m--> 760\u001b[0m json_reader \u001b[38;5;241m=\u001b[39m \u001b[43mJsonReader\u001b[49m\u001b[43m(\u001b[49m\n\u001b[1;32m    761\u001b[0m \u001b[43m    \u001b[49m\u001b[43mpath_or_buf\u001b[49m\u001b[43m,\u001b[49m\n\u001b[1;32m    762\u001b[0m \u001b[43m    \u001b[49m\u001b[43morient\u001b[49m\u001b[38;5;241;43m=\u001b[39;49m\u001b[43morient\u001b[49m\u001b[43m,\u001b[49m\n\u001b[1;32m    763\u001b[0m \u001b[43m    \u001b[49m\u001b[43mtyp\u001b[49m\u001b[38;5;241;43m=\u001b[39;49m\u001b[43mtyp\u001b[49m\u001b[43m,\u001b[49m\n\u001b[1;32m    764\u001b[0m \u001b[43m    \u001b[49m\u001b[43mdtype\u001b[49m\u001b[38;5;241;43m=\u001b[39;49m\u001b[43mdtype\u001b[49m\u001b[43m,\u001b[49m\n\u001b[1;32m    765\u001b[0m \u001b[43m    \u001b[49m\u001b[43mconvert_axes\u001b[49m\u001b[38;5;241;43m=\u001b[39;49m\u001b[43mconvert_axes\u001b[49m\u001b[43m,\u001b[49m\n\u001b[1;32m    766\u001b[0m \u001b[43m    \u001b[49m\u001b[43mconvert_dates\u001b[49m\u001b[38;5;241;43m=\u001b[39;49m\u001b[43mconvert_dates\u001b[49m\u001b[43m,\u001b[49m\n\u001b[1;32m    767\u001b[0m \u001b[43m    \u001b[49m\u001b[43mkeep_default_dates\u001b[49m\u001b[38;5;241;43m=\u001b[39;49m\u001b[43mkeep_default_dates\u001b[49m\u001b[43m,\u001b[49m\n\u001b[1;32m    768\u001b[0m \u001b[43m    \u001b[49m\u001b[43mprecise_float\u001b[49m\u001b[38;5;241;43m=\u001b[39;49m\u001b[43mprecise_float\u001b[49m\u001b[43m,\u001b[49m\n\u001b[1;32m    769\u001b[0m \u001b[43m    \u001b[49m\u001b[43mdate_unit\u001b[49m\u001b[38;5;241;43m=\u001b[39;49m\u001b[43mdate_unit\u001b[49m\u001b[43m,\u001b[49m\n\u001b[1;32m    770\u001b[0m \u001b[43m    \u001b[49m\u001b[43mencoding\u001b[49m\u001b[38;5;241;43m=\u001b[39;49m\u001b[43mencoding\u001b[49m\u001b[43m,\u001b[49m\n\u001b[1;32m    771\u001b[0m \u001b[43m    \u001b[49m\u001b[43mlines\u001b[49m\u001b[38;5;241;43m=\u001b[39;49m\u001b[43mlines\u001b[49m\u001b[43m,\u001b[49m\n\u001b[1;32m    772\u001b[0m \u001b[43m    \u001b[49m\u001b[43mchunksize\u001b[49m\u001b[38;5;241;43m=\u001b[39;49m\u001b[43mchunksize\u001b[49m\u001b[43m,\u001b[49m\n\u001b[1;32m    773\u001b[0m \u001b[43m    \u001b[49m\u001b[43mcompression\u001b[49m\u001b[38;5;241;43m=\u001b[39;49m\u001b[43mcompression\u001b[49m\u001b[43m,\u001b[49m\n\u001b[1;32m    774\u001b[0m \u001b[43m    \u001b[49m\u001b[43mnrows\u001b[49m\u001b[38;5;241;43m=\u001b[39;49m\u001b[43mnrows\u001b[49m\u001b[43m,\u001b[49m\n\u001b[1;32m    775\u001b[0m \u001b[43m    \u001b[49m\u001b[43mstorage_options\u001b[49m\u001b[38;5;241;43m=\u001b[39;49m\u001b[43mstorage_options\u001b[49m\u001b[43m,\u001b[49m\n\u001b[1;32m    776\u001b[0m \u001b[43m    \u001b[49m\u001b[43mencoding_errors\u001b[49m\u001b[38;5;241;43m=\u001b[39;49m\u001b[43mencoding_errors\u001b[49m\u001b[43m,\u001b[49m\n\u001b[1;32m    777\u001b[0m \u001b[43m    \u001b[49m\u001b[43mdtype_backend\u001b[49m\u001b[38;5;241;43m=\u001b[39;49m\u001b[43mdtype_backend\u001b[49m\u001b[43m,\u001b[49m\n\u001b[1;32m    778\u001b[0m \u001b[43m    \u001b[49m\u001b[43mengine\u001b[49m\u001b[38;5;241;43m=\u001b[39;49m\u001b[43mengine\u001b[49m\u001b[43m,\u001b[49m\n\u001b[1;32m    779\u001b[0m \u001b[43m\u001b[49m\u001b[43m)\u001b[49m\n\u001b[1;32m    781\u001b[0m \u001b[38;5;28;01mif\u001b[39;00m chunksize:\n\u001b[1;32m    782\u001b[0m     \u001b[38;5;28;01mreturn\u001b[39;00m json_reader\n",
      "File \u001b[0;32m~/Documents/GitHub/gh/small_biz_lab/data/venv/lib/python3.9/site-packages/pandas/io/json/_json.py:861\u001b[0m, in \u001b[0;36mJsonReader.__init__\u001b[0;34m(self, filepath_or_buffer, orient, typ, dtype, convert_axes, convert_dates, keep_default_dates, precise_float, date_unit, encoding, lines, chunksize, compression, nrows, storage_options, encoding_errors, dtype_backend, engine)\u001b[0m\n\u001b[1;32m    859\u001b[0m     \u001b[38;5;28mself\u001b[39m\u001b[38;5;241m.\u001b[39mdata \u001b[38;5;241m=\u001b[39m filepath_or_buffer\n\u001b[1;32m    860\u001b[0m \u001b[38;5;28;01melif\u001b[39;00m \u001b[38;5;28mself\u001b[39m\u001b[38;5;241m.\u001b[39mengine \u001b[38;5;241m==\u001b[39m \u001b[38;5;124m\"\u001b[39m\u001b[38;5;124mujson\u001b[39m\u001b[38;5;124m\"\u001b[39m:\n\u001b[0;32m--> 861\u001b[0m     data \u001b[38;5;241m=\u001b[39m \u001b[38;5;28;43mself\u001b[39;49m\u001b[38;5;241;43m.\u001b[39;49m\u001b[43m_get_data_from_filepath\u001b[49m\u001b[43m(\u001b[49m\u001b[43mfilepath_or_buffer\u001b[49m\u001b[43m)\u001b[49m\n\u001b[1;32m    862\u001b[0m     \u001b[38;5;28mself\u001b[39m\u001b[38;5;241m.\u001b[39mdata \u001b[38;5;241m=\u001b[39m \u001b[38;5;28mself\u001b[39m\u001b[38;5;241m.\u001b[39m_preprocess_data(data)\n",
      "File \u001b[0;32m~/Documents/GitHub/gh/small_biz_lab/data/venv/lib/python3.9/site-packages/pandas/io/json/_json.py:917\u001b[0m, in \u001b[0;36mJsonReader._get_data_from_filepath\u001b[0;34m(self, filepath_or_buffer)\u001b[0m\n\u001b[1;32m    909\u001b[0m     filepath_or_buffer \u001b[38;5;241m=\u001b[39m \u001b[38;5;28mself\u001b[39m\u001b[38;5;241m.\u001b[39mhandles\u001b[38;5;241m.\u001b[39mhandle\n\u001b[1;32m    910\u001b[0m \u001b[38;5;28;01melif\u001b[39;00m (\n\u001b[1;32m    911\u001b[0m     \u001b[38;5;28misinstance\u001b[39m(filepath_or_buffer, \u001b[38;5;28mstr\u001b[39m)\n\u001b[1;32m    912\u001b[0m     \u001b[38;5;129;01mand\u001b[39;00m filepath_or_buffer\u001b[38;5;241m.\u001b[39mlower()\u001b[38;5;241m.\u001b[39mendswith(\n\u001b[0;32m   (...)\u001b[0m\n\u001b[1;32m    915\u001b[0m     \u001b[38;5;129;01mand\u001b[39;00m \u001b[38;5;129;01mnot\u001b[39;00m file_exists(filepath_or_buffer)\n\u001b[1;32m    916\u001b[0m ):\n\u001b[0;32m--> 917\u001b[0m     \u001b[38;5;28;01mraise\u001b[39;00m \u001b[38;5;167;01mFileNotFoundError\u001b[39;00m(\u001b[38;5;124mf\u001b[39m\u001b[38;5;124m\"\u001b[39m\u001b[38;5;124mFile \u001b[39m\u001b[38;5;132;01m{\u001b[39;00mfilepath_or_buffer\u001b[38;5;132;01m}\u001b[39;00m\u001b[38;5;124m does not exist\u001b[39m\u001b[38;5;124m\"\u001b[39m)\n\u001b[1;32m    919\u001b[0m \u001b[38;5;28;01mreturn\u001b[39;00m filepath_or_buffer\n",
      "\u001b[0;31mFileNotFoundError\u001b[0m: File businessesforsale.search.lines.json does not exist"
     ]
    }
   ],
   "source": [
    "df=pd.read_json('businessesforsale.search.lines.json',lines=True)"
   ]
  },
  {
   "cell_type": "code",
   "execution_count": 10,
   "id": "3edc6fcf",
   "metadata": {},
   "outputs": [
    {
     "data": {
      "text/plain": [
       "(103811, 17)"
      ]
     },
     "execution_count": 10,
     "metadata": {},
     "output_type": "execute_result"
    }
   ],
   "source": [
    "df.shape"
   ]
  },
  {
   "cell_type": "code",
   "execution_count": 11,
   "id": "99da74fc",
   "metadata": {},
   "outputs": [
    {
     "data": {
      "text/html": [
       "<div>\n",
       "<style scoped>\n",
       "    .dataframe tbody tr th:only-of-type {\n",
       "        vertical-align: middle;\n",
       "    }\n",
       "\n",
       "    .dataframe tbody tr th {\n",
       "        vertical-align: top;\n",
       "    }\n",
       "\n",
       "    .dataframe thead th {\n",
       "        text-align: right;\n",
       "    }\n",
       "</style>\n",
       "<table border=\"1\" class=\"dataframe\">\n",
       "  <thead>\n",
       "    <tr style=\"text-align: right;\">\n",
       "      <th></th>\n",
       "      <th>group_title</th>\n",
       "      <th>group_props</th>\n",
       "      <th>title</th>\n",
       "      <th>location</th>\n",
       "      <th>description</th>\n",
       "      <th>url</th>\n",
       "      <th>Asking Price:</th>\n",
       "      <th>Revenue:</th>\n",
       "      <th>Cash Flow:</th>\n",
       "      <th>tags</th>\n",
       "      <th>labels</th>\n",
       "      <th>save_url</th>\n",
       "      <th>Franchise Fee:</th>\n",
       "      <th>Investment:</th>\n",
       "      <th>Capital:</th>\n",
       "      <th>Real Property:</th>\n",
       "      <th>Lease:</th>\n",
       "    </tr>\n",
       "  </thead>\n",
       "  <tbody>\n",
       "    <tr>\n",
       "      <th>0</th>\n",
       "      <td>Businesses for sale in Eastern Massachusetts, MA</td>\n",
       "      <td>{'og:url': 'https://us.businessesforsale.com/u...</td>\n",
       "      <td>Bicycle Water Sports Equipment Sales Service B...</td>\n",
       "      <td>Eastern Massachusetts, Massachusetts, US</td>\n",
       "      <td>This award winning and successful lifestyle bu...</td>\n",
       "      <td>https://us.businessesforsale.com/us/bicycle-wa...</td>\n",
       "      <td>$499,000</td>\n",
       "      <td>$2,096,620</td>\n",
       "      <td>$324,620</td>\n",
       "      <td>[Real Property]</td>\n",
       "      <td>[]</td>\n",
       "      <td>https://us.businessesforsale.com/us/search/bus...</td>\n",
       "      <td>NaN</td>\n",
       "      <td>NaN</td>\n",
       "      <td>NaN</td>\n",
       "      <td>NaN</td>\n",
       "      <td>NaN</td>\n",
       "    </tr>\n",
       "    <tr>\n",
       "      <th>1</th>\n",
       "      <td>Businesses for sale in Eastern Massachusetts, MA</td>\n",
       "      <td>{'og:url': 'https://us.businessesforsale.com/u...</td>\n",
       "      <td>Transportation Consultation With Tremendous Gr...</td>\n",
       "      <td>Eastern MA, Massachusetts, US</td>\n",
       "      <td>From Eastern Massachusetts, listing specialize...</td>\n",
       "      <td>https://us.businessesforsale.com/us/transporta...</td>\n",
       "      <td>$1,240,000</td>\n",
       "      <td>$964,201</td>\n",
       "      <td>$685,927</td>\n",
       "      <td>[Lease, Relocatable]</td>\n",
       "      <td>[Price Reduced]</td>\n",
       "      <td>https://us.businessesforsale.com/us/search/bus...</td>\n",
       "      <td>NaN</td>\n",
       "      <td>NaN</td>\n",
       "      <td>NaN</td>\n",
       "      <td>NaN</td>\n",
       "      <td>NaN</td>\n",
       "    </tr>\n",
       "    <tr>\n",
       "      <th>2</th>\n",
       "      <td>Businesses for sale in Eastern Massachusetts, MA</td>\n",
       "      <td>{'og:url': 'https://us.businessesforsale.com/u...</td>\n",
       "      <td>iOB Business Digital Agency Opportunity in Boston</td>\n",
       "      <td>Boston, Massachusetts</td>\n",
       "      <td>Join the most value-driven Digital Agency oppo...</td>\n",
       "      <td>https://us.businessesforsale.com/us/franchises...</td>\n",
       "      <td>NaN</td>\n",
       "      <td>NaN</td>\n",
       "      <td>NaN</td>\n",
       "      <td>[New Franchise]</td>\n",
       "      <td>[]</td>\n",
       "      <td>NaN</td>\n",
       "      <td>On request</td>\n",
       "      <td>On request</td>\n",
       "      <td>NaN</td>\n",
       "      <td>NaN</td>\n",
       "      <td>NaN</td>\n",
       "    </tr>\n",
       "    <tr>\n",
       "      <th>3</th>\n",
       "      <td>Businesses for sale in Eastern Massachusetts, MA</td>\n",
       "      <td>{'og:url': 'https://us.businessesforsale.com/u...</td>\n",
       "      <td>Online Cleaning Business In Boston</td>\n",
       "      <td>Boston, Massachusetts, US</td>\n",
       "      <td>If you are looking for a traditional, profitab...</td>\n",
       "      <td>https://us.businessesforsale.com/us/online-cle...</td>\n",
       "      <td>$13,500</td>\n",
       "      <td>Under $100K</td>\n",
       "      <td>Under $50K</td>\n",
       "      <td>[Relocatable, Work From Home]</td>\n",
       "      <td>[]</td>\n",
       "      <td>https://us.businessesforsale.com/us/search/bus...</td>\n",
       "      <td>NaN</td>\n",
       "      <td>NaN</td>\n",
       "      <td>NaN</td>\n",
       "      <td>NaN</td>\n",
       "      <td>NaN</td>\n",
       "    </tr>\n",
       "    <tr>\n",
       "      <th>4</th>\n",
       "      <td>Businesses for sale in Eastern Massachusetts, MA</td>\n",
       "      <td>{'og:url': 'https://us.businessesforsale.com/u...</td>\n",
       "      <td>Pest Control Business With Funding In Boston</td>\n",
       "      <td>Boston, Massachusetts, US</td>\n",
       "      <td>This is a service franchise that specializes i...</td>\n",
       "      <td>https://us.businessesforsale.com/us/pest-contr...</td>\n",
       "      <td>$103,000</td>\n",
       "      <td>On request</td>\n",
       "      <td>On request</td>\n",
       "      <td>[Work From Home]</td>\n",
       "      <td>[New]</td>\n",
       "      <td>https://us.businessesforsale.com/us/search/bus...</td>\n",
       "      <td>NaN</td>\n",
       "      <td>NaN</td>\n",
       "      <td>NaN</td>\n",
       "      <td>NaN</td>\n",
       "      <td>NaN</td>\n",
       "    </tr>\n",
       "  </tbody>\n",
       "</table>\n",
       "</div>"
      ],
      "text/plain": [
       "                                        group_title   \n",
       "0  Businesses for sale in Eastern Massachusetts, MA  \\\n",
       "1  Businesses for sale in Eastern Massachusetts, MA   \n",
       "2  Businesses for sale in Eastern Massachusetts, MA   \n",
       "3  Businesses for sale in Eastern Massachusetts, MA   \n",
       "4  Businesses for sale in Eastern Massachusetts, MA   \n",
       "\n",
       "                                         group_props   \n",
       "0  {'og:url': 'https://us.businessesforsale.com/u...  \\\n",
       "1  {'og:url': 'https://us.businessesforsale.com/u...   \n",
       "2  {'og:url': 'https://us.businessesforsale.com/u...   \n",
       "3  {'og:url': 'https://us.businessesforsale.com/u...   \n",
       "4  {'og:url': 'https://us.businessesforsale.com/u...   \n",
       "\n",
       "                                               title   \n",
       "0  Bicycle Water Sports Equipment Sales Service B...  \\\n",
       "1  Transportation Consultation With Tremendous Gr...   \n",
       "2  iOB Business Digital Agency Opportunity in Boston   \n",
       "3                 Online Cleaning Business In Boston   \n",
       "4       Pest Control Business With Funding In Boston   \n",
       "\n",
       "                                   location   \n",
       "0  Eastern Massachusetts, Massachusetts, US  \\\n",
       "1             Eastern MA, Massachusetts, US   \n",
       "2                     Boston, Massachusetts   \n",
       "3                 Boston, Massachusetts, US   \n",
       "4                 Boston, Massachusetts, US   \n",
       "\n",
       "                                         description   \n",
       "0  This award winning and successful lifestyle bu...  \\\n",
       "1  From Eastern Massachusetts, listing specialize...   \n",
       "2  Join the most value-driven Digital Agency oppo...   \n",
       "3  If you are looking for a traditional, profitab...   \n",
       "4  This is a service franchise that specializes i...   \n",
       "\n",
       "                                                 url Asking Price:   \n",
       "0  https://us.businessesforsale.com/us/bicycle-wa...      $499,000  \\\n",
       "1  https://us.businessesforsale.com/us/transporta...    $1,240,000   \n",
       "2  https://us.businessesforsale.com/us/franchises...           NaN   \n",
       "3  https://us.businessesforsale.com/us/online-cle...       $13,500   \n",
       "4  https://us.businessesforsale.com/us/pest-contr...      $103,000   \n",
       "\n",
       "      Revenue:  Cash Flow:                           tags           labels   \n",
       "0   $2,096,620    $324,620                [Real Property]               []  \\\n",
       "1     $964,201    $685,927           [Lease, Relocatable]  [Price Reduced]   \n",
       "2          NaN         NaN                [New Franchise]               []   \n",
       "3  Under $100K  Under $50K  [Relocatable, Work From Home]               []   \n",
       "4   On request  On request               [Work From Home]            [New]   \n",
       "\n",
       "                                            save_url Franchise Fee:   \n",
       "0  https://us.businessesforsale.com/us/search/bus...            NaN  \\\n",
       "1  https://us.businessesforsale.com/us/search/bus...            NaN   \n",
       "2                                                NaN     On request   \n",
       "3  https://us.businessesforsale.com/us/search/bus...            NaN   \n",
       "4  https://us.businessesforsale.com/us/search/bus...            NaN   \n",
       "\n",
       "  Investment: Capital: Real Property: Lease:  \n",
       "0         NaN      NaN            NaN    NaN  \n",
       "1         NaN      NaN            NaN    NaN  \n",
       "2  On request      NaN            NaN    NaN  \n",
       "3         NaN      NaN            NaN    NaN  \n",
       "4         NaN      NaN            NaN    NaN  "
      ]
     },
     "execution_count": 11,
     "metadata": {},
     "output_type": "execute_result"
    }
   ],
   "source": [
    "df.head()"
   ]
  },
  {
   "cell_type": "code",
   "execution_count": 12,
   "id": "bec17732",
   "metadata": {},
   "outputs": [],
   "source": [
    "df=df[~df['save_url'].isna()]"
   ]
  },
  {
   "cell_type": "code",
   "execution_count": 13,
   "id": "dbbc88b4",
   "metadata": {},
   "outputs": [],
   "source": [
    "df=df.drop_duplicates(subset=['url','title','location'])"
   ]
  },
  {
   "cell_type": "code",
   "execution_count": 14,
   "id": "36761530",
   "metadata": {},
   "outputs": [
    {
     "data": {
      "text/plain": [
       "(14970, 17)"
      ]
     },
     "execution_count": 14,
     "metadata": {},
     "output_type": "execute_result"
    }
   ],
   "source": [
    "df.shape"
   ]
  },
  {
   "cell_type": "code",
   "execution_count": 15,
   "id": "7b7840ec",
   "metadata": {},
   "outputs": [],
   "source": [
    "df.to_pickle('businessesforsale.search.pkl')"
   ]
  },
  {
   "cell_type": "code",
   "execution_count": 3,
   "id": "ff89fe47",
   "metadata": {},
   "outputs": [],
   "source": [
    "df=pd.read_pickle('businessesforsale.search.pkl')"
   ]
  },
  {
   "cell_type": "code",
   "execution_count": 4,
   "id": "66af2bfc",
   "metadata": {},
   "outputs": [
    {
     "name": "stdout",
     "output_type": "stream",
     "text": [
      "{'group_title': 'Businesses for sale in Eastern Massachusetts, MA', 'group_props': {'og:url': 'https://us.businessesforsale.com/us/search/businesses-for-sale-in-eastern-massachusetts', 'og:type': 'website', 'og:title': 'Businesses For Sale in Eastern Massachusetts, MA, 2 Available To Buy Now', 'og:description': \"2 Businesses Available to Buy Now in Eastern Massachusetts, MA on BFS, The World's Largest Marketplace for Buying and Selling a Business.\", 'og:image': 'https://www.businessesforsale.com/Content/Shared/images/facebookDefaultImage.jpg'}, 'title': 'Bicycle Water Sports Equipment Sales Service Business Estate For Sale', 'location': 'Eastern Massachusetts, Massachusetts, US', 'description': 'This award winning and successful lifestyle business is located on a main road in a resort town with prime visibility and strong retail location.\\nThis premium location includes a commercial building... More details »', 'url': 'https://us.businessesforsale.com/us/bicycle-water-sports-equipment-sales-service-business-estate-for-sale.aspx', 'Asking Price:': '$499,000', 'Revenue:': '$2,096,620', 'Cash Flow:': '$324,620', 'tags': ['Real Property'], 'labels': [], 'save_url': 'https://us.businessesforsale.com/us/search/businesses-for-sale-in-eastern-massachusetts?shortlist=1&addAdvertId=3361445', 'Franchise Fee:': nan, 'Investment:': nan, 'Capital:': nan, 'Real Property:': nan, 'Lease:': nan}\n"
     ]
    }
   ],
   "source": [
    "print(dict(df.loc[0]))"
   ]
  },
  {
   "cell_type": "code",
   "execution_count": null,
   "id": "23f64b44",
   "metadata": {},
   "outputs": [],
   "source": []
  }
 ],
 "metadata": {
  "kernelspec": {
   "display_name": "Python 3 (ipykernel)",
   "language": "python",
   "name": "python3"
  },
  "language_info": {
   "codemirror_mode": {
    "name": "ipython",
    "version": 3
   },
   "file_extension": ".py",
   "mimetype": "text/x-python",
   "name": "python",
   "nbconvert_exporter": "python",
   "pygments_lexer": "ipython3",
   "version": "3.9.7"
  }
 },
 "nbformat": 4,
 "nbformat_minor": 5
}
