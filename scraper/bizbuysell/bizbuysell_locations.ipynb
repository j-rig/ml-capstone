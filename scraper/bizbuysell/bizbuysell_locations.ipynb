{
 "cells": [
  {
   "cell_type": "markdown",
   "id": "9a8b4115",
   "metadata": {},
   "source": [
    "# Associate fed codes id to business id to geolocate"
   ]
  },
  {
   "cell_type": "code",
   "execution_count": 2,
   "id": "15a5285c",
   "metadata": {},
   "outputs": [],
   "source": [
    "import warnings\n",
    "warnings.filterwarnings('ignore')"
   ]
  },
  {
   "cell_type": "code",
   "execution_count": 3,
   "id": "97265bff",
   "metadata": {},
   "outputs": [],
   "source": [
    "import pandas as pd\n",
    "import h3\n",
    "import keplergl"
   ]
  },
  {
   "cell_type": "markdown",
   "id": "d9c27052",
   "metadata": {},
   "source": [
    "# load detail dataset"
   ]
  },
  {
   "cell_type": "code",
   "execution_count": 4,
   "id": "f7b9ab57",
   "metadata": {},
   "outputs": [],
   "source": [
    "df=pd.read_json('bizbuysell.detail.lines.json',\n",
    "                lines=True, dtype={'s_id':'int64'})"
   ]
  },
  {
   "cell_type": "code",
   "execution_count": 5,
   "id": "f60b073b",
   "metadata": {},
   "outputs": [
    {
     "name": "stdout",
     "output_type": "stream",
     "text": [
      "<class 'pandas.core.frame.DataFrame'>\n",
      "RangeIndex: 38571 entries, 0 to 38570\n",
      "Data columns (total 32 columns):\n",
      " #   Column                     Non-Null Count  Dtype  \n",
      "---  ------                     --------------  -----  \n",
      " 0   s_breadcrumbs              38571 non-null  object \n",
      " 1   s_b_desc                   34285 non-null  object \n",
      " 2   s_b_name                   34285 non-null  object \n",
      " 3   s_b_url                    34285 non-null  object \n",
      " 4   s_b_image                  34285 non-null  object \n",
      " 5   s_b_local                  34228 non-null  object \n",
      " 6   s_b_region                 34285 non-null  object \n",
      " 7   s_category                 38435 non-null  object \n",
      " 8   s_desc                     38437 non-null  object \n",
      " 9   s_similar                  38437 non-null  object \n",
      " 10  s_name                     38437 non-null  object \n",
      " 11  s_id                       38437 non-null  object \n",
      " 12  s_url                      38437 non-null  object \n",
      " 13  s_price                    38424 non-null  float64\n",
      " 14  s_local                    34218 non-null  object \n",
      " 15  s_region                   34275 non-null  object \n",
      " 16  p_title                    38571 non-null  object \n",
      " 17  p_location                 38437 non-null  object \n",
      " 18  p_financials_text          38437 non-null  object \n",
      " 19  p_financials               38437 non-null  object \n",
      " 20  p_desc                     38437 non-null  object \n",
      " 21  p_details_text             38283 non-null  object \n",
      " 22  p_details                  38283 non-null  object \n",
      " 23  auction                    132 non-null    float64\n",
      " 24  p_auction_title            131 non-null    object \n",
      " 25  p_auction_location_text    131 non-null    object \n",
      " 26  p_auction_details_text     131 non-null    object \n",
      " 27  p_auction_highlights_text  131 non-null    object \n",
      " 28  p_auction_summary_text     131 non-null    object \n",
      " 29  p_auction_facts_text       131 non-null    object \n",
      " 30  p_auction_facts            131 non-null    object \n",
      " 31  p_auction_address_text     131 non-null    object \n",
      "dtypes: float64(2), object(30)\n",
      "memory usage: 9.4+ MB\n"
     ]
    }
   ],
   "source": [
    "df.info()"
   ]
  },
  {
   "cell_type": "markdown",
   "id": "cc7336ed",
   "metadata": {},
   "source": [
    "## A: business id, local, region from structured data"
   ]
  },
  {
   "cell_type": "code",
   "execution_count": 6,
   "id": "ca3dac68",
   "metadata": {},
   "outputs": [],
   "source": [
    "dfa=df[['s_id','s_b_local','s_b_region']]\n",
    "dfa.columns=['id','local','region']\n",
    "dfa=dfa.dropna()"
   ]
  },
  {
   "cell_type": "code",
   "execution_count": 7,
   "id": "f7606591",
   "metadata": {},
   "outputs": [
    {
     "data": {
      "text/html": [
       "<div>\n",
       "<style scoped>\n",
       "    .dataframe tbody tr th:only-of-type {\n",
       "        vertical-align: middle;\n",
       "    }\n",
       "\n",
       "    .dataframe tbody tr th {\n",
       "        vertical-align: top;\n",
       "    }\n",
       "\n",
       "    .dataframe thead th {\n",
       "        text-align: right;\n",
       "    }\n",
       "</style>\n",
       "<table border=\"1\" class=\"dataframe\">\n",
       "  <thead>\n",
       "    <tr style=\"text-align: right;\">\n",
       "      <th></th>\n",
       "      <th>id</th>\n",
       "      <th>local</th>\n",
       "      <th>region</th>\n",
       "    </tr>\n",
       "  </thead>\n",
       "  <tbody>\n",
       "    <tr>\n",
       "      <th>0</th>\n",
       "      <td>2067319</td>\n",
       "      <td>Middlesex</td>\n",
       "      <td>New Jersey</td>\n",
       "    </tr>\n",
       "    <tr>\n",
       "      <th>1</th>\n",
       "      <td>1990890</td>\n",
       "      <td>Mays Landing</td>\n",
       "      <td>New Jersey</td>\n",
       "    </tr>\n",
       "    <tr>\n",
       "      <th>2</th>\n",
       "      <td>2050006</td>\n",
       "      <td>Randolph</td>\n",
       "      <td>New York</td>\n",
       "    </tr>\n",
       "    <tr>\n",
       "      <th>3</th>\n",
       "      <td>2039720</td>\n",
       "      <td>Pinellas</td>\n",
       "      <td>Florida</td>\n",
       "    </tr>\n",
       "    <tr>\n",
       "      <th>4</th>\n",
       "      <td>1576680</td>\n",
       "      <td>Baltimore</td>\n",
       "      <td>Maryland</td>\n",
       "    </tr>\n",
       "  </tbody>\n",
       "</table>\n",
       "</div>"
      ],
      "text/plain": [
       "        id         local      region\n",
       "0  2067319     Middlesex  New Jersey\n",
       "1  1990890  Mays Landing  New Jersey\n",
       "2  2050006      Randolph    New York\n",
       "3  2039720      Pinellas     Florida\n",
       "4  1576680     Baltimore    Maryland"
      ]
     },
     "execution_count": 7,
     "metadata": {},
     "output_type": "execute_result"
    }
   ],
   "source": [
    "dfa.head()"
   ]
  },
  {
   "cell_type": "markdown",
   "id": "66f3c781",
   "metadata": {},
   "source": [
    "## B: business id, local, region from structured data"
   ]
  },
  {
   "cell_type": "code",
   "execution_count": 8,
   "id": "d003843f",
   "metadata": {},
   "outputs": [],
   "source": [
    "dfb=df[['s_id','s_local','s_region']]\n",
    "dfb.columns=['id','local','region']\n",
    "dfb=dfb.dropna()"
   ]
  },
  {
   "cell_type": "code",
   "execution_count": 9,
   "id": "13cde431",
   "metadata": {},
   "outputs": [
    {
     "data": {
      "text/html": [
       "<div>\n",
       "<style scoped>\n",
       "    .dataframe tbody tr th:only-of-type {\n",
       "        vertical-align: middle;\n",
       "    }\n",
       "\n",
       "    .dataframe tbody tr th {\n",
       "        vertical-align: top;\n",
       "    }\n",
       "\n",
       "    .dataframe thead th {\n",
       "        text-align: right;\n",
       "    }\n",
       "</style>\n",
       "<table border=\"1\" class=\"dataframe\">\n",
       "  <thead>\n",
       "    <tr style=\"text-align: right;\">\n",
       "      <th></th>\n",
       "      <th>id</th>\n",
       "      <th>local</th>\n",
       "      <th>region</th>\n",
       "    </tr>\n",
       "  </thead>\n",
       "  <tbody>\n",
       "    <tr>\n",
       "      <th>0</th>\n",
       "      <td>2067319</td>\n",
       "      <td>Middlesex</td>\n",
       "      <td>New Jersey</td>\n",
       "    </tr>\n",
       "    <tr>\n",
       "      <th>1</th>\n",
       "      <td>1990890</td>\n",
       "      <td>Mays Landing</td>\n",
       "      <td>New Jersey</td>\n",
       "    </tr>\n",
       "    <tr>\n",
       "      <th>2</th>\n",
       "      <td>2050006</td>\n",
       "      <td>Randolph</td>\n",
       "      <td>New York</td>\n",
       "    </tr>\n",
       "    <tr>\n",
       "      <th>3</th>\n",
       "      <td>2039720</td>\n",
       "      <td>Pinellas</td>\n",
       "      <td>Florida</td>\n",
       "    </tr>\n",
       "    <tr>\n",
       "      <th>4</th>\n",
       "      <td>1576680</td>\n",
       "      <td>Baltimore</td>\n",
       "      <td>Maryland</td>\n",
       "    </tr>\n",
       "  </tbody>\n",
       "</table>\n",
       "</div>"
      ],
      "text/plain": [
       "        id         local      region\n",
       "0  2067319     Middlesex  New Jersey\n",
       "1  1990890  Mays Landing  New Jersey\n",
       "2  2050006      Randolph    New York\n",
       "3  2039720      Pinellas     Florida\n",
       "4  1576680     Baltimore    Maryland"
      ]
     },
     "execution_count": 9,
     "metadata": {},
     "output_type": "execute_result"
    }
   ],
   "source": [
    "dfb.head()"
   ]
  },
  {
   "cell_type": "markdown",
   "id": "cab54b06",
   "metadata": {},
   "source": [
    "## C: business id, location from page"
   ]
  },
  {
   "cell_type": "code",
   "execution_count": 10,
   "id": "b29a3745",
   "metadata": {},
   "outputs": [],
   "source": [
    "dfc=df[['s_id','p_location']]\n",
    "dfc=dfc.dropna()\n",
    "dfc=dfc[dfc.p_location!='']"
   ]
  },
  {
   "cell_type": "code",
   "execution_count": 11,
   "id": "a4ff1bae",
   "metadata": {},
   "outputs": [
    {
     "data": {
      "text/html": [
       "<div>\n",
       "<style scoped>\n",
       "    .dataframe tbody tr th:only-of-type {\n",
       "        vertical-align: middle;\n",
       "    }\n",
       "\n",
       "    .dataframe tbody tr th {\n",
       "        vertical-align: top;\n",
       "    }\n",
       "\n",
       "    .dataframe thead th {\n",
       "        text-align: right;\n",
       "    }\n",
       "</style>\n",
       "<table border=\"1\" class=\"dataframe\">\n",
       "  <thead>\n",
       "    <tr style=\"text-align: right;\">\n",
       "      <th></th>\n",
       "      <th>s_id</th>\n",
       "      <th>p_location</th>\n",
       "    </tr>\n",
       "  </thead>\n",
       "  <tbody>\n",
       "    <tr>\n",
       "      <th>0</th>\n",
       "      <td>2067319</td>\n",
       "      <td>Middlesex County, NJ</td>\n",
       "    </tr>\n",
       "    <tr>\n",
       "      <th>1</th>\n",
       "      <td>1990890</td>\n",
       "      <td>Mays Landing, NJ (Atlantic County)</td>\n",
       "    </tr>\n",
       "    <tr>\n",
       "      <th>2</th>\n",
       "      <td>2050006</td>\n",
       "      <td>Randolph, NY (Cattaraugus County)</td>\n",
       "    </tr>\n",
       "    <tr>\n",
       "      <th>3</th>\n",
       "      <td>2039720</td>\n",
       "      <td>Pinellas County, FL</td>\n",
       "    </tr>\n",
       "    <tr>\n",
       "      <th>4</th>\n",
       "      <td>1576680</td>\n",
       "      <td>Baltimore, MD (Baltimore City County)</td>\n",
       "    </tr>\n",
       "  </tbody>\n",
       "</table>\n",
       "</div>"
      ],
      "text/plain": [
       "      s_id                             p_location\n",
       "0  2067319                   Middlesex County, NJ\n",
       "1  1990890     Mays Landing, NJ (Atlantic County)\n",
       "2  2050006      Randolph, NY (Cattaraugus County)\n",
       "3  2039720                    Pinellas County, FL\n",
       "4  1576680  Baltimore, MD (Baltimore City County)"
      ]
     },
     "execution_count": 11,
     "metadata": {},
     "output_type": "execute_result"
    }
   ],
   "source": [
    "dfc.head()"
   ]
  },
  {
   "cell_type": "code",
   "execution_count": 12,
   "id": "05f0e93e",
   "metadata": {},
   "outputs": [],
   "source": [
    "def parse_location(loc):\n",
    "    a=pd.NA\n",
    "    b=pd.NA\n",
    "    c=pd.NA\n",
    "    d=pd.NA\n",
    "    loc=loc.replace('(Relocatable)','')\n",
    "    loc=loc.replace('County','')\n",
    "    loc= loc.split(',')\n",
    "    if len(loc)!=2:\n",
    "        if len(loc)==1 and len(loc[0]):\n",
    "            a=loc[0].strip()\n",
    "        return a,b,c,d\n",
    "    b=loc[0]\n",
    "    c=loc[1]\n",
    "    b=b.strip()\n",
    "    c=c.strip()\n",
    "    if len(c)==2:\n",
    "        return a,b,c,d\n",
    "    d=c[2:]\n",
    "    d= d.replace('(','')\n",
    "    d= d.replace(')','')\n",
    "    d= d.strip()\n",
    "    c=c[:2]\n",
    "    return a,b,c,d"
   ]
  },
  {
   "cell_type": "code",
   "execution_count": 13,
   "id": "b8ac6dd7",
   "metadata": {},
   "outputs": [],
   "source": [
    "dfc['l']=dfc['p_location'].apply(parse_location)\n",
    "dfc['a']=dfc['l'].apply(lambda x: x[0])\n",
    "dfc['b']=dfc['l'].apply(lambda x: x[1])\n",
    "dfc['c']=dfc['l'].apply(lambda x: x[2])\n",
    "dfc['d']=dfc['l'].apply(lambda x: x[3])"
   ]
  },
  {
   "cell_type": "code",
   "execution_count": 14,
   "id": "33cd317c",
   "metadata": {},
   "outputs": [
    {
     "data": {
      "text/html": [
       "<div>\n",
       "<style scoped>\n",
       "    .dataframe tbody tr th:only-of-type {\n",
       "        vertical-align: middle;\n",
       "    }\n",
       "\n",
       "    .dataframe tbody tr th {\n",
       "        vertical-align: top;\n",
       "    }\n",
       "\n",
       "    .dataframe thead th {\n",
       "        text-align: right;\n",
       "    }\n",
       "</style>\n",
       "<table border=\"1\" class=\"dataframe\">\n",
       "  <thead>\n",
       "    <tr style=\"text-align: right;\">\n",
       "      <th></th>\n",
       "      <th>s_id</th>\n",
       "      <th>p_location</th>\n",
       "      <th>l</th>\n",
       "      <th>a</th>\n",
       "      <th>b</th>\n",
       "      <th>c</th>\n",
       "      <th>d</th>\n",
       "    </tr>\n",
       "  </thead>\n",
       "  <tbody>\n",
       "    <tr>\n",
       "      <th>0</th>\n",
       "      <td>2067319</td>\n",
       "      <td>Middlesex County, NJ</td>\n",
       "      <td>(&lt;NA&gt;, Middlesex, NJ, &lt;NA&gt;)</td>\n",
       "      <td>&lt;NA&gt;</td>\n",
       "      <td>Middlesex</td>\n",
       "      <td>NJ</td>\n",
       "      <td>&lt;NA&gt;</td>\n",
       "    </tr>\n",
       "    <tr>\n",
       "      <th>1</th>\n",
       "      <td>1990890</td>\n",
       "      <td>Mays Landing, NJ (Atlantic County)</td>\n",
       "      <td>(&lt;NA&gt;, Mays Landing, NJ, Atlantic)</td>\n",
       "      <td>&lt;NA&gt;</td>\n",
       "      <td>Mays Landing</td>\n",
       "      <td>NJ</td>\n",
       "      <td>Atlantic</td>\n",
       "    </tr>\n",
       "    <tr>\n",
       "      <th>2</th>\n",
       "      <td>2050006</td>\n",
       "      <td>Randolph, NY (Cattaraugus County)</td>\n",
       "      <td>(&lt;NA&gt;, Randolph, NY, Cattaraugus)</td>\n",
       "      <td>&lt;NA&gt;</td>\n",
       "      <td>Randolph</td>\n",
       "      <td>NY</td>\n",
       "      <td>Cattaraugus</td>\n",
       "    </tr>\n",
       "    <tr>\n",
       "      <th>3</th>\n",
       "      <td>2039720</td>\n",
       "      <td>Pinellas County, FL</td>\n",
       "      <td>(&lt;NA&gt;, Pinellas, FL, &lt;NA&gt;)</td>\n",
       "      <td>&lt;NA&gt;</td>\n",
       "      <td>Pinellas</td>\n",
       "      <td>FL</td>\n",
       "      <td>&lt;NA&gt;</td>\n",
       "    </tr>\n",
       "    <tr>\n",
       "      <th>4</th>\n",
       "      <td>1576680</td>\n",
       "      <td>Baltimore, MD (Baltimore City County)</td>\n",
       "      <td>(&lt;NA&gt;, Baltimore, MD, Baltimore City)</td>\n",
       "      <td>&lt;NA&gt;</td>\n",
       "      <td>Baltimore</td>\n",
       "      <td>MD</td>\n",
       "      <td>Baltimore City</td>\n",
       "    </tr>\n",
       "  </tbody>\n",
       "</table>\n",
       "</div>"
      ],
      "text/plain": [
       "      s_id                             p_location   \n",
       "0  2067319                   Middlesex County, NJ  \\\n",
       "1  1990890     Mays Landing, NJ (Atlantic County)   \n",
       "2  2050006      Randolph, NY (Cattaraugus County)   \n",
       "3  2039720                    Pinellas County, FL   \n",
       "4  1576680  Baltimore, MD (Baltimore City County)   \n",
       "\n",
       "                                       l     a             b   c   \n",
       "0            (<NA>, Middlesex, NJ, <NA>)  <NA>     Middlesex  NJ  \\\n",
       "1     (<NA>, Mays Landing, NJ, Atlantic)  <NA>  Mays Landing  NJ   \n",
       "2      (<NA>, Randolph, NY, Cattaraugus)  <NA>      Randolph  NY   \n",
       "3             (<NA>, Pinellas, FL, <NA>)  <NA>      Pinellas  FL   \n",
       "4  (<NA>, Baltimore, MD, Baltimore City)  <NA>     Baltimore  MD   \n",
       "\n",
       "                d  \n",
       "0            <NA>  \n",
       "1        Atlantic  \n",
       "2     Cattaraugus  \n",
       "3            <NA>  \n",
       "4  Baltimore City  "
      ]
     },
     "execution_count": 14,
     "metadata": {},
     "output_type": "execute_result"
    }
   ],
   "source": [
    "dfc.head()"
   ]
  },
  {
   "cell_type": "markdown",
   "id": "95a6dca0",
   "metadata": {},
   "source": [
    "## D: business id, local, 2 letter region from page "
   ]
  },
  {
   "cell_type": "code",
   "execution_count": 15,
   "id": "06525079",
   "metadata": {},
   "outputs": [],
   "source": [
    "dfd=dfc[['s_id','b','c']]\n",
    "dfd.columns=['id','local','region2']\n",
    "dfd=dfd.dropna()"
   ]
  },
  {
   "cell_type": "code",
   "execution_count": 16,
   "id": "b8caab28",
   "metadata": {},
   "outputs": [
    {
     "data": {
      "text/html": [
       "<div>\n",
       "<style scoped>\n",
       "    .dataframe tbody tr th:only-of-type {\n",
       "        vertical-align: middle;\n",
       "    }\n",
       "\n",
       "    .dataframe tbody tr th {\n",
       "        vertical-align: top;\n",
       "    }\n",
       "\n",
       "    .dataframe thead th {\n",
       "        text-align: right;\n",
       "    }\n",
       "</style>\n",
       "<table border=\"1\" class=\"dataframe\">\n",
       "  <thead>\n",
       "    <tr style=\"text-align: right;\">\n",
       "      <th></th>\n",
       "      <th>id</th>\n",
       "      <th>local</th>\n",
       "      <th>region2</th>\n",
       "    </tr>\n",
       "  </thead>\n",
       "  <tbody>\n",
       "    <tr>\n",
       "      <th>0</th>\n",
       "      <td>2067319</td>\n",
       "      <td>Middlesex</td>\n",
       "      <td>NJ</td>\n",
       "    </tr>\n",
       "    <tr>\n",
       "      <th>1</th>\n",
       "      <td>1990890</td>\n",
       "      <td>Mays Landing</td>\n",
       "      <td>NJ</td>\n",
       "    </tr>\n",
       "    <tr>\n",
       "      <th>2</th>\n",
       "      <td>2050006</td>\n",
       "      <td>Randolph</td>\n",
       "      <td>NY</td>\n",
       "    </tr>\n",
       "    <tr>\n",
       "      <th>3</th>\n",
       "      <td>2039720</td>\n",
       "      <td>Pinellas</td>\n",
       "      <td>FL</td>\n",
       "    </tr>\n",
       "    <tr>\n",
       "      <th>4</th>\n",
       "      <td>1576680</td>\n",
       "      <td>Baltimore</td>\n",
       "      <td>MD</td>\n",
       "    </tr>\n",
       "  </tbody>\n",
       "</table>\n",
       "</div>"
      ],
      "text/plain": [
       "        id         local region2\n",
       "0  2067319     Middlesex      NJ\n",
       "1  1990890  Mays Landing      NJ\n",
       "2  2050006      Randolph      NY\n",
       "3  2039720      Pinellas      FL\n",
       "4  1576680     Baltimore      MD"
      ]
     },
     "execution_count": 16,
     "metadata": {},
     "output_type": "execute_result"
    }
   ],
   "source": [
    "dfd.head()"
   ]
  },
  {
   "cell_type": "markdown",
   "id": "f5380bc0",
   "metadata": {},
   "source": [
    "## E: business id, local, 2 letter region from page"
   ]
  },
  {
   "cell_type": "code",
   "execution_count": 17,
   "id": "80c2871a",
   "metadata": {},
   "outputs": [],
   "source": [
    "dfe=dfc[['s_id','d','c']]\n",
    "dfe.columns=['id','local','region2']\n",
    "dfe=dfe.dropna()"
   ]
  },
  {
   "cell_type": "code",
   "execution_count": 18,
   "id": "5fdd0e15",
   "metadata": {},
   "outputs": [
    {
     "data": {
      "text/html": [
       "<div>\n",
       "<style scoped>\n",
       "    .dataframe tbody tr th:only-of-type {\n",
       "        vertical-align: middle;\n",
       "    }\n",
       "\n",
       "    .dataframe tbody tr th {\n",
       "        vertical-align: top;\n",
       "    }\n",
       "\n",
       "    .dataframe thead th {\n",
       "        text-align: right;\n",
       "    }\n",
       "</style>\n",
       "<table border=\"1\" class=\"dataframe\">\n",
       "  <thead>\n",
       "    <tr style=\"text-align: right;\">\n",
       "      <th></th>\n",
       "      <th>id</th>\n",
       "      <th>local</th>\n",
       "      <th>region2</th>\n",
       "    </tr>\n",
       "  </thead>\n",
       "  <tbody>\n",
       "    <tr>\n",
       "      <th>1</th>\n",
       "      <td>1990890</td>\n",
       "      <td>Atlantic</td>\n",
       "      <td>NJ</td>\n",
       "    </tr>\n",
       "    <tr>\n",
       "      <th>2</th>\n",
       "      <td>2050006</td>\n",
       "      <td>Cattaraugus</td>\n",
       "      <td>NY</td>\n",
       "    </tr>\n",
       "    <tr>\n",
       "      <th>4</th>\n",
       "      <td>1576680</td>\n",
       "      <td>Baltimore City</td>\n",
       "      <td>MD</td>\n",
       "    </tr>\n",
       "    <tr>\n",
       "      <th>5</th>\n",
       "      <td>2087638</td>\n",
       "      <td>Saint Clair</td>\n",
       "      <td>MI</td>\n",
       "    </tr>\n",
       "    <tr>\n",
       "      <th>7</th>\n",
       "      <td>2051958</td>\n",
       "      <td>LeFlore</td>\n",
       "      <td>OK</td>\n",
       "    </tr>\n",
       "  </tbody>\n",
       "</table>\n",
       "</div>"
      ],
      "text/plain": [
       "        id           local region2\n",
       "1  1990890        Atlantic      NJ\n",
       "2  2050006     Cattaraugus      NY\n",
       "4  1576680  Baltimore City      MD\n",
       "5  2087638     Saint Clair      MI\n",
       "7  2051958         LeFlore      OK"
      ]
     },
     "execution_count": 18,
     "metadata": {},
     "output_type": "execute_result"
    }
   ],
   "source": [
    "dfe.head()"
   ]
  },
  {
   "cell_type": "markdown",
   "id": "5f346682",
   "metadata": {},
   "source": [
    "# load listings dataset"
   ]
  },
  {
   "cell_type": "code",
   "execution_count": 19,
   "id": "2a823114",
   "metadata": {},
   "outputs": [],
   "source": [
    "df=pd.read_json('bizbuysell.list.lines.json',lines=True, dtype={'s_id':'int64'})"
   ]
  },
  {
   "cell_type": "code",
   "execution_count": 20,
   "id": "e692efee",
   "metadata": {},
   "outputs": [
    {
     "name": "stdout",
     "output_type": "stream",
     "text": [
      "<class 'pandas.core.frame.DataFrame'>\n",
      "RangeIndex: 263592 entries, 0 to 263591\n",
      "Data columns (total 15 columns):\n",
      " #   Column         Non-Null Count   Dtype  \n",
      "---  ------         --------------   -----  \n",
      " 0   s_breadcrumbs  263592 non-null  object \n",
      " 1   s_id           263592 non-null  int64  \n",
      " 2   s_name         263592 non-null  object \n",
      " 3   s_desc         263592 non-null  object \n",
      " 4   s_url          263592 non-null  object \n",
      " 5   s_price        263592 non-null  int64  \n",
      " 6   s_local        226316 non-null  object \n",
      " 7   s_region       247594 non-null  object \n",
      " 8   id             261044 non-null  float64\n",
      " 9   href           261044 non-null  object \n",
      " 10  title          261044 non-null  object \n",
      " 11  loc            245046 non-null  object \n",
      " 12  desc           261044 non-null  object \n",
      " 13  asking_price   261044 non-null  object \n",
      " 14  cash_flow      127994 non-null  object \n",
      "dtypes: float64(1), int64(2), object(12)\n",
      "memory usage: 30.2+ MB\n"
     ]
    }
   ],
   "source": [
    "df.info()"
   ]
  },
  {
   "cell_type": "markdown",
   "id": "046794d2",
   "metadata": {},
   "source": [
    "## F: business id, local, 2 letter region from structured data"
   ]
  },
  {
   "cell_type": "code",
   "execution_count": 21,
   "id": "7673b981",
   "metadata": {},
   "outputs": [],
   "source": [
    "dff=df[['s_id','s_local','s_region']]\n",
    "dff.columns=['id','local','region2']\n",
    "dff=dff.dropna()"
   ]
  },
  {
   "cell_type": "code",
   "execution_count": 22,
   "id": "651c0ca7",
   "metadata": {},
   "outputs": [
    {
     "data": {
      "text/html": [
       "<div>\n",
       "<style scoped>\n",
       "    .dataframe tbody tr th:only-of-type {\n",
       "        vertical-align: middle;\n",
       "    }\n",
       "\n",
       "    .dataframe tbody tr th {\n",
       "        vertical-align: top;\n",
       "    }\n",
       "\n",
       "    .dataframe thead th {\n",
       "        text-align: right;\n",
       "    }\n",
       "</style>\n",
       "<table border=\"1\" class=\"dataframe\">\n",
       "  <thead>\n",
       "    <tr style=\"text-align: right;\">\n",
       "      <th></th>\n",
       "      <th>id</th>\n",
       "      <th>local</th>\n",
       "      <th>region2</th>\n",
       "    </tr>\n",
       "  </thead>\n",
       "  <tbody>\n",
       "    <tr>\n",
       "      <th>1</th>\n",
       "      <td>1815206</td>\n",
       "      <td>Whitwell</td>\n",
       "      <td>TN</td>\n",
       "    </tr>\n",
       "    <tr>\n",
       "      <th>2</th>\n",
       "      <td>2023577</td>\n",
       "      <td>Detroit</td>\n",
       "      <td>MI</td>\n",
       "    </tr>\n",
       "    <tr>\n",
       "      <th>3</th>\n",
       "      <td>2066007</td>\n",
       "      <td>Poultney</td>\n",
       "      <td>VT</td>\n",
       "    </tr>\n",
       "    <tr>\n",
       "      <th>4</th>\n",
       "      <td>27828757</td>\n",
       "      <td>Houston</td>\n",
       "      <td>TX</td>\n",
       "    </tr>\n",
       "    <tr>\n",
       "      <th>5</th>\n",
       "      <td>2001472</td>\n",
       "      <td>Orr</td>\n",
       "      <td>MN</td>\n",
       "    </tr>\n",
       "  </tbody>\n",
       "</table>\n",
       "</div>"
      ],
      "text/plain": [
       "         id     local region2\n",
       "1   1815206  Whitwell      TN\n",
       "2   2023577   Detroit      MI\n",
       "3   2066007  Poultney      VT\n",
       "4  27828757   Houston      TX\n",
       "5   2001472       Orr      MN"
      ]
     },
     "execution_count": 22,
     "metadata": {},
     "output_type": "execute_result"
    }
   ],
   "source": [
    "dff.head()"
   ]
  },
  {
   "cell_type": "markdown",
   "id": "4cd54850",
   "metadata": {},
   "source": [
    "## G: business id, local, location from page data"
   ]
  },
  {
   "cell_type": "code",
   "execution_count": 23,
   "id": "efda07cb",
   "metadata": {},
   "outputs": [],
   "source": [
    "dfg=df[['s_id','loc']]\n",
    "dfg=dfg.dropna()"
   ]
  },
  {
   "cell_type": "code",
   "execution_count": 24,
   "id": "5ff8c431",
   "metadata": {},
   "outputs": [
    {
     "data": {
      "text/html": [
       "<div>\n",
       "<style scoped>\n",
       "    .dataframe tbody tr th:only-of-type {\n",
       "        vertical-align: middle;\n",
       "    }\n",
       "\n",
       "    .dataframe tbody tr th {\n",
       "        vertical-align: top;\n",
       "    }\n",
       "\n",
       "    .dataframe thead th {\n",
       "        text-align: right;\n",
       "    }\n",
       "</style>\n",
       "<table border=\"1\" class=\"dataframe\">\n",
       "  <thead>\n",
       "    <tr style=\"text-align: right;\">\n",
       "      <th></th>\n",
       "      <th>s_id</th>\n",
       "      <th>loc</th>\n",
       "    </tr>\n",
       "  </thead>\n",
       "  <tbody>\n",
       "    <tr>\n",
       "      <th>0</th>\n",
       "      <td>1972353</td>\n",
       "      <td>Christiansted</td>\n",
       "    </tr>\n",
       "    <tr>\n",
       "      <th>1</th>\n",
       "      <td>1815206</td>\n",
       "      <td>Whitwell, TN</td>\n",
       "    </tr>\n",
       "    <tr>\n",
       "      <th>2</th>\n",
       "      <td>2023577</td>\n",
       "      <td>Detroit, MI</td>\n",
       "    </tr>\n",
       "    <tr>\n",
       "      <th>3</th>\n",
       "      <td>2066007</td>\n",
       "      <td>Poultney, VT</td>\n",
       "    </tr>\n",
       "    <tr>\n",
       "      <th>5</th>\n",
       "      <td>2001472</td>\n",
       "      <td>Orr, MN</td>\n",
       "    </tr>\n",
       "  </tbody>\n",
       "</table>\n",
       "</div>"
      ],
      "text/plain": [
       "      s_id            loc\n",
       "0  1972353  Christiansted\n",
       "1  1815206   Whitwell, TN\n",
       "2  2023577    Detroit, MI\n",
       "3  2066007   Poultney, VT\n",
       "5  2001472        Orr, MN"
      ]
     },
     "execution_count": 24,
     "metadata": {},
     "output_type": "execute_result"
    }
   ],
   "source": [
    "dfg.head()"
   ]
  },
  {
   "cell_type": "code",
   "execution_count": 25,
   "id": "979b3e63",
   "metadata": {},
   "outputs": [],
   "source": [
    "def parse_location(loc):\n",
    "    a=pd.NA\n",
    "    b=pd.NA\n",
    "    loc=loc.split(',')\n",
    "    if len(loc)!=2:\n",
    "        return a,b\n",
    "    a=loc[0].strip()\n",
    "    b=loc[1].strip()\n",
    "    return a,b"
   ]
  },
  {
   "cell_type": "code",
   "execution_count": 26,
   "id": "1cdece8c",
   "metadata": {},
   "outputs": [],
   "source": [
    "dfg['l']=dfg['loc'].apply(parse_location)\n",
    "dfg['local']=dfg['l'].apply(lambda x: x[0])\n",
    "dfg['region']=dfg['l'].apply(lambda x: x[1])\n",
    "dfg=dfg[['s_id','local','region']]\n",
    "dfg.columns=['id','local','region2']\n",
    "dfg=dfg.dropna()"
   ]
  },
  {
   "cell_type": "code",
   "execution_count": 27,
   "id": "d2b1d134",
   "metadata": {},
   "outputs": [
    {
     "data": {
      "text/html": [
       "<div>\n",
       "<style scoped>\n",
       "    .dataframe tbody tr th:only-of-type {\n",
       "        vertical-align: middle;\n",
       "    }\n",
       "\n",
       "    .dataframe tbody tr th {\n",
       "        vertical-align: top;\n",
       "    }\n",
       "\n",
       "    .dataframe thead th {\n",
       "        text-align: right;\n",
       "    }\n",
       "</style>\n",
       "<table border=\"1\" class=\"dataframe\">\n",
       "  <thead>\n",
       "    <tr style=\"text-align: right;\">\n",
       "      <th></th>\n",
       "      <th>id</th>\n",
       "      <th>local</th>\n",
       "      <th>region2</th>\n",
       "    </tr>\n",
       "  </thead>\n",
       "  <tbody>\n",
       "    <tr>\n",
       "      <th>1</th>\n",
       "      <td>1815206</td>\n",
       "      <td>Whitwell</td>\n",
       "      <td>TN</td>\n",
       "    </tr>\n",
       "    <tr>\n",
       "      <th>2</th>\n",
       "      <td>2023577</td>\n",
       "      <td>Detroit</td>\n",
       "      <td>MI</td>\n",
       "    </tr>\n",
       "    <tr>\n",
       "      <th>3</th>\n",
       "      <td>2066007</td>\n",
       "      <td>Poultney</td>\n",
       "      <td>VT</td>\n",
       "    </tr>\n",
       "    <tr>\n",
       "      <th>5</th>\n",
       "      <td>2001472</td>\n",
       "      <td>Orr</td>\n",
       "      <td>MN</td>\n",
       "    </tr>\n",
       "    <tr>\n",
       "      <th>6</th>\n",
       "      <td>1849773</td>\n",
       "      <td>Muenster</td>\n",
       "      <td>TX</td>\n",
       "    </tr>\n",
       "  </tbody>\n",
       "</table>\n",
       "</div>"
      ],
      "text/plain": [
       "        id     local region2\n",
       "1  1815206  Whitwell      TN\n",
       "2  2023577   Detroit      MI\n",
       "3  2066007  Poultney      VT\n",
       "5  2001472       Orr      MN\n",
       "6  1849773  Muenster      TX"
      ]
     },
     "execution_count": 27,
     "metadata": {},
     "output_type": "execute_result"
    }
   ],
   "source": [
    "dfg.head()"
   ]
  },
  {
   "cell_type": "markdown",
   "id": "4d0c8332",
   "metadata": {},
   "source": [
    "# Load fed codes dataset"
   ]
  },
  {
   "cell_type": "code",
   "execution_count": 28,
   "id": "4e2c668e",
   "metadata": {},
   "outputs": [],
   "source": [
    "df_fc=pd.read_pickle('../census/codes/fed_codes.pkl')"
   ]
  },
  {
   "cell_type": "code",
   "execution_count": 29,
   "id": "f10fa2f8",
   "metadata": {},
   "outputs": [
    {
     "name": "stdout",
     "output_type": "stream",
     "text": [
      "<class 'pandas.core.frame.DataFrame'>\n",
      "RangeIndex: 202532 entries, 0 to 202531\n",
      "Data columns (total 24 columns):\n",
      " #   Column                    Non-Null Count   Dtype         \n",
      "---  ------                    --------------   -----         \n",
      " 0   FEATURE_ID                202532 non-null  int64         \n",
      " 1   FEATURE_NAME              202532 non-null  object        \n",
      " 2   FEATURE_CLASS             202532 non-null  object        \n",
      " 3   CENSUS_CODE               199595 non-null  object        \n",
      " 4   CENSUS_CLASS_CODE         201765 non-null  object        \n",
      " 5   GSA_CODE                  38720 non-null   object        \n",
      " 6   OPM_CODE                  38720 non-null   object        \n",
      " 7   STATE_NUMERIC             202532 non-null  int64         \n",
      " 8   STATE_ALPHA               202532 non-null  object        \n",
      " 9   COUNTY_SEQUENCE           202532 non-null  int64         \n",
      " 10  COUNTY_NUMERIC            202532 non-null  int64         \n",
      " 11  COUNTY_NAME               202509 non-null  object        \n",
      " 12  PRIMARY_LATITUDE          202532 non-null  float64       \n",
      " 13  PRIMARY_LONGITUDE         202532 non-null  float64       \n",
      " 14  DATE_CREATED              202507 non-null  datetime64[ns]\n",
      " 15  DATE_EDITED               120985 non-null  datetime64[ns]\n",
      " 16  H3_15                     202532 non-null  object        \n",
      " 17  STATE_NAME                201905 non-null  object        \n",
      " 18  FEATURE_NAME_STATE_NAME   202532 non-null  object        \n",
      " 19  FEATURE_NAME_STATE_ALPHA  202532 non-null  object        \n",
      " 20  COUNTY_NAME_STATE_NAME    3114 non-null    object        \n",
      " 21  COUNTY_NAME_STATE_ALPHA   3114 non-null    object        \n",
      " 22  COUNTY                    202532 non-null  bool          \n",
      " 23  STATE_CAPITAL             202532 non-null  bool          \n",
      "dtypes: bool(2), datetime64[ns](2), float64(2), int64(4), object(14)\n",
      "memory usage: 34.4+ MB\n"
     ]
    }
   ],
   "source": [
    "df_fc.info()"
   ]
  },
  {
   "cell_type": "code",
   "execution_count": 32,
   "id": "56551bde",
   "metadata": {},
   "outputs": [],
   "source": [
    "# set feature as local\n",
    "df_fca=df_fc[df_fc.FEATURE_CLASS.isin(['Populated Place','Locale','Census','Military'])]\n",
    "df_fca=df_fca[['FEATURE_ID','FEATURE_NAME','STATE_ALPHA']]\n",
    "df_fca.columns=['FEATURE_ID','local','region2']\n",
    "df_fca.drop_duplicates(subset=['local','region2'], keep='first') \n",
    "\n",
    "# set county as local\n",
    "df_fcb=df_fc[df_fc.CENSUS_CLASS_CODE=='H1'] #County or Equivalent Feature\n",
    "df_fcb=df_fcb[['FEATURE_ID','COUNTY_NAME','STATE_ALPHA']]\n",
    "df_fcb.columns=['FEATURE_ID','local','region2']\n",
    "df_fcb.drop_duplicates(subset=['local','region2'], keep='first') \n",
    "\n",
    "df_fcab=pd.concat([df_fca, df_fcb])\n",
    "df_fcab=df_fcab.dropna()"
   ]
  },
  {
   "cell_type": "code",
   "execution_count": 36,
   "id": "74b81e1b",
   "metadata": {},
   "outputs": [],
   "source": [
    "df_fcab.head()\n",
    "df_fcab['region']=df_fcab['region2']"
   ]
  },
  {
   "cell_type": "markdown",
   "id": "43ba5906",
   "metadata": {},
   "source": [
    "# H: Combine A,B and fed codes"
   ]
  },
  {
   "cell_type": "code",
   "execution_count": 37,
   "id": "a41937c6",
   "metadata": {},
   "outputs": [],
   "source": [
    "dfh=pd.concat([dfa,dfb])\n",
    "dfh=dfh.drop_duplicates()\n",
    "dfh=dfh.merge(df_fcab, how='left', on=['local','region'])"
   ]
  },
  {
   "cell_type": "code",
   "execution_count": 38,
   "id": "3051e440",
   "metadata": {},
   "outputs": [
    {
     "data": {
      "text/html": [
       "<div>\n",
       "<style scoped>\n",
       "    .dataframe tbody tr th:only-of-type {\n",
       "        vertical-align: middle;\n",
       "    }\n",
       "\n",
       "    .dataframe tbody tr th {\n",
       "        vertical-align: top;\n",
       "    }\n",
       "\n",
       "    .dataframe thead th {\n",
       "        text-align: right;\n",
       "    }\n",
       "</style>\n",
       "<table border=\"1\" class=\"dataframe\">\n",
       "  <thead>\n",
       "    <tr style=\"text-align: right;\">\n",
       "      <th></th>\n",
       "      <th>id</th>\n",
       "      <th>local</th>\n",
       "      <th>region</th>\n",
       "      <th>FEATURE_ID</th>\n",
       "      <th>region2</th>\n",
       "    </tr>\n",
       "  </thead>\n",
       "  <tbody>\n",
       "    <tr>\n",
       "      <th>0</th>\n",
       "      <td>2067319</td>\n",
       "      <td>Middlesex</td>\n",
       "      <td>New Jersey</td>\n",
       "      <td>NaN</td>\n",
       "      <td>NaN</td>\n",
       "    </tr>\n",
       "    <tr>\n",
       "      <th>1</th>\n",
       "      <td>1990890</td>\n",
       "      <td>Mays Landing</td>\n",
       "      <td>New Jersey</td>\n",
       "      <td>NaN</td>\n",
       "      <td>NaN</td>\n",
       "    </tr>\n",
       "    <tr>\n",
       "      <th>2</th>\n",
       "      <td>2050006</td>\n",
       "      <td>Randolph</td>\n",
       "      <td>New York</td>\n",
       "      <td>NaN</td>\n",
       "      <td>NaN</td>\n",
       "    </tr>\n",
       "    <tr>\n",
       "      <th>3</th>\n",
       "      <td>2039720</td>\n",
       "      <td>Pinellas</td>\n",
       "      <td>Florida</td>\n",
       "      <td>NaN</td>\n",
       "      <td>NaN</td>\n",
       "    </tr>\n",
       "    <tr>\n",
       "      <th>4</th>\n",
       "      <td>1576680</td>\n",
       "      <td>Baltimore</td>\n",
       "      <td>Maryland</td>\n",
       "      <td>NaN</td>\n",
       "      <td>NaN</td>\n",
       "    </tr>\n",
       "  </tbody>\n",
       "</table>\n",
       "</div>"
      ],
      "text/plain": [
       "        id         local      region  FEATURE_ID region2\n",
       "0  2067319     Middlesex  New Jersey         NaN     NaN\n",
       "1  1990890  Mays Landing  New Jersey         NaN     NaN\n",
       "2  2050006      Randolph    New York         NaN     NaN\n",
       "3  2039720      Pinellas     Florida         NaN     NaN\n",
       "4  1576680     Baltimore    Maryland         NaN     NaN"
      ]
     },
     "execution_count": 38,
     "metadata": {},
     "output_type": "execute_result"
    }
   ],
   "source": [
    "dfh.head()"
   ]
  },
  {
   "cell_type": "code",
   "execution_count": 39,
   "id": "eae2c238",
   "metadata": {},
   "outputs": [],
   "source": [
    "dfh_missing=dfh[dfh['FEATURE_ID'].isna()]\n",
    "dfh_ok=dfh.dropna()"
   ]
  },
  {
   "cell_type": "code",
   "execution_count": 40,
   "id": "fd9ffa17",
   "metadata": {},
   "outputs": [
    {
     "data": {
      "text/plain": [
       "((34193, 5), (0, 5))"
      ]
     },
     "execution_count": 40,
     "metadata": {},
     "output_type": "execute_result"
    }
   ],
   "source": [
    "dfh.shape, dfh_ok.shape"
   ]
  },
  {
   "cell_type": "code",
   "execution_count": 41,
   "id": "0b68006e",
   "metadata": {},
   "outputs": [
    {
     "data": {
      "text/plain": [
       "34193"
      ]
     },
     "execution_count": 41,
     "metadata": {},
     "output_type": "execute_result"
    }
   ],
   "source": [
    "dfh_ok.shape[0]+dfh_missing.shape[0]"
   ]
  },
  {
   "cell_type": "markdown",
   "id": "611015ed",
   "metadata": {},
   "source": [
    "# I: Combine D,E and fed codes"
   ]
  },
  {
   "cell_type": "code",
   "execution_count": 42,
   "id": "adb0977c",
   "metadata": {},
   "outputs": [],
   "source": [
    "dfi=pd.concat([dfd,dfe])\n",
    "dfi=dfi.drop_duplicates()\n",
    "dfi=dfi.merge(df_fcab, how='left', on=['local','region2'])"
   ]
  },
  {
   "cell_type": "code",
   "execution_count": 43,
   "id": "e5991ee6",
   "metadata": {},
   "outputs": [
    {
     "data": {
      "text/html": [
       "<div>\n",
       "<style scoped>\n",
       "    .dataframe tbody tr th:only-of-type {\n",
       "        vertical-align: middle;\n",
       "    }\n",
       "\n",
       "    .dataframe tbody tr th {\n",
       "        vertical-align: top;\n",
       "    }\n",
       "\n",
       "    .dataframe thead th {\n",
       "        text-align: right;\n",
       "    }\n",
       "</style>\n",
       "<table border=\"1\" class=\"dataframe\">\n",
       "  <thead>\n",
       "    <tr style=\"text-align: right;\">\n",
       "      <th></th>\n",
       "      <th>id</th>\n",
       "      <th>local</th>\n",
       "      <th>region2</th>\n",
       "      <th>FEATURE_ID</th>\n",
       "      <th>region</th>\n",
       "    </tr>\n",
       "  </thead>\n",
       "  <tbody>\n",
       "    <tr>\n",
       "      <th>0</th>\n",
       "      <td>2067319</td>\n",
       "      <td>Middlesex</td>\n",
       "      <td>NJ</td>\n",
       "      <td>878315.0</td>\n",
       "      <td>NJ</td>\n",
       "    </tr>\n",
       "    <tr>\n",
       "      <th>1</th>\n",
       "      <td>2067319</td>\n",
       "      <td>Middlesex</td>\n",
       "      <td>NJ</td>\n",
       "      <td>882230.0</td>\n",
       "      <td>NJ</td>\n",
       "    </tr>\n",
       "    <tr>\n",
       "      <th>2</th>\n",
       "      <td>1990890</td>\n",
       "      <td>Mays Landing</td>\n",
       "      <td>NJ</td>\n",
       "      <td>878206.0</td>\n",
       "      <td>NJ</td>\n",
       "    </tr>\n",
       "    <tr>\n",
       "      <th>3</th>\n",
       "      <td>2050006</td>\n",
       "      <td>Randolph</td>\n",
       "      <td>NY</td>\n",
       "      <td>962181.0</td>\n",
       "      <td>NY</td>\n",
       "    </tr>\n",
       "    <tr>\n",
       "      <th>4</th>\n",
       "      <td>2039720</td>\n",
       "      <td>Pinellas</td>\n",
       "      <td>FL</td>\n",
       "      <td>295745.0</td>\n",
       "      <td>FL</td>\n",
       "    </tr>\n",
       "  </tbody>\n",
       "</table>\n",
       "</div>"
      ],
      "text/plain": [
       "        id         local region2  FEATURE_ID region\n",
       "0  2067319     Middlesex      NJ    878315.0     NJ\n",
       "1  2067319     Middlesex      NJ    882230.0     NJ\n",
       "2  1990890  Mays Landing      NJ    878206.0     NJ\n",
       "3  2050006      Randolph      NY    962181.0     NY\n",
       "4  2039720      Pinellas      FL    295745.0     FL"
      ]
     },
     "execution_count": 43,
     "metadata": {},
     "output_type": "execute_result"
    }
   ],
   "source": [
    "dfi.head()"
   ]
  },
  {
   "cell_type": "code",
   "execution_count": 44,
   "id": "f925afda",
   "metadata": {},
   "outputs": [],
   "source": [
    "dfi_missing=dfi[dfi['FEATURE_ID'].isna()]\n",
    "dfi_ok=dfi.dropna()"
   ]
  },
  {
   "cell_type": "code",
   "execution_count": 45,
   "id": "ee032193",
   "metadata": {},
   "outputs": [
    {
     "data": {
      "text/plain": [
       "((81534, 5), (79355, 5))"
      ]
     },
     "execution_count": 45,
     "metadata": {},
     "output_type": "execute_result"
    }
   ],
   "source": [
    "dfi.shape, dfi_ok.shape"
   ]
  },
  {
   "cell_type": "code",
   "execution_count": 46,
   "id": "f0da86b7",
   "metadata": {},
   "outputs": [
    {
     "data": {
      "text/plain": [
       "81534"
      ]
     },
     "execution_count": 46,
     "metadata": {},
     "output_type": "execute_result"
    }
   ],
   "source": [
    "dfi_ok.shape[0]+dfi_missing.shape[0]"
   ]
  },
  {
   "cell_type": "markdown",
   "id": "30b11d3b",
   "metadata": {},
   "source": [
    "# J: Combine F,G and fed codes"
   ]
  },
  {
   "cell_type": "code",
   "execution_count": 47,
   "id": "3536acb3",
   "metadata": {},
   "outputs": [],
   "source": [
    "dfj=pd.concat([dff,dfg])\n",
    "dfj=dfj.drop_duplicates()\n",
    "dfj=dfj.merge(df_fcab, how='left', on=['local','region2'])"
   ]
  },
  {
   "cell_type": "code",
   "execution_count": 48,
   "id": "6494335f",
   "metadata": {},
   "outputs": [
    {
     "data": {
      "text/html": [
       "<div>\n",
       "<style scoped>\n",
       "    .dataframe tbody tr th:only-of-type {\n",
       "        vertical-align: middle;\n",
       "    }\n",
       "\n",
       "    .dataframe tbody tr th {\n",
       "        vertical-align: top;\n",
       "    }\n",
       "\n",
       "    .dataframe thead th {\n",
       "        text-align: right;\n",
       "    }\n",
       "</style>\n",
       "<table border=\"1\" class=\"dataframe\">\n",
       "  <thead>\n",
       "    <tr style=\"text-align: right;\">\n",
       "      <th></th>\n",
       "      <th>id</th>\n",
       "      <th>local</th>\n",
       "      <th>region2</th>\n",
       "      <th>FEATURE_ID</th>\n",
       "      <th>region</th>\n",
       "    </tr>\n",
       "  </thead>\n",
       "  <tbody>\n",
       "    <tr>\n",
       "      <th>0</th>\n",
       "      <td>1815206</td>\n",
       "      <td>Whitwell</td>\n",
       "      <td>TN</td>\n",
       "      <td>NaN</td>\n",
       "      <td>NaN</td>\n",
       "    </tr>\n",
       "    <tr>\n",
       "      <th>1</th>\n",
       "      <td>2023577</td>\n",
       "      <td>Detroit</td>\n",
       "      <td>MI</td>\n",
       "      <td>NaN</td>\n",
       "      <td>NaN</td>\n",
       "    </tr>\n",
       "    <tr>\n",
       "      <th>2</th>\n",
       "      <td>2066007</td>\n",
       "      <td>Poultney</td>\n",
       "      <td>VT</td>\n",
       "      <td>NaN</td>\n",
       "      <td>NaN</td>\n",
       "    </tr>\n",
       "    <tr>\n",
       "      <th>3</th>\n",
       "      <td>27828757</td>\n",
       "      <td>Houston</td>\n",
       "      <td>TX</td>\n",
       "      <td>NaN</td>\n",
       "      <td>NaN</td>\n",
       "    </tr>\n",
       "    <tr>\n",
       "      <th>4</th>\n",
       "      <td>2001472</td>\n",
       "      <td>Orr</td>\n",
       "      <td>MN</td>\n",
       "      <td>NaN</td>\n",
       "      <td>NaN</td>\n",
       "    </tr>\n",
       "  </tbody>\n",
       "</table>\n",
       "</div>"
      ],
      "text/plain": [
       "         id     local region2  FEATURE_ID region\n",
       "0   1815206  Whitwell      TN         NaN    NaN\n",
       "1   2023577   Detroit      MI         NaN    NaN\n",
       "2   2066007  Poultney      VT         NaN    NaN\n",
       "3  27828757   Houston      TX         NaN    NaN\n",
       "4   2001472       Orr      MN         NaN    NaN"
      ]
     },
     "execution_count": 48,
     "metadata": {},
     "output_type": "execute_result"
    }
   ],
   "source": [
    "dfj.head()"
   ]
  },
  {
   "cell_type": "code",
   "execution_count": 49,
   "id": "103d7a4e",
   "metadata": {},
   "outputs": [],
   "source": [
    "dfj_missing=dfj[dfj['FEATURE_ID'].isna()]\n",
    "dfj_ok=dfj.dropna()"
   ]
  },
  {
   "cell_type": "code",
   "execution_count": 50,
   "id": "61b93068",
   "metadata": {},
   "outputs": [
    {
     "data": {
      "text/plain": [
       "((78292, 5), (31652, 5))"
      ]
     },
     "execution_count": 50,
     "metadata": {},
     "output_type": "execute_result"
    }
   ],
   "source": [
    "dfj.shape, dfj_ok.shape"
   ]
  },
  {
   "cell_type": "code",
   "execution_count": 51,
   "id": "960767a8",
   "metadata": {},
   "outputs": [
    {
     "data": {
      "text/plain": [
       "78292"
      ]
     },
     "execution_count": 51,
     "metadata": {},
     "output_type": "execute_result"
    }
   ],
   "source": [
    "dfj_ok.shape[0]+dfj_missing.shape[0]"
   ]
  },
  {
   "cell_type": "markdown",
   "id": "37d22bfc",
   "metadata": {},
   "source": [
    "# Combine H,I,J"
   ]
  },
  {
   "cell_type": "code",
   "execution_count": 52,
   "id": "31fbc083",
   "metadata": {},
   "outputs": [],
   "source": [
    "#the dataset is orderd by most accurate to less accurate locations so keep the first duplicate\n",
    "dfhij=pd.concat([dfh,dfi,dfj])\n",
    "dfhij=dfhij.dropna()\n",
    "dfhij=dfhij.drop_duplicates(subset=['id'], keep='first')\n",
    "dfhij=dfhij[['id','FEATURE_ID']]"
   ]
  },
  {
   "cell_type": "code",
   "execution_count": 53,
   "id": "d00f7ca7",
   "metadata": {},
   "outputs": [
    {
     "data": {
      "text/html": [
       "<div>\n",
       "<style scoped>\n",
       "    .dataframe tbody tr th:only-of-type {\n",
       "        vertical-align: middle;\n",
       "    }\n",
       "\n",
       "    .dataframe tbody tr th {\n",
       "        vertical-align: top;\n",
       "    }\n",
       "\n",
       "    .dataframe thead th {\n",
       "        text-align: right;\n",
       "    }\n",
       "</style>\n",
       "<table border=\"1\" class=\"dataframe\">\n",
       "  <thead>\n",
       "    <tr style=\"text-align: right;\">\n",
       "      <th></th>\n",
       "      <th>id</th>\n",
       "      <th>FEATURE_ID</th>\n",
       "    </tr>\n",
       "  </thead>\n",
       "  <tbody>\n",
       "    <tr>\n",
       "      <th>0</th>\n",
       "      <td>2067319</td>\n",
       "      <td>878315.0</td>\n",
       "    </tr>\n",
       "    <tr>\n",
       "      <th>2</th>\n",
       "      <td>1990890</td>\n",
       "      <td>878206.0</td>\n",
       "    </tr>\n",
       "    <tr>\n",
       "      <th>3</th>\n",
       "      <td>2050006</td>\n",
       "      <td>962181.0</td>\n",
       "    </tr>\n",
       "    <tr>\n",
       "      <th>4</th>\n",
       "      <td>2039720</td>\n",
       "      <td>295745.0</td>\n",
       "    </tr>\n",
       "    <tr>\n",
       "      <th>5</th>\n",
       "      <td>1576680</td>\n",
       "      <td>597040.0</td>\n",
       "    </tr>\n",
       "  </tbody>\n",
       "</table>\n",
       "</div>"
      ],
      "text/plain": [
       "        id  FEATURE_ID\n",
       "0  2067319    878315.0\n",
       "2  1990890    878206.0\n",
       "3  2050006    962181.0\n",
       "4  2039720    295745.0\n",
       "5  1576680    597040.0"
      ]
     },
     "execution_count": 53,
     "metadata": {},
     "output_type": "execute_result"
    }
   ],
   "source": [
    "dfhij.head()"
   ]
  },
  {
   "cell_type": "code",
   "execution_count": 54,
   "id": "16c9cb8e",
   "metadata": {},
   "outputs": [
    {
     "data": {
      "text/plain": [
       "(56283, 2)"
      ]
     },
     "execution_count": 54,
     "metadata": {},
     "output_type": "execute_result"
    }
   ],
   "source": [
    "dfhij.shape"
   ]
  },
  {
   "cell_type": "code",
   "execution_count": 55,
   "id": "adfd5043",
   "metadata": {},
   "outputs": [
    {
     "name": "stdout",
     "output_type": "stream",
     "text": [
      "<class 'pandas.core.frame.DataFrame'>\n",
      "Index: 56283 entries, 0 to 78291\n",
      "Data columns (total 2 columns):\n",
      " #   Column      Non-Null Count  Dtype  \n",
      "---  ------      --------------  -----  \n",
      " 0   id          56283 non-null  object \n",
      " 1   FEATURE_ID  56283 non-null  float64\n",
      "dtypes: float64(1), object(1)\n",
      "memory usage: 1.3+ MB\n"
     ]
    }
   ],
   "source": [
    "dfhij.info()"
   ]
  },
  {
   "cell_type": "code",
   "execution_count": 56,
   "id": "56c8c6ae",
   "metadata": {},
   "outputs": [],
   "source": [
    "dfhij.to_pickle('bizbuysell_id_to_feature_id.pkl')"
   ]
  },
  {
   "cell_type": "markdown",
   "id": "54237a0f",
   "metadata": {},
   "source": [
    "# Top states"
   ]
  },
  {
   "cell_type": "code",
   "execution_count": 57,
   "id": "e66c7fe2",
   "metadata": {},
   "outputs": [],
   "source": [
    "df_g=dfhij.merge(df_fc,how='left',on='FEATURE_ID')"
   ]
  },
  {
   "cell_type": "code",
   "execution_count": 58,
   "id": "e90649f8",
   "metadata": {},
   "outputs": [
    {
     "data": {
      "text/html": [
       "<div>\n",
       "<style scoped>\n",
       "    .dataframe tbody tr th:only-of-type {\n",
       "        vertical-align: middle;\n",
       "    }\n",
       "\n",
       "    .dataframe tbody tr th {\n",
       "        vertical-align: top;\n",
       "    }\n",
       "\n",
       "    .dataframe thead th {\n",
       "        text-align: right;\n",
       "    }\n",
       "</style>\n",
       "<table border=\"1\" class=\"dataframe\">\n",
       "  <thead>\n",
       "    <tr style=\"text-align: right;\">\n",
       "      <th></th>\n",
       "      <th>state</th>\n",
       "      <th>business for sale</th>\n",
       "    </tr>\n",
       "  </thead>\n",
       "  <tbody>\n",
       "    <tr>\n",
       "      <th>43</th>\n",
       "      <td>TX</td>\n",
       "      <td>10087</td>\n",
       "    </tr>\n",
       "    <tr>\n",
       "      <th>4</th>\n",
       "      <td>CA</td>\n",
       "      <td>8188</td>\n",
       "    </tr>\n",
       "    <tr>\n",
       "      <th>9</th>\n",
       "      <td>FL</td>\n",
       "      <td>7800</td>\n",
       "    </tr>\n",
       "    <tr>\n",
       "      <th>34</th>\n",
       "      <td>NY</td>\n",
       "      <td>3532</td>\n",
       "    </tr>\n",
       "    <tr>\n",
       "      <th>10</th>\n",
       "      <td>GA</td>\n",
       "      <td>2700</td>\n",
       "    </tr>\n",
       "    <tr>\n",
       "      <th>3</th>\n",
       "      <td>AZ</td>\n",
       "      <td>2143</td>\n",
       "    </tr>\n",
       "    <tr>\n",
       "      <th>27</th>\n",
       "      <td>NC</td>\n",
       "      <td>2039</td>\n",
       "    </tr>\n",
       "    <tr>\n",
       "      <th>38</th>\n",
       "      <td>PA</td>\n",
       "      <td>1982</td>\n",
       "    </tr>\n",
       "    <tr>\n",
       "      <th>5</th>\n",
       "      <td>CO</td>\n",
       "      <td>1970</td>\n",
       "    </tr>\n",
       "    <tr>\n",
       "      <th>14</th>\n",
       "      <td>IL</td>\n",
       "      <td>1960</td>\n",
       "    </tr>\n",
       "    <tr>\n",
       "      <th>31</th>\n",
       "      <td>NJ</td>\n",
       "      <td>1761</td>\n",
       "    </tr>\n",
       "    <tr>\n",
       "      <th>35</th>\n",
       "      <td>OH</td>\n",
       "      <td>1736</td>\n",
       "    </tr>\n",
       "    <tr>\n",
       "      <th>40</th>\n",
       "      <td>SC</td>\n",
       "      <td>1646</td>\n",
       "    </tr>\n",
       "    <tr>\n",
       "      <th>22</th>\n",
       "      <td>MI</td>\n",
       "      <td>1407</td>\n",
       "    </tr>\n",
       "    <tr>\n",
       "      <th>37</th>\n",
       "      <td>OR</td>\n",
       "      <td>1393</td>\n",
       "    </tr>\n",
       "  </tbody>\n",
       "</table>\n",
       "</div>"
      ],
      "text/plain": [
       "   state  business for sale\n",
       "43    TX              10087\n",
       "4     CA               8188\n",
       "9     FL               7800\n",
       "34    NY               3532\n",
       "10    GA               2700\n",
       "3     AZ               2143\n",
       "27    NC               2039\n",
       "38    PA               1982\n",
       "5     CO               1970\n",
       "14    IL               1960\n",
       "31    NJ               1761\n",
       "35    OH               1736\n",
       "40    SC               1646\n",
       "22    MI               1407\n",
       "37    OR               1393"
      ]
     },
     "execution_count": 58,
     "metadata": {},
     "output_type": "execute_result"
    }
   ],
   "source": [
    "by_state=df_g.groupby('STATE_ALPHA')['id'].count().reset_index()\n",
    "by_state=by_state.sort_values('id',ascending=False)\n",
    "by_state.columns=['state','business for sale']\n",
    "by_state[:15]"
   ]
  },
  {
   "cell_type": "markdown",
   "id": "98830367",
   "metadata": {},
   "source": [
    "# Top counties"
   ]
  },
  {
   "cell_type": "code",
   "execution_count": 59,
   "id": "9384f423",
   "metadata": {},
   "outputs": [
    {
     "data": {
      "text/html": [
       "<div>\n",
       "<style scoped>\n",
       "    .dataframe tbody tr th:only-of-type {\n",
       "        vertical-align: middle;\n",
       "    }\n",
       "\n",
       "    .dataframe tbody tr th {\n",
       "        vertical-align: top;\n",
       "    }\n",
       "\n",
       "    .dataframe thead th {\n",
       "        text-align: right;\n",
       "    }\n",
       "</style>\n",
       "<table border=\"1\" class=\"dataframe\">\n",
       "  <thead>\n",
       "    <tr style=\"text-align: right;\">\n",
       "      <th></th>\n",
       "      <th>county</th>\n",
       "      <th>business for sale</th>\n",
       "    </tr>\n",
       "  </thead>\n",
       "  <tbody>\n",
       "    <tr>\n",
       "      <th>980</th>\n",
       "      <td>Los Angeles, CA</td>\n",
       "      <td>2378</td>\n",
       "    </tr>\n",
       "    <tr>\n",
       "      <th>1026</th>\n",
       "      <td>Maricopa, AZ</td>\n",
       "      <td>1482</td>\n",
       "    </tr>\n",
       "    <tr>\n",
       "      <th>687</th>\n",
       "      <td>Harris, TX</td>\n",
       "      <td>1198</td>\n",
       "    </tr>\n",
       "    <tr>\n",
       "      <th>1098</th>\n",
       "      <td>Miami-Dade, FL</td>\n",
       "      <td>1083</td>\n",
       "    </tr>\n",
       "    <tr>\n",
       "      <th>554</th>\n",
       "      <td>Fort Bend, TX</td>\n",
       "      <td>1027</td>\n",
       "    </tr>\n",
       "    <tr>\n",
       "      <th>449</th>\n",
       "      <td>Denton, TX</td>\n",
       "      <td>999</td>\n",
       "    </tr>\n",
       "    <tr>\n",
       "      <th>1228</th>\n",
       "      <td>Orange, CA</td>\n",
       "      <td>955</td>\n",
       "    </tr>\n",
       "    <tr>\n",
       "      <th>1142</th>\n",
       "      <td>Montgomery, TX</td>\n",
       "      <td>867</td>\n",
       "    </tr>\n",
       "    <tr>\n",
       "      <th>167</th>\n",
       "      <td>Broward, FL</td>\n",
       "      <td>865</td>\n",
       "    </tr>\n",
       "    <tr>\n",
       "      <th>370</th>\n",
       "      <td>Cook, IL</td>\n",
       "      <td>829</td>\n",
       "    </tr>\n",
       "    <tr>\n",
       "      <th>351</th>\n",
       "      <td>Collin, TX</td>\n",
       "      <td>824</td>\n",
       "    </tr>\n",
       "    <tr>\n",
       "      <th>1257</th>\n",
       "      <td>Palm Beach, FL</td>\n",
       "      <td>683</td>\n",
       "    </tr>\n",
       "    <tr>\n",
       "      <th>1432</th>\n",
       "      <td>San Diego, CA</td>\n",
       "      <td>650</td>\n",
       "    </tr>\n",
       "    <tr>\n",
       "      <th>309</th>\n",
       "      <td>Clark, NV</td>\n",
       "      <td>645</td>\n",
       "    </tr>\n",
       "    <tr>\n",
       "      <th>419</th>\n",
       "      <td>Dallas, TX</td>\n",
       "      <td>635</td>\n",
       "    </tr>\n",
       "    <tr>\n",
       "      <th>579</th>\n",
       "      <td>Fulton, GA</td>\n",
       "      <td>582</td>\n",
       "    </tr>\n",
       "    <tr>\n",
       "      <th>1304</th>\n",
       "      <td>Pinellas, FL</td>\n",
       "      <td>581</td>\n",
       "    </tr>\n",
       "    <tr>\n",
       "      <th>1388</th>\n",
       "      <td>Riverside, CA</td>\n",
       "      <td>575</td>\n",
       "    </tr>\n",
       "    <tr>\n",
       "      <th>339</th>\n",
       "      <td>Cobb, GA</td>\n",
       "      <td>534</td>\n",
       "    </tr>\n",
       "    <tr>\n",
       "      <th>450</th>\n",
       "      <td>Denver, CO</td>\n",
       "      <td>521</td>\n",
       "    </tr>\n",
       "  </tbody>\n",
       "</table>\n",
       "</div>"
      ],
      "text/plain": [
       "               county  business for sale\n",
       "980   Los Angeles, CA               2378\n",
       "1026     Maricopa, AZ               1482\n",
       "687        Harris, TX               1198\n",
       "1098   Miami-Dade, FL               1083\n",
       "554     Fort Bend, TX               1027\n",
       "449        Denton, TX                999\n",
       "1228       Orange, CA                955\n",
       "1142   Montgomery, TX                867\n",
       "167       Broward, FL                865\n",
       "370          Cook, IL                829\n",
       "351        Collin, TX                824\n",
       "1257   Palm Beach, FL                683\n",
       "1432    San Diego, CA                650\n",
       "309         Clark, NV                645\n",
       "419        Dallas, TX                635\n",
       "579        Fulton, GA                582\n",
       "1304     Pinellas, FL                581\n",
       "1388    Riverside, CA                575\n",
       "339          Cobb, GA                534\n",
       "450        Denver, CO                521"
      ]
     },
     "execution_count": 59,
     "metadata": {},
     "output_type": "execute_result"
    }
   ],
   "source": [
    "by_county=df_g\n",
    "by_county['county']= by_county['COUNTY_NAME'] + ', ' + by_county['STATE_ALPHA']\n",
    "by_county=by_county.groupby('county')['id'].count().reset_index()\n",
    "by_county=by_county.sort_values('id',ascending=False)\n",
    "by_county.columns=['county','business for sale']\n",
    "by_county[:20]"
   ]
  },
  {
   "cell_type": "markdown",
   "id": "8df2d0f1",
   "metadata": {},
   "source": [
    "# Scatter plot locations"
   ]
  },
  {
   "cell_type": "code",
   "execution_count": 60,
   "id": "c2fc8528",
   "metadata": {},
   "outputs": [
    {
     "data": {
      "text/plain": [
       "<Axes: xlabel='PRIMARY_LONGITUDE', ylabel='PRIMARY_LATITUDE'>"
      ]
     },
     "execution_count": 60,
     "metadata": {},
     "output_type": "execute_result"
    },
    {
     "data": {
      "image/png": "[encoded data removed]",
      "text/plain": [
       "<Figure size 640x480 with 2 Axes>"
      ]
     },
     "metadata": {},
     "output_type": "display_data"
    }
   ],
   "source": [
    "df_g.plot(x=\"PRIMARY_LONGITUDE\", y=\"PRIMARY_LATITUDE\", \n",
    "        kind=\"scatter\", c=\"STATE_NUMERIC\", colormap=\"Paired\",xlim=(-165,-65),ylim=(18,68))"
   ]
  },
  {
   "cell_type": "markdown",
   "id": "f4747279",
   "metadata": {},
   "source": [
    "# Kepler graph"
   ]
  },
  {
   "cell_type": "code",
   "execution_count": 61,
   "id": "920c4c29",
   "metadata": {},
   "outputs": [],
   "source": [
    "df_g['H3_5']=df_g['H3_15'].apply(lambda x: h3.h3_to_parent(x,5))"
   ]
  },
  {
   "cell_type": "code",
   "execution_count": 62,
   "id": "3f2ac46d",
   "metadata": {},
   "outputs": [],
   "source": [
    "data1=df_g.groupby('H3_5')['id'].count().reset_index() \n",
    "data1.columns=['hex_id','value']"
   ]
  },
  {
   "cell_type": "code",
   "execution_count": 63,
   "id": "d78e19d0",
   "metadata": {},
   "outputs": [
    {
     "name": "stdout",
     "output_type": "stream",
     "text": [
      "User Guide: https://docs.kepler.gl/docs/keplergl-jupyter\n"
     ]
    },
    {
     "data": {
      "application/vnd.jupyter.widget-view+json": {
       "model_id": "c61e76613d8e4f00ace00a0a5f38bc21",
       "version_major": 2,
       "version_minor": 0
      },
      "text/plain": [
       "KeplerGl(data={'business count':                hex_id  value\n",
       "0     850c0c63fffffff      1\n",
       "1     850c4417fffff…"
      ]
     },
     "metadata": {},
     "output_type": "display_data"
    }
   ],
   "source": [
    "w1 = keplergl.KeplerGl(height=600, data={'business count': data1})\n",
    "w1"
   ]
  },
  {
   "cell_type": "code",
   "execution_count": null,
   "id": "2980fb7d",
   "metadata": {},
   "outputs": [],
   "source": []
  }
 ],
 "metadata": {
  "kernelspec": {
   "display_name": "Python 3 (ipykernel)",
   "language": "python",
   "name": "python3"
  },
  "language_info": {
   "codemirror_mode": {
    "name": "ipython",
    "version": 3
   },
   "file_extension": ".py",
   "mimetype": "text/x-python",
   "name": "python",
   "nbconvert_exporter": "python",
   "pygments_lexer": "ipython3",
   "version": "3.7.17"
  }
 },
 "nbformat": 4,
 "nbformat_minor": 5
}
