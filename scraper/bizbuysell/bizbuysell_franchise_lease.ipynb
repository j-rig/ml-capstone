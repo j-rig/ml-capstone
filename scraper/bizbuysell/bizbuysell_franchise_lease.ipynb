{
 "cells": [
  {
   "cell_type": "markdown",
   "id": "093d7de2",
   "metadata": {},
   "source": [
    "# Make a list of franshise and lease id's to exclude"
   ]
  },
  {
   "cell_type": "code",
   "execution_count": 1,
   "id": "a51a3753",
   "metadata": {},
   "outputs": [],
   "source": [
    "import warnings\n",
    "warnings.filterwarnings('ignore')"
   ]
  },
  {
   "cell_type": "code",
   "execution_count": 2,
   "id": "774082ed",
   "metadata": {},
   "outputs": [],
   "source": [
    "import pandas as pd"
   ]
  },
  {
   "cell_type": "code",
   "execution_count": 3,
   "id": "17ba07f2",
   "metadata": {},
   "outputs": [],
   "source": [
    "df_d=pd.read_json('bizbuysell.detail.lines.json',lines=True)"
   ]
  },
  {
   "cell_type": "code",
   "execution_count": 4,
   "id": "732c2172",
   "metadata": {},
   "outputs": [],
   "source": [
    "df_l=pd.read_json('bizbuysell.list.lines.json',lines=True)"
   ]
  },
  {
   "cell_type": "code",
   "execution_count": 5,
   "id": "0ce4ca54",
   "metadata": {},
   "outputs": [],
   "source": [
    "dfa=df_d[['s_id','s_name']]\n",
    "dfa.columns=['id','title']\n",
    "\n",
    "dfb=df_d[['s_id','s_b_name']]\n",
    "dfb.columns=['id','title']\n",
    "\n",
    "dfc=df_d[['s_id','p_title']]\n",
    "dfc.columns=['id','title']\n",
    "\n",
    "dfd=df_l[['s_id','s_name']]\n",
    "dfd.columns=['id','title']\n",
    "\n",
    "dfe=df_l[['id','title']]\n",
    "dfe.columns=['id','title']"
   ]
  },
  {
   "cell_type": "code",
   "execution_count": 6,
   "id": "e083456d",
   "metadata": {},
   "outputs": [],
   "source": [
    "df=pd.concat([dfa,dfb,dfc,dfe])"
   ]
  },
  {
   "cell_type": "code",
   "execution_count": 7,
   "id": "ee84cade",
   "metadata": {},
   "outputs": [
    {
     "data": {
      "text/plain": [
       "(379305, 2)"
      ]
     },
     "execution_count": 7,
     "metadata": {},
     "output_type": "execute_result"
    }
   ],
   "source": [
    "df.shape"
   ]
  },
  {
   "cell_type": "code",
   "execution_count": 8,
   "id": "d3bb9a6c",
   "metadata": {},
   "outputs": [],
   "source": [
    "df=df.dropna()"
   ]
  },
  {
   "cell_type": "code",
   "execution_count": 9,
   "id": "07a83df1",
   "metadata": {},
   "outputs": [
    {
     "data": {
      "text/plain": [
       "(372203, 2)"
      ]
     },
     "execution_count": 9,
     "metadata": {},
     "output_type": "execute_result"
    }
   ],
   "source": [
    "df.shape"
   ]
  },
  {
   "cell_type": "code",
   "execution_count": 10,
   "id": "ec7ff637",
   "metadata": {},
   "outputs": [],
   "source": [
    "df['franchise']=df.title.str.contains(r\"[Ff]ranchise\")"
   ]
  },
  {
   "cell_type": "code",
   "execution_count": 11,
   "id": "71e15fc9",
   "metadata": {},
   "outputs": [],
   "source": [
    "df['lease']=df.title.str.contains(r\"[Ll]ease\")"
   ]
  },
  {
   "cell_type": "code",
   "execution_count": 12,
   "id": "1626bf3d",
   "metadata": {},
   "outputs": [],
   "source": [
    "df=df[df.franchise|df.lease]"
   ]
  },
  {
   "cell_type": "code",
   "execution_count": 13,
   "id": "dbc36c0a",
   "metadata": {},
   "outputs": [
    {
     "data": {
      "text/plain": [
       "(26341, 4)"
      ]
     },
     "execution_count": 13,
     "metadata": {},
     "output_type": "execute_result"
    }
   ],
   "source": [
    "df.shape"
   ]
  },
  {
   "cell_type": "code",
   "execution_count": 14,
   "id": "67992a21",
   "metadata": {},
   "outputs": [],
   "source": [
    "df=df[['id']]\n",
    "df=df.drop_duplicates()\n",
    "df['franchise_or_lease']=True"
   ]
  },
  {
   "cell_type": "code",
   "execution_count": 15,
   "id": "8ae46c4d",
   "metadata": {},
   "outputs": [
    {
     "data": {
      "text/plain": [
       "(2596, 2)"
      ]
     },
     "execution_count": 15,
     "metadata": {},
     "output_type": "execute_result"
    }
   ],
   "source": [
    "df.shape"
   ]
  },
  {
   "cell_type": "code",
   "execution_count": 16,
   "id": "c0b13aad",
   "metadata": {},
   "outputs": [],
   "source": [
    "df.to_pickle('bizbuysell_franchise_or_lease_id.pkl')"
   ]
  }
 ],
 "metadata": {
  "kernelspec": {
   "display_name": "Python 3 (ipykernel)",
   "language": "python",
   "name": "python3"
  },
  "language_info": {
   "codemirror_mode": {
    "name": "ipython",
    "version": 3
   },
   "file_extension": ".py",
   "mimetype": "text/x-python",
   "name": "python",
   "nbconvert_exporter": "python",
   "pygments_lexer": "ipython3",
   "version": "3.9.7"
  }
 },
 "nbformat": 4,
 "nbformat_minor": 5
}
