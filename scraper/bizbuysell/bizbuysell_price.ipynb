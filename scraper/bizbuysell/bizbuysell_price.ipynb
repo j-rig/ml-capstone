{
 "cells": [
  {
   "cell_type": "markdown",
   "metadata": {},
   "source": [
    "# Take a look at price data"
   ]
  },
  {
   "cell_type": "code",
   "execution_count": 11,
   "metadata": {},
   "outputs": [],
   "source": [
    "#TODO see if there is better info with regex"
   ]
  },
  {
   "cell_type": "code",
   "execution_count": 12,
   "metadata": {},
   "outputs": [],
   "source": [
    "import warnings\n",
    "warnings.filterwarnings('ignore')"
   ]
  },
  {
   "cell_type": "code",
   "execution_count": 13,
   "metadata": {},
   "outputs": [],
   "source": [
    "import pandas as pd"
   ]
  },
  {
   "cell_type": "code",
   "execution_count": 14,
   "metadata": {},
   "outputs": [],
   "source": [
    "df_d=pd.read_json('bizbuysell.detail.lines.json',lines=True)"
   ]
  },
  {
   "cell_type": "code",
   "execution_count": 15,
   "metadata": {},
   "outputs": [],
   "source": [
    "df_l=pd.read_json('bizbuysell.list.lines.json',lines=True)"
   ]
  },
  {
   "cell_type": "code",
   "execution_count": 16,
   "metadata": {},
   "outputs": [],
   "source": [
    "df=pd.concat([df_d[['s_id','s_price', 's_name']],df_l[['s_id','s_price','s_name']]])"
   ]
  },
  {
   "cell_type": "code",
   "execution_count": 17,
   "metadata": {},
   "outputs": [
    {
     "data": {
      "text/plain": [
       "(302163, 3)"
      ]
     },
     "execution_count": 17,
     "metadata": {},
     "output_type": "execute_result"
    }
   ],
   "source": [
    "df.shape"
   ]
  },
  {
   "cell_type": "code",
   "execution_count": 18,
   "metadata": {},
   "outputs": [],
   "source": [
    "df.columns=['id','price','title']"
   ]
  },
  {
   "cell_type": "code",
   "execution_count": 19,
   "metadata": {},
   "outputs": [
    {
     "data": {
      "text/plain": [
       "(302163, 3)"
      ]
     },
     "execution_count": 19,
     "metadata": {},
     "output_type": "execute_result"
    }
   ],
   "source": [
    "df.shape"
   ]
  },
  {
   "cell_type": "code",
   "execution_count": 20,
   "metadata": {},
   "outputs": [],
   "source": [
    "df=df.dropna()"
   ]
  },
  {
   "cell_type": "code",
   "execution_count": 21,
   "metadata": {},
   "outputs": [
    {
     "data": {
      "text/plain": [
       "(302016, 3)"
      ]
     },
     "execution_count": 21,
     "metadata": {},
     "output_type": "execute_result"
    }
   ],
   "source": [
    "df.shape"
   ]
  },
  {
   "cell_type": "code",
   "execution_count": 22,
   "metadata": {},
   "outputs": [],
   "source": [
    "df=df.drop_duplicates('id')"
   ]
  },
  {
   "cell_type": "code",
   "execution_count": 23,
   "metadata": {},
   "outputs": [
    {
     "data": {
      "text/plain": [
       "(39198, 3)"
      ]
     },
     "execution_count": 23,
     "metadata": {},
     "output_type": "execute_result"
    }
   ],
   "source": [
    "df.shape"
   ]
  },
  {
   "cell_type": "code",
   "execution_count": 24,
   "metadata": {},
   "outputs": [
    {
     "data": {
      "text/html": [
       "<div>\n",
       "<style scoped>\n",
       "    .dataframe tbody tr th:only-of-type {\n",
       "        vertical-align: middle;\n",
       "    }\n",
       "\n",
       "    .dataframe tbody tr th {\n",
       "        vertical-align: top;\n",
       "    }\n",
       "\n",
       "    .dataframe thead th {\n",
       "        text-align: right;\n",
       "    }\n",
       "</style>\n",
       "<table border=\"1\" class=\"dataframe\">\n",
       "  <thead>\n",
       "    <tr style=\"text-align: right;\">\n",
       "      <th></th>\n",
       "      <th>id</th>\n",
       "      <th>price</th>\n",
       "      <th>title</th>\n",
       "    </tr>\n",
       "  </thead>\n",
       "  <tbody>\n",
       "    <tr>\n",
       "      <th>0</th>\n",
       "      <td>2067319.0</td>\n",
       "      <td>2500000.0</td>\n",
       "      <td>Popular Marina in Central New Jersey in Middle...</td>\n",
       "    </tr>\n",
       "    <tr>\n",
       "      <th>1</th>\n",
       "      <td>1990890.0</td>\n",
       "      <td>225000.0</td>\n",
       "      <td>High Exposure in Mays Landing, New Jersey - Bi...</td>\n",
       "    </tr>\n",
       "    <tr>\n",
       "      <th>2</th>\n",
       "      <td>2050006.0</td>\n",
       "      <td>425000.0</td>\n",
       "      <td>Rental Units with Real Estate in Randolph, New...</td>\n",
       "    </tr>\n",
       "    <tr>\n",
       "      <th>3</th>\n",
       "      <td>2039720.0</td>\n",
       "      <td>595000.0</td>\n",
       "      <td>Duplex, Short term or Long term in Pinellas Co...</td>\n",
       "    </tr>\n",
       "    <tr>\n",
       "      <th>4</th>\n",
       "      <td>1576680.0</td>\n",
       "      <td>1050000.0</td>\n",
       "      <td>Major Price Reduction Rest/Tavern/ 13,000sq. f...</td>\n",
       "    </tr>\n",
       "  </tbody>\n",
       "</table>\n",
       "</div>"
      ],
      "text/plain": [
       "          id      price                                              title\n",
       "0  2067319.0  2500000.0  Popular Marina in Central New Jersey in Middle...\n",
       "1  1990890.0   225000.0  High Exposure in Mays Landing, New Jersey - Bi...\n",
       "2  2050006.0   425000.0  Rental Units with Real Estate in Randolph, New...\n",
       "3  2039720.0   595000.0  Duplex, Short term or Long term in Pinellas Co...\n",
       "4  1576680.0  1050000.0  Major Price Reduction Rest/Tavern/ 13,000sq. f..."
      ]
     },
     "execution_count": 24,
     "metadata": {},
     "output_type": "execute_result"
    }
   ],
   "source": [
    "df.head()"
   ]
  },
  {
   "cell_type": "code",
   "execution_count": 25,
   "metadata": {},
   "outputs": [
    {
     "data": {
      "text/plain": [
       "count    3.919800e+04\n",
       "mean     1.012346e+06\n",
       "std      7.354591e+06\n",
       "min      1.000000e+00\n",
       "25%      1.500000e+05\n",
       "50%      3.500000e+05\n",
       "75%      8.500000e+05\n",
       "max      1.250000e+09\n",
       "Name: price, dtype: float64"
      ]
     },
     "execution_count": 25,
     "metadata": {},
     "output_type": "execute_result"
    }
   ],
   "source": [
    "df['price'].describe()"
   ]
  },
  {
   "cell_type": "code",
   "execution_count": 26,
   "metadata": {},
   "outputs": [
    {
     "data": {
      "text/plain": [
       "(1012345.7462115414,\n",
       " 0    250000.0\n",
       " Name: price, dtype: float64)"
      ]
     },
     "execution_count": 26,
     "metadata": {},
     "output_type": "execute_result"
    }
   ],
   "source": [
    "df['price'].mean(), df['price'].mode()"
   ]
  },
  {
   "cell_type": "code",
   "execution_count": 27,
   "metadata": {},
   "outputs": [
    {
     "data": {
      "text/plain": [
       "<Axes: xlabel='id', ylabel='price'>"
      ]
     },
     "execution_count": 27,
     "metadata": {},
     "output_type": "execute_result"
    },
    {
     "data": {
      "image/png": "[encoded data removed]",
      "text/plain": [
       "<Figure size 640x480 with 1 Axes>"
      ]
     },
     "metadata": {},
     "output_type": "display_data"
    }
   ],
   "source": [
    "df.plot.scatter('id','price')"
   ]
  },
  {
   "cell_type": "code",
   "execution_count": 28,
   "metadata": {},
   "outputs": [
    {
     "data": {
      "text/plain": [
       "['Orange Lake Rv Resort Development Lakefront High-Quality Development in Reddick, Florida - BizBuySell',\n",
       " 'Janitorial Cleaning Supply Packaging Solutions Provider and Manufactur in Philadelphia County, Pennsylvania - BizBuySell',\n",
       " 'Well Established Small Engine Repair Business for Sale in Stephenville, Texas - BizBuySell',\n",
       " 'Crazy Busy! line all day for this Fast Food Franchise #10793 in Mesa, Arizona - BizBuySell',\n",
       " '2 Brand New Marriott Brand Hotels, Queens, NY in Flushing, New York - BizBuySell',\n",
       " '$25M EBITDA (Annualized) Warehouse Trans. 3PL / Strategic Buyer Only in Pennsylvania - BizBuySell',\n",
       " '20-Year Old Leading Manufacturing Business of Aluminum Profile in 34380 - BizBuySell',\n",
       " 'Disruptive Fintech Fast Growing SaaS Company in Texas - BizBuySell',\n",
       " 'Bank for Sale in Arizona, United States of America in Phoenix, New York - BizBuySell',\n",
       " 'Large Multi-Unit Auto Maintenance Franchise with Real Estate in Georgia - BizBuySell',\n",
       " 'SOCAL RETAIL OPPORTUNITY: 3 OPERATIONAL STOREFRONTS & 2 PRE-OPERATIONA in Santa Ana, California - BizBuySell',\n",
       " 'Web & Mobile App Catering to Private Sellers of Luxury Items in Kennett Square, Pennsylvania - BizBuySell',\n",
       " 'Wireless Infrastructure Owner/Operator- Specialized Communication in New York - BizBuySell',\n",
       " 'Bank for Sale in New Mexico, United States of America in Santa Fe, New Mexico - BizBuySell',\n",
       " 'It is a Steel. Must sell. Make your offer in Dickinson, North Dakota - BizBuySell']"
      ]
     },
     "execution_count": 28,
     "metadata": {},
     "output_type": "execute_result"
    }
   ],
   "source": [
    "list(df[df.price > 0.05e9].title)"
   ]
  },
  {
   "cell_type": "code",
   "execution_count": 29,
   "metadata": {},
   "outputs": [
    {
     "data": {
      "text/plain": [
       "['Successful Gym for sale in Sugar Land, Texas - BizBuySell',\n",
       " 'Retail, Delivery, Manufacturing & Distro (North Hollywood, CA) #835 in North Hollywood, California - BizBuySell',\n",
       " 'LES Fully Built Restaurant on Busy Block! No Key Money! in New York, New York - BizBuySell',\n",
       " 'Oil and Gas MWD Sales, Leasing, Rentals and Repair Services in Conroe, Texas - BizBuySell',\n",
       " 'Established Retail Pharmacy Asking (195k) in Stafford, Texas - BizBuySell',\n",
       " 'Built Out Restaurant W/ Liquor License in Owings Mills, Maryland - BizBuySell',\n",
       " 'Two Gas Stations in Northwood, Ohio! in Northwood, Ohio - BizBuySell',\n",
       " 'BEAUTIFUL Gas Station near Greenville, MS! Asking Zero Goodwill! in Leland, Mississippi - BizBuySell',\n",
       " 'Fastest growing, established and profitable franchise for sale in Cerritos, California - BizBuySell',\n",
       " 'Quickly Expanding Mental Health Practice - Two Locations in Denver, Colorado - BizBuySell',\n",
       " 'Three Shutdown Gas Stations in KS For Lease! Newly Rebranded!! in Seneca, Kansas - BizBuySell',\n",
       " 'Facility Maintenance Provider Business for Sale in Pierce County, Washington - BizBuySell',\n",
       " 'Launching Your Kayak Easier Than Ever With These Patented Solutions in North Carolina - BizBuySell',\n",
       " 'Oil & Gas OEM Downhole Drilling Motor Technology and Parts Mfg. in Conroe, Texas - BizBuySell',\n",
       " 'RETIRING after 30+ years! Fantastic Sams Hair Salon in Aiea, Hawaii - BizBuySell',\n",
       " 'Busy Village Location * Vented Restaurant * Excellent Exposure! in New York, New York - BizBuySell',\n",
       " 'Robbins, NC - Zero Goodwill - Tobacco Store & Gas Station in Robbins, North Carolina - BizBuySell',\n",
       " 'Michigan Winery in Thriving Tourist Region in Michigan - BizBuySell',\n",
       " 'Misty Meadow Sheep Dairy For Sale in Petersburg, New Jersey - BizBuySell',\n",
       " 'Zero Goodwill! Gas Station Business-only near Toledo, OH! in Northwood, Ohio - BizBuySell',\n",
       " 'Roofing/Siding/Gutter Contractor in Des Moines, Iowa - BizBuySell',\n",
       " 'Zero Goodwill! 2 Gas Stations Business-only in North Carolina! in Thomasville, North Carolina - BizBuySell',\n",
       " 'Successful sushi restaurant with good sales on busy road in Taylor, Michigan - BizBuySell',\n",
       " 'Retail, Delivery, Distro, On-Site Consumption (Palm Springs) #841 in Palm Springs, California - BizBuySell',\n",
       " 'Testing Lab By Bankruptcy Court (Riverside County, California) #842 in Riverside, California - BizBuySell',\n",
       " '6 Gas Stations Business-only in the Oklahoma City Area! in Oklahoma City, Oklahoma - BizBuySell',\n",
       " 'BRAND Dispensary & Delivery Business (San Diego, California) #852 in San Diego, California - BizBuySell',\n",
       " 'Zero Goodwill! Inside Sales $75k! Running Store in Oklahoma City, OK! in Oklahoma City, Oklahoma - BizBuySell',\n",
       " 'Turn Key Car Wash For Sale in Sullivan County, New Hampshire - BizBuySell',\n",
       " 'Zero Goodwill!! 2 Gas Stations Business-only in Homer and Delhi, LA! in Homer, Louisiana - BizBuySell',\n",
       " 'Running Gas Station Business-only for Zero Goodwill in Haileyville, OK in Haileyville, Oklahoma - BizBuySell',\n",
       " 'Multiple dispensaries for sale in Flint, Michigan - BizBuySell',\n",
       " 'Iconic Country Western Bar Business for Sale in Webster, Texas - BizBuySell',\n",
       " 'Beauty Supply Store - Richmond, TX _ Make an Offer! in Richmond, Texas - BizBuySell',\n",
       " 'Aurora Adult Day Care LLC in Aurora, Colorado - BizBuySell',\n",
       " 'Profitable Starter Bar in Westpark. 135K in Cleveland, Ohio - BizBuySell',\n",
       " 'Shutdown Gas Station Business-only in Harrah, OK for Zero Goodwill! in Harrah, Oklahoma - BizBuySell',\n",
       " 'Profitable established w/ customer base in Norfolk County, Massachusetts - BizBuySell',\n",
       " 'Profitable, carryout store, and smoke shop, in a very busy street in Dayton, Ohio - BizBuySell',\n",
       " 'Pizzeria/Restaurant in Millburn, New Jersey - BizBuySell',\n",
       " 'Stocking Distributor/Manufacturers Rep. of Instrumentation/Components in Massachusetts - BizBuySell',\n",
       " 'Great location in Rancho Cucamonga, California - BizBuySell',\n",
       " 'Beautiful Dry Cleaning Plant For Sale In San Diego County in Poway, California - BizBuySell',\n",
       " 'Perfect Boutique Dog Daycare & Dog Salon Facility with Endless Support in Walnut Creek, California - BizBuySell',\n",
       " 'Eden Empire Retail Brand Licensing Opportunity in Santa Ana, California - BizBuySell',\n",
       " 'Established Home Health Agency , LA County in Van Nuys, California - BizBuySell',\n",
       " 'Shutdown Gas Station Business-only in Mustang, OK! in Mustang, Oklahoma - BizBuySell',\n",
       " 'Running Gas Station Business-only for Zero Goodwill in Enid, Oklahoma! in Enid, Oklahoma - BizBuySell',\n",
       " 'Contemporary Uptown Phoenix Urban Eatery in Phoenix, Arizona - BizBuySell',\n",
       " '2nd Generation Resteraunt in Plantation in Plantation, Florida - BizBuySell',\n",
       " 'Business Opportunity - Houston-based Durable Medical Equipment Company in Houston, Texas - BizBuySell',\n",
       " 'Health and Wellness Distributorship in Mount Pleasant, South Carolina - BizBuySell',\n",
       " 'Recently Shutdown Gas Station in Oklahoma City, OK! in Edmond, Oklahoma - BizBuySell',\n",
       " 'Zero Goodwill! 5 Gas Stations Business-only in Missouri! in Perryville, Missouri - BizBuySell',\n",
       " 'Pizza Shop Great Prtential ASSET SALE in Norton, Massachusetts - BizBuySell',\n",
       " 'Pizza Restaurant for Lease in Village, California - BizBuySell',\n",
       " 'The Glen Town Center - Restaurant & Retail Spaces Available! in Glenview, Illinois - BizBuySell',\n",
       " 'The Shops at Fremont in Fremont, Indiana - BizBuySell',\n",
       " 'Offices for rent on Lincoln Road in Miami Beach, Florida - BizBuySell',\n",
       " 'Over 6,900 sq. ft. of office/retail space in Spokane in Spokane, Washington - BizBuySell',\n",
       " 'Executive Office Space for Lease in Colorado Springs, Colorado - BizBuySell',\n",
       " 'Retail - S.Scottsdale - $12-16 PSF, NNN. in Scottsdale, Arizona - BizBuySell',\n",
       " 'NEW Passive Business with Cap Rate Royalty Income over 12% - BizBuySell',\n",
       " 'Hard to Believe-An Opportunity-No Capital needed-Just Negotiate Lease - BizBuySell',\n",
       " 'Start Your Online Ecommerce Business and Website From Home - BizBuySell',\n",
       " 'Turnkey smart holiday lighting business - BizBuySell',\n",
       " 'Trash and Junk Start-up - BizBuySell',\n",
       " 'Ecommerce online Business & website for sale - BizBuySell',\n",
       " 'Own Your Own Mattress Dealership - No Start up Fee or Royalties - BizBuySell',\n",
       " 'Coffeehouse Kitchen Start-up for Entrepreneurial Chef - BizBuySell',\n",
       " 'Absolute Auction | Redevelopment Opportunity',\n",
       " 'SiteSwan',\n",
       " 'Ideal Directories',\n",
       " 'Restaurant Space, Lake , Chelan at THE LANDING',\n",
       " 'Absolute Auction | Redevelopment in Great Mkt',\n",
       " 'Absolute Auction | Auto Repair Shop',\n",
       " 'Absolute Auction: Value-Add Medical Facility',\n",
       " 'Absolute Auction | Desirable Corner Lot',\n",
       " 'Zero Goodwill!! 3 Gas Station Bundle Business-only in Louisiana!',\n",
       " 'Single Standing building is up for lease',\n",
       " 'Cottage Grove Cannabis Dispensary + Lease',\n",
       " '2nd Generation Prime Restaurant Space For Lease in Downtown Los Gatos']"
      ]
     },
     "execution_count": 29,
     "metadata": {},
     "output_type": "execute_result"
    }
   ],
   "source": [
    "list(df[df.price < 1000].title)"
   ]
  },
  {
   "cell_type": "markdown",
   "metadata": {},
   "source": [
    "# IQR"
   ]
  },
  {
   "cell_type": "code",
   "execution_count": 30,
   "metadata": {},
   "outputs": [],
   "source": [
    "Q1 = df.price.quantile(0.25)\n",
    "Q3 = df.price.quantile(0.75)\n",
    "IQR = Q3 - Q1\n",
    "\n",
    "filtered = df.query('(@Q1 - 1.5 * @IQR) <= price <= (@Q3 + 1.5 * @IQR)')"
   ]
  },
  {
   "cell_type": "code",
   "execution_count": 31,
   "metadata": {},
   "outputs": [
    {
     "data": {
      "text/plain": [
       "<Axes: xlabel='id', ylabel='price'>"
      ]
     },
     "execution_count": 31,
     "metadata": {},
     "output_type": "execute_result"
    },
    {
     "data": {
      "image/png": "[encoded data removed]",
      "text/plain": [
       "<Figure size 640x480 with 1 Axes>"
      ]
     },
     "metadata": {},
     "output_type": "display_data"
    }
   ],
   "source": [
    "filtered.plot.scatter('id','price')"
   ]
  },
  {
   "cell_type": "code",
   "execution_count": 32,
   "metadata": {},
   "outputs": [
    {
     "data": {
      "text/plain": [
       "<Axes: >"
      ]
     },
     "execution_count": 32,
     "metadata": {},
     "output_type": "execute_result"
    },
    {
     "data": {
      "image/png": "[encoded data removed]",
      "text/plain": [
       "<Figure size 640x480 with 1 Axes>"
      ]
     },
     "metadata": {},
     "output_type": "display_data"
    }
   ],
   "source": [
    "filtered['price'].hist(bins=20)"
   ]
  },
  {
   "cell_type": "code",
   "execution_count": 42,
   "metadata": {},
   "outputs": [],
   "source": [
    "def get_price_chunks(t):\n",
    "    t=str(t)\n",
    "    l=len(t)\n",
    "    idx=[]\n",
    "    r=t.find('$')\n",
    "    while r != -1:\n",
    "        idx.append(r+1)\n",
    "        r=t.find('$',idx[-1])\n",
    "    chunks=[]\n",
    "    for i in idx:\n",
    "        s=i-20\n",
    "        if s<0:\n",
    "            s=0\n",
    "        e=i+20\n",
    "        if e<1:\n",
    "            e=l\n",
    "        chunks.append(t[s:e])\n",
    "    if len(chunks):\n",
    "        return chunks\n",
    "    return pd.NA"
   ]
  },
  {
   "cell_type": "code",
   "execution_count": 43,
   "metadata": {},
   "outputs": [
    {
     "data": {
      "text/plain": [
       "s_breadcrumbs                [Real Estate For Sale, New Jersey, Marinas and...\n",
       "s_b_desc                     It is fully owned by a man and his wife since ...\n",
       "s_b_name                     Popular Marina in Central New Jersey in Middle...\n",
       "s_b_url                      https://www.bizbuysell.com/Business-Real-Estat...\n",
       "s_b_image                    /shared/listings/defaultphotos/standard/sharin...\n",
       "s_b_local                                                            Middlesex\n",
       "s_b_region                                                          New Jersey\n",
       "s_category                                                 Marinas and Fishing\n",
       "s_desc                       It is fully owned by a man and his wife since ...\n",
       "s_similar                                          [1864705, 2071534, 2057087]\n",
       "s_name                       Popular Marina in Central New Jersey in Middle...\n",
       "s_id                                                                 2067319.0\n",
       "s_url                        https://www.bizbuysell.com/Business-Real-Estat...\n",
       "s_price                                                              2500000.0\n",
       "s_local                                                              Middlesex\n",
       "s_region                                                            New Jersey\n",
       "p_title                                   Popular Marina in Central New Jersey\n",
       "p_location                                                Middlesex County, NJ\n",
       "p_financials_text            Asking Price:\\n$2,500,000\\n                   ...\n",
       "p_financials                 {'Asking Price': '$2,500,000', 'Gross Revenue'...\n",
       "p_desc                       It is fully owned by a man and his wife since ...\n",
       "p_details_text               Location:\\nMiddlesex County, NJ\\nType:\\nOther ...\n",
       "p_details                    [Location:, Middlesex County, NJ, Type:, Other...\n",
       "auction                                                                    NaN\n",
       "p_auction_title                                                            NaN\n",
       "p_auction_location_text                                                    NaN\n",
       "p_auction_details_text                                                     NaN\n",
       "p_auction_highlights_text                                                  NaN\n",
       "p_auction_summary_text                                                     NaN\n",
       "p_auction_facts_text                                                       NaN\n",
       "p_auction_facts                                                            NaN\n",
       "p_auction_address_text                                                     NaN\n",
       "Name: 0, dtype: object"
      ]
     },
     "execution_count": 43,
     "metadata": {},
     "output_type": "execute_result"
    }
   ],
   "source": [
    "df_d.loc[0]"
   ]
  },
  {
   "cell_type": "code",
   "execution_count": 44,
   "metadata": {},
   "outputs": [],
   "source": [
    "df_p=df_d[['s_id','s_name']]"
   ]
  },
  {
   "cell_type": "code",
   "execution_count": 45,
   "metadata": {},
   "outputs": [],
   "source": [
    "df_p['pc']=df_p['s_name'].apply(get_price_chunks)"
   ]
  },
  {
   "cell_type": "code",
   "execution_count": 54,
   "metadata": {},
   "outputs": [],
   "source": [
    "df_p=df_p.dropna()\n",
    "df_p=df_p.explode('pc')"
   ]
  },
  {
   "cell_type": "code",
   "execution_count": 55,
   "metadata": {},
   "outputs": [
    {
     "data": {
      "text/html": [
       "<div>\n",
       "<style scoped>\n",
       "    .dataframe tbody tr th:only-of-type {\n",
       "        vertical-align: middle;\n",
       "    }\n",
       "\n",
       "    .dataframe tbody tr th {\n",
       "        vertical-align: top;\n",
       "    }\n",
       "\n",
       "    .dataframe thead th {\n",
       "        text-align: right;\n",
       "    }\n",
       "</style>\n",
       "<table border=\"1\" class=\"dataframe\">\n",
       "  <thead>\n",
       "    <tr style=\"text-align: right;\">\n",
       "      <th></th>\n",
       "      <th>s_id</th>\n",
       "      <th>s_name</th>\n",
       "      <th>pc</th>\n",
       "    </tr>\n",
       "  </thead>\n",
       "  <tbody>\n",
       "    <tr>\n",
       "      <th>42</th>\n",
       "      <td>1970388.0</td>\n",
       "      <td>13,500 SF Banquet Hall, Lodge, Other for sale ...</td>\n",
       "      <td>, Other for sale - $495K in Middletown,</td>\n",
       "    </tr>\n",
       "    <tr>\n",
       "      <th>47</th>\n",
       "      <td>2062254.0</td>\n",
       "      <td>$109,900-Former Childcare Facility/Community C...</td>\n",
       "      <td>$109,900-Former Child</td>\n",
       "    </tr>\n",
       "    <tr>\n",
       "      <th>48</th>\n",
       "      <td>1998399.0</td>\n",
       "      <td>High-Volume Family Restaurant w/Gaming (Proper...</td>\n",
       "      <td>ty Included)-Sales $2.3M in North Rivers</td>\n",
       "    </tr>\n",
       "    <tr>\n",
       "      <th>64</th>\n",
       "      <td>2052558.0</td>\n",
       "      <td>Japanese Restaurant for Sale! | $429,000 in Fr...</td>\n",
       "      <td>aurant for Sale! | $429,000 in Fremont,</td>\n",
       "    </tr>\n",
       "    <tr>\n",
       "      <th>156</th>\n",
       "      <td>2058389.0</td>\n",
       "      <td>2021 Sale $1.66 Mil / 2022 Sales $1.7 Mil / Se...</td>\n",
       "      <td>2021 Sale $1.66 Mil / 2022 Sale</td>\n",
       "    </tr>\n",
       "    <tr>\n",
       "      <th>...</th>\n",
       "      <td>...</td>\n",
       "      <td>...</td>\n",
       "      <td>...</td>\n",
       "    </tr>\n",
       "    <tr>\n",
       "      <th>38546</th>\n",
       "      <td>2074229.0</td>\n",
       "      <td>National Gym Franchise Territory - $10K discou...</td>\n",
       "      <td>nchise Territory - $10K discount! - BizB</td>\n",
       "    </tr>\n",
       "    <tr>\n",
       "      <th>38550</th>\n",
       "      <td>2081026.0</td>\n",
       "      <td>Express Employment Professionals Wadsworth Ohi...</td>\n",
       "      <td>als Wadsworth Ohio $85,000 - BizBuySell</td>\n",
       "    </tr>\n",
       "    <tr>\n",
       "      <th>38551</th>\n",
       "      <td>2080519.0</td>\n",
       "      <td>$300,000 CLIA Certified Lab For Sale (Novitas ...</td>\n",
       "      <td>$300,000 CLIA Certifi</td>\n",
       "    </tr>\n",
       "    <tr>\n",
       "      <th>38560</th>\n",
       "      <td>1964807.0</td>\n",
       "      <td>Fence Installation. Semi-absentee owner. $2.8M...</td>\n",
       "      <td>mi-absentee owner. $2.8MM Average Gross</td>\n",
       "    </tr>\n",
       "    <tr>\n",
       "      <th>38568</th>\n",
       "      <td>1929033.0</td>\n",
       "      <td>$300k estimated Average Net Profit. Decorative...</td>\n",
       "      <td>$300k estimated Avera</td>\n",
       "    </tr>\n",
       "  </tbody>\n",
       "</table>\n",
       "<p>2329 rows × 3 columns</p>\n",
       "</div>"
      ],
      "text/plain": [
       "            s_id                                             s_name   \n",
       "42     1970388.0  13,500 SF Banquet Hall, Lodge, Other for sale ...  \\\n",
       "47     2062254.0  $109,900-Former Childcare Facility/Community C...   \n",
       "48     1998399.0  High-Volume Family Restaurant w/Gaming (Proper...   \n",
       "64     2052558.0  Japanese Restaurant for Sale! | $429,000 in Fr...   \n",
       "156    2058389.0  2021 Sale $1.66 Mil / 2022 Sales $1.7 Mil / Se...   \n",
       "...          ...                                                ...   \n",
       "38546  2074229.0  National Gym Franchise Territory - $10K discou...   \n",
       "38550  2081026.0  Express Employment Professionals Wadsworth Ohi...   \n",
       "38551  2080519.0  $300,000 CLIA Certified Lab For Sale (Novitas ...   \n",
       "38560  1964807.0  Fence Installation. Semi-absentee owner. $2.8M...   \n",
       "38568  1929033.0  $300k estimated Average Net Profit. Decorative...   \n",
       "\n",
       "                                             pc  \n",
       "42     , Other for sale - $495K in Middletown,   \n",
       "47                        $109,900-Former Child  \n",
       "48     ty Included)-Sales $2.3M in North Rivers  \n",
       "64     aurant for Sale! | $429,000 in Fremont,   \n",
       "156             2021 Sale $1.66 Mil / 2022 Sale  \n",
       "...                                         ...  \n",
       "38546  nchise Territory - $10K discount! - BizB  \n",
       "38550   als Wadsworth Ohio $85,000 - BizBuySell  \n",
       "38551                     $300,000 CLIA Certifi  \n",
       "38560  mi-absentee owner. $2.8MM Average Gross   \n",
       "38568                     $300k estimated Avera  \n",
       "\n",
       "[2329 rows x 3 columns]"
      ]
     },
     "execution_count": 55,
     "metadata": {},
     "output_type": "execute_result"
    }
   ],
   "source": [
    "df_p"
   ]
  },
  {
   "cell_type": "code",
   "execution_count": 56,
   "metadata": {},
   "outputs": [],
   "source": [
    "#df_p.to_csv('test.csv')"
   ]
  },
  {
   "cell_type": "code",
   "execution_count": 62,
   "metadata": {},
   "outputs": [],
   "source": [
    "def proc_text_lines(t):\n",
    "    t=str(t)\n",
    "    ts=t.split('\\n')\n",
    "    tsl=[]\n",
    "    for t in ts:\n",
    "        t=t.lower().strip()\n",
    "        if len(t):\n",
    "            tsl.append(t)\n",
    "    if len(tsl):\n",
    "        return tsl\n",
    "    return pd.NA"
   ]
  },
  {
   "cell_type": "code",
   "execution_count": 63,
   "metadata": {},
   "outputs": [],
   "source": [
    "df_p=df_d[['s_id','p_financials_text','p_details_text']]"
   ]
  },
  {
   "cell_type": "code",
   "execution_count": 64,
   "metadata": {},
   "outputs": [],
   "source": [
    "df_p['f']=df_p['p_financials_text'].apply(proc_text_lines)"
   ]
  },
  {
   "cell_type": "code",
   "execution_count": 65,
   "metadata": {},
   "outputs": [],
   "source": [
    "df_p['d']=df_p['p_details_text'].apply(proc_text_lines)"
   ]
  },
  {
   "cell_type": "code",
   "execution_count": 66,
   "metadata": {},
   "outputs": [],
   "source": [
    "df_pf=df_p.dropna(subset=['s_id', 'f'])"
   ]
  },
  {
   "cell_type": "code",
   "execution_count": 69,
   "metadata": {},
   "outputs": [
    {
     "data": {
      "text/plain": [
       "['asking price:',\n",
       " '$2,500,000',\n",
       " 'gross revenue:',\n",
       " '$100,299',\n",
       " 'price/sq. ft.:',\n",
       " 'n/a',\n",
       " 'noi:',\n",
       " 'n/a',\n",
       " 'building sf:',\n",
       " 'n/a',\n",
       " 'ff&e:',\n",
       " 'n/a',\n",
       " 'year built:',\n",
       " '1965']"
      ]
     },
     "execution_count": 69,
     "metadata": {},
     "output_type": "execute_result"
    }
   ],
   "source": [
    "df_pf.loc[0].f"
   ]
  },
  {
   "cell_type": "code",
   "execution_count": 70,
   "metadata": {},
   "outputs": [],
   "source": [
    "df_pd=df_p.dropna(subset=['s_id', 'd'])"
   ]
  },
  {
   "cell_type": "code",
   "execution_count": 71,
   "metadata": {},
   "outputs": [
    {
     "data": {
      "text/plain": [
       "['location:',\n",
       " 'middlesex county, nj',\n",
       " 'type:',\n",
       " 'other business real estate',\n",
       " 'building status:',\n",
       " 'established',\n",
       " 'facilities:',\n",
       " 'inventory included: $420,000']"
      ]
     },
     "execution_count": 71,
     "metadata": {},
     "output_type": "execute_result"
    }
   ],
   "source": [
    "df_pf.loc[0].d"
   ]
  },
  {
   "cell_type": "code",
   "execution_count": null,
   "metadata": {},
   "outputs": [],
   "source": []
  }
 ],
 "metadata": {
  "kernelspec": {
   "display_name": "Python 3",
   "language": "python",
   "name": "python3"
  },
  "language_info": {
   "codemirror_mode": {
    "name": "ipython",
    "version": 3
   },
   "file_extension": ".py",
   "mimetype": "text/x-python",
   "name": "python",
   "nbconvert_exporter": "python",
   "pygments_lexer": "ipython3",
   "version": "3.7.17"
  }
 },
 "nbformat": 4,
 "nbformat_minor": 5
}
