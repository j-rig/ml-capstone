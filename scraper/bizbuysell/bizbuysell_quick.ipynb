{
 "cells": [
  {
   "cell_type": "markdown",
   "id": "57ffd261",
   "metadata": {},
   "source": [
    "# Build a quick info set"
   ]
  },
  {
   "cell_type": "code",
   "execution_count": 65,
   "id": "056683a3",
   "metadata": {},
   "outputs": [],
   "source": [
    "import warnings\n",
    "warnings.filterwarnings('ignore')"
   ]
  },
  {
   "cell_type": "code",
   "execution_count": 66,
   "id": "9b0baf34",
   "metadata": {},
   "outputs": [],
   "source": [
    "import string\n",
    "import pandas as pd"
   ]
  },
  {
   "cell_type": "code",
   "execution_count": 67,
   "id": "73c7bb9f",
   "metadata": {},
   "outputs": [],
   "source": [
    "df_d=pd.read_json('bizbuysell.detail.lines.json',lines=True)"
   ]
  },
  {
   "cell_type": "code",
   "execution_count": 68,
   "id": "3dd19c25",
   "metadata": {},
   "outputs": [],
   "source": [
    "df_l=pd.read_json('bizbuysell.list.lines.json',lines=True)"
   ]
  },
  {
   "cell_type": "code",
   "execution_count": 69,
   "id": "f6afea76",
   "metadata": {},
   "outputs": [],
   "source": [
    "col=['id','url','title_','desc_']\n",
    "\n",
    "dfa=df_d[['s_id','s_url','s_name','s_desc']]\n",
    "dfa.columns=col\n",
    "\n",
    "dfb=df_d[['s_id','s_b_url','s_b_name','s_b_desc']]\n",
    "dfb.columns=col\n",
    "\n",
    "dfc=df_d[['s_id','s_url','p_title','p_desc']]\n",
    "dfc.columns=col\n",
    "\n",
    "dfd=df_l[['s_id','s_id','s_name','s_desc']]\n",
    "dfd.columns=col\n",
    "\n",
    "dfe=df_l[['id','href','title','desc']]\n",
    "dfe.columns=col"
   ]
  },
  {
   "cell_type": "code",
   "execution_count": 70,
   "id": "49e3a768",
   "metadata": {},
   "outputs": [],
   "source": [
    "df=pd.concat([dfa,dfb,dfc,dfe])"
   ]
  },
  {
   "cell_type": "code",
   "execution_count": 71,
   "id": "251d1531",
   "metadata": {},
   "outputs": [],
   "source": [
    "df=df.dropna()\n",
    "df=df.drop_duplicates(subset='id',keep='first')"
   ]
  },
  {
   "cell_type": "code",
   "execution_count": 72,
   "id": "bbe77707",
   "metadata": {},
   "outputs": [],
   "source": [
    "df=df.astype({\"id\": 'int64'})"
   ]
  },
  {
   "cell_type": "code",
   "execution_count": 73,
   "id": "09f5ac26",
   "metadata": {},
   "outputs": [],
   "source": [
    "df['franchise']=df.title_.str.contains(r\"[Ff]ranchise\")"
   ]
  },
  {
   "cell_type": "code",
   "execution_count": 74,
   "id": "75cd06ae",
   "metadata": {},
   "outputs": [],
   "source": [
    "df['lease']=df.title_.str.contains(r\"[Ll]ease\")"
   ]
  },
  {
   "cell_type": "code",
   "execution_count": 75,
   "id": "a3c68d05",
   "metadata": {},
   "outputs": [],
   "source": [
    "def cleanup_text(t):\n",
    "    result=[]\n",
    "    for c in str(t).lower():\n",
    "        if c in string.printable:\n",
    "            result.append(c)\n",
    "    \n",
    "    return ''.join(result)"
   ]
  },
  {
   "cell_type": "code",
   "execution_count": 76,
   "id": "3fa77ab1",
   "metadata": {},
   "outputs": [],
   "source": [
    "df['title']=df['title_'].apply(cleanup_text)"
   ]
  },
  {
   "cell_type": "code",
   "execution_count": 77,
   "id": "4e04f1f3",
   "metadata": {},
   "outputs": [],
   "source": [
    "df['desc']=df['desc_'].apply(cleanup_text)"
   ]
  },
  {
   "cell_type": "code",
   "execution_count": 78,
   "id": "9daf0f74",
   "metadata": {},
   "outputs": [],
   "source": [
    "df=df[['id','url','title','desc','franchise','lease']]"
   ]
  },
  {
   "cell_type": "code",
   "execution_count": 79,
   "id": "a616d426",
   "metadata": {},
   "outputs": [
    {
     "data": {
      "text/plain": [
       "(39066, 6)"
      ]
     },
     "execution_count": 79,
     "metadata": {},
     "output_type": "execute_result"
    }
   ],
   "source": [
    "df.shape"
   ]
  },
  {
   "cell_type": "code",
   "execution_count": 80,
   "id": "09aa330c",
   "metadata": {},
   "outputs": [
    {
     "data": {
      "text/plain": [
       "id                                                     2067319\n",
       "url          https://www.bizbuysell.com/Business-Real-Estat...\n",
       "title        popular marina in central new jersey in middle...\n",
       "desc         it is fully owned by a man and his wifesince 1...\n",
       "franchise                                                False\n",
       "lease                                                    False\n",
       "Name: 0, dtype: object"
      ]
     },
     "execution_count": 80,
     "metadata": {},
     "output_type": "execute_result"
    }
   ],
   "source": [
    "df.loc[0]"
   ]
  },
  {
   "cell_type": "code",
   "execution_count": 81,
   "id": "c977fac3",
   "metadata": {},
   "outputs": [],
   "source": [
    "df.to_csv('bizbuysell_quick.csv')"
   ]
  },
  {
   "cell_type": "code",
   "execution_count": 82,
   "id": "0cc0405f",
   "metadata": {},
   "outputs": [],
   "source": [
    "df.to_pickle('bizbuysell_quick.pkl')"
   ]
  }
 ],
 "metadata": {
  "kernelspec": {
   "display_name": "Python 3 (ipykernel)",
   "language": "python",
   "name": "python3"
  },
  "language_info": {
   "codemirror_mode": {
    "name": "ipython",
    "version": 3
   },
   "file_extension": ".py",
   "mimetype": "text/x-python",
   "name": "python",
   "nbconvert_exporter": "python",
   "pygments_lexer": "ipython3",
   "version": "3.9.7"
  }
 },
 "nbformat": 4,
 "nbformat_minor": 5
}
