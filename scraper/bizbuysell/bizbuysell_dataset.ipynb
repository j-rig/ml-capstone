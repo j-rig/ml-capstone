{
 "cells": [
  {
   "cell_type": "code",
   "execution_count": 33,
   "id": "19309161",
   "metadata": {},
   "outputs": [],
   "source": [
    "import pandas as pd"
   ]
  },
  {
   "cell_type": "code",
   "execution_count": 34,
   "id": "1bbb5a4d",
   "metadata": {},
   "outputs": [],
   "source": [
    "df=pd.read_json('bizbuysell.list.lines.json',lines=True)"
   ]
  },
  {
   "cell_type": "code",
   "execution_count": 35,
   "id": "ec647428",
   "metadata": {},
   "outputs": [
    {
     "data": {
      "text/plain": [
       "(263592, 15)"
      ]
     },
     "execution_count": 35,
     "metadata": {},
     "output_type": "execute_result"
    }
   ],
   "source": [
    "df.shape"
   ]
  },
  {
   "cell_type": "code",
   "execution_count": 36,
   "id": "f149fcc6",
   "metadata": {},
   "outputs": [
    {
     "data": {
      "text/html": [
       "<div>\n",
       "<style scoped>\n",
       "    .dataframe tbody tr th:only-of-type {\n",
       "        vertical-align: middle;\n",
       "    }\n",
       "\n",
       "    .dataframe tbody tr th {\n",
       "        vertical-align: top;\n",
       "    }\n",
       "\n",
       "    .dataframe thead th {\n",
       "        text-align: right;\n",
       "    }\n",
       "</style>\n",
       "<table border=\"1\" class=\"dataframe\">\n",
       "  <thead>\n",
       "    <tr style=\"text-align: right;\">\n",
       "      <th></th>\n",
       "      <th>s_breadcrumbs</th>\n",
       "      <th>s_id</th>\n",
       "      <th>s_name</th>\n",
       "      <th>s_desc</th>\n",
       "      <th>s_url</th>\n",
       "      <th>s_price</th>\n",
       "      <th>s_local</th>\n",
       "      <th>s_region</th>\n",
       "      <th>id</th>\n",
       "      <th>href</th>\n",
       "      <th>title</th>\n",
       "      <th>loc</th>\n",
       "      <th>desc</th>\n",
       "      <th>asking_price</th>\n",
       "      <th>cash_flow</th>\n",
       "    </tr>\n",
       "  </thead>\n",
       "  <tbody>\n",
       "    <tr>\n",
       "      <th>0</th>\n",
       "      <td>[Businesses For Sale, Travel Businesses For Sa...</td>\n",
       "      <td>1972353</td>\n",
       "      <td>Turnkey Jewelry Store in the Caribbean</td>\n",
       "      <td>Almost 33 years ago, the founders of The Natur...</td>\n",
       "      <td>/Business-Opportunity/turnkey-jewelry-store-in...</td>\n",
       "      <td>2000000</td>\n",
       "      <td>None</td>\n",
       "      <td>Christiansted</td>\n",
       "      <td>1972353.0</td>\n",
       "      <td>/Business-Opportunity/turnkey-jewelry-store-in...</td>\n",
       "      <td>Turnkey Jewelry Store in the Caribbean</td>\n",
       "      <td>Christiansted</td>\n",
       "      <td>Almost 33 years ago, the founders of The Natur...</td>\n",
       "      <td>$2,000,000</td>\n",
       "      <td>NaN</td>\n",
       "    </tr>\n",
       "    <tr>\n",
       "      <th>1</th>\n",
       "      <td>[Businesses For Sale, Travel Businesses For Sa...</td>\n",
       "      <td>1815206</td>\n",
       "      <td>Tennessee River Gorge® Mountain Cabins Offers ...</td>\n",
       "      <td>We are selling 51% \"controlling interest\" of T...</td>\n",
       "      <td>/Business-Opportunity/tennessee-river-gorge-mo...</td>\n",
       "      <td>870000</td>\n",
       "      <td>Whitwell</td>\n",
       "      <td>TN</td>\n",
       "      <td>1815206.0</td>\n",
       "      <td>/Business-Opportunity/tennessee-river-gorge-mo...</td>\n",
       "      <td>Tennessee River Gorge® Mountain Cabins Offers ...</td>\n",
       "      <td>Whitwell, TN</td>\n",
       "      <td>We are selling 51% \"controlling interest\" of T...</td>\n",
       "      <td>$870,000</td>\n",
       "      <td>Cash Flow: $268,128</td>\n",
       "    </tr>\n",
       "    <tr>\n",
       "      <th>2</th>\n",
       "      <td>[Businesses For Sale, Travel Businesses For Sa...</td>\n",
       "      <td>2023577</td>\n",
       "      <td>Top-Rated Detroit Tour Company For Sale</td>\n",
       "      <td>This top-rated Detroit tour company offers an ...</td>\n",
       "      <td>/Business-Opportunity/top-rated-detroit-tour-c...</td>\n",
       "      <td>2300000</td>\n",
       "      <td>Detroit</td>\n",
       "      <td>MI</td>\n",
       "      <td>2023577.0</td>\n",
       "      <td>/Business-Opportunity/top-rated-detroit-tour-c...</td>\n",
       "      <td>Top-Rated Detroit Tour Company For Sale</td>\n",
       "      <td>Detroit, MI</td>\n",
       "      <td>This top-rated Detroit tour company offers an ...</td>\n",
       "      <td>$2,300,000</td>\n",
       "      <td>Cash Flow: $809,269</td>\n",
       "    </tr>\n",
       "    <tr>\n",
       "      <th>3</th>\n",
       "      <td>[Businesses For Sale, Travel Businesses For Sa...</td>\n",
       "      <td>2066007</td>\n",
       "      <td>Southern Vermont B&amp;B</td>\n",
       "      <td>Step back in time to the Victorian era in this...</td>\n",
       "      <td>/Business-Opportunity/southern-vermont-bandb/2...</td>\n",
       "      <td>695000</td>\n",
       "      <td>Poultney</td>\n",
       "      <td>VT</td>\n",
       "      <td>2066007.0</td>\n",
       "      <td>/Business-Opportunity/southern-vermont-bandb/2...</td>\n",
       "      <td>Southern Vermont B&amp;B</td>\n",
       "      <td>Poultney, VT</td>\n",
       "      <td>Step back in time to the Victorian era in this...</td>\n",
       "      <td>$695,000</td>\n",
       "      <td>NaN</td>\n",
       "    </tr>\n",
       "    <tr>\n",
       "      <th>4</th>\n",
       "      <td>[Businesses For Sale, Travel Businesses For Sa...</td>\n",
       "      <td>27828757</td>\n",
       "      <td>Courtyard Houston Hobby Airport</td>\n",
       "      <td>84,444 SF Hotel For Sale</td>\n",
       "      <td>/Business-Auction/courtyard-houston-hobby-airp...</td>\n",
       "      <td>2200000</td>\n",
       "      <td>Houston</td>\n",
       "      <td>TX</td>\n",
       "      <td>NaN</td>\n",
       "      <td>NaN</td>\n",
       "      <td>NaN</td>\n",
       "      <td>NaN</td>\n",
       "      <td>NaN</td>\n",
       "      <td>NaN</td>\n",
       "      <td>NaN</td>\n",
       "    </tr>\n",
       "  </tbody>\n",
       "</table>\n",
       "</div>"
      ],
      "text/plain": [
       "                                       s_breadcrumbs      s_id   \n",
       "0  [Businesses For Sale, Travel Businesses For Sa...   1972353  \\\n",
       "1  [Businesses For Sale, Travel Businesses For Sa...   1815206   \n",
       "2  [Businesses For Sale, Travel Businesses For Sa...   2023577   \n",
       "3  [Businesses For Sale, Travel Businesses For Sa...   2066007   \n",
       "4  [Businesses For Sale, Travel Businesses For Sa...  27828757   \n",
       "\n",
       "                                              s_name   \n",
       "0             Turnkey Jewelry Store in the Caribbean  \\\n",
       "1  Tennessee River Gorge® Mountain Cabins Offers ...   \n",
       "2            Top-Rated Detroit Tour Company For Sale   \n",
       "3                               Southern Vermont B&B   \n",
       "4                    Courtyard Houston Hobby Airport   \n",
       "\n",
       "                                              s_desc   \n",
       "0  Almost 33 years ago, the founders of The Natur...  \\\n",
       "1  We are selling 51% \"controlling interest\" of T...   \n",
       "2  This top-rated Detroit tour company offers an ...   \n",
       "3  Step back in time to the Victorian era in this...   \n",
       "4                           84,444 SF Hotel For Sale   \n",
       "\n",
       "                                               s_url  s_price   s_local   \n",
       "0  /Business-Opportunity/turnkey-jewelry-store-in...  2000000      None  \\\n",
       "1  /Business-Opportunity/tennessee-river-gorge-mo...   870000  Whitwell   \n",
       "2  /Business-Opportunity/top-rated-detroit-tour-c...  2300000   Detroit   \n",
       "3  /Business-Opportunity/southern-vermont-bandb/2...   695000  Poultney   \n",
       "4  /Business-Auction/courtyard-houston-hobby-airp...  2200000   Houston   \n",
       "\n",
       "        s_region         id   \n",
       "0  Christiansted  1972353.0  \\\n",
       "1             TN  1815206.0   \n",
       "2             MI  2023577.0   \n",
       "3             VT  2066007.0   \n",
       "4             TX        NaN   \n",
       "\n",
       "                                                href   \n",
       "0  /Business-Opportunity/turnkey-jewelry-store-in...  \\\n",
       "1  /Business-Opportunity/tennessee-river-gorge-mo...   \n",
       "2  /Business-Opportunity/top-rated-detroit-tour-c...   \n",
       "3  /Business-Opportunity/southern-vermont-bandb/2...   \n",
       "4                                                NaN   \n",
       "\n",
       "                                               title            loc   \n",
       "0             Turnkey Jewelry Store in the Caribbean  Christiansted  \\\n",
       "1  Tennessee River Gorge® Mountain Cabins Offers ...   Whitwell, TN   \n",
       "2            Top-Rated Detroit Tour Company For Sale    Detroit, MI   \n",
       "3                               Southern Vermont B&B   Poultney, VT   \n",
       "4                                                NaN            NaN   \n",
       "\n",
       "                                                desc asking_price   \n",
       "0  Almost 33 years ago, the founders of The Natur...   $2,000,000  \\\n",
       "1  We are selling 51% \"controlling interest\" of T...     $870,000   \n",
       "2  This top-rated Detroit tour company offers an ...   $2,300,000   \n",
       "3  Step back in time to the Victorian era in this...     $695,000   \n",
       "4                                                NaN          NaN   \n",
       "\n",
       "             cash_flow  \n",
       "0                  NaN  \n",
       "1  Cash Flow: $268,128  \n",
       "2  Cash Flow: $809,269  \n",
       "3                  NaN  \n",
       "4                  NaN  "
      ]
     },
     "execution_count": 36,
     "metadata": {},
     "output_type": "execute_result"
    }
   ],
   "source": [
    "df.head()"
   ]
  },
  {
   "cell_type": "code",
   "execution_count": 37,
   "id": "a266ccde",
   "metadata": {},
   "outputs": [
    {
     "data": {
      "text/plain": [
       "s_id    0\n",
       "dtype: int64"
      ]
     },
     "execution_count": 37,
     "metadata": {},
     "output_type": "execute_result"
    }
   ],
   "source": [
    "df[['s_id']].isna().sum()"
   ]
  },
  {
   "cell_type": "code",
   "execution_count": 38,
   "id": "508c2c22",
   "metadata": {},
   "outputs": [],
   "source": [
    "df['auction']=df['s_name'].str.contains('auction',case=False)\n",
    "df['franchise']=df['s_name'].str.contains('franchise',case=False)\n",
    "df['lease']=df['s_name'].str.contains('lease',case=False)"
   ]
  },
  {
   "cell_type": "code",
   "execution_count": 39,
   "id": "2fff8a6e",
   "metadata": {},
   "outputs": [],
   "source": [
    "df=df.drop_duplicates(subset=['s_id','s_name'])"
   ]
  },
  {
   "cell_type": "code",
   "execution_count": 40,
   "id": "28db063f",
   "metadata": {},
   "outputs": [
    {
     "data": {
      "text/plain": [
       "(39233, 18)"
      ]
     },
     "execution_count": 40,
     "metadata": {},
     "output_type": "execute_result"
    }
   ],
   "source": [
    "df.shape"
   ]
  },
  {
   "cell_type": "code",
   "execution_count": 41,
   "id": "56219b75",
   "metadata": {},
   "outputs": [
    {
     "data": {
      "text/plain": [
       "auction\n",
       "False    39210\n",
       "True        23\n",
       "Name: count, dtype: int64"
      ]
     },
     "execution_count": 41,
     "metadata": {},
     "output_type": "execute_result"
    }
   ],
   "source": [
    "df.auction.value_counts()"
   ]
  },
  {
   "cell_type": "code",
   "execution_count": 42,
   "id": "56a1c371",
   "metadata": {},
   "outputs": [
    {
     "data": {
      "text/plain": [
       "franchise\n",
       "False    36845\n",
       "True      2388\n",
       "Name: count, dtype: int64"
      ]
     },
     "execution_count": 42,
     "metadata": {},
     "output_type": "execute_result"
    }
   ],
   "source": [
    "df.franchise.value_counts()"
   ]
  },
  {
   "cell_type": "code",
   "execution_count": 43,
   "id": "266c01a7",
   "metadata": {},
   "outputs": [
    {
     "data": {
      "text/plain": [
       "lease\n",
       "False    39002\n",
       "True       231\n",
       "Name: count, dtype: int64"
      ]
     },
     "execution_count": 43,
     "metadata": {},
     "output_type": "execute_result"
    }
   ],
   "source": [
    "df.lease.value_counts()"
   ]
  },
  {
   "cell_type": "code",
   "execution_count": 44,
   "id": "dbbae7d0",
   "metadata": {},
   "outputs": [],
   "source": [
    "df=df[(~df.auction)&(~df.franchise)&(~df.lease)]"
   ]
  },
  {
   "cell_type": "code",
   "execution_count": 45,
   "id": "f3901355",
   "metadata": {},
   "outputs": [
    {
     "data": {
      "text/plain": [
       "(36593, 18)"
      ]
     },
     "execution_count": 45,
     "metadata": {},
     "output_type": "execute_result"
    }
   ],
   "source": [
    "df.shape"
   ]
  },
  {
   "cell_type": "code",
   "execution_count": 46,
   "id": "272bc302",
   "metadata": {},
   "outputs": [
    {
     "data": {
      "text/plain": [
       "0"
      ]
     },
     "execution_count": 46,
     "metadata": {},
     "output_type": "execute_result"
    }
   ],
   "source": [
    "df.s_price.isna().sum()"
   ]
  },
  {
   "cell_type": "code",
   "execution_count": 47,
   "id": "1b0b13fe",
   "metadata": {},
   "outputs": [
    {
     "data": {
      "text/plain": [
       "s_breadcrumbs    [Businesses For Sale, Travel Businesses For Sa...\n",
       "s_id                                                       1972353\n",
       "s_name                      Turnkey Jewelry Store in the Caribbean\n",
       "s_desc           Almost 33 years ago, the founders of The Natur...\n",
       "s_url            /Business-Opportunity/turnkey-jewelry-store-in...\n",
       "s_price                                                    2000000\n",
       "s_local                                                       None\n",
       "s_region                                             Christiansted\n",
       "id                                                       1972353.0\n",
       "href             /Business-Opportunity/turnkey-jewelry-store-in...\n",
       "title                       Turnkey Jewelry Store in the Caribbean\n",
       "loc                                                  Christiansted\n",
       "desc             Almost 33 years ago, the founders of The Natur...\n",
       "asking_price                                            $2,000,000\n",
       "cash_flow                                                      NaN\n",
       "auction                                                      False\n",
       "franchise                                                    False\n",
       "lease                                                        False\n",
       "Name: 0, dtype: object"
      ]
     },
     "execution_count": 47,
     "metadata": {},
     "output_type": "execute_result"
    }
   ],
   "source": [
    "df.loc[0]"
   ]
  },
  {
   "cell_type": "code",
   "execution_count": 48,
   "id": "8f58b315",
   "metadata": {},
   "outputs": [],
   "source": [
    "df=pd.read_json('bizbuysell.detail.lines.json',lines=True)"
   ]
  },
  {
   "cell_type": "code",
   "execution_count": 49,
   "id": "51357a52",
   "metadata": {},
   "outputs": [
    {
     "data": {
      "text/plain": [
       "(38571, 32)"
      ]
     },
     "execution_count": 49,
     "metadata": {},
     "output_type": "execute_result"
    }
   ],
   "source": [
    "df.shape"
   ]
  },
  {
   "cell_type": "code",
   "execution_count": 50,
   "id": "d4090398",
   "metadata": {},
   "outputs": [
    {
     "data": {
      "text/html": [
       "<div>\n",
       "<style scoped>\n",
       "    .dataframe tbody tr th:only-of-type {\n",
       "        vertical-align: middle;\n",
       "    }\n",
       "\n",
       "    .dataframe tbody tr th {\n",
       "        vertical-align: top;\n",
       "    }\n",
       "\n",
       "    .dataframe thead th {\n",
       "        text-align: right;\n",
       "    }\n",
       "</style>\n",
       "<table border=\"1\" class=\"dataframe\">\n",
       "  <thead>\n",
       "    <tr style=\"text-align: right;\">\n",
       "      <th></th>\n",
       "      <th>s_breadcrumbs</th>\n",
       "      <th>s_b_desc</th>\n",
       "      <th>s_b_name</th>\n",
       "      <th>s_b_url</th>\n",
       "      <th>s_b_image</th>\n",
       "      <th>s_b_local</th>\n",
       "      <th>s_b_region</th>\n",
       "      <th>s_category</th>\n",
       "      <th>s_desc</th>\n",
       "      <th>s_similar</th>\n",
       "      <th>...</th>\n",
       "      <th>p_details</th>\n",
       "      <th>auction</th>\n",
       "      <th>p_auction_title</th>\n",
       "      <th>p_auction_location_text</th>\n",
       "      <th>p_auction_details_text</th>\n",
       "      <th>p_auction_highlights_text</th>\n",
       "      <th>p_auction_summary_text</th>\n",
       "      <th>p_auction_facts_text</th>\n",
       "      <th>p_auction_facts</th>\n",
       "      <th>p_auction_address_text</th>\n",
       "    </tr>\n",
       "  </thead>\n",
       "  <tbody>\n",
       "    <tr>\n",
       "      <th>0</th>\n",
       "      <td>[Real Estate For Sale, New Jersey, Marinas and...</td>\n",
       "      <td>It is fully owned by a man and his wife since ...</td>\n",
       "      <td>Popular Marina in Central New Jersey in Middle...</td>\n",
       "      <td>https://www.bizbuysell.com/Business-Real-Estat...</td>\n",
       "      <td>/shared/listings/defaultphotos/standard/sharin...</td>\n",
       "      <td>Middlesex</td>\n",
       "      <td>New Jersey</td>\n",
       "      <td>Marinas and Fishing</td>\n",
       "      <td>It is fully owned by a man and his wife since ...</td>\n",
       "      <td>[1864705, 2071534, 2057087]</td>\n",
       "      <td>...</td>\n",
       "      <td>[Location:, Middlesex County, NJ, Type:, Other...</td>\n",
       "      <td>NaN</td>\n",
       "      <td>NaN</td>\n",
       "      <td>NaN</td>\n",
       "      <td>NaN</td>\n",
       "      <td>NaN</td>\n",
       "      <td>NaN</td>\n",
       "      <td>NaN</td>\n",
       "      <td>NaN</td>\n",
       "      <td>NaN</td>\n",
       "    </tr>\n",
       "    <tr>\n",
       "      <th>1</th>\n",
       "      <td>[Real Estate For Sale, New Jersey, Other, Mays...</td>\n",
       "      <td>AMAZING OPPORTUNITY! Priced to sell and ready ...</td>\n",
       "      <td>High Exposure in Mays Landing, New Jersey - Bi...</td>\n",
       "      <td>https://www.bizbuysell.com/Business-Real-Estat...</td>\n",
       "      <td>https://images.bizbuysell.com/shared/listings/...</td>\n",
       "      <td>Mays Landing</td>\n",
       "      <td>New Jersey</td>\n",
       "      <td>Other</td>\n",
       "      <td>AMAZING OPPORTUNITY! Priced to sell and ready ...</td>\n",
       "      <td>[2075819, 1864705, 2071534]</td>\n",
       "      <td>...</td>\n",
       "      <td>[Location:, Mays Landing, NJ, Type:, Office, B...</td>\n",
       "      <td>NaN</td>\n",
       "      <td>NaN</td>\n",
       "      <td>NaN</td>\n",
       "      <td>NaN</td>\n",
       "      <td>NaN</td>\n",
       "      <td>NaN</td>\n",
       "      <td>NaN</td>\n",
       "      <td>NaN</td>\n",
       "      <td>NaN</td>\n",
       "    </tr>\n",
       "    <tr>\n",
       "      <th>2</th>\n",
       "      <td>[Real Estate For Sale, New York, Hotels, Rando...</td>\n",
       "      <td>This is a 6 unit Airbnb with an average occupa...</td>\n",
       "      <td>Rental Units with Real Estate in Randolph, New...</td>\n",
       "      <td>https://www.bizbuysell.com/Business-Real-Estat...</td>\n",
       "      <td>https://images.bizbuysell.com/shared/listings/...</td>\n",
       "      <td>Randolph</td>\n",
       "      <td>New York</td>\n",
       "      <td>Hotels &gt; Other</td>\n",
       "      <td>This is a 6 unit Airbnb with an average occupa...</td>\n",
       "      <td>[2059235, 2080381, 2077331]</td>\n",
       "      <td>...</td>\n",
       "      <td>[Location:, Randolph, NY, Type:, Other Busines...</td>\n",
       "      <td>NaN</td>\n",
       "      <td>NaN</td>\n",
       "      <td>NaN</td>\n",
       "      <td>NaN</td>\n",
       "      <td>NaN</td>\n",
       "      <td>NaN</td>\n",
       "      <td>NaN</td>\n",
       "      <td>NaN</td>\n",
       "      <td>NaN</td>\n",
       "    </tr>\n",
       "    <tr>\n",
       "      <th>3</th>\n",
       "      <td>[Real Estate For Sale, Florida, Other, Pinella...</td>\n",
       "      <td>Rare Largo/Seminole area duplex centrally loca...</td>\n",
       "      <td>Duplex, Short term or Long term in Pinellas Co...</td>\n",
       "      <td>https://www.bizbuysell.com/Business-Real-Estat...</td>\n",
       "      <td>https://images.bizbuysell.com/shared/listings/...</td>\n",
       "      <td>Pinellas</td>\n",
       "      <td>Florida</td>\n",
       "      <td>Other</td>\n",
       "      <td>Rare Largo/Seminole area duplex centrally loca...</td>\n",
       "      <td>[2035549, 2067510, 2054271]</td>\n",
       "      <td>...</td>\n",
       "      <td>[Location:, Pinellas County, FL, Type:, Multi-...</td>\n",
       "      <td>NaN</td>\n",
       "      <td>NaN</td>\n",
       "      <td>NaN</td>\n",
       "      <td>NaN</td>\n",
       "      <td>NaN</td>\n",
       "      <td>NaN</td>\n",
       "      <td>NaN</td>\n",
       "      <td>NaN</td>\n",
       "      <td>NaN</td>\n",
       "    </tr>\n",
       "    <tr>\n",
       "      <th>4</th>\n",
       "      <td>[Real Estate For Sale, Maryland, Bars, Pubs an...</td>\n",
       "      <td>Price reduced to $850. 000 MAKE AN OFFER!!!!!!...</td>\n",
       "      <td>Major Price Reduction Rest/Tavern/ 13,000sq. f...</td>\n",
       "      <td>https://www.bizbuysell.com/Business-Real-Estat...</td>\n",
       "      <td>/shared/listings/defaultphotos/standard/sharin...</td>\n",
       "      <td>Baltimore</td>\n",
       "      <td>Maryland</td>\n",
       "      <td>Bars, Pubs and Taverns</td>\n",
       "      <td>Price reduced to $850. 000 MAKE AN OFFER!!!!!!...</td>\n",
       "      <td>[2082461, 2050777, 2043561]</td>\n",
       "      <td>...</td>\n",
       "      <td>[Location:, Baltimore, MD, Type:, Retail, Buil...</td>\n",
       "      <td>NaN</td>\n",
       "      <td>NaN</td>\n",
       "      <td>NaN</td>\n",
       "      <td>NaN</td>\n",
       "      <td>NaN</td>\n",
       "      <td>NaN</td>\n",
       "      <td>NaN</td>\n",
       "      <td>NaN</td>\n",
       "      <td>NaN</td>\n",
       "    </tr>\n",
       "  </tbody>\n",
       "</table>\n",
       "<p>5 rows × 32 columns</p>\n",
       "</div>"
      ],
      "text/plain": [
       "                                       s_breadcrumbs   \n",
       "0  [Real Estate For Sale, New Jersey, Marinas and...  \\\n",
       "1  [Real Estate For Sale, New Jersey, Other, Mays...   \n",
       "2  [Real Estate For Sale, New York, Hotels, Rando...   \n",
       "3  [Real Estate For Sale, Florida, Other, Pinella...   \n",
       "4  [Real Estate For Sale, Maryland, Bars, Pubs an...   \n",
       "\n",
       "                                            s_b_desc   \n",
       "0  It is fully owned by a man and his wife since ...  \\\n",
       "1  AMAZING OPPORTUNITY! Priced to sell and ready ...   \n",
       "2  This is a 6 unit Airbnb with an average occupa...   \n",
       "3  Rare Largo/Seminole area duplex centrally loca...   \n",
       "4  Price reduced to $850. 000 MAKE AN OFFER!!!!!!...   \n",
       "\n",
       "                                            s_b_name   \n",
       "0  Popular Marina in Central New Jersey in Middle...  \\\n",
       "1  High Exposure in Mays Landing, New Jersey - Bi...   \n",
       "2  Rental Units with Real Estate in Randolph, New...   \n",
       "3  Duplex, Short term or Long term in Pinellas Co...   \n",
       "4  Major Price Reduction Rest/Tavern/ 13,000sq. f...   \n",
       "\n",
       "                                             s_b_url   \n",
       "0  https://www.bizbuysell.com/Business-Real-Estat...  \\\n",
       "1  https://www.bizbuysell.com/Business-Real-Estat...   \n",
       "2  https://www.bizbuysell.com/Business-Real-Estat...   \n",
       "3  https://www.bizbuysell.com/Business-Real-Estat...   \n",
       "4  https://www.bizbuysell.com/Business-Real-Estat...   \n",
       "\n",
       "                                           s_b_image     s_b_local   \n",
       "0  /shared/listings/defaultphotos/standard/sharin...     Middlesex  \\\n",
       "1  https://images.bizbuysell.com/shared/listings/...  Mays Landing   \n",
       "2  https://images.bizbuysell.com/shared/listings/...      Randolph   \n",
       "3  https://images.bizbuysell.com/shared/listings/...      Pinellas   \n",
       "4  /shared/listings/defaultphotos/standard/sharin...     Baltimore   \n",
       "\n",
       "   s_b_region              s_category   \n",
       "0  New Jersey     Marinas and Fishing  \\\n",
       "1  New Jersey                   Other   \n",
       "2    New York          Hotels > Other   \n",
       "3     Florida                   Other   \n",
       "4    Maryland  Bars, Pubs and Taverns   \n",
       "\n",
       "                                              s_desc   \n",
       "0  It is fully owned by a man and his wife since ...  \\\n",
       "1  AMAZING OPPORTUNITY! Priced to sell and ready ...   \n",
       "2  This is a 6 unit Airbnb with an average occupa...   \n",
       "3  Rare Largo/Seminole area duplex centrally loca...   \n",
       "4  Price reduced to $850. 000 MAKE AN OFFER!!!!!!...   \n",
       "\n",
       "                     s_similar  ...   \n",
       "0  [1864705, 2071534, 2057087]  ...  \\\n",
       "1  [2075819, 1864705, 2071534]  ...   \n",
       "2  [2059235, 2080381, 2077331]  ...   \n",
       "3  [2035549, 2067510, 2054271]  ...   \n",
       "4  [2082461, 2050777, 2043561]  ...   \n",
       "\n",
       "                                           p_details  auction p_auction_title   \n",
       "0  [Location:, Middlesex County, NJ, Type:, Other...      NaN             NaN  \\\n",
       "1  [Location:, Mays Landing, NJ, Type:, Office, B...      NaN             NaN   \n",
       "2  [Location:, Randolph, NY, Type:, Other Busines...      NaN             NaN   \n",
       "3  [Location:, Pinellas County, FL, Type:, Multi-...      NaN             NaN   \n",
       "4  [Location:, Baltimore, MD, Type:, Retail, Buil...      NaN             NaN   \n",
       "\n",
       "   p_auction_location_text p_auction_details_text p_auction_highlights_text   \n",
       "0                      NaN                    NaN                       NaN  \\\n",
       "1                      NaN                    NaN                       NaN   \n",
       "2                      NaN                    NaN                       NaN   \n",
       "3                      NaN                    NaN                       NaN   \n",
       "4                      NaN                    NaN                       NaN   \n",
       "\n",
       "  p_auction_summary_text p_auction_facts_text p_auction_facts   \n",
       "0                    NaN                  NaN             NaN  \\\n",
       "1                    NaN                  NaN             NaN   \n",
       "2                    NaN                  NaN             NaN   \n",
       "3                    NaN                  NaN             NaN   \n",
       "4                    NaN                  NaN             NaN   \n",
       "\n",
       "  p_auction_address_text  \n",
       "0                    NaN  \n",
       "1                    NaN  \n",
       "2                    NaN  \n",
       "3                    NaN  \n",
       "4                    NaN  \n",
       "\n",
       "[5 rows x 32 columns]"
      ]
     },
     "execution_count": 50,
     "metadata": {},
     "output_type": "execute_result"
    }
   ],
   "source": [
    "df.head()"
   ]
  },
  {
   "cell_type": "code",
   "execution_count": 51,
   "id": "3192047c",
   "metadata": {},
   "outputs": [
    {
     "data": {
      "text/plain": [
       "s_id    134\n",
       "dtype: int64"
      ]
     },
     "execution_count": 51,
     "metadata": {},
     "output_type": "execute_result"
    }
   ],
   "source": [
    "df[['s_id']].isna().sum()"
   ]
  },
  {
   "cell_type": "code",
   "execution_count": 52,
   "id": "c46d9121",
   "metadata": {},
   "outputs": [],
   "source": [
    "df=df.dropna(subset=['s_id'])"
   ]
  },
  {
   "cell_type": "code",
   "execution_count": 53,
   "id": "29e92174",
   "metadata": {},
   "outputs": [
    {
     "data": {
      "text/plain": [
       "(38437, 32)"
      ]
     },
     "execution_count": 53,
     "metadata": {},
     "output_type": "execute_result"
    }
   ],
   "source": [
    "df.shape"
   ]
  },
  {
   "cell_type": "code",
   "execution_count": 54,
   "id": "69fa0e32",
   "metadata": {},
   "outputs": [],
   "source": [
    "df=df.drop_duplicates(subset=['s_id','s_name'])"
   ]
  },
  {
   "cell_type": "code",
   "execution_count": 55,
   "id": "7bfdd8db",
   "metadata": {},
   "outputs": [
    {
     "data": {
      "text/plain": [
       "(38405, 32)"
      ]
     },
     "execution_count": 55,
     "metadata": {},
     "output_type": "execute_result"
    }
   ],
   "source": [
    "df.shape"
   ]
  },
  {
   "cell_type": "code",
   "execution_count": 56,
   "id": "c63ef00c",
   "metadata": {},
   "outputs": [],
   "source": [
    "df['auction']=df['s_name'].str.contains('auction',case=False)\n",
    "df['franchise']=df['s_name'].str.contains('franchise',case=False)\n",
    "df['lease']=df['s_name'].str.contains('lease',case=False)"
   ]
  },
  {
   "cell_type": "code",
   "execution_count": 57,
   "id": "30c8fb9b",
   "metadata": {},
   "outputs": [],
   "source": [
    "df=df[(~df.auction)&(~df.franchise)&(~df.lease)]"
   ]
  },
  {
   "cell_type": "code",
   "execution_count": 58,
   "id": "69e448bf",
   "metadata": {},
   "outputs": [
    {
     "data": {
      "text/plain": [
       "(35796, 34)"
      ]
     },
     "execution_count": 58,
     "metadata": {},
     "output_type": "execute_result"
    }
   ],
   "source": [
    "df.shape"
   ]
  },
  {
   "cell_type": "code",
   "execution_count": 59,
   "id": "2aca85ae",
   "metadata": {},
   "outputs": [
    {
     "data": {
      "text/html": [
       "<div>\n",
       "<style scoped>\n",
       "    .dataframe tbody tr th:only-of-type {\n",
       "        vertical-align: middle;\n",
       "    }\n",
       "\n",
       "    .dataframe tbody tr th {\n",
       "        vertical-align: top;\n",
       "    }\n",
       "\n",
       "    .dataframe thead th {\n",
       "        text-align: right;\n",
       "    }\n",
       "</style>\n",
       "<table border=\"1\" class=\"dataframe\">\n",
       "  <thead>\n",
       "    <tr style=\"text-align: right;\">\n",
       "      <th></th>\n",
       "      <th>s_breadcrumbs</th>\n",
       "      <th>s_b_desc</th>\n",
       "      <th>s_b_name</th>\n",
       "      <th>s_b_url</th>\n",
       "      <th>s_b_image</th>\n",
       "      <th>s_b_local</th>\n",
       "      <th>s_b_region</th>\n",
       "      <th>s_category</th>\n",
       "      <th>s_desc</th>\n",
       "      <th>s_similar</th>\n",
       "      <th>...</th>\n",
       "      <th>p_auction_title</th>\n",
       "      <th>p_auction_location_text</th>\n",
       "      <th>p_auction_details_text</th>\n",
       "      <th>p_auction_highlights_text</th>\n",
       "      <th>p_auction_summary_text</th>\n",
       "      <th>p_auction_facts_text</th>\n",
       "      <th>p_auction_facts</th>\n",
       "      <th>p_auction_address_text</th>\n",
       "      <th>franchise</th>\n",
       "      <th>lease</th>\n",
       "    </tr>\n",
       "  </thead>\n",
       "  <tbody>\n",
       "    <tr>\n",
       "      <th>0</th>\n",
       "      <td>[Real Estate For Sale, New Jersey, Marinas and...</td>\n",
       "      <td>It is fully owned by a man and his wife since ...</td>\n",
       "      <td>Popular Marina in Central New Jersey in Middle...</td>\n",
       "      <td>https://www.bizbuysell.com/Business-Real-Estat...</td>\n",
       "      <td>/shared/listings/defaultphotos/standard/sharin...</td>\n",
       "      <td>Middlesex</td>\n",
       "      <td>New Jersey</td>\n",
       "      <td>Marinas and Fishing</td>\n",
       "      <td>It is fully owned by a man and his wife since ...</td>\n",
       "      <td>[1864705, 2071534, 2057087]</td>\n",
       "      <td>...</td>\n",
       "      <td>NaN</td>\n",
       "      <td>NaN</td>\n",
       "      <td>NaN</td>\n",
       "      <td>NaN</td>\n",
       "      <td>NaN</td>\n",
       "      <td>NaN</td>\n",
       "      <td>NaN</td>\n",
       "      <td>NaN</td>\n",
       "      <td>False</td>\n",
       "      <td>False</td>\n",
       "    </tr>\n",
       "    <tr>\n",
       "      <th>1</th>\n",
       "      <td>[Real Estate For Sale, New Jersey, Other, Mays...</td>\n",
       "      <td>AMAZING OPPORTUNITY! Priced to sell and ready ...</td>\n",
       "      <td>High Exposure in Mays Landing, New Jersey - Bi...</td>\n",
       "      <td>https://www.bizbuysell.com/Business-Real-Estat...</td>\n",
       "      <td>https://images.bizbuysell.com/shared/listings/...</td>\n",
       "      <td>Mays Landing</td>\n",
       "      <td>New Jersey</td>\n",
       "      <td>Other</td>\n",
       "      <td>AMAZING OPPORTUNITY! Priced to sell and ready ...</td>\n",
       "      <td>[2075819, 1864705, 2071534]</td>\n",
       "      <td>...</td>\n",
       "      <td>NaN</td>\n",
       "      <td>NaN</td>\n",
       "      <td>NaN</td>\n",
       "      <td>NaN</td>\n",
       "      <td>NaN</td>\n",
       "      <td>NaN</td>\n",
       "      <td>NaN</td>\n",
       "      <td>NaN</td>\n",
       "      <td>False</td>\n",
       "      <td>False</td>\n",
       "    </tr>\n",
       "    <tr>\n",
       "      <th>2</th>\n",
       "      <td>[Real Estate For Sale, New York, Hotels, Rando...</td>\n",
       "      <td>This is a 6 unit Airbnb with an average occupa...</td>\n",
       "      <td>Rental Units with Real Estate in Randolph, New...</td>\n",
       "      <td>https://www.bizbuysell.com/Business-Real-Estat...</td>\n",
       "      <td>https://images.bizbuysell.com/shared/listings/...</td>\n",
       "      <td>Randolph</td>\n",
       "      <td>New York</td>\n",
       "      <td>Hotels &gt; Other</td>\n",
       "      <td>This is a 6 unit Airbnb with an average occupa...</td>\n",
       "      <td>[2059235, 2080381, 2077331]</td>\n",
       "      <td>...</td>\n",
       "      <td>NaN</td>\n",
       "      <td>NaN</td>\n",
       "      <td>NaN</td>\n",
       "      <td>NaN</td>\n",
       "      <td>NaN</td>\n",
       "      <td>NaN</td>\n",
       "      <td>NaN</td>\n",
       "      <td>NaN</td>\n",
       "      <td>False</td>\n",
       "      <td>False</td>\n",
       "    </tr>\n",
       "    <tr>\n",
       "      <th>3</th>\n",
       "      <td>[Real Estate For Sale, Florida, Other, Pinella...</td>\n",
       "      <td>Rare Largo/Seminole area duplex centrally loca...</td>\n",
       "      <td>Duplex, Short term or Long term in Pinellas Co...</td>\n",
       "      <td>https://www.bizbuysell.com/Business-Real-Estat...</td>\n",
       "      <td>https://images.bizbuysell.com/shared/listings/...</td>\n",
       "      <td>Pinellas</td>\n",
       "      <td>Florida</td>\n",
       "      <td>Other</td>\n",
       "      <td>Rare Largo/Seminole area duplex centrally loca...</td>\n",
       "      <td>[2035549, 2067510, 2054271]</td>\n",
       "      <td>...</td>\n",
       "      <td>NaN</td>\n",
       "      <td>NaN</td>\n",
       "      <td>NaN</td>\n",
       "      <td>NaN</td>\n",
       "      <td>NaN</td>\n",
       "      <td>NaN</td>\n",
       "      <td>NaN</td>\n",
       "      <td>NaN</td>\n",
       "      <td>False</td>\n",
       "      <td>False</td>\n",
       "    </tr>\n",
       "    <tr>\n",
       "      <th>4</th>\n",
       "      <td>[Real Estate For Sale, Maryland, Bars, Pubs an...</td>\n",
       "      <td>Price reduced to $850. 000 MAKE AN OFFER!!!!!!...</td>\n",
       "      <td>Major Price Reduction Rest/Tavern/ 13,000sq. f...</td>\n",
       "      <td>https://www.bizbuysell.com/Business-Real-Estat...</td>\n",
       "      <td>/shared/listings/defaultphotos/standard/sharin...</td>\n",
       "      <td>Baltimore</td>\n",
       "      <td>Maryland</td>\n",
       "      <td>Bars, Pubs and Taverns</td>\n",
       "      <td>Price reduced to $850. 000 MAKE AN OFFER!!!!!!...</td>\n",
       "      <td>[2082461, 2050777, 2043561]</td>\n",
       "      <td>...</td>\n",
       "      <td>NaN</td>\n",
       "      <td>NaN</td>\n",
       "      <td>NaN</td>\n",
       "      <td>NaN</td>\n",
       "      <td>NaN</td>\n",
       "      <td>NaN</td>\n",
       "      <td>NaN</td>\n",
       "      <td>NaN</td>\n",
       "      <td>False</td>\n",
       "      <td>False</td>\n",
       "    </tr>\n",
       "  </tbody>\n",
       "</table>\n",
       "<p>5 rows × 34 columns</p>\n",
       "</div>"
      ],
      "text/plain": [
       "                                       s_breadcrumbs   \n",
       "0  [Real Estate For Sale, New Jersey, Marinas and...  \\\n",
       "1  [Real Estate For Sale, New Jersey, Other, Mays...   \n",
       "2  [Real Estate For Sale, New York, Hotels, Rando...   \n",
       "3  [Real Estate For Sale, Florida, Other, Pinella...   \n",
       "4  [Real Estate For Sale, Maryland, Bars, Pubs an...   \n",
       "\n",
       "                                            s_b_desc   \n",
       "0  It is fully owned by a man and his wife since ...  \\\n",
       "1  AMAZING OPPORTUNITY! Priced to sell and ready ...   \n",
       "2  This is a 6 unit Airbnb with an average occupa...   \n",
       "3  Rare Largo/Seminole area duplex centrally loca...   \n",
       "4  Price reduced to $850. 000 MAKE AN OFFER!!!!!!...   \n",
       "\n",
       "                                            s_b_name   \n",
       "0  Popular Marina in Central New Jersey in Middle...  \\\n",
       "1  High Exposure in Mays Landing, New Jersey - Bi...   \n",
       "2  Rental Units with Real Estate in Randolph, New...   \n",
       "3  Duplex, Short term or Long term in Pinellas Co...   \n",
       "4  Major Price Reduction Rest/Tavern/ 13,000sq. f...   \n",
       "\n",
       "                                             s_b_url   \n",
       "0  https://www.bizbuysell.com/Business-Real-Estat...  \\\n",
       "1  https://www.bizbuysell.com/Business-Real-Estat...   \n",
       "2  https://www.bizbuysell.com/Business-Real-Estat...   \n",
       "3  https://www.bizbuysell.com/Business-Real-Estat...   \n",
       "4  https://www.bizbuysell.com/Business-Real-Estat...   \n",
       "\n",
       "                                           s_b_image     s_b_local   \n",
       "0  /shared/listings/defaultphotos/standard/sharin...     Middlesex  \\\n",
       "1  https://images.bizbuysell.com/shared/listings/...  Mays Landing   \n",
       "2  https://images.bizbuysell.com/shared/listings/...      Randolph   \n",
       "3  https://images.bizbuysell.com/shared/listings/...      Pinellas   \n",
       "4  /shared/listings/defaultphotos/standard/sharin...     Baltimore   \n",
       "\n",
       "   s_b_region              s_category   \n",
       "0  New Jersey     Marinas and Fishing  \\\n",
       "1  New Jersey                   Other   \n",
       "2    New York          Hotels > Other   \n",
       "3     Florida                   Other   \n",
       "4    Maryland  Bars, Pubs and Taverns   \n",
       "\n",
       "                                              s_desc   \n",
       "0  It is fully owned by a man and his wife since ...  \\\n",
       "1  AMAZING OPPORTUNITY! Priced to sell and ready ...   \n",
       "2  This is a 6 unit Airbnb with an average occupa...   \n",
       "3  Rare Largo/Seminole area duplex centrally loca...   \n",
       "4  Price reduced to $850. 000 MAKE AN OFFER!!!!!!...   \n",
       "\n",
       "                     s_similar  ... p_auction_title  p_auction_location_text   \n",
       "0  [1864705, 2071534, 2057087]  ...             NaN                      NaN  \\\n",
       "1  [2075819, 1864705, 2071534]  ...             NaN                      NaN   \n",
       "2  [2059235, 2080381, 2077331]  ...             NaN                      NaN   \n",
       "3  [2035549, 2067510, 2054271]  ...             NaN                      NaN   \n",
       "4  [2082461, 2050777, 2043561]  ...             NaN                      NaN   \n",
       "\n",
       "  p_auction_details_text  p_auction_highlights_text p_auction_summary_text   \n",
       "0                    NaN                        NaN                    NaN  \\\n",
       "1                    NaN                        NaN                    NaN   \n",
       "2                    NaN                        NaN                    NaN   \n",
       "3                    NaN                        NaN                    NaN   \n",
       "4                    NaN                        NaN                    NaN   \n",
       "\n",
       "  p_auction_facts_text p_auction_facts p_auction_address_text franchise  lease  \n",
       "0                  NaN             NaN                    NaN     False  False  \n",
       "1                  NaN             NaN                    NaN     False  False  \n",
       "2                  NaN             NaN                    NaN     False  False  \n",
       "3                  NaN             NaN                    NaN     False  False  \n",
       "4                  NaN             NaN                    NaN     False  False  \n",
       "\n",
       "[5 rows x 34 columns]"
      ]
     },
     "execution_count": 59,
     "metadata": {},
     "output_type": "execute_result"
    }
   ],
   "source": [
    "df.head()"
   ]
  },
  {
   "cell_type": "code",
   "execution_count": 60,
   "id": "6462e9e1",
   "metadata": {},
   "outputs": [
    {
     "data": {
      "text/plain": [
       "s_breadcrumbs                [Real Estate For Sale, New Jersey, Marinas and...\n",
       "s_b_desc                     It is fully owned by a man and his wife since ...\n",
       "s_b_name                     Popular Marina in Central New Jersey in Middle...\n",
       "s_b_url                      https://www.bizbuysell.com/Business-Real-Estat...\n",
       "s_b_image                    /shared/listings/defaultphotos/standard/sharin...\n",
       "s_b_local                                                            Middlesex\n",
       "s_b_region                                                          New Jersey\n",
       "s_category                                                 Marinas and Fishing\n",
       "s_desc                       It is fully owned by a man and his wife since ...\n",
       "s_similar                                          [1864705, 2071534, 2057087]\n",
       "s_name                       Popular Marina in Central New Jersey in Middle...\n",
       "s_id                                                                 2067319.0\n",
       "s_url                        https://www.bizbuysell.com/Business-Real-Estat...\n",
       "s_price                                                              2500000.0\n",
       "s_local                                                              Middlesex\n",
       "s_region                                                            New Jersey\n",
       "p_title                                   Popular Marina in Central New Jersey\n",
       "p_location                                                Middlesex County, NJ\n",
       "p_financials_text            Asking Price:\\n$2,500,000\\n                   ...\n",
       "p_financials                 {'Asking Price': '$2,500,000', 'Gross Revenue'...\n",
       "p_desc                       It is fully owned by a man and his wife since ...\n",
       "p_details_text               Location:\\nMiddlesex County, NJ\\nType:\\nOther ...\n",
       "p_details                    [Location:, Middlesex County, NJ, Type:, Other...\n",
       "auction                                                                  False\n",
       "p_auction_title                                                            NaN\n",
       "p_auction_location_text                                                    NaN\n",
       "p_auction_details_text                                                     NaN\n",
       "p_auction_highlights_text                                                  NaN\n",
       "p_auction_summary_text                                                     NaN\n",
       "p_auction_facts_text                                                       NaN\n",
       "p_auction_facts                                                            NaN\n",
       "p_auction_address_text                                                     NaN\n",
       "franchise                                                                False\n",
       "lease                                                                    False\n",
       "Name: 0, dtype: object"
      ]
     },
     "execution_count": 60,
     "metadata": {},
     "output_type": "execute_result"
    }
   ],
   "source": [
    "df.iloc[0]"
   ]
  },
  {
   "cell_type": "code",
   "execution_count": null,
   "id": "97ac1896",
   "metadata": {},
   "outputs": [],
   "source": []
  }
 ],
 "metadata": {
  "kernelspec": {
   "display_name": "Python 3 (ipykernel)",
   "language": "python",
   "name": "python3"
  },
  "language_info": {
   "codemirror_mode": {
    "name": "ipython",
    "version": 3
   },
   "file_extension": ".py",
   "mimetype": "text/x-python",
   "name": "python",
   "nbconvert_exporter": "python",
   "pygments_lexer": "ipython3",
   "version": "3.9.7"
  }
 },
 "nbformat": 4,
 "nbformat_minor": 5
}
