{
 "cells": [
  {
   "cell_type": "code",
   "execution_count": 1,
   "id": "dc5c2892",
   "metadata": {},
   "outputs": [],
   "source": [
    "import warnings\n",
    "warnings.filterwarnings('ignore')"
   ]
  },
  {
   "cell_type": "code",
   "execution_count": 2,
   "id": "2cce1716",
   "metadata": {},
   "outputs": [],
   "source": [
    "# https://www.ritchieng.com/machine-learning-multinomial-naive-bayes-vectorization/"
   ]
  },
  {
   "cell_type": "code",
   "execution_count": 3,
   "id": "60d2e60e",
   "metadata": {},
   "outputs": [],
   "source": [
    "import pandas as pd"
   ]
  },
  {
   "cell_type": "code",
   "execution_count": 4,
   "id": "98f0cf58",
   "metadata": {},
   "outputs": [],
   "source": [
    "dfr=pd.read_excel('bizbuysell.single.large.ds.xlsx')"
   ]
  },
  {
   "cell_type": "code",
   "execution_count": 5,
   "id": "c6cf5a22",
   "metadata": {},
   "outputs": [
    {
     "data": {
      "text/html": [
       "<div>\n",
       "<style scoped>\n",
       "    .dataframe tbody tr th:only-of-type {\n",
       "        vertical-align: middle;\n",
       "    }\n",
       "\n",
       "    .dataframe tbody tr th {\n",
       "        vertical-align: top;\n",
       "    }\n",
       "\n",
       "    .dataframe thead th {\n",
       "        text-align: right;\n",
       "    }\n",
       "</style>\n",
       "<table border=\"1\" class=\"dataframe\">\n",
       "  <thead>\n",
       "    <tr style=\"text-align: right;\">\n",
       "      <th></th>\n",
       "      <th>Unnamed: 0</th>\n",
       "      <th>id</th>\n",
       "      <th>src</th>\n",
       "      <th>url</th>\n",
       "      <th>title</th>\n",
       "      <th>desc</th>\n",
       "      <th>local</th>\n",
       "      <th>region</th>\n",
       "      <th>location</th>\n",
       "      <th>title_loc</th>\n",
       "      <th>...</th>\n",
       "      <th>price</th>\n",
       "      <th>franchise</th>\n",
       "      <th>lease</th>\n",
       "      <th>auction</th>\n",
       "      <th>rent</th>\n",
       "      <th>location_2</th>\n",
       "      <th>nationwide</th>\n",
       "      <th>multiple_locations</th>\n",
       "      <th>relocatable</th>\n",
       "      <th>proc_loc</th>\n",
       "    </tr>\n",
       "  </thead>\n",
       "  <tbody>\n",
       "    <tr>\n",
       "      <th>0</th>\n",
       "      <td>0</td>\n",
       "      <td>2067319</td>\n",
       "      <td>details</td>\n",
       "      <td>https://www.bizbuysell.com/Business-Real-Estat...</td>\n",
       "      <td>Popular Marina in Central New Jersey in Middle...</td>\n",
       "      <td>It is fully owned by a man and his wife since ...</td>\n",
       "      <td>Middlesex</td>\n",
       "      <td>New Jersey</td>\n",
       "      <td>Middlesex County, NJ</td>\n",
       "      <td>Central New Jersey in Middlesex County, New Je...</td>\n",
       "      <td>...</td>\n",
       "      <td>2500000</td>\n",
       "      <td>False</td>\n",
       "      <td>False</td>\n",
       "      <td>False</td>\n",
       "      <td>False</td>\n",
       "      <td>Middlesex County, NJ</td>\n",
       "      <td>False</td>\n",
       "      <td>False</td>\n",
       "      <td>False</td>\n",
       "      <td>middlesex county, nj</td>\n",
       "    </tr>\n",
       "    <tr>\n",
       "      <th>1</th>\n",
       "      <td>1</td>\n",
       "      <td>1990890</td>\n",
       "      <td>details</td>\n",
       "      <td>https://www.bizbuysell.com/Business-Real-Estat...</td>\n",
       "      <td>High Exposure in Mays Landing, New Jersey - Bi...</td>\n",
       "      <td>AMAZING OPPORTUNITY! Priced to sell and ready ...</td>\n",
       "      <td>Mays Landing</td>\n",
       "      <td>New Jersey</td>\n",
       "      <td>Mays Landing, NJ (Atlantic County)</td>\n",
       "      <td>Mays Landing, New Jersey</td>\n",
       "      <td>...</td>\n",
       "      <td>225000</td>\n",
       "      <td>False</td>\n",
       "      <td>False</td>\n",
       "      <td>False</td>\n",
       "      <td>False</td>\n",
       "      <td>Mays Landing, NJ (Atlantic County)</td>\n",
       "      <td>False</td>\n",
       "      <td>False</td>\n",
       "      <td>False</td>\n",
       "      <td>mays landing, nj (atlantic county)</td>\n",
       "    </tr>\n",
       "    <tr>\n",
       "      <th>2</th>\n",
       "      <td>3</td>\n",
       "      <td>2039720</td>\n",
       "      <td>details</td>\n",
       "      <td>https://www.bizbuysell.com/Business-Real-Estat...</td>\n",
       "      <td>Duplex, Short term or Long term in Pinellas Co...</td>\n",
       "      <td>Rare Largo/Seminole area duplex centrally loca...</td>\n",
       "      <td>Pinellas</td>\n",
       "      <td>Florida</td>\n",
       "      <td>Pinellas County, FL</td>\n",
       "      <td>Pinellas County, Florida</td>\n",
       "      <td>...</td>\n",
       "      <td>595000</td>\n",
       "      <td>False</td>\n",
       "      <td>False</td>\n",
       "      <td>False</td>\n",
       "      <td>False</td>\n",
       "      <td>Pinellas County, FL</td>\n",
       "      <td>False</td>\n",
       "      <td>False</td>\n",
       "      <td>False</td>\n",
       "      <td>pinellas county, fl</td>\n",
       "    </tr>\n",
       "    <tr>\n",
       "      <th>3</th>\n",
       "      <td>4</td>\n",
       "      <td>1576680</td>\n",
       "      <td>details</td>\n",
       "      <td>https://www.bizbuysell.com/Business-Real-Estat...</td>\n",
       "      <td>Major Price Reduction Rest/Tavern/ 13,000sq. f...</td>\n",
       "      <td>Price reduced to $850. 000 MAKE AN OFFER!!!!!!...</td>\n",
       "      <td>Baltimore</td>\n",
       "      <td>Maryland</td>\n",
       "      <td>Baltimore, MD (Baltimore City County)</td>\n",
       "      <td>Baltimore, Maryland</td>\n",
       "      <td>...</td>\n",
       "      <td>1050000</td>\n",
       "      <td>False</td>\n",
       "      <td>False</td>\n",
       "      <td>False</td>\n",
       "      <td>False</td>\n",
       "      <td>Baltimore, MD (Baltimore City County)</td>\n",
       "      <td>False</td>\n",
       "      <td>False</td>\n",
       "      <td>False</td>\n",
       "      <td>baltimore, md (baltimore city county)</td>\n",
       "    </tr>\n",
       "    <tr>\n",
       "      <th>4</th>\n",
       "      <td>5</td>\n",
       "      <td>2087638</td>\n",
       "      <td>details</td>\n",
       "      <td>https://www.bizbuysell.com/Business-Real-Estat...</td>\n",
       "      <td>Business &amp; Real Estate in Casco, Michigan - Bi...</td>\n",
       "      <td>• The Business and the Real Estate are For Sal...</td>\n",
       "      <td>Casco</td>\n",
       "      <td>Michigan</td>\n",
       "      <td>Casco, MI (Saint Clair County)</td>\n",
       "      <td>Casco, Michigan</td>\n",
       "      <td>...</td>\n",
       "      <td>699900</td>\n",
       "      <td>False</td>\n",
       "      <td>False</td>\n",
       "      <td>False</td>\n",
       "      <td>False</td>\n",
       "      <td>Casco, MI (Saint Clair County)</td>\n",
       "      <td>False</td>\n",
       "      <td>False</td>\n",
       "      <td>False</td>\n",
       "      <td>casco, mi (saint clair county)</td>\n",
       "    </tr>\n",
       "  </tbody>\n",
       "</table>\n",
       "<p>5 rows × 24 columns</p>\n",
       "</div>"
      ],
      "text/plain": [
       "   Unnamed: 0       id      src   \n",
       "0           0  2067319  details  \\\n",
       "1           1  1990890  details   \n",
       "2           3  2039720  details   \n",
       "3           4  1576680  details   \n",
       "4           5  2087638  details   \n",
       "\n",
       "                                                 url   \n",
       "0  https://www.bizbuysell.com/Business-Real-Estat...  \\\n",
       "1  https://www.bizbuysell.com/Business-Real-Estat...   \n",
       "2  https://www.bizbuysell.com/Business-Real-Estat...   \n",
       "3  https://www.bizbuysell.com/Business-Real-Estat...   \n",
       "4  https://www.bizbuysell.com/Business-Real-Estat...   \n",
       "\n",
       "                                               title   \n",
       "0  Popular Marina in Central New Jersey in Middle...  \\\n",
       "1  High Exposure in Mays Landing, New Jersey - Bi...   \n",
       "2  Duplex, Short term or Long term in Pinellas Co...   \n",
       "3  Major Price Reduction Rest/Tavern/ 13,000sq. f...   \n",
       "4  Business & Real Estate in Casco, Michigan - Bi...   \n",
       "\n",
       "                                                desc         local   \n",
       "0  It is fully owned by a man and his wife since ...     Middlesex  \\\n",
       "1  AMAZING OPPORTUNITY! Priced to sell and ready ...  Mays Landing   \n",
       "2  Rare Largo/Seminole area duplex centrally loca...      Pinellas   \n",
       "3  Price reduced to $850. 000 MAKE AN OFFER!!!!!!...     Baltimore   \n",
       "4  • The Business and the Real Estate are For Sal...         Casco   \n",
       "\n",
       "       region                               location   \n",
       "0  New Jersey                   Middlesex County, NJ  \\\n",
       "1  New Jersey     Mays Landing, NJ (Atlantic County)   \n",
       "2     Florida                    Pinellas County, FL   \n",
       "3    Maryland  Baltimore, MD (Baltimore City County)   \n",
       "4    Michigan         Casco, MI (Saint Clair County)   \n",
       "\n",
       "                                           title_loc  ...    price franchise   \n",
       "0  Central New Jersey in Middlesex County, New Je...  ...  2500000     False  \\\n",
       "1                           Mays Landing, New Jersey  ...   225000     False   \n",
       "2                           Pinellas County, Florida  ...   595000     False   \n",
       "3                                Baltimore, Maryland  ...  1050000     False   \n",
       "4                                    Casco, Michigan  ...   699900     False   \n",
       "\n",
       "   lease auction   rent                             location_2  nationwide   \n",
       "0  False   False  False                   Middlesex County, NJ       False  \\\n",
       "1  False   False  False     Mays Landing, NJ (Atlantic County)       False   \n",
       "2  False   False  False                    Pinellas County, FL       False   \n",
       "3  False   False  False  Baltimore, MD (Baltimore City County)       False   \n",
       "4  False   False  False         Casco, MI (Saint Clair County)       False   \n",
       "\n",
       "   multiple_locations  relocatable                               proc_loc  \n",
       "0               False        False                   middlesex county, nj  \n",
       "1               False        False     mays landing, nj (atlantic county)  \n",
       "2               False        False                    pinellas county, fl  \n",
       "3               False        False  baltimore, md (baltimore city county)  \n",
       "4               False        False         casco, mi (saint clair county)  \n",
       "\n",
       "[5 rows x 24 columns]"
      ]
     },
     "execution_count": 5,
     "metadata": {},
     "output_type": "execute_result"
    }
   ],
   "source": [
    "dfr.head()"
   ]
  },
  {
   "cell_type": "code",
   "execution_count": 29,
   "id": "cabbe553",
   "metadata": {},
   "outputs": [],
   "source": [
    "#df=dfr[:5000]\n",
    "df=dfr"
   ]
  },
  {
   "cell_type": "code",
   "execution_count": 30,
   "id": "3beced37",
   "metadata": {},
   "outputs": [],
   "source": [
    "#df.shape"
   ]
  },
  {
   "cell_type": "code",
   "execution_count": 31,
   "id": "49b54610",
   "metadata": {},
   "outputs": [],
   "source": [
    "#df"
   ]
  },
  {
   "cell_type": "code",
   "execution_count": 32,
   "id": "708036cb",
   "metadata": {},
   "outputs": [],
   "source": [
    "import numpy as np"
   ]
  },
  {
   "cell_type": "code",
   "execution_count": 33,
   "id": "4fd52ace",
   "metadata": {},
   "outputs": [],
   "source": [
    "df['label_rand'] = np.random.randint(0,2, size=len(df))"
   ]
  },
  {
   "cell_type": "code",
   "execution_count": 34,
   "id": "1dd7ba0f",
   "metadata": {},
   "outputs": [],
   "source": [
    "df['label_median']=df['price'].apply(lambda p: 1 if p > df['price'].mean() else 0)"
   ]
  },
  {
   "cell_type": "code",
   "execution_count": 35,
   "id": "47f1de16",
   "metadata": {},
   "outputs": [],
   "source": [
    "df['label_q75']=df['price'].apply(lambda p: 1 if p > df['price'].quantile(.75) else 0)"
   ]
  },
  {
   "cell_type": "code",
   "execution_count": 36,
   "id": "5e7c5a2d",
   "metadata": {},
   "outputs": [],
   "source": [
    "df=df[['label_rand','label_median','label_q75','desc']]"
   ]
  },
  {
   "cell_type": "code",
   "execution_count": 37,
   "id": "2f57834b",
   "metadata": {},
   "outputs": [
    {
     "data": {
      "text/html": [
       "<div>\n",
       "<style scoped>\n",
       "    .dataframe tbody tr th:only-of-type {\n",
       "        vertical-align: middle;\n",
       "    }\n",
       "\n",
       "    .dataframe tbody tr th {\n",
       "        vertical-align: top;\n",
       "    }\n",
       "\n",
       "    .dataframe thead th {\n",
       "        text-align: right;\n",
       "    }\n",
       "</style>\n",
       "<table border=\"1\" class=\"dataframe\">\n",
       "  <thead>\n",
       "    <tr style=\"text-align: right;\">\n",
       "      <th></th>\n",
       "      <th>label_rand</th>\n",
       "      <th>label_median</th>\n",
       "      <th>label_q75</th>\n",
       "      <th>desc</th>\n",
       "    </tr>\n",
       "  </thead>\n",
       "  <tbody>\n",
       "    <tr>\n",
       "      <th>0</th>\n",
       "      <td>1</td>\n",
       "      <td>1</td>\n",
       "      <td>1</td>\n",
       "      <td>It is fully owned by a man and his wife since ...</td>\n",
       "    </tr>\n",
       "    <tr>\n",
       "      <th>1</th>\n",
       "      <td>0</td>\n",
       "      <td>0</td>\n",
       "      <td>0</td>\n",
       "      <td>AMAZING OPPORTUNITY! Priced to sell and ready ...</td>\n",
       "    </tr>\n",
       "    <tr>\n",
       "      <th>2</th>\n",
       "      <td>1</td>\n",
       "      <td>0</td>\n",
       "      <td>0</td>\n",
       "      <td>Rare Largo/Seminole area duplex centrally loca...</td>\n",
       "    </tr>\n",
       "    <tr>\n",
       "      <th>3</th>\n",
       "      <td>0</td>\n",
       "      <td>1</td>\n",
       "      <td>1</td>\n",
       "      <td>Price reduced to $850. 000 MAKE AN OFFER!!!!!!...</td>\n",
       "    </tr>\n",
       "    <tr>\n",
       "      <th>4</th>\n",
       "      <td>1</td>\n",
       "      <td>0</td>\n",
       "      <td>0</td>\n",
       "      <td>• The Business and the Real Estate are For Sal...</td>\n",
       "    </tr>\n",
       "    <tr>\n",
       "      <th>...</th>\n",
       "      <td>...</td>\n",
       "      <td>...</td>\n",
       "      <td>...</td>\n",
       "      <td>...</td>\n",
       "    </tr>\n",
       "    <tr>\n",
       "      <th>37768</th>\n",
       "      <td>1</td>\n",
       "      <td>0</td>\n",
       "      <td>0</td>\n",
       "      <td>166,446 SF Hotel For Sale</td>\n",
       "    </tr>\n",
       "    <tr>\n",
       "      <th>37769</th>\n",
       "      <td>1</td>\n",
       "      <td>0</td>\n",
       "      <td>0</td>\n",
       "      <td>We're changing the pizza industry by respectin...</td>\n",
       "    </tr>\n",
       "    <tr>\n",
       "      <th>37770</th>\n",
       "      <td>0</td>\n",
       "      <td>0</td>\n",
       "      <td>0</td>\n",
       "      <td>222,631 SF Distribution For Sale</td>\n",
       "    </tr>\n",
       "    <tr>\n",
       "      <th>37771</th>\n",
       "      <td>1</td>\n",
       "      <td>1</td>\n",
       "      <td>1</td>\n",
       "      <td>Great ROI, consistent recurring revenue, and l...</td>\n",
       "    </tr>\n",
       "    <tr>\n",
       "      <th>37772</th>\n",
       "      <td>0</td>\n",
       "      <td>0</td>\n",
       "      <td>0</td>\n",
       "      <td>Stand-alone building - Laundromat in a high tr...</td>\n",
       "    </tr>\n",
       "  </tbody>\n",
       "</table>\n",
       "<p>37773 rows × 4 columns</p>\n",
       "</div>"
      ],
      "text/plain": [
       "       label_rand  label_median  label_q75   \n",
       "0               1             1          1  \\\n",
       "1               0             0          0   \n",
       "2               1             0          0   \n",
       "3               0             1          1   \n",
       "4               1             0          0   \n",
       "...           ...           ...        ...   \n",
       "37768           1             0          0   \n",
       "37769           1             0          0   \n",
       "37770           0             0          0   \n",
       "37771           1             1          1   \n",
       "37772           0             0          0   \n",
       "\n",
       "                                                    desc  \n",
       "0      It is fully owned by a man and his wife since ...  \n",
       "1      AMAZING OPPORTUNITY! Priced to sell and ready ...  \n",
       "2      Rare Largo/Seminole area duplex centrally loca...  \n",
       "3      Price reduced to $850. 000 MAKE AN OFFER!!!!!!...  \n",
       "4      • The Business and the Real Estate are For Sal...  \n",
       "...                                                  ...  \n",
       "37768                          166,446 SF Hotel For Sale  \n",
       "37769  We're changing the pizza industry by respectin...  \n",
       "37770                   222,631 SF Distribution For Sale  \n",
       "37771  Great ROI, consistent recurring revenue, and l...  \n",
       "37772  Stand-alone building - Laundromat in a high tr...  \n",
       "\n",
       "[37773 rows x 4 columns]"
      ]
     },
     "execution_count": 37,
     "metadata": {},
     "output_type": "execute_result"
    }
   ],
   "source": [
    "df"
   ]
  },
  {
   "cell_type": "code",
   "execution_count": 38,
   "id": "50ca7e78",
   "metadata": {},
   "outputs": [],
   "source": [
    "df=df.dropna()"
   ]
  },
  {
   "cell_type": "code",
   "execution_count": 39,
   "id": "35539c23",
   "metadata": {},
   "outputs": [
    {
     "name": "stdout",
     "output_type": "stream",
     "text": [
      "<class 'pandas.core.frame.DataFrame'>\n",
      "Index: 37771 entries, 0 to 37772\n",
      "Data columns (total 4 columns):\n",
      " #   Column        Non-Null Count  Dtype \n",
      "---  ------        --------------  ----- \n",
      " 0   label_rand    37771 non-null  int64 \n",
      " 1   label_median  37771 non-null  int64 \n",
      " 2   label_q75     37771 non-null  int64 \n",
      " 3   desc          37771 non-null  object\n",
      "dtypes: int64(3), object(1)\n",
      "memory usage: 1.4+ MB\n"
     ]
    }
   ],
   "source": [
    "df.info()"
   ]
  },
  {
   "cell_type": "code",
   "execution_count": 52,
   "id": "49bde8de",
   "metadata": {},
   "outputs": [
    {
     "name": "stdout",
     "output_type": "stream",
     "text": [
      "(37771,)\n",
      "(37771,)\n"
     ]
    }
   ],
   "source": [
    "X = df.desc\n",
    "y = df.label_q75\n",
    "print(X.shape)\n",
    "print(y.shape)"
   ]
  },
  {
   "cell_type": "code",
   "execution_count": 53,
   "id": "09392fa4",
   "metadata": {},
   "outputs": [
    {
     "name": "stdout",
     "output_type": "stream",
     "text": [
      "(28328,)\n",
      "(9443,)\n",
      "(28328,)\n",
      "(9443,)\n"
     ]
    }
   ],
   "source": [
    "from sklearn.model_selection import train_test_split\n",
    "X_train, X_test, y_train, y_test = train_test_split(X, y, random_state=1)\n",
    "print(X_train.shape)\n",
    "print(X_test.shape)\n",
    "print(y_train.shape)\n",
    "print(y_test.shape)"
   ]
  },
  {
   "cell_type": "code",
   "execution_count": 54,
   "id": "5e499917",
   "metadata": {},
   "outputs": [],
   "source": [
    "from sklearn.feature_extraction.text import CountVectorizer"
   ]
  },
  {
   "cell_type": "code",
   "execution_count": 55,
   "id": "21f5478e",
   "metadata": {},
   "outputs": [],
   "source": [
    "# remove English stop words\n",
    "# include 1-grams and 2-grams\n",
    "# ignore terms that appear in more than 50% of the documents\n",
    "# only keep terms that appear in at least 20 documents\n",
    "vect = CountVectorizer(stop_words='english',ngram_range=(1, 2),max_df=0.5,min_df=20)"
   ]
  },
  {
   "cell_type": "code",
   "execution_count": 56,
   "id": "9250f7e4",
   "metadata": {},
   "outputs": [],
   "source": [
    "X_train_dtm = vect.fit_transform(X_train)"
   ]
  },
  {
   "cell_type": "code",
   "execution_count": 57,
   "id": "6c993e4f",
   "metadata": {},
   "outputs": [
    {
     "data": {
      "text/plain": [
       "<28328x19667 sparse matrix of type '<class 'numpy.int64'>'\n",
       "\twith 2532727 stored elements in Compressed Sparse Row format>"
      ]
     },
     "execution_count": 57,
     "metadata": {},
     "output_type": "execute_result"
    }
   ],
   "source": [
    "X_train_dtm"
   ]
  },
  {
   "cell_type": "code",
   "execution_count": 58,
   "id": "ec1f7948",
   "metadata": {},
   "outputs": [
    {
     "data": {
      "text/plain": [
       "<9443x19667 sparse matrix of type '<class 'numpy.int64'>'\n",
       "\twith 842436 stored elements in Compressed Sparse Row format>"
      ]
     },
     "execution_count": 58,
     "metadata": {},
     "output_type": "execute_result"
    }
   ],
   "source": [
    "X_test_dtm = vect.transform(X_test)\n",
    "X_test_dtm"
   ]
  },
  {
   "cell_type": "code",
   "execution_count": 59,
   "id": "b29d10a1",
   "metadata": {},
   "outputs": [],
   "source": [
    "from sklearn.naive_bayes import MultinomialNB"
   ]
  },
  {
   "cell_type": "code",
   "execution_count": 60,
   "id": "36c61f82",
   "metadata": {},
   "outputs": [],
   "source": [
    "nb = MultinomialNB()"
   ]
  },
  {
   "cell_type": "code",
   "execution_count": 61,
   "id": "6ac4c793",
   "metadata": {},
   "outputs": [
    {
     "name": "stdout",
     "output_type": "stream",
     "text": [
      "CPU times: user 17.8 ms, sys: 6.08 ms, total: 23.9 ms\n",
      "Wall time: 22 ms\n"
     ]
    },
    {
     "data": {
      "text/html": [
       "<style>#sk-container-id-3 {color: black;background-color: white;}#sk-container-id-3 pre{padding: 0;}#sk-container-id-3 div.sk-toggleable {background-color: white;}#sk-container-id-3 label.sk-toggleable__label {cursor: pointer;display: block;width: 100%;margin-bottom: 0;padding: 0.3em;box-sizing: border-box;text-align: center;}#sk-container-id-3 label.sk-toggleable__label-arrow:before {content: \"▸\";float: left;margin-right: 0.25em;color: #696969;}#sk-container-id-3 label.sk-toggleable__label-arrow:hover:before {color: black;}#sk-container-id-3 div.sk-estimator:hover label.sk-toggleable__label-arrow:before {color: black;}#sk-container-id-3 div.sk-toggleable__content {max-height: 0;max-width: 0;overflow: hidden;text-align: left;background-color: #f0f8ff;}#sk-container-id-3 div.sk-toggleable__content pre {margin: 0.2em;color: black;border-radius: 0.25em;background-color: #f0f8ff;}#sk-container-id-3 input.sk-toggleable__control:checked~div.sk-toggleable__content {max-height: 200px;max-width: 100%;overflow: auto;}#sk-container-id-3 input.sk-toggleable__control:checked~label.sk-toggleable__label-arrow:before {content: \"▾\";}#sk-container-id-3 div.sk-estimator input.sk-toggleable__control:checked~label.sk-toggleable__label {background-color: #d4ebff;}#sk-container-id-3 div.sk-label input.sk-toggleable__control:checked~label.sk-toggleable__label {background-color: #d4ebff;}#sk-container-id-3 input.sk-hidden--visually {border: 0;clip: rect(1px 1px 1px 1px);clip: rect(1px, 1px, 1px, 1px);height: 1px;margin: -1px;overflow: hidden;padding: 0;position: absolute;width: 1px;}#sk-container-id-3 div.sk-estimator {font-family: monospace;background-color: #f0f8ff;border: 1px dotted black;border-radius: 0.25em;box-sizing: border-box;margin-bottom: 0.5em;}#sk-container-id-3 div.sk-estimator:hover {background-color: #d4ebff;}#sk-container-id-3 div.sk-parallel-item::after {content: \"\";width: 100%;border-bottom: 1px solid gray;flex-grow: 1;}#sk-container-id-3 div.sk-label:hover label.sk-toggleable__label {background-color: #d4ebff;}#sk-container-id-3 div.sk-serial::before {content: \"\";position: absolute;border-left: 1px solid gray;box-sizing: border-box;top: 0;bottom: 0;left: 50%;z-index: 0;}#sk-container-id-3 div.sk-serial {display: flex;flex-direction: column;align-items: center;background-color: white;padding-right: 0.2em;padding-left: 0.2em;position: relative;}#sk-container-id-3 div.sk-item {position: relative;z-index: 1;}#sk-container-id-3 div.sk-parallel {display: flex;align-items: stretch;justify-content: center;background-color: white;position: relative;}#sk-container-id-3 div.sk-item::before, #sk-container-id-3 div.sk-parallel-item::before {content: \"\";position: absolute;border-left: 1px solid gray;box-sizing: border-box;top: 0;bottom: 0;left: 50%;z-index: -1;}#sk-container-id-3 div.sk-parallel-item {display: flex;flex-direction: column;z-index: 1;position: relative;background-color: white;}#sk-container-id-3 div.sk-parallel-item:first-child::after {align-self: flex-end;width: 50%;}#sk-container-id-3 div.sk-parallel-item:last-child::after {align-self: flex-start;width: 50%;}#sk-container-id-3 div.sk-parallel-item:only-child::after {width: 0;}#sk-container-id-3 div.sk-dashed-wrapped {border: 1px dashed gray;margin: 0 0.4em 0.5em 0.4em;box-sizing: border-box;padding-bottom: 0.4em;background-color: white;}#sk-container-id-3 div.sk-label label {font-family: monospace;font-weight: bold;display: inline-block;line-height: 1.2em;}#sk-container-id-3 div.sk-label-container {text-align: center;}#sk-container-id-3 div.sk-container {/* jupyter's `normalize.less` sets `[hidden] { display: none; }` but bootstrap.min.css set `[hidden] { display: none !important; }` so we also need the `!important` here to be able to override the default hidden behavior on the sphinx rendered scikit-learn.org. See: https://github.com/scikit-learn/scikit-learn/issues/21755 */display: inline-block !important;position: relative;}#sk-container-id-3 div.sk-text-repr-fallback {display: none;}</style><div id=\"sk-container-id-3\" class=\"sk-top-container\"><div class=\"sk-text-repr-fallback\"><pre>MultinomialNB()</pre><b>In a Jupyter environment, please rerun this cell to show the HTML representation or trust the notebook. <br />On GitHub, the HTML representation is unable to render, please try loading this page with nbviewer.org.</b></div><div class=\"sk-container\" hidden><div class=\"sk-item\"><div class=\"sk-estimator sk-toggleable\"><input class=\"sk-toggleable__control sk-hidden--visually\" id=\"sk-estimator-id-3\" type=\"checkbox\" checked><label for=\"sk-estimator-id-3\" class=\"sk-toggleable__label sk-toggleable__label-arrow\">MultinomialNB</label><div class=\"sk-toggleable__content\"><pre>MultinomialNB()</pre></div></div></div></div></div>"
      ],
      "text/plain": [
       "MultinomialNB()"
      ]
     },
     "execution_count": 61,
     "metadata": {},
     "output_type": "execute_result"
    }
   ],
   "source": [
    "%time nb.fit(X_train_dtm, y_train)"
   ]
  },
  {
   "cell_type": "code",
   "execution_count": 62,
   "id": "1347a93b",
   "metadata": {},
   "outputs": [],
   "source": [
    "y_pred_class = nb.predict(X_test_dtm)"
   ]
  },
  {
   "cell_type": "code",
   "execution_count": 63,
   "id": "0c61903a",
   "metadata": {},
   "outputs": [
    {
     "name": "stdout",
     "output_type": "stream",
     "text": [
      "\n",
      "High price words\t     P(High Price | word)\n",
      "       price million 0.96\n",
      "           price 950 0.96\n",
      "    knowledge highly 0.95\n",
      "                 pip 0.95\n",
      "               slips 0.94\n",
      "    estate knowledge 0.92\n",
      "        room revenue 0.92\n",
      "  highly diversified 0.91\n",
      " highly advantageous 0.91\n",
      "  building materials 0.91\n",
      "     playbook caters 0.91\n",
      "        caters multi 0.91\n",
      "transparency education 0.91\n",
      " education resulting 0.91\n",
      " focused scalability 0.91\n",
      "      component time 0.91\n",
      "     fleet component 0.91\n",
      "scalability consolidation 0.91\n",
      "   tested operations 0.91\n",
      " operations playbook 0.91\n",
      "         major fleet 0.91\n",
      "        retail major 0.91\n",
      "created transparency 0.91\n",
      "         ebitda 2022 0.91\n",
      "      multiple trade 0.90\n",
      "           price 000 0.90\n",
      "   focused collision 0.89\n",
      "essential technology 0.89\n",
      "      resulting high 0.89\n",
      "         data driven 0.89\n",
      "\n",
      "Low price words\t     P(High Price | word)\n",
      "            pool man 0.01\n",
      "    millionaire pool 0.01\n",
      "  compete successful 0.01\n",
      "successful millionaire 0.01\n",
      "         route start 0.01\n",
      "    extras excellent 0.01\n",
      " reoccurring billing 0.01\n",
      "          plus minor 0.01\n",
      "      repairs income 0.01\n",
      "     career swimming 0.01\n",
      "       service route 0.01\n",
      "       accounts year 0.01\n",
      "  guarantee transfer 0.01\n",
      "        start career 0.01\n",
      "     train guarantee 0.01\n",
      "       mission foods 0.01\n",
      "       flowers bread 0.01\n",
      "  overhead recurring 0.01\n",
      "      existing route 0.01\n",
      "      seller charges 0.01\n",
      " accounts commercial 0.01\n",
      "         route owner 0.01\n",
      "   distributes known 0.01\n",
      "      op advertising 0.01\n",
      "    tutoring company 0.01\n",
      "currently distributes 0.01\n",
      "              tutors 0.00\n",
      "     online tutoring 0.00\n",
      "               tutor 0.00\n",
      "         bread route 0.00\n"
     ]
    }
   ],
   "source": [
    "words = np.array(vect.get_feature_names_out())\n",
    "\n",
    "x = np.eye(X_test_dtm.shape[1])\n",
    "probs = nb.predict_log_proba(x)[:, 0]\n",
    "ind = np.argsort(probs)\n",
    "\n",
    "good_words = words[ind[:30]]\n",
    "bad_words = words[ind[-30:]]\n",
    "\n",
    "good_prob = probs[ind[:30]]\n",
    "bad_prob = probs[ind[-30:]]\n",
    "\n",
    "print()\n",
    "print(\"High price words\\t     P(High Price | word)\")\n",
    "for w, p in zip(good_words, good_prob):\n",
    "    print(\"{:>20}\".format(w), \"{:.2f}\".format(1 - np.exp(p)))\n",
    "\n",
    "print()\n",
    "print(\"Low price words\\t     P(High Price | word)\")\n",
    "for w, p in zip(bad_words, bad_prob):\n",
    "    print(\"{:>20}\".format(w), \"{:.2f}\".format(1 - np.exp(p)))"
   ]
  },
  {
   "cell_type": "code",
   "execution_count": null,
   "id": "3fabe512",
   "metadata": {},
   "outputs": [],
   "source": []
  }
 ],
 "metadata": {
  "kernelspec": {
   "display_name": "Python 3 (ipykernel)",
   "language": "python",
   "name": "python3"
  },
  "language_info": {
   "codemirror_mode": {
    "name": "ipython",
    "version": 3
   },
   "file_extension": ".py",
   "mimetype": "text/x-python",
   "name": "python",
   "nbconvert_exporter": "python",
   "pygments_lexer": "ipython3",
   "version": "3.9.7"
  }
 },
 "nbformat": 4,
 "nbformat_minor": 5
}
