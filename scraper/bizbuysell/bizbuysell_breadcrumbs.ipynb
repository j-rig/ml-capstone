{
 "cells": [
  {
   "cell_type": "code",
   "execution_count": 3,
   "id": "fc6eb607",
   "metadata": {},
   "outputs": [],
   "source": [
    "import warnings\n",
    "warnings.filterwarnings('ignore')"
   ]
  },
  {
   "cell_type": "code",
   "execution_count": 4,
   "id": "17869de1",
   "metadata": {},
   "outputs": [],
   "source": [
    "import pandas as pd"
   ]
  },
  {
   "cell_type": "code",
   "execution_count": 5,
   "id": "4ae7711d",
   "metadata": {},
   "outputs": [],
   "source": [
    "df_d=pd.read_json('bizbuysell.detail.lines.json',lines=True)"
   ]
  },
  {
   "cell_type": "code",
   "execution_count": 6,
   "id": "9474f2ae",
   "metadata": {},
   "outputs": [],
   "source": [
    "df_l=pd.read_json('bizbuysell.list.lines.json',lines=True)"
   ]
  },
  {
   "cell_type": "code",
   "execution_count": 34,
   "id": "d1882e83",
   "metadata": {},
   "outputs": [
    {
     "data": {
      "text/html": [
       "<div>\n",
       "<style scoped>\n",
       "    .dataframe tbody tr th:only-of-type {\n",
       "        vertical-align: middle;\n",
       "    }\n",
       "\n",
       "    .dataframe tbody tr th {\n",
       "        vertical-align: top;\n",
       "    }\n",
       "\n",
       "    .dataframe thead th {\n",
       "        text-align: right;\n",
       "    }\n",
       "</style>\n",
       "<table border=\"1\" class=\"dataframe\">\n",
       "  <thead>\n",
       "    <tr style=\"text-align: right;\">\n",
       "      <th></th>\n",
       "      <th>s_breadcrumbs</th>\n",
       "      <th>_breadcrumbs</th>\n",
       "      <th>breadcrumbs</th>\n",
       "    </tr>\n",
       "  </thead>\n",
       "  <tbody>\n",
       "    <tr>\n",
       "      <th>8044</th>\n",
       "      <td></td>\n",
       "      <td></td>\n",
       "      <td></td>\n",
       "    </tr>\n",
       "    <tr>\n",
       "      <th>13483</th>\n",
       "      <td>Wasilla, AK Accounting Businesses and Tax Prac...</td>\n",
       "      <td>wasilla, ak accounting businesses and tax prac...</td>\n",
       "      <td>ak accounting businesses and tax practices fo...</td>\n",
       "    </tr>\n",
       "    <tr>\n",
       "      <th>13228</th>\n",
       "      <td>Tok, AK Agriculture Businesses For Sale</td>\n",
       "      <td>tok, ak agriculture businesses for sale</td>\n",
       "      <td>ak agriculture businesses for sale</td>\n",
       "    </tr>\n",
       "    <tr>\n",
       "      <th>13323</th>\n",
       "      <td>Lake &amp; Peninsula County, AK All Non-Classifiab...</td>\n",
       "      <td>lake &amp; peninsula county, ak all non-classifiab...</td>\n",
       "      <td>ak all non-classifiable establishments for sale</td>\n",
       "    </tr>\n",
       "    <tr>\n",
       "      <th>13250</th>\n",
       "      <td>Sitka County, AK American Restaurants For Sale</td>\n",
       "      <td>sitka county, ak american restaurants for sale</td>\n",
       "      <td>ak american restaurants for sale</td>\n",
       "    </tr>\n",
       "    <tr>\n",
       "      <th>...</th>\n",
       "      <td>...</td>\n",
       "      <td>...</td>\n",
       "      <td>...</td>\n",
       "    </tr>\n",
       "    <tr>\n",
       "      <th>29675</th>\n",
       "      <td>Zebulon</td>\n",
       "      <td>zebulon</td>\n",
       "      <td>zebulon</td>\n",
       "    </tr>\n",
       "    <tr>\n",
       "      <th>10467</th>\n",
       "      <td>Zephyrhills</td>\n",
       "      <td>zephyrhills</td>\n",
       "      <td>zephyrhills</td>\n",
       "    </tr>\n",
       "    <tr>\n",
       "      <th>17482</th>\n",
       "      <td>Zion</td>\n",
       "      <td>zion</td>\n",
       "      <td>zion</td>\n",
       "    </tr>\n",
       "    <tr>\n",
       "      <th>26872</th>\n",
       "      <td>Zionsville</td>\n",
       "      <td>zionsville</td>\n",
       "      <td>zionsville</td>\n",
       "    </tr>\n",
       "    <tr>\n",
       "      <th>19220</th>\n",
       "      <td>Zumbro Falls</td>\n",
       "      <td>zumbro falls</td>\n",
       "      <td>zumbro falls</td>\n",
       "    </tr>\n",
       "  </tbody>\n",
       "</table>\n",
       "<p>16691 rows × 3 columns</p>\n",
       "</div>"
      ],
      "text/plain": [
       "                                           s_breadcrumbs   \n",
       "8044                                                      \\\n",
       "13483  Wasilla, AK Accounting Businesses and Tax Prac...   \n",
       "13228            Tok, AK Agriculture Businesses For Sale   \n",
       "13323  Lake & Peninsula County, AK All Non-Classifiab...   \n",
       "13250     Sitka County, AK American Restaurants For Sale   \n",
       "...                                                  ...   \n",
       "29675                                            Zebulon   \n",
       "10467                                        Zephyrhills   \n",
       "17482                                               Zion   \n",
       "26872                                         Zionsville   \n",
       "19220                                       Zumbro Falls   \n",
       "\n",
       "                                            _breadcrumbs   \n",
       "8044                                                      \\\n",
       "13483  wasilla, ak accounting businesses and tax prac...   \n",
       "13228            tok, ak agriculture businesses for sale   \n",
       "13323  lake & peninsula county, ak all non-classifiab...   \n",
       "13250     sitka county, ak american restaurants for sale   \n",
       "...                                                  ...   \n",
       "29675                                            zebulon   \n",
       "10467                                        zephyrhills   \n",
       "17482                                               zion   \n",
       "26872                                         zionsville   \n",
       "19220                                       zumbro falls   \n",
       "\n",
       "                                             breadcrumbs  \n",
       "8044                                                      \n",
       "13483   ak accounting businesses and tax practices fo...  \n",
       "13228                 ak agriculture businesses for sale  \n",
       "13323    ak all non-classifiable establishments for sale  \n",
       "13250                   ak american restaurants for sale  \n",
       "...                                                  ...  \n",
       "29675                                            zebulon  \n",
       "10467                                        zephyrhills  \n",
       "17482                                               zion  \n",
       "26872                                         zionsville  \n",
       "19220                                       zumbro falls  \n",
       "\n",
       "[16691 rows x 3 columns]"
      ]
     },
     "execution_count": 34,
     "metadata": {},
     "output_type": "execute_result"
    }
   ],
   "source": [
    "df=pd.concat([df_d[['s_breadcrumbs']],df_l[['s_breadcrumbs']]])\n",
    "df=df.dropna()\n",
    "df=df.explode('s_breadcrumbs')\n",
    "df['_breadcrumbs']=df['s_breadcrumbs'].apply(lambda x: str(x).lower().strip())\n",
    "df['breadcrumbs']=df['_breadcrumbs'].apply(lambda x: list(str(x).split(',')))\n",
    "df=df.explode('breadcrumbs')\n",
    "df=df.drop_duplicates(subset='breadcrumbs')\n",
    "df.sort_values('breadcrumbs')"
   ]
  },
  {
   "cell_type": "code",
   "execution_count": 35,
   "id": "74929ff5",
   "metadata": {},
   "outputs": [
    {
     "data": {
      "text/html": [
       "<div>\n",
       "<style scoped>\n",
       "    .dataframe tbody tr th:only-of-type {\n",
       "        vertical-align: middle;\n",
       "    }\n",
       "\n",
       "    .dataframe tbody tr th {\n",
       "        vertical-align: top;\n",
       "    }\n",
       "\n",
       "    .dataframe thead th {\n",
       "        text-align: right;\n",
       "    }\n",
       "</style>\n",
       "<table border=\"1\" class=\"dataframe\">\n",
       "  <thead>\n",
       "    <tr style=\"text-align: right;\">\n",
       "      <th></th>\n",
       "      <th>s_breadcrumbs</th>\n",
       "      <th>_breadcrumbs</th>\n",
       "      <th>breadcrumbs</th>\n",
       "    </tr>\n",
       "  </thead>\n",
       "  <tbody>\n",
       "    <tr>\n",
       "      <th>0</th>\n",
       "      <td>Real Estate For Sale</td>\n",
       "      <td>real estate for sale</td>\n",
       "      <td>real estate for sale</td>\n",
       "    </tr>\n",
       "    <tr>\n",
       "      <th>0</th>\n",
       "      <td>New Jersey</td>\n",
       "      <td>new jersey</td>\n",
       "      <td>new jersey</td>\n",
       "    </tr>\n",
       "    <tr>\n",
       "      <th>0</th>\n",
       "      <td>Marinas and Fishing</td>\n",
       "      <td>marinas and fishing</td>\n",
       "      <td>marinas and fishing</td>\n",
       "    </tr>\n",
       "    <tr>\n",
       "      <th>0</th>\n",
       "      <td>Middlesex County</td>\n",
       "      <td>middlesex county</td>\n",
       "      <td>middlesex county</td>\n",
       "    </tr>\n",
       "    <tr>\n",
       "      <th>1</th>\n",
       "      <td>Other</td>\n",
       "      <td>other</td>\n",
       "      <td>other</td>\n",
       "    </tr>\n",
       "  </tbody>\n",
       "</table>\n",
       "</div>"
      ],
      "text/plain": [
       "          s_breadcrumbs          _breadcrumbs           breadcrumbs\n",
       "0  Real Estate For Sale  real estate for sale  real estate for sale\n",
       "0            New Jersey            new jersey            new jersey\n",
       "0   Marinas and Fishing   marinas and fishing   marinas and fishing\n",
       "0      Middlesex County      middlesex county      middlesex county\n",
       "1                 Other                 other                 other"
      ]
     },
     "execution_count": 35,
     "metadata": {},
     "output_type": "execute_result"
    }
   ],
   "source": [
    "df.head()"
   ]
  },
  {
   "cell_type": "code",
   "execution_count": 28,
   "id": "4ec7e3c8",
   "metadata": {},
   "outputs": [],
   "source": [
    "#breadcrumbs=df['breadcrumbs'].to_list()"
   ]
  },
  {
   "cell_type": "code",
   "execution_count": 30,
   "id": "fb3096a2",
   "metadata": {},
   "outputs": [],
   "source": [
    "#df['breadcrumbs'].to_pickle('breadcrumbs.pkl')"
   ]
  },
  {
   "cell_type": "code",
   "execution_count": null,
   "id": "44c12ae5",
   "metadata": {},
   "outputs": [],
   "source": [
    "#TODO needs work"
   ]
  }
 ],
 "metadata": {
  "kernelspec": {
   "display_name": "Python 3 (ipykernel)",
   "language": "python",
   "name": "python3"
  },
  "language_info": {
   "codemirror_mode": {
    "name": "ipython",
    "version": 3
   },
   "file_extension": ".py",
   "mimetype": "text/x-python",
   "name": "python",
   "nbconvert_exporter": "python",
   "pygments_lexer": "ipython3",
   "version": "3.9.7"
  }
 },
 "nbformat": 4,
 "nbformat_minor": 5
}
