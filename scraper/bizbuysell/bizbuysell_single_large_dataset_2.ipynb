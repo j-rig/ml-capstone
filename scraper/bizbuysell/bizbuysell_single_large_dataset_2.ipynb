{
 "cells": [
  {
   "cell_type": "code",
   "execution_count": 93,
   "id": "dc5c2892",
   "metadata": {},
   "outputs": [],
   "source": [
    "import warnings\n",
    "warnings.filterwarnings('ignore')"
   ]
  },
  {
   "cell_type": "code",
   "execution_count": 94,
   "id": "2cce1716",
   "metadata": {},
   "outputs": [],
   "source": [
    "# https://www.ritchieng.com/machine-learning-multinomial-naive-bayes-vectorization/"
   ]
  },
  {
   "cell_type": "code",
   "execution_count": 95,
   "id": "60d2e60e",
   "metadata": {},
   "outputs": [],
   "source": [
    "import pandas as pd"
   ]
  },
  {
   "cell_type": "code",
   "execution_count": 96,
   "id": "98f0cf58",
   "metadata": {},
   "outputs": [],
   "source": [
    "df=pd.read_excel('bizbuysell.single.large.ds.xlsx')"
   ]
  },
  {
   "cell_type": "code",
   "execution_count": 97,
   "id": "c6cf5a22",
   "metadata": {},
   "outputs": [
    {
     "data": {
      "text/html": [
       "<div>\n",
       "<style scoped>\n",
       "    .dataframe tbody tr th:only-of-type {\n",
       "        vertical-align: middle;\n",
       "    }\n",
       "\n",
       "    .dataframe tbody tr th {\n",
       "        vertical-align: top;\n",
       "    }\n",
       "\n",
       "    .dataframe thead th {\n",
       "        text-align: right;\n",
       "    }\n",
       "</style>\n",
       "<table border=\"1\" class=\"dataframe\">\n",
       "  <thead>\n",
       "    <tr style=\"text-align: right;\">\n",
       "      <th></th>\n",
       "      <th>Unnamed: 0</th>\n",
       "      <th>id</th>\n",
       "      <th>src</th>\n",
       "      <th>url</th>\n",
       "      <th>title</th>\n",
       "      <th>desc</th>\n",
       "      <th>local</th>\n",
       "      <th>region</th>\n",
       "      <th>location</th>\n",
       "      <th>title_loc</th>\n",
       "      <th>...</th>\n",
       "      <th>price</th>\n",
       "      <th>franchise</th>\n",
       "      <th>lease</th>\n",
       "      <th>auction</th>\n",
       "      <th>rent</th>\n",
       "      <th>location_2</th>\n",
       "      <th>nationwide</th>\n",
       "      <th>multiple_locations</th>\n",
       "      <th>relocatable</th>\n",
       "      <th>proc_loc</th>\n",
       "    </tr>\n",
       "  </thead>\n",
       "  <tbody>\n",
       "    <tr>\n",
       "      <th>0</th>\n",
       "      <td>0</td>\n",
       "      <td>2067319</td>\n",
       "      <td>details</td>\n",
       "      <td>https://www.bizbuysell.com/Business-Real-Estat...</td>\n",
       "      <td>Popular Marina in Central New Jersey in Middle...</td>\n",
       "      <td>It is fully owned by a man and his wife since ...</td>\n",
       "      <td>Middlesex</td>\n",
       "      <td>New Jersey</td>\n",
       "      <td>Middlesex County, NJ</td>\n",
       "      <td>Central New Jersey in Middlesex County, New Je...</td>\n",
       "      <td>...</td>\n",
       "      <td>2500000</td>\n",
       "      <td>False</td>\n",
       "      <td>False</td>\n",
       "      <td>False</td>\n",
       "      <td>False</td>\n",
       "      <td>Middlesex County, NJ</td>\n",
       "      <td>False</td>\n",
       "      <td>False</td>\n",
       "      <td>False</td>\n",
       "      <td>middlesex county, nj</td>\n",
       "    </tr>\n",
       "    <tr>\n",
       "      <th>1</th>\n",
       "      <td>1</td>\n",
       "      <td>1990890</td>\n",
       "      <td>details</td>\n",
       "      <td>https://www.bizbuysell.com/Business-Real-Estat...</td>\n",
       "      <td>High Exposure in Mays Landing, New Jersey - Bi...</td>\n",
       "      <td>AMAZING OPPORTUNITY! Priced to sell and ready ...</td>\n",
       "      <td>Mays Landing</td>\n",
       "      <td>New Jersey</td>\n",
       "      <td>Mays Landing, NJ (Atlantic County)</td>\n",
       "      <td>Mays Landing, New Jersey</td>\n",
       "      <td>...</td>\n",
       "      <td>225000</td>\n",
       "      <td>False</td>\n",
       "      <td>False</td>\n",
       "      <td>False</td>\n",
       "      <td>False</td>\n",
       "      <td>Mays Landing, NJ (Atlantic County)</td>\n",
       "      <td>False</td>\n",
       "      <td>False</td>\n",
       "      <td>False</td>\n",
       "      <td>mays landing, nj (atlantic county)</td>\n",
       "    </tr>\n",
       "    <tr>\n",
       "      <th>2</th>\n",
       "      <td>3</td>\n",
       "      <td>2039720</td>\n",
       "      <td>details</td>\n",
       "      <td>https://www.bizbuysell.com/Business-Real-Estat...</td>\n",
       "      <td>Duplex, Short term or Long term in Pinellas Co...</td>\n",
       "      <td>Rare Largo/Seminole area duplex centrally loca...</td>\n",
       "      <td>Pinellas</td>\n",
       "      <td>Florida</td>\n",
       "      <td>Pinellas County, FL</td>\n",
       "      <td>Pinellas County, Florida</td>\n",
       "      <td>...</td>\n",
       "      <td>595000</td>\n",
       "      <td>False</td>\n",
       "      <td>False</td>\n",
       "      <td>False</td>\n",
       "      <td>False</td>\n",
       "      <td>Pinellas County, FL</td>\n",
       "      <td>False</td>\n",
       "      <td>False</td>\n",
       "      <td>False</td>\n",
       "      <td>pinellas county, fl</td>\n",
       "    </tr>\n",
       "    <tr>\n",
       "      <th>3</th>\n",
       "      <td>4</td>\n",
       "      <td>1576680</td>\n",
       "      <td>details</td>\n",
       "      <td>https://www.bizbuysell.com/Business-Real-Estat...</td>\n",
       "      <td>Major Price Reduction Rest/Tavern/ 13,000sq. f...</td>\n",
       "      <td>Price reduced to $850. 000 MAKE AN OFFER!!!!!!...</td>\n",
       "      <td>Baltimore</td>\n",
       "      <td>Maryland</td>\n",
       "      <td>Baltimore, MD (Baltimore City County)</td>\n",
       "      <td>Baltimore, Maryland</td>\n",
       "      <td>...</td>\n",
       "      <td>1050000</td>\n",
       "      <td>False</td>\n",
       "      <td>False</td>\n",
       "      <td>False</td>\n",
       "      <td>False</td>\n",
       "      <td>Baltimore, MD (Baltimore City County)</td>\n",
       "      <td>False</td>\n",
       "      <td>False</td>\n",
       "      <td>False</td>\n",
       "      <td>baltimore, md (baltimore city county)</td>\n",
       "    </tr>\n",
       "    <tr>\n",
       "      <th>4</th>\n",
       "      <td>5</td>\n",
       "      <td>2087638</td>\n",
       "      <td>details</td>\n",
       "      <td>https://www.bizbuysell.com/Business-Real-Estat...</td>\n",
       "      <td>Business &amp; Real Estate in Casco, Michigan - Bi...</td>\n",
       "      <td>• The Business and the Real Estate are For Sal...</td>\n",
       "      <td>Casco</td>\n",
       "      <td>Michigan</td>\n",
       "      <td>Casco, MI (Saint Clair County)</td>\n",
       "      <td>Casco, Michigan</td>\n",
       "      <td>...</td>\n",
       "      <td>699900</td>\n",
       "      <td>False</td>\n",
       "      <td>False</td>\n",
       "      <td>False</td>\n",
       "      <td>False</td>\n",
       "      <td>Casco, MI (Saint Clair County)</td>\n",
       "      <td>False</td>\n",
       "      <td>False</td>\n",
       "      <td>False</td>\n",
       "      <td>casco, mi (saint clair county)</td>\n",
       "    </tr>\n",
       "  </tbody>\n",
       "</table>\n",
       "<p>5 rows × 24 columns</p>\n",
       "</div>"
      ],
      "text/plain": [
       "   Unnamed: 0       id      src   \n",
       "0           0  2067319  details  \\\n",
       "1           1  1990890  details   \n",
       "2           3  2039720  details   \n",
       "3           4  1576680  details   \n",
       "4           5  2087638  details   \n",
       "\n",
       "                                                 url   \n",
       "0  https://www.bizbuysell.com/Business-Real-Estat...  \\\n",
       "1  https://www.bizbuysell.com/Business-Real-Estat...   \n",
       "2  https://www.bizbuysell.com/Business-Real-Estat...   \n",
       "3  https://www.bizbuysell.com/Business-Real-Estat...   \n",
       "4  https://www.bizbuysell.com/Business-Real-Estat...   \n",
       "\n",
       "                                               title   \n",
       "0  Popular Marina in Central New Jersey in Middle...  \\\n",
       "1  High Exposure in Mays Landing, New Jersey - Bi...   \n",
       "2  Duplex, Short term or Long term in Pinellas Co...   \n",
       "3  Major Price Reduction Rest/Tavern/ 13,000sq. f...   \n",
       "4  Business & Real Estate in Casco, Michigan - Bi...   \n",
       "\n",
       "                                                desc         local   \n",
       "0  It is fully owned by a man and his wife since ...     Middlesex  \\\n",
       "1  AMAZING OPPORTUNITY! Priced to sell and ready ...  Mays Landing   \n",
       "2  Rare Largo/Seminole area duplex centrally loca...      Pinellas   \n",
       "3  Price reduced to $850. 000 MAKE AN OFFER!!!!!!...     Baltimore   \n",
       "4  • The Business and the Real Estate are For Sal...         Casco   \n",
       "\n",
       "       region                               location   \n",
       "0  New Jersey                   Middlesex County, NJ  \\\n",
       "1  New Jersey     Mays Landing, NJ (Atlantic County)   \n",
       "2     Florida                    Pinellas County, FL   \n",
       "3    Maryland  Baltimore, MD (Baltimore City County)   \n",
       "4    Michigan         Casco, MI (Saint Clair County)   \n",
       "\n",
       "                                           title_loc  ...    price franchise   \n",
       "0  Central New Jersey in Middlesex County, New Je...  ...  2500000     False  \\\n",
       "1                           Mays Landing, New Jersey  ...   225000     False   \n",
       "2                           Pinellas County, Florida  ...   595000     False   \n",
       "3                                Baltimore, Maryland  ...  1050000     False   \n",
       "4                                    Casco, Michigan  ...   699900     False   \n",
       "\n",
       "   lease auction   rent                             location_2  nationwide   \n",
       "0  False   False  False                   Middlesex County, NJ       False  \\\n",
       "1  False   False  False     Mays Landing, NJ (Atlantic County)       False   \n",
       "2  False   False  False                    Pinellas County, FL       False   \n",
       "3  False   False  False  Baltimore, MD (Baltimore City County)       False   \n",
       "4  False   False  False         Casco, MI (Saint Clair County)       False   \n",
       "\n",
       "   multiple_locations  relocatable                               proc_loc  \n",
       "0               False        False                   middlesex county, nj  \n",
       "1               False        False     mays landing, nj (atlantic county)  \n",
       "2               False        False                    pinellas county, fl  \n",
       "3               False        False  baltimore, md (baltimore city county)  \n",
       "4               False        False         casco, mi (saint clair county)  \n",
       "\n",
       "[5 rows x 24 columns]"
      ]
     },
     "execution_count": 97,
     "metadata": {},
     "output_type": "execute_result"
    }
   ],
   "source": [
    "df.head()"
   ]
  },
  {
   "cell_type": "code",
   "execution_count": 98,
   "id": "cabbe553",
   "metadata": {},
   "outputs": [],
   "source": [
    "df=df[:1000]"
   ]
  },
  {
   "cell_type": "code",
   "execution_count": 99,
   "id": "3beced37",
   "metadata": {},
   "outputs": [
    {
     "data": {
      "text/plain": [
       "(1000, 24)"
      ]
     },
     "execution_count": 99,
     "metadata": {},
     "output_type": "execute_result"
    }
   ],
   "source": [
    "df.shape"
   ]
  },
  {
   "cell_type": "code",
   "execution_count": 100,
   "id": "49b54610",
   "metadata": {},
   "outputs": [
    {
     "data": {
      "text/html": [
       "<div>\n",
       "<style scoped>\n",
       "    .dataframe tbody tr th:only-of-type {\n",
       "        vertical-align: middle;\n",
       "    }\n",
       "\n",
       "    .dataframe tbody tr th {\n",
       "        vertical-align: top;\n",
       "    }\n",
       "\n",
       "    .dataframe thead th {\n",
       "        text-align: right;\n",
       "    }\n",
       "</style>\n",
       "<table border=\"1\" class=\"dataframe\">\n",
       "  <thead>\n",
       "    <tr style=\"text-align: right;\">\n",
       "      <th></th>\n",
       "      <th>Unnamed: 0</th>\n",
       "      <th>id</th>\n",
       "      <th>src</th>\n",
       "      <th>url</th>\n",
       "      <th>title</th>\n",
       "      <th>desc</th>\n",
       "      <th>local</th>\n",
       "      <th>region</th>\n",
       "      <th>location</th>\n",
       "      <th>title_loc</th>\n",
       "      <th>...</th>\n",
       "      <th>price</th>\n",
       "      <th>franchise</th>\n",
       "      <th>lease</th>\n",
       "      <th>auction</th>\n",
       "      <th>rent</th>\n",
       "      <th>location_2</th>\n",
       "      <th>nationwide</th>\n",
       "      <th>multiple_locations</th>\n",
       "      <th>relocatable</th>\n",
       "      <th>proc_loc</th>\n",
       "    </tr>\n",
       "  </thead>\n",
       "  <tbody>\n",
       "    <tr>\n",
       "      <th>0</th>\n",
       "      <td>0</td>\n",
       "      <td>2067319</td>\n",
       "      <td>details</td>\n",
       "      <td>https://www.bizbuysell.com/Business-Real-Estat...</td>\n",
       "      <td>Popular Marina in Central New Jersey in Middle...</td>\n",
       "      <td>It is fully owned by a man and his wife since ...</td>\n",
       "      <td>Middlesex</td>\n",
       "      <td>New Jersey</td>\n",
       "      <td>Middlesex County, NJ</td>\n",
       "      <td>Central New Jersey in Middlesex County, New Je...</td>\n",
       "      <td>...</td>\n",
       "      <td>2500000</td>\n",
       "      <td>False</td>\n",
       "      <td>False</td>\n",
       "      <td>False</td>\n",
       "      <td>False</td>\n",
       "      <td>Middlesex County, NJ</td>\n",
       "      <td>False</td>\n",
       "      <td>False</td>\n",
       "      <td>False</td>\n",
       "      <td>middlesex county, nj</td>\n",
       "    </tr>\n",
       "    <tr>\n",
       "      <th>1</th>\n",
       "      <td>1</td>\n",
       "      <td>1990890</td>\n",
       "      <td>details</td>\n",
       "      <td>https://www.bizbuysell.com/Business-Real-Estat...</td>\n",
       "      <td>High Exposure in Mays Landing, New Jersey - Bi...</td>\n",
       "      <td>AMAZING OPPORTUNITY! Priced to sell and ready ...</td>\n",
       "      <td>Mays Landing</td>\n",
       "      <td>New Jersey</td>\n",
       "      <td>Mays Landing, NJ (Atlantic County)</td>\n",
       "      <td>Mays Landing, New Jersey</td>\n",
       "      <td>...</td>\n",
       "      <td>225000</td>\n",
       "      <td>False</td>\n",
       "      <td>False</td>\n",
       "      <td>False</td>\n",
       "      <td>False</td>\n",
       "      <td>Mays Landing, NJ (Atlantic County)</td>\n",
       "      <td>False</td>\n",
       "      <td>False</td>\n",
       "      <td>False</td>\n",
       "      <td>mays landing, nj (atlantic county)</td>\n",
       "    </tr>\n",
       "    <tr>\n",
       "      <th>2</th>\n",
       "      <td>3</td>\n",
       "      <td>2039720</td>\n",
       "      <td>details</td>\n",
       "      <td>https://www.bizbuysell.com/Business-Real-Estat...</td>\n",
       "      <td>Duplex, Short term or Long term in Pinellas Co...</td>\n",
       "      <td>Rare Largo/Seminole area duplex centrally loca...</td>\n",
       "      <td>Pinellas</td>\n",
       "      <td>Florida</td>\n",
       "      <td>Pinellas County, FL</td>\n",
       "      <td>Pinellas County, Florida</td>\n",
       "      <td>...</td>\n",
       "      <td>595000</td>\n",
       "      <td>False</td>\n",
       "      <td>False</td>\n",
       "      <td>False</td>\n",
       "      <td>False</td>\n",
       "      <td>Pinellas County, FL</td>\n",
       "      <td>False</td>\n",
       "      <td>False</td>\n",
       "      <td>False</td>\n",
       "      <td>pinellas county, fl</td>\n",
       "    </tr>\n",
       "    <tr>\n",
       "      <th>3</th>\n",
       "      <td>4</td>\n",
       "      <td>1576680</td>\n",
       "      <td>details</td>\n",
       "      <td>https://www.bizbuysell.com/Business-Real-Estat...</td>\n",
       "      <td>Major Price Reduction Rest/Tavern/ 13,000sq. f...</td>\n",
       "      <td>Price reduced to $850. 000 MAKE AN OFFER!!!!!!...</td>\n",
       "      <td>Baltimore</td>\n",
       "      <td>Maryland</td>\n",
       "      <td>Baltimore, MD (Baltimore City County)</td>\n",
       "      <td>Baltimore, Maryland</td>\n",
       "      <td>...</td>\n",
       "      <td>1050000</td>\n",
       "      <td>False</td>\n",
       "      <td>False</td>\n",
       "      <td>False</td>\n",
       "      <td>False</td>\n",
       "      <td>Baltimore, MD (Baltimore City County)</td>\n",
       "      <td>False</td>\n",
       "      <td>False</td>\n",
       "      <td>False</td>\n",
       "      <td>baltimore, md (baltimore city county)</td>\n",
       "    </tr>\n",
       "    <tr>\n",
       "      <th>4</th>\n",
       "      <td>5</td>\n",
       "      <td>2087638</td>\n",
       "      <td>details</td>\n",
       "      <td>https://www.bizbuysell.com/Business-Real-Estat...</td>\n",
       "      <td>Business &amp; Real Estate in Casco, Michigan - Bi...</td>\n",
       "      <td>• The Business and the Real Estate are For Sal...</td>\n",
       "      <td>Casco</td>\n",
       "      <td>Michigan</td>\n",
       "      <td>Casco, MI (Saint Clair County)</td>\n",
       "      <td>Casco, Michigan</td>\n",
       "      <td>...</td>\n",
       "      <td>699900</td>\n",
       "      <td>False</td>\n",
       "      <td>False</td>\n",
       "      <td>False</td>\n",
       "      <td>False</td>\n",
       "      <td>Casco, MI (Saint Clair County)</td>\n",
       "      <td>False</td>\n",
       "      <td>False</td>\n",
       "      <td>False</td>\n",
       "      <td>casco, mi (saint clair county)</td>\n",
       "    </tr>\n",
       "    <tr>\n",
       "      <th>...</th>\n",
       "      <td>...</td>\n",
       "      <td>...</td>\n",
       "      <td>...</td>\n",
       "      <td>...</td>\n",
       "      <td>...</td>\n",
       "      <td>...</td>\n",
       "      <td>...</td>\n",
       "      <td>...</td>\n",
       "      <td>...</td>\n",
       "      <td>...</td>\n",
       "      <td>...</td>\n",
       "      <td>...</td>\n",
       "      <td>...</td>\n",
       "      <td>...</td>\n",
       "      <td>...</td>\n",
       "      <td>...</td>\n",
       "      <td>...</td>\n",
       "      <td>...</td>\n",
       "      <td>...</td>\n",
       "      <td>...</td>\n",
       "      <td>...</td>\n",
       "    </tr>\n",
       "    <tr>\n",
       "      <th>995</th>\n",
       "      <td>1036</td>\n",
       "      <td>1939664</td>\n",
       "      <td>details</td>\n",
       "      <td>https://www.bizbuysell.com/Business-Real-Estat...</td>\n",
       "      <td>Downtown Lexingtion Sc. Commercial Building Si...</td>\n",
       "      <td>Hard to find downtown Lexington 1.5 acre comme...</td>\n",
       "      <td>Lexington</td>\n",
       "      <td>South Carolina</td>\n",
       "      <td>Lexington, SC (Lexington County)</td>\n",
       "      <td>Lexington, South Carolina</td>\n",
       "      <td>...</td>\n",
       "      <td>350000</td>\n",
       "      <td>False</td>\n",
       "      <td>False</td>\n",
       "      <td>False</td>\n",
       "      <td>False</td>\n",
       "      <td>Lexington, SC (Lexington County)</td>\n",
       "      <td>False</td>\n",
       "      <td>False</td>\n",
       "      <td>False</td>\n",
       "      <td>lexington, sc (lexington county)</td>\n",
       "    </tr>\n",
       "    <tr>\n",
       "      <th>996</th>\n",
       "      <td>1037</td>\n",
       "      <td>2077739</td>\n",
       "      <td>details</td>\n",
       "      <td>https://www.bizbuysell.com/Business-Real-Estat...</td>\n",
       "      <td>2,500SF Commercial Building, Warehouse: Propos...</td>\n",
       "      <td>2,500SF +/- COMMMERCIAL WAREHOUSE $299,000POUG...</td>\n",
       "      <td>Poughkeepsie</td>\n",
       "      <td>New York</td>\n",
       "      <td>Poughkeepsie, NY (Dutchess County)</td>\n",
       "      <td>Poughkeepsie, New York</td>\n",
       "      <td>...</td>\n",
       "      <td>299000</td>\n",
       "      <td>False</td>\n",
       "      <td>False</td>\n",
       "      <td>False</td>\n",
       "      <td>False</td>\n",
       "      <td>Poughkeepsie, NY (Dutchess County)</td>\n",
       "      <td>False</td>\n",
       "      <td>False</td>\n",
       "      <td>False</td>\n",
       "      <td>poughkeepsie, ny (dutchess county)</td>\n",
       "    </tr>\n",
       "    <tr>\n",
       "      <th>997</th>\n",
       "      <td>1038</td>\n",
       "      <td>2047395</td>\n",
       "      <td>details</td>\n",
       "      <td>https://www.bizbuysell.com/Business-Real-Estat...</td>\n",
       "      <td>Ocala Prime Commercial Building in Silver Spri...</td>\n",
       "      <td>Rapidly Developing, Highly Desirable, Prime Oc...</td>\n",
       "      <td>Silver Springs</td>\n",
       "      <td>Florida</td>\n",
       "      <td>Silver Springs, FL (Marion County)</td>\n",
       "      <td>Silver Springs, Florida</td>\n",
       "      <td>...</td>\n",
       "      <td>425000</td>\n",
       "      <td>False</td>\n",
       "      <td>False</td>\n",
       "      <td>False</td>\n",
       "      <td>False</td>\n",
       "      <td>Silver Springs, FL (Marion County)</td>\n",
       "      <td>False</td>\n",
       "      <td>False</td>\n",
       "      <td>False</td>\n",
       "      <td>silver springs, fl (marion county)</td>\n",
       "    </tr>\n",
       "    <tr>\n",
       "      <th>998</th>\n",
       "      <td>1039</td>\n",
       "      <td>2083749</td>\n",
       "      <td>details</td>\n",
       "      <td>https://www.bizbuysell.com/Business-Real-Estat...</td>\n",
       "      <td>Restaurant at Syosset Center Mall in Syosset, ...</td>\n",
       "      <td>The restaurant in a very clean and high-income...</td>\n",
       "      <td>Syosset</td>\n",
       "      <td>New York</td>\n",
       "      <td>Syosset, NY (Nassau County)</td>\n",
       "      <td>Syosset, New York</td>\n",
       "      <td>...</td>\n",
       "      <td>185000</td>\n",
       "      <td>False</td>\n",
       "      <td>False</td>\n",
       "      <td>False</td>\n",
       "      <td>False</td>\n",
       "      <td>Syosset, NY (Nassau County)</td>\n",
       "      <td>False</td>\n",
       "      <td>False</td>\n",
       "      <td>False</td>\n",
       "      <td>syosset, ny (nassau county)</td>\n",
       "    </tr>\n",
       "    <tr>\n",
       "      <th>999</th>\n",
       "      <td>1040</td>\n",
       "      <td>2069277</td>\n",
       "      <td>details</td>\n",
       "      <td>https://www.bizbuysell.com/Business-Real-Estat...</td>\n",
       "      <td>Commercial Real Estate for Sale in Worcester, ...</td>\n",
       "      <td>Prime retail or office space in a condo office...</td>\n",
       "      <td>Worcester</td>\n",
       "      <td>Massachusetts</td>\n",
       "      <td>Worcester, MA (Worcester County)</td>\n",
       "      <td>Worcester, Massachusetts</td>\n",
       "      <td>...</td>\n",
       "      <td>419000</td>\n",
       "      <td>False</td>\n",
       "      <td>False</td>\n",
       "      <td>False</td>\n",
       "      <td>False</td>\n",
       "      <td>Worcester, MA (Worcester County)</td>\n",
       "      <td>False</td>\n",
       "      <td>False</td>\n",
       "      <td>False</td>\n",
       "      <td>worcester, ma (worcester county)</td>\n",
       "    </tr>\n",
       "  </tbody>\n",
       "</table>\n",
       "<p>1000 rows × 24 columns</p>\n",
       "</div>"
      ],
      "text/plain": [
       "     Unnamed: 0       id      src   \n",
       "0             0  2067319  details  \\\n",
       "1             1  1990890  details   \n",
       "2             3  2039720  details   \n",
       "3             4  1576680  details   \n",
       "4             5  2087638  details   \n",
       "..          ...      ...      ...   \n",
       "995        1036  1939664  details   \n",
       "996        1037  2077739  details   \n",
       "997        1038  2047395  details   \n",
       "998        1039  2083749  details   \n",
       "999        1040  2069277  details   \n",
       "\n",
       "                                                   url   \n",
       "0    https://www.bizbuysell.com/Business-Real-Estat...  \\\n",
       "1    https://www.bizbuysell.com/Business-Real-Estat...   \n",
       "2    https://www.bizbuysell.com/Business-Real-Estat...   \n",
       "3    https://www.bizbuysell.com/Business-Real-Estat...   \n",
       "4    https://www.bizbuysell.com/Business-Real-Estat...   \n",
       "..                                                 ...   \n",
       "995  https://www.bizbuysell.com/Business-Real-Estat...   \n",
       "996  https://www.bizbuysell.com/Business-Real-Estat...   \n",
       "997  https://www.bizbuysell.com/Business-Real-Estat...   \n",
       "998  https://www.bizbuysell.com/Business-Real-Estat...   \n",
       "999  https://www.bizbuysell.com/Business-Real-Estat...   \n",
       "\n",
       "                                                 title   \n",
       "0    Popular Marina in Central New Jersey in Middle...  \\\n",
       "1    High Exposure in Mays Landing, New Jersey - Bi...   \n",
       "2    Duplex, Short term or Long term in Pinellas Co...   \n",
       "3    Major Price Reduction Rest/Tavern/ 13,000sq. f...   \n",
       "4    Business & Real Estate in Casco, Michigan - Bi...   \n",
       "..                                                 ...   \n",
       "995  Downtown Lexingtion Sc. Commercial Building Si...   \n",
       "996  2,500SF Commercial Building, Warehouse: Propos...   \n",
       "997  Ocala Prime Commercial Building in Silver Spri...   \n",
       "998  Restaurant at Syosset Center Mall in Syosset, ...   \n",
       "999  Commercial Real Estate for Sale in Worcester, ...   \n",
       "\n",
       "                                                  desc           local   \n",
       "0    It is fully owned by a man and his wife since ...       Middlesex  \\\n",
       "1    AMAZING OPPORTUNITY! Priced to sell and ready ...    Mays Landing   \n",
       "2    Rare Largo/Seminole area duplex centrally loca...        Pinellas   \n",
       "3    Price reduced to $850. 000 MAKE AN OFFER!!!!!!...       Baltimore   \n",
       "4    • The Business and the Real Estate are For Sal...           Casco   \n",
       "..                                                 ...             ...   \n",
       "995  Hard to find downtown Lexington 1.5 acre comme...       Lexington   \n",
       "996  2,500SF +/- COMMMERCIAL WAREHOUSE $299,000POUG...    Poughkeepsie   \n",
       "997  Rapidly Developing, Highly Desirable, Prime Oc...  Silver Springs   \n",
       "998  The restaurant in a very clean and high-income...         Syosset   \n",
       "999  Prime retail or office space in a condo office...       Worcester   \n",
       "\n",
       "             region                               location   \n",
       "0        New Jersey                   Middlesex County, NJ  \\\n",
       "1        New Jersey     Mays Landing, NJ (Atlantic County)   \n",
       "2           Florida                    Pinellas County, FL   \n",
       "3          Maryland  Baltimore, MD (Baltimore City County)   \n",
       "4          Michigan         Casco, MI (Saint Clair County)   \n",
       "..              ...                                    ...   \n",
       "995  South Carolina       Lexington, SC (Lexington County)   \n",
       "996        New York     Poughkeepsie, NY (Dutchess County)   \n",
       "997         Florida     Silver Springs, FL (Marion County)   \n",
       "998        New York            Syosset, NY (Nassau County)   \n",
       "999   Massachusetts       Worcester, MA (Worcester County)   \n",
       "\n",
       "                                             title_loc  ...    price   \n",
       "0    Central New Jersey in Middlesex County, New Je...  ...  2500000  \\\n",
       "1                             Mays Landing, New Jersey  ...   225000   \n",
       "2                             Pinellas County, Florida  ...   595000   \n",
       "3                                  Baltimore, Maryland  ...  1050000   \n",
       "4                                      Casco, Michigan  ...   699900   \n",
       "..                                                 ...  ...      ...   \n",
       "995                          Lexington, South Carolina  ...   350000   \n",
       "996                             Poughkeepsie, New York  ...   299000   \n",
       "997                            Silver Springs, Florida  ...   425000   \n",
       "998                                  Syosset, New York  ...   185000   \n",
       "999                           Worcester, Massachusetts  ...   419000   \n",
       "\n",
       "    franchise  lease auction   rent                             location_2   \n",
       "0       False  False   False  False                   Middlesex County, NJ  \\\n",
       "1       False  False   False  False     Mays Landing, NJ (Atlantic County)   \n",
       "2       False  False   False  False                    Pinellas County, FL   \n",
       "3       False  False   False  False  Baltimore, MD (Baltimore City County)   \n",
       "4       False  False   False  False         Casco, MI (Saint Clair County)   \n",
       "..        ...    ...     ...    ...                                    ...   \n",
       "995     False  False   False  False       Lexington, SC (Lexington County)   \n",
       "996     False  False   False  False     Poughkeepsie, NY (Dutchess County)   \n",
       "997     False  False   False  False     Silver Springs, FL (Marion County)   \n",
       "998     False  False   False  False            Syosset, NY (Nassau County)   \n",
       "999     False  False   False  False       Worcester, MA (Worcester County)   \n",
       "\n",
       "     nationwide  multiple_locations  relocatable   \n",
       "0         False               False        False  \\\n",
       "1         False               False        False   \n",
       "2         False               False        False   \n",
       "3         False               False        False   \n",
       "4         False               False        False   \n",
       "..          ...                 ...          ...   \n",
       "995       False               False        False   \n",
       "996       False               False        False   \n",
       "997       False               False        False   \n",
       "998       False               False        False   \n",
       "999       False               False        False   \n",
       "\n",
       "                                  proc_loc  \n",
       "0                     middlesex county, nj  \n",
       "1       mays landing, nj (atlantic county)  \n",
       "2                      pinellas county, fl  \n",
       "3    baltimore, md (baltimore city county)  \n",
       "4           casco, mi (saint clair county)  \n",
       "..                                     ...  \n",
       "995       lexington, sc (lexington county)  \n",
       "996     poughkeepsie, ny (dutchess county)  \n",
       "997     silver springs, fl (marion county)  \n",
       "998            syosset, ny (nassau county)  \n",
       "999       worcester, ma (worcester county)  \n",
       "\n",
       "[1000 rows x 24 columns]"
      ]
     },
     "execution_count": 100,
     "metadata": {},
     "output_type": "execute_result"
    }
   ],
   "source": [
    "df"
   ]
  },
  {
   "cell_type": "code",
   "execution_count": 101,
   "id": "708036cb",
   "metadata": {},
   "outputs": [],
   "source": [
    "import numpy as np"
   ]
  },
  {
   "cell_type": "code",
   "execution_count": 102,
   "id": "4fd52ace",
   "metadata": {},
   "outputs": [],
   "source": [
    "df['label_rand'] = np.random.randint(0,2, size=len(df))"
   ]
  },
  {
   "cell_type": "code",
   "execution_count": 103,
   "id": "1dd7ba0f",
   "metadata": {},
   "outputs": [],
   "source": [
    "df['label_median']=df['price'].apply(lambda p: 1 if p > df['price'].mean() else 0)"
   ]
  },
  {
   "cell_type": "code",
   "execution_count": 104,
   "id": "47f1de16",
   "metadata": {},
   "outputs": [],
   "source": [
    "df['label_q75']=df['price'].apply(lambda p: 1 if p > df['price'].quantile(.75) else 0)"
   ]
  },
  {
   "cell_type": "code",
   "execution_count": 105,
   "id": "5e7c5a2d",
   "metadata": {},
   "outputs": [],
   "source": [
    "df=df[['label_rand','label_median','label_q75','desc']]"
   ]
  },
  {
   "cell_type": "code",
   "execution_count": 106,
   "id": "2f57834b",
   "metadata": {},
   "outputs": [
    {
     "data": {
      "text/html": [
       "<div>\n",
       "<style scoped>\n",
       "    .dataframe tbody tr th:only-of-type {\n",
       "        vertical-align: middle;\n",
       "    }\n",
       "\n",
       "    .dataframe tbody tr th {\n",
       "        vertical-align: top;\n",
       "    }\n",
       "\n",
       "    .dataframe thead th {\n",
       "        text-align: right;\n",
       "    }\n",
       "</style>\n",
       "<table border=\"1\" class=\"dataframe\">\n",
       "  <thead>\n",
       "    <tr style=\"text-align: right;\">\n",
       "      <th></th>\n",
       "      <th>label_rand</th>\n",
       "      <th>label_median</th>\n",
       "      <th>label_q75</th>\n",
       "      <th>desc</th>\n",
       "    </tr>\n",
       "  </thead>\n",
       "  <tbody>\n",
       "    <tr>\n",
       "      <th>0</th>\n",
       "      <td>0</td>\n",
       "      <td>1</td>\n",
       "      <td>1</td>\n",
       "      <td>It is fully owned by a man and his wife since ...</td>\n",
       "    </tr>\n",
       "    <tr>\n",
       "      <th>1</th>\n",
       "      <td>1</td>\n",
       "      <td>0</td>\n",
       "      <td>0</td>\n",
       "      <td>AMAZING OPPORTUNITY! Priced to sell and ready ...</td>\n",
       "    </tr>\n",
       "    <tr>\n",
       "      <th>2</th>\n",
       "      <td>1</td>\n",
       "      <td>0</td>\n",
       "      <td>0</td>\n",
       "      <td>Rare Largo/Seminole area duplex centrally loca...</td>\n",
       "    </tr>\n",
       "    <tr>\n",
       "      <th>3</th>\n",
       "      <td>0</td>\n",
       "      <td>0</td>\n",
       "      <td>0</td>\n",
       "      <td>Price reduced to $850. 000 MAKE AN OFFER!!!!!!...</td>\n",
       "    </tr>\n",
       "    <tr>\n",
       "      <th>4</th>\n",
       "      <td>0</td>\n",
       "      <td>0</td>\n",
       "      <td>0</td>\n",
       "      <td>• The Business and the Real Estate are For Sal...</td>\n",
       "    </tr>\n",
       "    <tr>\n",
       "      <th>...</th>\n",
       "      <td>...</td>\n",
       "      <td>...</td>\n",
       "      <td>...</td>\n",
       "      <td>...</td>\n",
       "    </tr>\n",
       "    <tr>\n",
       "      <th>995</th>\n",
       "      <td>1</td>\n",
       "      <td>0</td>\n",
       "      <td>0</td>\n",
       "      <td>Hard to find downtown Lexington 1.5 acre comme...</td>\n",
       "    </tr>\n",
       "    <tr>\n",
       "      <th>996</th>\n",
       "      <td>1</td>\n",
       "      <td>0</td>\n",
       "      <td>0</td>\n",
       "      <td>2,500SF +/- COMMMERCIAL WAREHOUSE $299,000POUG...</td>\n",
       "    </tr>\n",
       "    <tr>\n",
       "      <th>997</th>\n",
       "      <td>0</td>\n",
       "      <td>0</td>\n",
       "      <td>0</td>\n",
       "      <td>Rapidly Developing, Highly Desirable, Prime Oc...</td>\n",
       "    </tr>\n",
       "    <tr>\n",
       "      <th>998</th>\n",
       "      <td>0</td>\n",
       "      <td>0</td>\n",
       "      <td>0</td>\n",
       "      <td>The restaurant in a very clean and high-income...</td>\n",
       "    </tr>\n",
       "    <tr>\n",
       "      <th>999</th>\n",
       "      <td>1</td>\n",
       "      <td>0</td>\n",
       "      <td>0</td>\n",
       "      <td>Prime retail or office space in a condo office...</td>\n",
       "    </tr>\n",
       "  </tbody>\n",
       "</table>\n",
       "<p>1000 rows × 4 columns</p>\n",
       "</div>"
      ],
      "text/plain": [
       "     label_rand  label_median  label_q75   \n",
       "0             0             1          1  \\\n",
       "1             1             0          0   \n",
       "2             1             0          0   \n",
       "3             0             0          0   \n",
       "4             0             0          0   \n",
       "..          ...           ...        ...   \n",
       "995           1             0          0   \n",
       "996           1             0          0   \n",
       "997           0             0          0   \n",
       "998           0             0          0   \n",
       "999           1             0          0   \n",
       "\n",
       "                                                  desc  \n",
       "0    It is fully owned by a man and his wife since ...  \n",
       "1    AMAZING OPPORTUNITY! Priced to sell and ready ...  \n",
       "2    Rare Largo/Seminole area duplex centrally loca...  \n",
       "3    Price reduced to $850. 000 MAKE AN OFFER!!!!!!...  \n",
       "4    • The Business and the Real Estate are For Sal...  \n",
       "..                                                 ...  \n",
       "995  Hard to find downtown Lexington 1.5 acre comme...  \n",
       "996  2,500SF +/- COMMMERCIAL WAREHOUSE $299,000POUG...  \n",
       "997  Rapidly Developing, Highly Desirable, Prime Oc...  \n",
       "998  The restaurant in a very clean and high-income...  \n",
       "999  Prime retail or office space in a condo office...  \n",
       "\n",
       "[1000 rows x 4 columns]"
      ]
     },
     "execution_count": 106,
     "metadata": {},
     "output_type": "execute_result"
    }
   ],
   "source": [
    "df"
   ]
  },
  {
   "cell_type": "code",
   "execution_count": 107,
   "id": "49bde8de",
   "metadata": {},
   "outputs": [
    {
     "name": "stdout",
     "output_type": "stream",
     "text": [
      "(1000,)\n",
      "(1000,)\n"
     ]
    }
   ],
   "source": [
    "X = df.desc\n",
    "y = df.label_q75\n",
    "print(X.shape)\n",
    "print(y.shape)"
   ]
  },
  {
   "cell_type": "code",
   "execution_count": 108,
   "id": "09392fa4",
   "metadata": {},
   "outputs": [
    {
     "name": "stdout",
     "output_type": "stream",
     "text": [
      "(750,)\n",
      "(250,)\n",
      "(750,)\n",
      "(250,)\n"
     ]
    }
   ],
   "source": [
    "from sklearn.model_selection import train_test_split\n",
    "X_train, X_test, y_train, y_test = train_test_split(X, y, random_state=1)\n",
    "print(X_train.shape)\n",
    "print(X_test.shape)\n",
    "print(y_train.shape)\n",
    "print(y_test.shape)"
   ]
  },
  {
   "cell_type": "code",
   "execution_count": 109,
   "id": "5e499917",
   "metadata": {},
   "outputs": [],
   "source": [
    "from sklearn.feature_extraction.text import CountVectorizer"
   ]
  },
  {
   "cell_type": "code",
   "execution_count": 110,
   "id": "21f5478e",
   "metadata": {},
   "outputs": [],
   "source": [
    "# remove English stop words\n",
    "# include 1-grams and 2-grams\n",
    "# ignore terms that appear in more than 50% of the documents\n",
    "# only keep terms that appear in at least 2 documents\n",
    "vect = CountVectorizer(stop_words='english',ngram_range=(1, 2),max_df=0.5,min_df=20)"
   ]
  },
  {
   "cell_type": "code",
   "execution_count": 111,
   "id": "9250f7e4",
   "metadata": {},
   "outputs": [],
   "source": [
    "X_train_dtm = vect.fit_transform(X_train)"
   ]
  },
  {
   "cell_type": "code",
   "execution_count": 112,
   "id": "6c993e4f",
   "metadata": {},
   "outputs": [
    {
     "data": {
      "text/plain": [
       "<750x8761 sparse matrix of type '<class 'numpy.int64'>'\n",
       "\twith 57502 stored elements in Compressed Sparse Row format>"
      ]
     },
     "execution_count": 112,
     "metadata": {},
     "output_type": "execute_result"
    }
   ],
   "source": [
    "X_train_dtm"
   ]
  },
  {
   "cell_type": "code",
   "execution_count": 113,
   "id": "ec1f7948",
   "metadata": {},
   "outputs": [
    {
     "data": {
      "text/plain": [
       "<250x8761 sparse matrix of type '<class 'numpy.int64'>'\n",
       "\twith 14716 stored elements in Compressed Sparse Row format>"
      ]
     },
     "execution_count": 113,
     "metadata": {},
     "output_type": "execute_result"
    }
   ],
   "source": [
    "X_test_dtm = vect.transform(X_test)\n",
    "X_test_dtm"
   ]
  },
  {
   "cell_type": "code",
   "execution_count": 114,
   "id": "b29d10a1",
   "metadata": {},
   "outputs": [],
   "source": [
    "from sklearn.naive_bayes import MultinomialNB"
   ]
  },
  {
   "cell_type": "code",
   "execution_count": 115,
   "id": "36c61f82",
   "metadata": {},
   "outputs": [],
   "source": [
    "nb = MultinomialNB()"
   ]
  },
  {
   "cell_type": "code",
   "execution_count": 116,
   "id": "6ac4c793",
   "metadata": {},
   "outputs": [
    {
     "name": "stdout",
     "output_type": "stream",
     "text": [
      "CPU times: user 3.06 ms, sys: 1.67 ms, total: 4.72 ms\n",
      "Wall time: 3.27 ms\n"
     ]
    },
    {
     "data": {
      "text/html": [
       "<style>#sk-container-id-3 {color: black;background-color: white;}#sk-container-id-3 pre{padding: 0;}#sk-container-id-3 div.sk-toggleable {background-color: white;}#sk-container-id-3 label.sk-toggleable__label {cursor: pointer;display: block;width: 100%;margin-bottom: 0;padding: 0.3em;box-sizing: border-box;text-align: center;}#sk-container-id-3 label.sk-toggleable__label-arrow:before {content: \"▸\";float: left;margin-right: 0.25em;color: #696969;}#sk-container-id-3 label.sk-toggleable__label-arrow:hover:before {color: black;}#sk-container-id-3 div.sk-estimator:hover label.sk-toggleable__label-arrow:before {color: black;}#sk-container-id-3 div.sk-toggleable__content {max-height: 0;max-width: 0;overflow: hidden;text-align: left;background-color: #f0f8ff;}#sk-container-id-3 div.sk-toggleable__content pre {margin: 0.2em;color: black;border-radius: 0.25em;background-color: #f0f8ff;}#sk-container-id-3 input.sk-toggleable__control:checked~div.sk-toggleable__content {max-height: 200px;max-width: 100%;overflow: auto;}#sk-container-id-3 input.sk-toggleable__control:checked~label.sk-toggleable__label-arrow:before {content: \"▾\";}#sk-container-id-3 div.sk-estimator input.sk-toggleable__control:checked~label.sk-toggleable__label {background-color: #d4ebff;}#sk-container-id-3 div.sk-label input.sk-toggleable__control:checked~label.sk-toggleable__label {background-color: #d4ebff;}#sk-container-id-3 input.sk-hidden--visually {border: 0;clip: rect(1px 1px 1px 1px);clip: rect(1px, 1px, 1px, 1px);height: 1px;margin: -1px;overflow: hidden;padding: 0;position: absolute;width: 1px;}#sk-container-id-3 div.sk-estimator {font-family: monospace;background-color: #f0f8ff;border: 1px dotted black;border-radius: 0.25em;box-sizing: border-box;margin-bottom: 0.5em;}#sk-container-id-3 div.sk-estimator:hover {background-color: #d4ebff;}#sk-container-id-3 div.sk-parallel-item::after {content: \"\";width: 100%;border-bottom: 1px solid gray;flex-grow: 1;}#sk-container-id-3 div.sk-label:hover label.sk-toggleable__label {background-color: #d4ebff;}#sk-container-id-3 div.sk-serial::before {content: \"\";position: absolute;border-left: 1px solid gray;box-sizing: border-box;top: 0;bottom: 0;left: 50%;z-index: 0;}#sk-container-id-3 div.sk-serial {display: flex;flex-direction: column;align-items: center;background-color: white;padding-right: 0.2em;padding-left: 0.2em;position: relative;}#sk-container-id-3 div.sk-item {position: relative;z-index: 1;}#sk-container-id-3 div.sk-parallel {display: flex;align-items: stretch;justify-content: center;background-color: white;position: relative;}#sk-container-id-3 div.sk-item::before, #sk-container-id-3 div.sk-parallel-item::before {content: \"\";position: absolute;border-left: 1px solid gray;box-sizing: border-box;top: 0;bottom: 0;left: 50%;z-index: -1;}#sk-container-id-3 div.sk-parallel-item {display: flex;flex-direction: column;z-index: 1;position: relative;background-color: white;}#sk-container-id-3 div.sk-parallel-item:first-child::after {align-self: flex-end;width: 50%;}#sk-container-id-3 div.sk-parallel-item:last-child::after {align-self: flex-start;width: 50%;}#sk-container-id-3 div.sk-parallel-item:only-child::after {width: 0;}#sk-container-id-3 div.sk-dashed-wrapped {border: 1px dashed gray;margin: 0 0.4em 0.5em 0.4em;box-sizing: border-box;padding-bottom: 0.4em;background-color: white;}#sk-container-id-3 div.sk-label label {font-family: monospace;font-weight: bold;display: inline-block;line-height: 1.2em;}#sk-container-id-3 div.sk-label-container {text-align: center;}#sk-container-id-3 div.sk-container {/* jupyter's `normalize.less` sets `[hidden] { display: none; }` but bootstrap.min.css set `[hidden] { display: none !important; }` so we also need the `!important` here to be able to override the default hidden behavior on the sphinx rendered scikit-learn.org. See: https://github.com/scikit-learn/scikit-learn/issues/21755 */display: inline-block !important;position: relative;}#sk-container-id-3 div.sk-text-repr-fallback {display: none;}</style><div id=\"sk-container-id-3\" class=\"sk-top-container\"><div class=\"sk-text-repr-fallback\"><pre>MultinomialNB()</pre><b>In a Jupyter environment, please rerun this cell to show the HTML representation or trust the notebook. <br />On GitHub, the HTML representation is unable to render, please try loading this page with nbviewer.org.</b></div><div class=\"sk-container\" hidden><div class=\"sk-item\"><div class=\"sk-estimator sk-toggleable\"><input class=\"sk-toggleable__control sk-hidden--visually\" id=\"sk-estimator-id-3\" type=\"checkbox\" checked><label for=\"sk-estimator-id-3\" class=\"sk-toggleable__label sk-toggleable__label-arrow\">MultinomialNB</label><div class=\"sk-toggleable__content\"><pre>MultinomialNB()</pre></div></div></div></div></div>"
      ],
      "text/plain": [
       "MultinomialNB()"
      ]
     },
     "execution_count": 116,
     "metadata": {},
     "output_type": "execute_result"
    }
   ],
   "source": [
    "%time nb.fit(X_train_dtm, y_train)"
   ]
  },
  {
   "cell_type": "code",
   "execution_count": 117,
   "id": "1347a93b",
   "metadata": {},
   "outputs": [],
   "source": [
    "y_pred_class = nb.predict(X_test_dtm)"
   ]
  },
  {
   "cell_type": "code",
   "execution_count": 118,
   "id": "ee0cb3b4",
   "metadata": {},
   "outputs": [],
   "source": [
    "from sklearn import metrics"
   ]
  },
  {
   "cell_type": "code",
   "execution_count": 119,
   "id": "4d1ebb90",
   "metadata": {},
   "outputs": [
    {
     "data": {
      "text/plain": [
       "0.768"
      ]
     },
     "execution_count": 119,
     "metadata": {},
     "output_type": "execute_result"
    }
   ],
   "source": [
    "metrics.accuracy_score(y_test, y_pred_class)"
   ]
  },
  {
   "cell_type": "code",
   "execution_count": 120,
   "id": "dc6c31f2",
   "metadata": {},
   "outputs": [
    {
     "name": "stdout",
     "output_type": "stream",
     "text": [
      "label_q75\n",
      "0    189\n",
      "1     61\n",
      "Name: count, dtype: int64\n",
      "Null accuracy: label_q75\n",
      "0    0.756\n",
      "Name: count, dtype: float64\n",
      "Manual null accuracy: 0.8671931083991385\n"
     ]
    }
   ],
   "source": [
    "# examine class distribution\n",
    "print(y_test.value_counts())\n",
    "# there is a majority class of 0 here, hence the classes are skewed\n",
    "\n",
    "# calculate null accuracy (for multi-class classification problems)\n",
    "# .head(1) assesses the value 1208\n",
    "null_accuracy = y_test.value_counts().head(1) / len(y_test)\n",
    "print('Null accuracy:', null_accuracy)\n",
    "\n",
    "# Manual calculation of null accuracy by always predicting the majority class\n",
    "print('Manual null accuracy:',(1208 / (1208 + 185)))"
   ]
  },
  {
   "cell_type": "code",
   "execution_count": 121,
   "id": "2fa54f58",
   "metadata": {},
   "outputs": [
    {
     "data": {
      "text/plain": [
       "array([[173,  16],\n",
       "       [ 42,  19]])"
      ]
     },
     "execution_count": 121,
     "metadata": {},
     "output_type": "execute_result"
    }
   ],
   "source": [
    "# print the confusion matrix\n",
    "metrics.confusion_matrix(y_test, y_pred_class)"
   ]
  },
  {
   "cell_type": "code",
   "execution_count": 122,
   "id": "dceff993",
   "metadata": {},
   "outputs": [
    {
     "data": {
      "text/plain": [
       "345    3 bedroom home, 1500+ linear feet of reinforce...\n",
       "600    The Redrock Country Inn consists of 42,689 SF ...\n",
       "577    Established and operating gas station for sale...\n",
       "453    Car wash by itself on 0.7 acres of land absent...\n",
       "148    LAND - BUSINESS - HOMEGreat Package Deal:.2 ac...\n",
       "457    NO Express wash in sight with great traffic 37...\n",
       "331    Nice Branded gas station located on a busy roa...\n",
       "255    Since early 2021, the Vermont innkeeping lands...\n",
       "654    Self-Serve Car Wash and Laundromat for Sale. L...\n",
       "950    Liquor store in an extremely good part of Maco...\n",
       "2      Rare Largo/Seminole area duplex centrally loca...\n",
       "581    Car wash with 2 self service buildings and a 1...\n",
       "195    Reduced!!Great opportunity for owner operators...\n",
       "974                    Detroit High Volume Liquor Store.\n",
       "892    Retail Building for Sale Details:* This is a r...\n",
       "250    Thayers Inn Hotel in Littleton NH is for sale ...\n",
       "Name: desc, dtype: object"
      ]
     },
     "execution_count": 122,
     "metadata": {},
     "output_type": "execute_result"
    }
   ],
   "source": [
    "# print message text for the false positives (ham incorrectly classified as spam)\n",
    "\n",
    "X_test[y_pred_class > y_test]"
   ]
  },
  {
   "cell_type": "code",
   "execution_count": 123,
   "id": "b9c6056d",
   "metadata": {},
   "outputs": [
    {
     "data": {
      "text/plain": [
       "368    21,000 SQ FT of Great development opportunity ...\n",
       "647    The Sports Bar has embodied the spirit of the ...\n",
       "78     Turn Key Business with Fee Simple Real Estate ...\n",
       "872    Seller provides concrete, paving and trucking ...\n",
       "94     PRIME PROPERTY! 13,138 Square Foot NW Metro Co...\n",
       "35     This 24,618+/- building located on Southwester...\n",
       "395    Luxury Home on 120+/- Acres For Sale$2,500,000...\n",
       "822    Investment property in the Arbuckle Mountains....\n",
       "17     This is a large, 15,521 sf, building, sited on...\n",
       "241    This is a terrific opportunity to purchase a C...\n",
       "843    La Cucaracha Restaurant business / tenant is i...\n",
       "573    Located in Southwest Florida, this operation c...\n",
       "335    An outstanding opportunity to purchase a long ...\n",
       "267    Ready for new operator!  Recently updated with...\n",
       "236    This is a wonderful little park that backs up ...\n",
       "175                                    Gun and Ammo Shop\n",
       "711    This is an industrial & Commercial parts manuf...\n",
       "120    In the middle of the Grand River Valley, Ohio ...\n",
       "311    Located west of the Indianapolis Motor Speedwa...\n",
       "659    Exclusive Sea Side, Medical, Wellness, Health,...\n",
       "776    Booming family owned tire facility on 17/92 N ...\n",
       "358    St Thomas Preservation Hall event venue has be...\n",
       "769    FAMILY RETREAT-FAMILY COMPOUND-INVESTMENT OPPO...\n",
       "938    Looking to sell 50 Property Portfolio!100+ doo...\n",
       "535    Air cooled Porsche Parts and Service center•\\t...\n",
       "509    most of pips are done. you don't have to worry...\n",
       "8      Over 30 years Community Auto Repair Mechanic s...\n",
       "56     Gross Monthly Income on average $390,000The sa...\n",
       "228    DENTAL OFFICE FOR SALE IN SWFL-GENERAL, ENDO, ...\n",
       "159    This is a Exxon Gas Station and Convenience St...\n",
       "597    The Company was founded in 1997, and has estab...\n",
       "484    Founded in 2017 this real-estate opportunity i...\n",
       "443    Off market 88 rooms Hotel for sell, close ny L...\n",
       "314    The School was sold to a large Preschool provi...\n",
       "223    location, Location, LOCATION!!! Well establish...\n",
       "233               Located near Pro Football Hall of Fame\n",
       "982    30 Acres immediately at Interstate Exit, with ...\n",
       "304    This is a Value-Add Opportunity! The property ...\n",
       "107    New Construction ...27,000 square feet Self St...\n",
       "474    New construction truck stop and convenience st...\n",
       "320    SVN Chicago Commercial is pleased to present t...\n",
       "890    Real estate included: approved site plan for l...\n",
       "Name: desc, dtype: object"
      ]
     },
     "execution_count": 123,
     "metadata": {},
     "output_type": "execute_result"
    }
   ],
   "source": [
    "# print message text for the false negatives (spam incorrectly classified as ham)\n",
    "\n",
    "X_test[y_pred_class < y_test]"
   ]
  },
  {
   "cell_type": "code",
   "execution_count": 124,
   "id": "1cfba9ba",
   "metadata": {},
   "outputs": [
    {
     "data": {
      "text/plain": [
       "0.7052216150576807"
      ]
     },
     "execution_count": 124,
     "metadata": {},
     "output_type": "execute_result"
    }
   ],
   "source": [
    "y_pred_prob = nb.predict_proba(X_test_dtm)[:, 1]\n",
    "# calculate AUC\n",
    "metrics.roc_auc_score(y_test, y_pred_prob)"
   ]
  },
  {
   "cell_type": "markdown",
   "id": "8af383b6",
   "metadata": {},
   "source": [
    "# Logistic regression"
   ]
  },
  {
   "cell_type": "code",
   "execution_count": 125,
   "id": "e7ace0d1",
   "metadata": {},
   "outputs": [],
   "source": [
    "from sklearn.linear_model import LogisticRegression"
   ]
  },
  {
   "cell_type": "code",
   "execution_count": 126,
   "id": "ef0c32bc",
   "metadata": {},
   "outputs": [],
   "source": [
    "logreg = LogisticRegression()"
   ]
  },
  {
   "cell_type": "code",
   "execution_count": 127,
   "id": "f788d56c",
   "metadata": {},
   "outputs": [
    {
     "name": "stdout",
     "output_type": "stream",
     "text": [
      "CPU times: user 67.2 ms, sys: 3.6 ms, total: 70.8 ms\n",
      "Wall time: 69.2 ms\n"
     ]
    },
    {
     "data": {
      "text/html": [
       "<style>#sk-container-id-4 {color: black;background-color: white;}#sk-container-id-4 pre{padding: 0;}#sk-container-id-4 div.sk-toggleable {background-color: white;}#sk-container-id-4 label.sk-toggleable__label {cursor: pointer;display: block;width: 100%;margin-bottom: 0;padding: 0.3em;box-sizing: border-box;text-align: center;}#sk-container-id-4 label.sk-toggleable__label-arrow:before {content: \"▸\";float: left;margin-right: 0.25em;color: #696969;}#sk-container-id-4 label.sk-toggleable__label-arrow:hover:before {color: black;}#sk-container-id-4 div.sk-estimator:hover label.sk-toggleable__label-arrow:before {color: black;}#sk-container-id-4 div.sk-toggleable__content {max-height: 0;max-width: 0;overflow: hidden;text-align: left;background-color: #f0f8ff;}#sk-container-id-4 div.sk-toggleable__content pre {margin: 0.2em;color: black;border-radius: 0.25em;background-color: #f0f8ff;}#sk-container-id-4 input.sk-toggleable__control:checked~div.sk-toggleable__content {max-height: 200px;max-width: 100%;overflow: auto;}#sk-container-id-4 input.sk-toggleable__control:checked~label.sk-toggleable__label-arrow:before {content: \"▾\";}#sk-container-id-4 div.sk-estimator input.sk-toggleable__control:checked~label.sk-toggleable__label {background-color: #d4ebff;}#sk-container-id-4 div.sk-label input.sk-toggleable__control:checked~label.sk-toggleable__label {background-color: #d4ebff;}#sk-container-id-4 input.sk-hidden--visually {border: 0;clip: rect(1px 1px 1px 1px);clip: rect(1px, 1px, 1px, 1px);height: 1px;margin: -1px;overflow: hidden;padding: 0;position: absolute;width: 1px;}#sk-container-id-4 div.sk-estimator {font-family: monospace;background-color: #f0f8ff;border: 1px dotted black;border-radius: 0.25em;box-sizing: border-box;margin-bottom: 0.5em;}#sk-container-id-4 div.sk-estimator:hover {background-color: #d4ebff;}#sk-container-id-4 div.sk-parallel-item::after {content: \"\";width: 100%;border-bottom: 1px solid gray;flex-grow: 1;}#sk-container-id-4 div.sk-label:hover label.sk-toggleable__label {background-color: #d4ebff;}#sk-container-id-4 div.sk-serial::before {content: \"\";position: absolute;border-left: 1px solid gray;box-sizing: border-box;top: 0;bottom: 0;left: 50%;z-index: 0;}#sk-container-id-4 div.sk-serial {display: flex;flex-direction: column;align-items: center;background-color: white;padding-right: 0.2em;padding-left: 0.2em;position: relative;}#sk-container-id-4 div.sk-item {position: relative;z-index: 1;}#sk-container-id-4 div.sk-parallel {display: flex;align-items: stretch;justify-content: center;background-color: white;position: relative;}#sk-container-id-4 div.sk-item::before, #sk-container-id-4 div.sk-parallel-item::before {content: \"\";position: absolute;border-left: 1px solid gray;box-sizing: border-box;top: 0;bottom: 0;left: 50%;z-index: -1;}#sk-container-id-4 div.sk-parallel-item {display: flex;flex-direction: column;z-index: 1;position: relative;background-color: white;}#sk-container-id-4 div.sk-parallel-item:first-child::after {align-self: flex-end;width: 50%;}#sk-container-id-4 div.sk-parallel-item:last-child::after {align-self: flex-start;width: 50%;}#sk-container-id-4 div.sk-parallel-item:only-child::after {width: 0;}#sk-container-id-4 div.sk-dashed-wrapped {border: 1px dashed gray;margin: 0 0.4em 0.5em 0.4em;box-sizing: border-box;padding-bottom: 0.4em;background-color: white;}#sk-container-id-4 div.sk-label label {font-family: monospace;font-weight: bold;display: inline-block;line-height: 1.2em;}#sk-container-id-4 div.sk-label-container {text-align: center;}#sk-container-id-4 div.sk-container {/* jupyter's `normalize.less` sets `[hidden] { display: none; }` but bootstrap.min.css set `[hidden] { display: none !important; }` so we also need the `!important` here to be able to override the default hidden behavior on the sphinx rendered scikit-learn.org. See: https://github.com/scikit-learn/scikit-learn/issues/21755 */display: inline-block !important;position: relative;}#sk-container-id-4 div.sk-text-repr-fallback {display: none;}</style><div id=\"sk-container-id-4\" class=\"sk-top-container\"><div class=\"sk-text-repr-fallback\"><pre>LogisticRegression()</pre><b>In a Jupyter environment, please rerun this cell to show the HTML representation or trust the notebook. <br />On GitHub, the HTML representation is unable to render, please try loading this page with nbviewer.org.</b></div><div class=\"sk-container\" hidden><div class=\"sk-item\"><div class=\"sk-estimator sk-toggleable\"><input class=\"sk-toggleable__control sk-hidden--visually\" id=\"sk-estimator-id-4\" type=\"checkbox\" checked><label for=\"sk-estimator-id-4\" class=\"sk-toggleable__label sk-toggleable__label-arrow\">LogisticRegression</label><div class=\"sk-toggleable__content\"><pre>LogisticRegression()</pre></div></div></div></div></div>"
      ],
      "text/plain": [
       "LogisticRegression()"
      ]
     },
     "execution_count": 127,
     "metadata": {},
     "output_type": "execute_result"
    }
   ],
   "source": [
    "%time logreg.fit(X_train_dtm, y_train)"
   ]
  },
  {
   "cell_type": "code",
   "execution_count": 128,
   "id": "ed3c347f",
   "metadata": {},
   "outputs": [],
   "source": [
    "y_pred_class = logreg.predict(X_test_dtm)"
   ]
  },
  {
   "cell_type": "code",
   "execution_count": 129,
   "id": "b83cbdd8",
   "metadata": {},
   "outputs": [
    {
     "data": {
      "text/plain": [
       "array([9.86760325e-01, 4.58050972e-02, 1.14086892e-02, 1.06659319e-02,\n",
       "       1.82002748e-01, 5.38987759e-02, 2.95901535e-02, 6.99537642e-03,\n",
       "       7.56544822e-03, 1.52424430e-01, 1.43795118e-01, 7.59031437e-02,\n",
       "       5.63568587e-01, 6.77702680e-01, 3.75410246e-02, 4.28202829e-03,\n",
       "       1.67383302e-02, 1.62202093e-05, 6.91885020e-02, 6.90847858e-01,\n",
       "       3.28753429e-01, 2.04002758e-02, 6.73719950e-04, 1.92978644e-03,\n",
       "       1.23000687e-02, 4.01888482e-01, 1.57536909e-07, 3.36958452e-01,\n",
       "       7.20794565e-04, 8.76806681e-01, 2.20194689e-04, 6.16279801e-02,\n",
       "       2.06239599e-04, 1.19393034e-02, 7.43485655e-01, 8.22793962e-01,\n",
       "       1.32444811e-01, 2.32285115e-04, 1.61711585e-02, 1.31531643e-02,\n",
       "       1.89435298e-01, 1.35011839e-01, 1.03765763e-02, 2.62180641e-02,\n",
       "       3.01135651e-02, 2.33654960e-01, 4.60397372e-03, 6.60473687e-01,\n",
       "       2.60039777e-01, 1.49258477e-02, 3.45545446e-01, 9.69058526e-01,\n",
       "       1.27899112e-01, 5.22176682e-02, 1.74880040e-01, 8.12662155e-04,\n",
       "       2.37115691e-01, 2.72142451e-01, 9.41533136e-03, 5.78591669e-01,\n",
       "       7.99025102e-01, 9.01572510e-02, 4.13684104e-03, 1.04041927e-01,\n",
       "       1.46783227e-01, 5.92632413e-07, 8.56596282e-02, 4.63507529e-02,\n",
       "       3.24606627e-02, 1.19528499e-02, 1.92567232e-01, 3.19522780e-02,\n",
       "       5.36292582e-01, 9.09184145e-01, 6.42879086e-01, 2.35513449e-03,\n",
       "       4.32304888e-01, 3.01119088e-09, 5.51287951e-01, 2.48218343e-01,\n",
       "       1.39981372e-01, 1.18533569e-01, 7.33413686e-03, 1.78405771e-01,\n",
       "       6.36662778e-03, 2.29410777e-02, 1.98167551e-01, 6.54289130e-01,\n",
       "       5.45094807e-01, 6.40313240e-01, 1.38209370e-01, 1.88429746e-03,\n",
       "       5.56201966e-05, 1.29834537e-02, 2.88872537e-03, 5.42252469e-02,\n",
       "       9.95611013e-01, 5.53834964e-01, 3.98204348e-07, 3.07636634e-01,\n",
       "       5.13640509e-03, 9.35981586e-01, 8.17905620e-02, 3.23972302e-01,\n",
       "       5.76710735e-02, 6.90613912e-03, 2.00240623e-01, 1.58548120e-01,\n",
       "       1.64977457e-01, 3.26867123e-03, 2.35205609e-01, 4.04221221e-02,\n",
       "       6.78737173e-01, 3.37186457e-02, 3.51672273e-01, 2.76163920e-01,\n",
       "       1.01556654e-01, 4.48144008e-04, 1.53964561e-02, 1.51281271e-01,\n",
       "       5.78562497e-01, 6.86612436e-02, 2.10240834e-02, 6.38204761e-02,\n",
       "       5.13774408e-01, 2.04425900e-04, 1.82328716e-01, 7.97452061e-01,\n",
       "       1.13957718e-02, 1.27805006e-03, 1.66181819e-01, 3.62787498e-01,\n",
       "       8.66741122e-01, 8.75050899e-01, 5.23942884e-01, 2.23275009e-01,\n",
       "       1.11527164e-03, 7.72754989e-01, 7.39332544e-01, 1.04232786e-02,\n",
       "       3.19480218e-03, 3.78130628e-01, 2.53159664e-01, 6.01018897e-05,\n",
       "       1.14000571e-02, 2.56735723e-01, 1.95606468e-01, 1.19911316e-04,\n",
       "       1.80314113e-01, 4.11922135e-03, 1.20727576e-01, 2.65611843e-03,\n",
       "       7.98750152e-01, 4.54815080e-01, 1.23488259e-01, 2.24269808e-01,\n",
       "       1.05065433e-03, 1.86297353e-02, 2.41328787e-01, 1.78020671e-02,\n",
       "       4.98354487e-01, 4.27842859e-02, 3.00097871e-03, 5.05069565e-01,\n",
       "       3.77640778e-02, 9.98114486e-01, 2.98959009e-01, 4.64706898e-01,\n",
       "       1.29022446e-01, 1.76429364e-01, 4.26443077e-02, 1.41252995e-02,\n",
       "       6.08771123e-01, 3.35908606e-01, 5.12290170e-01, 9.23336061e-02,\n",
       "       3.93984056e-02, 1.83918519e-02, 1.80021359e-05, 2.86803572e-02,\n",
       "       1.39456607e-01, 3.50997058e-01, 4.41517413e-01, 4.29342093e-01,\n",
       "       4.48144872e-01, 5.53734288e-02, 1.55072391e-02, 1.12341706e-01,\n",
       "       6.65928403e-01, 3.06550485e-02, 2.99781889e-02, 3.09680499e-03,\n",
       "       3.00578285e-01, 7.23832833e-02, 6.05133589e-01, 5.78274710e-01,\n",
       "       7.43085689e-04, 3.96120448e-03, 5.39837452e-01, 9.64165353e-02,\n",
       "       5.31425301e-01, 7.03934346e-01, 6.03329358e-02, 3.97443747e-03,\n",
       "       3.30286714e-03, 4.13388049e-02, 3.44880535e-01, 1.53743947e-01,\n",
       "       2.90119005e-01, 5.96001966e-03, 9.35486014e-01, 4.26671508e-01,\n",
       "       9.25498031e-01, 3.17748607e-01, 7.26318842e-02, 4.54623584e-03,\n",
       "       2.43193238e-03, 1.06464913e-01, 1.03707788e-01, 2.99292613e-01,\n",
       "       2.72186756e-03, 1.50660170e-02, 7.91433542e-01, 7.30689582e-01,\n",
       "       6.46185602e-01, 1.57967462e-05, 1.31248195e-01, 7.89446031e-02,\n",
       "       3.41859119e-01, 1.99493348e-04, 9.19093427e-07, 9.89861494e-01,\n",
       "       1.06429730e-01, 4.12771227e-02, 7.99684465e-05, 6.40147685e-04,\n",
       "       3.78827539e-03, 3.07363359e-01, 1.42786126e-01, 2.53790489e-05,\n",
       "       8.59381614e-01, 7.29296606e-03, 1.34271199e-01, 1.21084535e-01,\n",
       "       1.86179381e-01, 7.56688685e-02, 7.79960544e-02, 7.37862129e-03,\n",
       "       3.33471546e-01, 3.65463903e-01])"
      ]
     },
     "execution_count": 129,
     "metadata": {},
     "output_type": "execute_result"
    }
   ],
   "source": [
    "y_pred_prob = logreg.predict_proba(X_test_dtm)[:, 1]\n",
    "y_pred_prob"
   ]
  },
  {
   "cell_type": "code",
   "execution_count": 130,
   "id": "c94108ac",
   "metadata": {},
   "outputs": [
    {
     "data": {
      "text/plain": [
       "0.748"
      ]
     },
     "execution_count": 130,
     "metadata": {},
     "output_type": "execute_result"
    }
   ],
   "source": [
    "# calculate accuracy\n",
    "metrics.accuracy_score(y_test, y_pred_class)"
   ]
  },
  {
   "cell_type": "code",
   "execution_count": 131,
   "id": "4b2bc88d",
   "metadata": {},
   "outputs": [
    {
     "data": {
      "text/plain": [
       "0.6808916644982219"
      ]
     },
     "execution_count": 131,
     "metadata": {},
     "output_type": "execute_result"
    }
   ],
   "source": [
    "# calculate AUC\n",
    "metrics.roc_auc_score(y_test, y_pred_prob)"
   ]
  },
  {
   "cell_type": "markdown",
   "id": "4e69f042",
   "metadata": {},
   "source": [
    "# Examining model"
   ]
  },
  {
   "cell_type": "code",
   "execution_count": 132,
   "id": "4f9ec4dd",
   "metadata": {},
   "outputs": [
    {
     "data": {
      "text/plain": [
       "8761"
      ]
     },
     "execution_count": 132,
     "metadata": {},
     "output_type": "execute_result"
    }
   ],
   "source": [
    "# store the vocabulary of X_train\n",
    "X_train_tokens = vect.get_feature_names_out()\n",
    "len(X_train_tokens)"
   ]
  },
  {
   "cell_type": "code",
   "execution_count": 133,
   "id": "eb3d0b60",
   "metadata": {},
   "outputs": [
    {
     "name": "stdout",
     "output_type": "stream",
     "text": [
      "['00' '00 00' '00 pm' '000' '000 00' '000 000' '000 30' '000 35' '000 65'\n",
      " '000 acres' '000 annual' '000 annually' '000 approx' '000 btu'\n",
      " '000 building' '000 business' '000 cars' '000 cases' '000 cash' '000 day'\n",
      " '000 gallon' '000 gallons' '000 gals' '000 included' '000 includes'\n",
      " '000 information' '000 inside' '000 inventory' '000 lbs' '000 lottery'\n",
      " '000 million' '000 month' '000 monthly' '000 plus' '000 property'\n",
      " '000 real' '000 revenue' '000 room' '000 seller' '000 sf' '000 sq'\n",
      " '000 sqft' '000 square' '000 total' '000 turn' '000 vehicles' '000 week'\n",
      " '000 year' '000 yearasking' '000 yearly']\n"
     ]
    }
   ],
   "source": [
    "# examine the first 50 tokens\n",
    "print(X_train_tokens[0:50])"
   ]
  },
  {
   "cell_type": "code",
   "execution_count": 134,
   "id": "068dc401",
   "metadata": {},
   "outputs": [
    {
     "name": "stdout",
     "output_type": "stream",
     "text": [
      "['years great' 'years including' 'years independent' 'years later'\n",
      " 'years left' 'years located' 'years location' 'years new' 'years newly'\n",
      " 'years old' 'years operating' 'years owner' 'years owners'\n",
      " 'years property' 'years reach' 'years ready' 'years restaurant'\n",
      " 'years seller' 'years serving' 'years store' 'years strong'\n",
      " 'years successful' 'years time' 'yellowstone' 'yellowstone national'\n",
      " 'yelp' 'yes' 'york' 'york property' 'young' 'youtu' 'youtu nfxu7wrnn0q'\n",
      " 'youtube' 'yr' 'zero' 'zion' 'zone' 'zoned' 'zoned c1' 'zoned commercial'\n",
      " 'zoned general' 'zoned location' 'zoned mixed' 'zoned property' 'zones'\n",
      " 'zoning' 'zoning allows' 'zoning includes' 'zoning property' 'zoo']\n"
     ]
    }
   ],
   "source": [
    "# examine the last 50 tokens\n",
    "print(X_train_tokens[-50:])"
   ]
  },
  {
   "cell_type": "code",
   "execution_count": 135,
   "id": "0c9d241a",
   "metadata": {},
   "outputs": [
    {
     "data": {
      "text/plain": [
       "array([[24.,  3.,  3., ...,  2.,  2.,  2.],\n",
       "       [10.,  1.,  1., ...,  0.,  0.,  0.]])"
      ]
     },
     "execution_count": 135,
     "metadata": {},
     "output_type": "execute_result"
    }
   ],
   "source": [
    "nb.feature_count_"
   ]
  },
  {
   "cell_type": "code",
   "execution_count": 136,
   "id": "e8276043",
   "metadata": {},
   "outputs": [
    {
     "data": {
      "text/plain": [
       "(2, 8761)"
      ]
     },
     "execution_count": 136,
     "metadata": {},
     "output_type": "execute_result"
    }
   ],
   "source": [
    "nb.feature_count_.shape"
   ]
  },
  {
   "cell_type": "code",
   "execution_count": 137,
   "id": "cc28cd52",
   "metadata": {},
   "outputs": [
    {
     "data": {
      "text/plain": [
       "array([24.,  3.,  3., ...,  2.,  2.,  2.])"
      ]
     },
     "execution_count": 137,
     "metadata": {},
     "output_type": "execute_result"
    }
   ],
   "source": [
    "# number of times each token appears across all HAM messages\n",
    "ham_token_count = nb.feature_count_[0, :]\n",
    "ham_token_count"
   ]
  },
  {
   "cell_type": "code",
   "execution_count": 138,
   "id": "96dd4b8f",
   "metadata": {},
   "outputs": [
    {
     "data": {
      "text/plain": [
       "array([10.,  1.,  1., ...,  0.,  0.,  0.])"
      ]
     },
     "execution_count": 138,
     "metadata": {},
     "output_type": "execute_result"
    }
   ],
   "source": [
    "# number of times each token appears across all SPAM messages\n",
    "spam_token_count = nb.feature_count_[1, :]\n",
    "spam_token_count"
   ]
  },
  {
   "cell_type": "code",
   "execution_count": 139,
   "id": "b3b0ba72",
   "metadata": {},
   "outputs": [
    {
     "data": {
      "text/html": [
       "<div>\n",
       "<style scoped>\n",
       "    .dataframe tbody tr th:only-of-type {\n",
       "        vertical-align: middle;\n",
       "    }\n",
       "\n",
       "    .dataframe tbody tr th {\n",
       "        vertical-align: top;\n",
       "    }\n",
       "\n",
       "    .dataframe thead th {\n",
       "        text-align: right;\n",
       "    }\n",
       "</style>\n",
       "<table border=\"1\" class=\"dataframe\">\n",
       "  <thead>\n",
       "    <tr style=\"text-align: right;\">\n",
       "      <th></th>\n",
       "      <th>ham</th>\n",
       "      <th>spam</th>\n",
       "    </tr>\n",
       "    <tr>\n",
       "      <th>token</th>\n",
       "      <th></th>\n",
       "      <th></th>\n",
       "    </tr>\n",
       "  </thead>\n",
       "  <tbody>\n",
       "    <tr>\n",
       "      <th>00</th>\n",
       "      <td>24.0</td>\n",
       "      <td>10.0</td>\n",
       "    </tr>\n",
       "    <tr>\n",
       "      <th>00 00</th>\n",
       "      <td>3.0</td>\n",
       "      <td>1.0</td>\n",
       "    </tr>\n",
       "    <tr>\n",
       "      <th>00 pm</th>\n",
       "      <td>3.0</td>\n",
       "      <td>1.0</td>\n",
       "    </tr>\n",
       "    <tr>\n",
       "      <th>000</th>\n",
       "      <td>261.0</td>\n",
       "      <td>168.0</td>\n",
       "    </tr>\n",
       "    <tr>\n",
       "      <th>000 00</th>\n",
       "      <td>8.0</td>\n",
       "      <td>4.0</td>\n",
       "    </tr>\n",
       "  </tbody>\n",
       "</table>\n",
       "</div>"
      ],
      "text/plain": [
       "          ham   spam\n",
       "token               \n",
       "00       24.0   10.0\n",
       "00 00     3.0    1.0\n",
       "00 pm     3.0    1.0\n",
       "000     261.0  168.0\n",
       "000 00    8.0    4.0"
      ]
     },
     "execution_count": 139,
     "metadata": {},
     "output_type": "execute_result"
    }
   ],
   "source": [
    "# create a DataFrame of tokens with their separate ham and spam counts\n",
    "tokens = pd.DataFrame({'token':X_train_tokens, 'ham':ham_token_count, 'spam':spam_token_count}).set_index('token')\n",
    "tokens.head()"
   ]
  },
  {
   "cell_type": "code",
   "execution_count": 140,
   "id": "134fe0d7",
   "metadata": {},
   "outputs": [
    {
     "data": {
      "text/html": [
       "<div>\n",
       "<style scoped>\n",
       "    .dataframe tbody tr th:only-of-type {\n",
       "        vertical-align: middle;\n",
       "    }\n",
       "\n",
       "    .dataframe tbody tr th {\n",
       "        vertical-align: top;\n",
       "    }\n",
       "\n",
       "    .dataframe thead th {\n",
       "        text-align: right;\n",
       "    }\n",
       "</style>\n",
       "<table border=\"1\" class=\"dataframe\">\n",
       "  <thead>\n",
       "    <tr style=\"text-align: right;\">\n",
       "      <th></th>\n",
       "      <th>ham</th>\n",
       "      <th>spam</th>\n",
       "    </tr>\n",
       "    <tr>\n",
       "      <th>token</th>\n",
       "      <th></th>\n",
       "      <th></th>\n",
       "    </tr>\n",
       "  </thead>\n",
       "  <tbody>\n",
       "    <tr>\n",
       "      <th>000 business</th>\n",
       "      <td>5.0</td>\n",
       "      <td>5.0</td>\n",
       "    </tr>\n",
       "    <tr>\n",
       "      <th>located main</th>\n",
       "      <td>7.0</td>\n",
       "      <td>0.0</td>\n",
       "    </tr>\n",
       "    <tr>\n",
       "      <th>2020 covid</th>\n",
       "      <td>1.0</td>\n",
       "      <td>1.0</td>\n",
       "    </tr>\n",
       "    <tr>\n",
       "      <th>bar food</th>\n",
       "      <td>2.0</td>\n",
       "      <td>0.0</td>\n",
       "    </tr>\n",
       "    <tr>\n",
       "      <th>boston</th>\n",
       "      <td>1.0</td>\n",
       "      <td>4.0</td>\n",
       "    </tr>\n",
       "  </tbody>\n",
       "</table>\n",
       "</div>"
      ],
      "text/plain": [
       "              ham  spam\n",
       "token                  \n",
       "000 business  5.0   5.0\n",
       "located main  7.0   0.0\n",
       "2020 covid    1.0   1.0\n",
       "bar food      2.0   0.0\n",
       "boston        1.0   4.0"
      ]
     },
     "execution_count": 140,
     "metadata": {},
     "output_type": "execute_result"
    }
   ],
   "source": [
    "# examine 5 random DataFrame rows\n",
    "# random_state=6 is a seed for reproducibility\n",
    "tokens.sample(5, random_state=6)"
   ]
  },
  {
   "cell_type": "code",
   "execution_count": 141,
   "id": "ddb7661a",
   "metadata": {},
   "outputs": [
    {
     "data": {
      "text/plain": [
       "array([561., 189.])"
      ]
     },
     "execution_count": 141,
     "metadata": {},
     "output_type": "execute_result"
    }
   ],
   "source": [
    "nb.class_count_"
   ]
  },
  {
   "cell_type": "code",
   "execution_count": 142,
   "id": "4028e449",
   "metadata": {},
   "outputs": [
    {
     "data": {
      "text/html": [
       "<div>\n",
       "<style scoped>\n",
       "    .dataframe tbody tr th:only-of-type {\n",
       "        vertical-align: middle;\n",
       "    }\n",
       "\n",
       "    .dataframe tbody tr th {\n",
       "        vertical-align: top;\n",
       "    }\n",
       "\n",
       "    .dataframe thead th {\n",
       "        text-align: right;\n",
       "    }\n",
       "</style>\n",
       "<table border=\"1\" class=\"dataframe\">\n",
       "  <thead>\n",
       "    <tr style=\"text-align: right;\">\n",
       "      <th></th>\n",
       "      <th>ham</th>\n",
       "      <th>spam</th>\n",
       "    </tr>\n",
       "    <tr>\n",
       "      <th>token</th>\n",
       "      <th></th>\n",
       "      <th></th>\n",
       "    </tr>\n",
       "  </thead>\n",
       "  <tbody>\n",
       "    <tr>\n",
       "      <th>000 business</th>\n",
       "      <td>6.0</td>\n",
       "      <td>6.0</td>\n",
       "    </tr>\n",
       "    <tr>\n",
       "      <th>located main</th>\n",
       "      <td>8.0</td>\n",
       "      <td>1.0</td>\n",
       "    </tr>\n",
       "    <tr>\n",
       "      <th>2020 covid</th>\n",
       "      <td>2.0</td>\n",
       "      <td>2.0</td>\n",
       "    </tr>\n",
       "    <tr>\n",
       "      <th>bar food</th>\n",
       "      <td>3.0</td>\n",
       "      <td>1.0</td>\n",
       "    </tr>\n",
       "    <tr>\n",
       "      <th>boston</th>\n",
       "      <td>2.0</td>\n",
       "      <td>5.0</td>\n",
       "    </tr>\n",
       "  </tbody>\n",
       "</table>\n",
       "</div>"
      ],
      "text/plain": [
       "              ham  spam\n",
       "token                  \n",
       "000 business  6.0   6.0\n",
       "located main  8.0   1.0\n",
       "2020 covid    2.0   2.0\n",
       "bar food      3.0   1.0\n",
       "boston        2.0   5.0"
      ]
     },
     "execution_count": 142,
     "metadata": {},
     "output_type": "execute_result"
    }
   ],
   "source": [
    "# add 1 to ham and spam counts to avoid dividing by 0\n",
    "tokens['ham'] = tokens.ham + 1\n",
    "tokens['spam'] = tokens.spam + 1\n",
    "tokens.sample(5, random_state=6)"
   ]
  },
  {
   "cell_type": "code",
   "execution_count": 143,
   "id": "776aca31",
   "metadata": {},
   "outputs": [
    {
     "data": {
      "text/html": [
       "<div>\n",
       "<style scoped>\n",
       "    .dataframe tbody tr th:only-of-type {\n",
       "        vertical-align: middle;\n",
       "    }\n",
       "\n",
       "    .dataframe tbody tr th {\n",
       "        vertical-align: top;\n",
       "    }\n",
       "\n",
       "    .dataframe thead th {\n",
       "        text-align: right;\n",
       "    }\n",
       "</style>\n",
       "<table border=\"1\" class=\"dataframe\">\n",
       "  <thead>\n",
       "    <tr style=\"text-align: right;\">\n",
       "      <th></th>\n",
       "      <th>ham</th>\n",
       "      <th>spam</th>\n",
       "    </tr>\n",
       "    <tr>\n",
       "      <th>token</th>\n",
       "      <th></th>\n",
       "      <th></th>\n",
       "    </tr>\n",
       "  </thead>\n",
       "  <tbody>\n",
       "    <tr>\n",
       "      <th>000 business</th>\n",
       "      <td>0.010695</td>\n",
       "      <td>0.031746</td>\n",
       "    </tr>\n",
       "    <tr>\n",
       "      <th>located main</th>\n",
       "      <td>0.014260</td>\n",
       "      <td>0.005291</td>\n",
       "    </tr>\n",
       "    <tr>\n",
       "      <th>2020 covid</th>\n",
       "      <td>0.003565</td>\n",
       "      <td>0.010582</td>\n",
       "    </tr>\n",
       "    <tr>\n",
       "      <th>bar food</th>\n",
       "      <td>0.005348</td>\n",
       "      <td>0.005291</td>\n",
       "    </tr>\n",
       "    <tr>\n",
       "      <th>boston</th>\n",
       "      <td>0.003565</td>\n",
       "      <td>0.026455</td>\n",
       "    </tr>\n",
       "  </tbody>\n",
       "</table>\n",
       "</div>"
      ],
      "text/plain": [
       "                   ham      spam\n",
       "token                           \n",
       "000 business  0.010695  0.031746\n",
       "located main  0.014260  0.005291\n",
       "2020 covid    0.003565  0.010582\n",
       "bar food      0.005348  0.005291\n",
       "boston        0.003565  0.026455"
      ]
     },
     "execution_count": 143,
     "metadata": {},
     "output_type": "execute_result"
    }
   ],
   "source": [
    "# convert the ham and spam counts into frequencies\n",
    "tokens['ham'] = tokens.ham / nb.class_count_[0]\n",
    "tokens['spam'] = tokens.spam / nb.class_count_[1]\n",
    "tokens.sample(5, random_state=6)"
   ]
  },
  {
   "cell_type": "code",
   "execution_count": 144,
   "id": "6a95585f",
   "metadata": {},
   "outputs": [
    {
     "data": {
      "text/html": [
       "<div>\n",
       "<style scoped>\n",
       "    .dataframe tbody tr th:only-of-type {\n",
       "        vertical-align: middle;\n",
       "    }\n",
       "\n",
       "    .dataframe tbody tr th {\n",
       "        vertical-align: top;\n",
       "    }\n",
       "\n",
       "    .dataframe thead th {\n",
       "        text-align: right;\n",
       "    }\n",
       "</style>\n",
       "<table border=\"1\" class=\"dataframe\">\n",
       "  <thead>\n",
       "    <tr style=\"text-align: right;\">\n",
       "      <th></th>\n",
       "      <th>ham</th>\n",
       "      <th>spam</th>\n",
       "      <th>spam_ratio</th>\n",
       "    </tr>\n",
       "    <tr>\n",
       "      <th>token</th>\n",
       "      <th></th>\n",
       "      <th></th>\n",
       "      <th></th>\n",
       "    </tr>\n",
       "  </thead>\n",
       "  <tbody>\n",
       "    <tr>\n",
       "      <th>000 business</th>\n",
       "      <td>0.010695</td>\n",
       "      <td>0.031746</td>\n",
       "      <td>2.968254</td>\n",
       "    </tr>\n",
       "    <tr>\n",
       "      <th>located main</th>\n",
       "      <td>0.014260</td>\n",
       "      <td>0.005291</td>\n",
       "      <td>0.371032</td>\n",
       "    </tr>\n",
       "    <tr>\n",
       "      <th>2020 covid</th>\n",
       "      <td>0.003565</td>\n",
       "      <td>0.010582</td>\n",
       "      <td>2.968254</td>\n",
       "    </tr>\n",
       "    <tr>\n",
       "      <th>bar food</th>\n",
       "      <td>0.005348</td>\n",
       "      <td>0.005291</td>\n",
       "      <td>0.989418</td>\n",
       "    </tr>\n",
       "    <tr>\n",
       "      <th>boston</th>\n",
       "      <td>0.003565</td>\n",
       "      <td>0.026455</td>\n",
       "      <td>7.420635</td>\n",
       "    </tr>\n",
       "  </tbody>\n",
       "</table>\n",
       "</div>"
      ],
      "text/plain": [
       "                   ham      spam  spam_ratio\n",
       "token                                       \n",
       "000 business  0.010695  0.031746    2.968254\n",
       "located main  0.014260  0.005291    0.371032\n",
       "2020 covid    0.003565  0.010582    2.968254\n",
       "bar food      0.005348  0.005291    0.989418\n",
       "boston        0.003565  0.026455    7.420635"
      ]
     },
     "execution_count": 144,
     "metadata": {},
     "output_type": "execute_result"
    }
   ],
   "source": [
    "# calculate the ratio of spam-to-ham for each token\n",
    "tokens['spam_ratio'] = tokens.spam / tokens.ham\n",
    "tokens.sample(5, random_state=6)"
   ]
  },
  {
   "cell_type": "code",
   "execution_count": 145,
   "id": "be06b0c1",
   "metadata": {},
   "outputs": [
    {
     "data": {
      "text/html": [
       "<div>\n",
       "<style scoped>\n",
       "    .dataframe tbody tr th:only-of-type {\n",
       "        vertical-align: middle;\n",
       "    }\n",
       "\n",
       "    .dataframe tbody tr th {\n",
       "        vertical-align: top;\n",
       "    }\n",
       "\n",
       "    .dataframe thead th {\n",
       "        text-align: right;\n",
       "    }\n",
       "</style>\n",
       "<table border=\"1\" class=\"dataframe\">\n",
       "  <thead>\n",
       "    <tr style=\"text-align: right;\">\n",
       "      <th></th>\n",
       "      <th>ham</th>\n",
       "      <th>spam</th>\n",
       "      <th>spam_ratio</th>\n",
       "    </tr>\n",
       "    <tr>\n",
       "      <th>token</th>\n",
       "      <th></th>\n",
       "      <th></th>\n",
       "      <th></th>\n",
       "    </tr>\n",
       "  </thead>\n",
       "  <tbody>\n",
       "    <tr>\n",
       "      <th>consent</th>\n",
       "      <td>0.001783</td>\n",
       "      <td>0.047619</td>\n",
       "      <td>26.714286</td>\n",
       "    </tr>\n",
       "    <tr>\n",
       "      <th>inn suites</th>\n",
       "      <td>0.001783</td>\n",
       "      <td>0.047619</td>\n",
       "      <td>26.714286</td>\n",
       "    </tr>\n",
       "    <tr>\n",
       "      <th>pip</th>\n",
       "      <td>0.001783</td>\n",
       "      <td>0.047619</td>\n",
       "      <td>26.714286</td>\n",
       "    </tr>\n",
       "    <tr>\n",
       "      <th>hedgestone</th>\n",
       "      <td>0.001783</td>\n",
       "      <td>0.047619</td>\n",
       "      <td>26.714286</td>\n",
       "    </tr>\n",
       "    <tr>\n",
       "      <th>agreement required</th>\n",
       "      <td>0.001783</td>\n",
       "      <td>0.037037</td>\n",
       "      <td>20.777778</td>\n",
       "    </tr>\n",
       "    <tr>\n",
       "      <th>...</th>\n",
       "      <td>...</td>\n",
       "      <td>...</td>\n",
       "      <td>...</td>\n",
       "    </tr>\n",
       "    <tr>\n",
       "      <th>table</th>\n",
       "      <td>0.030303</td>\n",
       "      <td>0.005291</td>\n",
       "      <td>0.174603</td>\n",
       "    </tr>\n",
       "    <tr>\n",
       "      <th>traffic count</th>\n",
       "      <td>0.033868</td>\n",
       "      <td>0.005291</td>\n",
       "      <td>0.156224</td>\n",
       "    </tr>\n",
       "    <tr>\n",
       "      <th>machine</th>\n",
       "      <td>0.033868</td>\n",
       "      <td>0.005291</td>\n",
       "      <td>0.156224</td>\n",
       "    </tr>\n",
       "    <tr>\n",
       "      <th>alf</th>\n",
       "      <td>0.037433</td>\n",
       "      <td>0.005291</td>\n",
       "      <td>0.141345</td>\n",
       "    </tr>\n",
       "    <tr>\n",
       "      <th>office space</th>\n",
       "      <td>0.074866</td>\n",
       "      <td>0.005291</td>\n",
       "      <td>0.070673</td>\n",
       "    </tr>\n",
       "  </tbody>\n",
       "</table>\n",
       "<p>8761 rows × 3 columns</p>\n",
       "</div>"
      ],
      "text/plain": [
       "                         ham      spam  spam_ratio\n",
       "token                                             \n",
       "consent             0.001783  0.047619   26.714286\n",
       "inn suites          0.001783  0.047619   26.714286\n",
       "pip                 0.001783  0.047619   26.714286\n",
       "hedgestone          0.001783  0.047619   26.714286\n",
       "agreement required  0.001783  0.037037   20.777778\n",
       "...                      ...       ...         ...\n",
       "table               0.030303  0.005291    0.174603\n",
       "traffic count       0.033868  0.005291    0.156224\n",
       "machine             0.033868  0.005291    0.156224\n",
       "alf                 0.037433  0.005291    0.141345\n",
       "office space        0.074866  0.005291    0.070673\n",
       "\n",
       "[8761 rows x 3 columns]"
      ]
     },
     "execution_count": 145,
     "metadata": {},
     "output_type": "execute_result"
    }
   ],
   "source": [
    "# examine the DataFrame sorted by spam_ratio\n",
    "tokens.sort_values('spam_ratio', ascending=False)"
   ]
  },
  {
   "cell_type": "code",
   "execution_count": null,
   "id": "f5cf8c57",
   "metadata": {},
   "outputs": [],
   "source": []
  },
  {
   "cell_type": "code",
   "execution_count": null,
   "id": "1bf884cb",
   "metadata": {},
   "outputs": [],
   "source": []
  }
 ],
 "metadata": {
  "kernelspec": {
   "display_name": "Python 3 (ipykernel)",
   "language": "python",
   "name": "python3"
  },
  "language_info": {
   "codemirror_mode": {
    "name": "ipython",
    "version": 3
   },
   "file_extension": ".py",
   "mimetype": "text/x-python",
   "name": "python",
   "nbconvert_exporter": "python",
   "pygments_lexer": "ipython3",
   "version": "3.9.7"
  }
 },
 "nbformat": 4,
 "nbformat_minor": 5
}
