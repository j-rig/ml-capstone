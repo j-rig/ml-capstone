{
 "cells": [
  {
   "cell_type": "markdown",
   "metadata": {},
   "source": [
    "# Classification of bizbuysell data"
   ]
  },
  {
   "cell_type": "markdown",
   "metadata": {},
   "source": [
    "### With Logistic regession"
   ]
  },
  {
   "cell_type": "code",
   "execution_count": 1,
   "metadata": {},
   "outputs": [],
   "source": [
    "import warnings\n",
    "warnings.filterwarnings('ignore')"
   ]
  },
  {
   "cell_type": "code",
   "execution_count": 2,
   "metadata": {},
   "outputs": [],
   "source": [
    "import pandas as pd\n",
    "import numpy as np\n",
    "from sklearn.model_selection import train_test_split\n",
    "from sklearn.feature_extraction.text import CountVectorizer\n",
    "from sklearn.linear_model import LogisticRegression\n",
    "from sklearn import metrics\n",
    "import joblib"
   ]
  },
  {
   "cell_type": "markdown",
   "metadata": {},
   "source": [
    "### Load labeled bizbuysell dataset"
   ]
  },
  {
   "cell_type": "code",
   "execution_count": 3,
   "metadata": {},
   "outputs": [],
   "source": [
    "df_in=pd.read_parquet('data/bizwiz_value_score.parquet')"
   ]
  },
  {
   "cell_type": "code",
   "execution_count": 4,
   "metadata": {},
   "outputs": [
    {
     "data": {
      "text/html": [
       "<div>\n",
       "<style scoped>\n",
       "    .dataframe tbody tr th:only-of-type {\n",
       "        vertical-align: middle;\n",
       "    }\n",
       "\n",
       "    .dataframe tbody tr th {\n",
       "        vertical-align: top;\n",
       "    }\n",
       "\n",
       "    .dataframe thead th {\n",
       "        text-align: right;\n",
       "    }\n",
       "</style>\n",
       "<table border=\"1\" class=\"dataframe\">\n",
       "  <thead>\n",
       "    <tr style=\"text-align: right;\">\n",
       "      <th></th>\n",
       "      <th>id</th>\n",
       "      <th>pptitle</th>\n",
       "      <th>ppdesc</th>\n",
       "      <th>COUNTY_NAME</th>\n",
       "      <th>STATE_NAME</th>\n",
       "      <th>bizwiz_value_score</th>\n",
       "      <th>bizwiz_class</th>\n",
       "      <th>bizwiz_label</th>\n",
       "      <th>label_num</th>\n",
       "      <th>label</th>\n",
       "    </tr>\n",
       "  </thead>\n",
       "  <tbody>\n",
       "    <tr>\n",
       "      <th>1</th>\n",
       "      <td>1990890.0</td>\n",
       "      <td>high exposur may land new jersey</td>\n",
       "      <td>amaz opportun price sell readi busi locat hear...</td>\n",
       "      <td>Atlantic</td>\n",
       "      <td>New Jersey</td>\n",
       "      <td>4.062859</td>\n",
       "      <td>3</td>\n",
       "      <td>high</td>\n",
       "      <td>2</td>\n",
       "      <td>high</td>\n",
       "    </tr>\n",
       "    <tr>\n",
       "      <th>3</th>\n",
       "      <td>2039720.0</td>\n",
       "      <td>duplex short term long term pinella counti flo...</td>\n",
       "      <td>rare largoseminol area duplex central locat pi...</td>\n",
       "      <td>Pinellas</td>\n",
       "      <td>Florida</td>\n",
       "      <td>3.464210</td>\n",
       "      <td>2</td>\n",
       "      <td>medium</td>\n",
       "      <td>1</td>\n",
       "      <td>low</td>\n",
       "    </tr>\n",
       "    <tr>\n",
       "      <th>4</th>\n",
       "      <td>1576680.0</td>\n",
       "      <td>major price reduct resttavern 13000sq ft build...</td>\n",
       "      <td>price reduc 850 000 make offercurr owner want ...</td>\n",
       "      <td>Baltimore (city)</td>\n",
       "      <td>Maryland</td>\n",
       "      <td>2.505054</td>\n",
       "      <td>1</td>\n",
       "      <td>low</td>\n",
       "      <td>1</td>\n",
       "      <td>low</td>\n",
       "    </tr>\n",
       "    <tr>\n",
       "      <th>5</th>\n",
       "      <td>2087638.0</td>\n",
       "      <td>busi real estat casco michigan</td>\n",
       "      <td>• busi real estat sale• liquorshopp first floo...</td>\n",
       "      <td>St. Clair</td>\n",
       "      <td>Michigan</td>\n",
       "      <td>2.973314</td>\n",
       "      <td>1</td>\n",
       "      <td>low</td>\n",
       "      <td>1</td>\n",
       "      <td>low</td>\n",
       "    </tr>\n",
       "    <tr>\n",
       "      <th>7</th>\n",
       "      <td>2051958.0</td>\n",
       "      <td>turnkey restaur near lake wister state park hi...</td>\n",
       "      <td>commerci real estat sale welcom 409 us highway...</td>\n",
       "      <td>Le Flore</td>\n",
       "      <td>Oklahoma</td>\n",
       "      <td>3.712142</td>\n",
       "      <td>2</td>\n",
       "      <td>medium</td>\n",
       "      <td>1</td>\n",
       "      <td>low</td>\n",
       "    </tr>\n",
       "  </tbody>\n",
       "</table>\n",
       "</div>"
      ],
      "text/plain": [
       "          id                                            pptitle  \\\n",
       "1  1990890.0                   high exposur may land new jersey   \n",
       "3  2039720.0  duplex short term long term pinella counti flo...   \n",
       "4  1576680.0  major price reduct resttavern 13000sq ft build...   \n",
       "5  2087638.0                     busi real estat casco michigan   \n",
       "7  2051958.0  turnkey restaur near lake wister state park hi...   \n",
       "\n",
       "                                              ppdesc       COUNTY_NAME  \\\n",
       "1  amaz opportun price sell readi busi locat hear...          Atlantic   \n",
       "3  rare largoseminol area duplex central locat pi...          Pinellas   \n",
       "4  price reduc 850 000 make offercurr owner want ...  Baltimore (city)   \n",
       "5  • busi real estat sale• liquorshopp first floo...         St. Clair   \n",
       "7  commerci real estat sale welcom 409 us highway...          Le Flore   \n",
       "\n",
       "   STATE_NAME  bizwiz_value_score  bizwiz_class bizwiz_label  label_num label  \n",
       "1  New Jersey            4.062859             3         high          2  high  \n",
       "3     Florida            3.464210             2       medium          1   low  \n",
       "4    Maryland            2.505054             1          low          1   low  \n",
       "5    Michigan            2.973314             1          low          1   low  \n",
       "7    Oklahoma            3.712142             2       medium          1   low  "
      ]
     },
     "execution_count": 4,
     "metadata": {},
     "output_type": "execute_result"
    }
   ],
   "source": [
    "df_in.head()"
   ]
  },
  {
   "cell_type": "markdown",
   "metadata": {},
   "source": [
    "### Create test/train datasets"
   ]
  },
  {
   "cell_type": "code",
   "execution_count": 5,
   "metadata": {},
   "outputs": [
    {
     "name": "stdout",
     "output_type": "stream",
     "text": [
      "(27336,)\n",
      "(27336,)\n"
     ]
    }
   ],
   "source": [
    "X = df_in.pptitle + ' ' + df_in.ppdesc + ' ' + df_in.COUNTY_NAME + ' ' + df_in.STATE_NAME\n",
    "#y = df_in.bizwiz_class\n",
    "y = df_in.label_num\n",
    "print(X.shape)\n",
    "print(y.shape)"
   ]
  },
  {
   "cell_type": "code",
   "execution_count": 6,
   "metadata": {},
   "outputs": [
    {
     "name": "stdout",
     "output_type": "stream",
     "text": [
      "(20502,)\n",
      "(6834,)\n",
      "(20502,)\n",
      "(6834,)\n"
     ]
    }
   ],
   "source": [
    "X_train, X_test, y_train, y_test = train_test_split(X, y, random_state=1)\n",
    "print(X_train.shape)\n",
    "print(X_test.shape)\n",
    "print(y_train.shape)\n",
    "print(y_test.shape)"
   ]
  },
  {
   "cell_type": "markdown",
   "metadata": {},
   "source": [
    "### Vectorize the data"
   ]
  },
  {
   "cell_type": "code",
   "execution_count": 7,
   "metadata": {},
   "outputs": [],
   "source": [
    "# remove English stop words\n",
    "# include 1-grams and 2-grams\n",
    "# ignore terms that appear in more than 50% of the documents\n",
    "# only keep terms that appear in at least 2 documents\n",
    "\n",
    "vect = CountVectorizer(stop_words='english',ngram_range=(1, 2),max_df=0.5,min_df=2)\n",
    "#vect = CountVectorizer()"
   ]
  },
  {
   "cell_type": "code",
   "execution_count": 8,
   "metadata": {},
   "outputs": [],
   "source": [
    "X_train_dtm = vect.fit_transform(X_train)"
   ]
  },
  {
   "cell_type": "code",
   "execution_count": 9,
   "metadata": {},
   "outputs": [],
   "source": [
    "X_test_dtm = vect.transform(X_test)"
   ]
  },
  {
   "cell_type": "markdown",
   "metadata": {},
   "source": [
    "### Train Logistic Regression Model"
   ]
  },
  {
   "cell_type": "code",
   "execution_count": 10,
   "metadata": {},
   "outputs": [],
   "source": [
    "logreg = LogisticRegression()"
   ]
  },
  {
   "cell_type": "code",
   "execution_count": 11,
   "metadata": {},
   "outputs": [
    {
     "name": "stdout",
     "output_type": "stream",
     "text": [
      "CPU times: user 8.48 s, sys: 10.9 s, total: 19.3 s\n",
      "Wall time: 3.58 s\n"
     ]
    },
    {
     "data": {
      "text/plain": [
       "LogisticRegression()"
      ]
     },
     "execution_count": 11,
     "metadata": {},
     "output_type": "execute_result"
    }
   ],
   "source": [
    "#train the model \n",
    "%time logreg.fit(X_train_dtm, y_train)"
   ]
  },
  {
   "cell_type": "markdown",
   "metadata": {},
   "source": [
    "### Make predictions with model and look at performance"
   ]
  },
  {
   "cell_type": "code",
   "execution_count": 12,
   "metadata": {},
   "outputs": [],
   "source": [
    "y_pred_class = logreg.predict(X_test_dtm)"
   ]
  },
  {
   "cell_type": "code",
   "execution_count": 13,
   "metadata": {},
   "outputs": [
    {
     "name": "stdout",
     "output_type": "stream",
     "text": [
      "              precision    recall  f1-score   support\n",
      "\n",
      "           1       0.73      0.74      0.74      3398\n",
      "           2       0.74      0.73      0.74      3436\n",
      "\n",
      "    accuracy                           0.74      6834\n",
      "   macro avg       0.74      0.74      0.74      6834\n",
      "weighted avg       0.74      0.74      0.74      6834\n",
      "\n"
     ]
    }
   ],
   "source": [
    "print(metrics.classification_report(y_test, y_pred_class))"
   ]
  },
  {
   "cell_type": "markdown",
   "metadata": {},
   "source": [
    "### Save the model"
   ]
  },
  {
   "cell_type": "code",
   "execution_count": 14,
   "metadata": {},
   "outputs": [
    {
     "data": {
      "text/plain": [
       "['data/model.lr.joblib']"
      ]
     },
     "execution_count": 14,
     "metadata": {},
     "output_type": "execute_result"
    }
   ],
   "source": [
    "joblib.dump(logreg,'data/model.lr.joblib')"
   ]
  }
 ],
 "metadata": {
  "kernelspec": {
   "display_name": "Python 3 (ipykernel)",
   "language": "python",
   "name": "python3"
  },
  "language_info": {
   "codemirror_mode": {
    "name": "ipython",
    "version": 3
   },
   "file_extension": ".py",
   "mimetype": "text/x-python",
   "name": "python",
   "nbconvert_exporter": "python",
   "pygments_lexer": "ipython3",
   "version": "3.7.17"
  }
 },
 "nbformat": 4,
 "nbformat_minor": 4
}
