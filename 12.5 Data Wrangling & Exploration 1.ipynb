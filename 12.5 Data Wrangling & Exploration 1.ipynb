{
 "cells": [
  {
   "cell_type": "markdown",
   "metadata": {},
   "source": [
    "# Bizbuysell Data Wrangling & Exploration 1"
   ]
  },
  {
   "cell_type": "code",
   "execution_count": 1,
   "metadata": {},
   "outputs": [],
   "source": [
    "import warnings\n",
    "warnings.filterwarnings('ignore')"
   ]
  },
  {
   "cell_type": "code",
   "execution_count": 2,
   "metadata": {},
   "outputs": [],
   "source": [
    "import pandas as pd"
   ]
  },
  {
   "cell_type": "markdown",
   "metadata": {},
   "source": [
    "### Read in \"detailed\" business data from web scraper"
   ]
  },
  {
   "cell_type": "code",
   "execution_count": 3,
   "metadata": {},
   "outputs": [],
   "source": [
    "df_d=pd.read_json('data/bizbuysell.detail.lines.json.zip',lines=True)"
   ]
  },
  {
   "cell_type": "markdown",
   "metadata": {},
   "source": [
    "### Clean up detailed data"
   ]
  },
  {
   "cell_type": "code",
   "execution_count": 4,
   "metadata": {},
   "outputs": [],
   "source": [
    "df_d['id']=df_d.s_id\n",
    "df_d['src']='details'\n",
    "df_d['url']=df_d['s_url']\n",
    "df_d['title']=df_d['s_name']\n",
    "df_d['desc']=df_d['s_desc']\n",
    "df_d['local']=df_d['s_local']\n",
    "df_d['region']=df_d['s_region']\n",
    "df_d['location']=df_d['p_location']\n",
    "df_d['title_loc']=df_d['title'].str.extract(r\"in (.+) - BizBuySell\")\n",
    "df_d['categories']=df_d['s_breadcrumbs']\n",
    "df_d['details']=df_d['p_details_text']\n",
    "df_d['financials']=df_d['p_financials_text']\n",
    "df_d['price']=df_d['s_price']\n",
    "df_d['similar']=df_d['s_similar']"
   ]
  },
  {
   "cell_type": "code",
   "execution_count": 5,
   "metadata": {},
   "outputs": [],
   "source": [
    "df_dd=df_d[['id','src','url','title',\n",
    "            'desc','local','region','location','title_loc','categories','similar',\n",
    "            'details','financials','price']]"
   ]
  },
  {
   "cell_type": "code",
   "execution_count": 6,
   "metadata": {},
   "outputs": [
    {
     "data": {
      "text/plain": [
       "(38571, 14)"
      ]
     },
     "execution_count": 6,
     "metadata": {},
     "output_type": "execute_result"
    }
   ],
   "source": [
    "df_dd.shape"
   ]
  },
  {
   "cell_type": "code",
   "execution_count": 7,
   "metadata": {},
   "outputs": [
    {
     "data": {
      "text/html": [
       "<div>\n",
       "<style scoped>\n",
       "    .dataframe tbody tr th:only-of-type {\n",
       "        vertical-align: middle;\n",
       "    }\n",
       "\n",
       "    .dataframe tbody tr th {\n",
       "        vertical-align: top;\n",
       "    }\n",
       "\n",
       "    .dataframe thead th {\n",
       "        text-align: right;\n",
       "    }\n",
       "</style>\n",
       "<table border=\"1\" class=\"dataframe\">\n",
       "  <thead>\n",
       "    <tr style=\"text-align: right;\">\n",
       "      <th></th>\n",
       "      <th>id</th>\n",
       "      <th>src</th>\n",
       "      <th>url</th>\n",
       "      <th>title</th>\n",
       "      <th>desc</th>\n",
       "      <th>local</th>\n",
       "      <th>region</th>\n",
       "      <th>location</th>\n",
       "      <th>title_loc</th>\n",
       "      <th>categories</th>\n",
       "      <th>similar</th>\n",
       "      <th>details</th>\n",
       "      <th>financials</th>\n",
       "      <th>price</th>\n",
       "    </tr>\n",
       "  </thead>\n",
       "  <tbody>\n",
       "    <tr>\n",
       "      <th>0</th>\n",
       "      <td>2067319.0</td>\n",
       "      <td>details</td>\n",
       "      <td>https://www.bizbuysell.com/Business-Real-Estat...</td>\n",
       "      <td>Popular Marina in Central New Jersey in Middle...</td>\n",
       "      <td>It is fully owned by a man and his wife since ...</td>\n",
       "      <td>Middlesex</td>\n",
       "      <td>New Jersey</td>\n",
       "      <td>Middlesex County, NJ</td>\n",
       "      <td>Central New Jersey in Middlesex County, New Je...</td>\n",
       "      <td>[Real Estate For Sale, New Jersey, Marinas and...</td>\n",
       "      <td>[1864705, 2071534, 2057087]</td>\n",
       "      <td>Location:\\nMiddlesex County, NJ\\nType:\\nOther ...</td>\n",
       "      <td>Asking Price:\\n$2,500,000\\n                   ...</td>\n",
       "      <td>2500000.0</td>\n",
       "    </tr>\n",
       "    <tr>\n",
       "      <th>1</th>\n",
       "      <td>1990890.0</td>\n",
       "      <td>details</td>\n",
       "      <td>https://www.bizbuysell.com/Business-Real-Estat...</td>\n",
       "      <td>High Exposure in Mays Landing, New Jersey - Bi...</td>\n",
       "      <td>AMAZING OPPORTUNITY! Priced to sell and ready ...</td>\n",
       "      <td>Mays Landing</td>\n",
       "      <td>New Jersey</td>\n",
       "      <td>Mays Landing, NJ (Atlantic County)</td>\n",
       "      <td>Mays Landing, New Jersey</td>\n",
       "      <td>[Real Estate For Sale, New Jersey, Other, Mays...</td>\n",
       "      <td>[2075819, 1864705, 2071534]</td>\n",
       "      <td>Location:\\nMays Landing, NJ\\nType:\\nOffice\\nBu...</td>\n",
       "      <td>Asking Price:\\n$225,000\\n                     ...</td>\n",
       "      <td>225000.0</td>\n",
       "    </tr>\n",
       "    <tr>\n",
       "      <th>2</th>\n",
       "      <td>2050006.0</td>\n",
       "      <td>details</td>\n",
       "      <td>https://www.bizbuysell.com/Business-Real-Estat...</td>\n",
       "      <td>Rental Units with Real Estate in Randolph, New...</td>\n",
       "      <td>This is a 6 unit Airbnb with an average occupa...</td>\n",
       "      <td>Randolph</td>\n",
       "      <td>New York</td>\n",
       "      <td>Randolph, NY (Cattaraugus County)</td>\n",
       "      <td>Randolph, New York</td>\n",
       "      <td>[Real Estate For Sale, New York, Hotels, Rando...</td>\n",
       "      <td>[2059235, 2080381, 2077331]</td>\n",
       "      <td>Location:\\nRandolph, NY\\nType:\\nOther Business...</td>\n",
       "      <td>Asking Price:\\n$425,000\\n                     ...</td>\n",
       "      <td>425000.0</td>\n",
       "    </tr>\n",
       "    <tr>\n",
       "      <th>3</th>\n",
       "      <td>2039720.0</td>\n",
       "      <td>details</td>\n",
       "      <td>https://www.bizbuysell.com/Business-Real-Estat...</td>\n",
       "      <td>Duplex, Short term or Long term in Pinellas Co...</td>\n",
       "      <td>Rare Largo/Seminole area duplex centrally loca...</td>\n",
       "      <td>Pinellas</td>\n",
       "      <td>Florida</td>\n",
       "      <td>Pinellas County, FL</td>\n",
       "      <td>Pinellas County, Florida</td>\n",
       "      <td>[Real Estate For Sale, Florida, Other, Pinella...</td>\n",
       "      <td>[2035549, 2067510, 2054271]</td>\n",
       "      <td>Location:\\nPinellas County, FL\\nType:\\nMulti-F...</td>\n",
       "      <td>Asking Price:\\n$595,000\\n                     ...</td>\n",
       "      <td>595000.0</td>\n",
       "    </tr>\n",
       "    <tr>\n",
       "      <th>4</th>\n",
       "      <td>1576680.0</td>\n",
       "      <td>details</td>\n",
       "      <td>https://www.bizbuysell.com/Business-Real-Estat...</td>\n",
       "      <td>Major Price Reduction Rest/Tavern/ 13,000sq. f...</td>\n",
       "      <td>Price reduced to $850. 000 MAKE AN OFFER!!!!!!...</td>\n",
       "      <td>Baltimore</td>\n",
       "      <td>Maryland</td>\n",
       "      <td>Baltimore, MD (Baltimore City County)</td>\n",
       "      <td>Baltimore, Maryland</td>\n",
       "      <td>[Real Estate For Sale, Maryland, Bars, Pubs an...</td>\n",
       "      <td>[2082461, 2050777, 2043561]</td>\n",
       "      <td>Location:\\nBaltimore, MD\\nType:\\nRetail\\nBuild...</td>\n",
       "      <td>Asking Price:\\n$1,050,000\\n                   ...</td>\n",
       "      <td>1050000.0</td>\n",
       "    </tr>\n",
       "  </tbody>\n",
       "</table>\n",
       "</div>"
      ],
      "text/plain": [
       "          id      src                                                url  \\\n",
       "0  2067319.0  details  https://www.bizbuysell.com/Business-Real-Estat...   \n",
       "1  1990890.0  details  https://www.bizbuysell.com/Business-Real-Estat...   \n",
       "2  2050006.0  details  https://www.bizbuysell.com/Business-Real-Estat...   \n",
       "3  2039720.0  details  https://www.bizbuysell.com/Business-Real-Estat...   \n",
       "4  1576680.0  details  https://www.bizbuysell.com/Business-Real-Estat...   \n",
       "\n",
       "                                               title  \\\n",
       "0  Popular Marina in Central New Jersey in Middle...   \n",
       "1  High Exposure in Mays Landing, New Jersey - Bi...   \n",
       "2  Rental Units with Real Estate in Randolph, New...   \n",
       "3  Duplex, Short term or Long term in Pinellas Co...   \n",
       "4  Major Price Reduction Rest/Tavern/ 13,000sq. f...   \n",
       "\n",
       "                                                desc         local  \\\n",
       "0  It is fully owned by a man and his wife since ...     Middlesex   \n",
       "1  AMAZING OPPORTUNITY! Priced to sell and ready ...  Mays Landing   \n",
       "2  This is a 6 unit Airbnb with an average occupa...      Randolph   \n",
       "3  Rare Largo/Seminole area duplex centrally loca...      Pinellas   \n",
       "4  Price reduced to $850. 000 MAKE AN OFFER!!!!!!...     Baltimore   \n",
       "\n",
       "       region                               location  \\\n",
       "0  New Jersey                   Middlesex County, NJ   \n",
       "1  New Jersey     Mays Landing, NJ (Atlantic County)   \n",
       "2    New York      Randolph, NY (Cattaraugus County)   \n",
       "3     Florida                    Pinellas County, FL   \n",
       "4    Maryland  Baltimore, MD (Baltimore City County)   \n",
       "\n",
       "                                           title_loc  \\\n",
       "0  Central New Jersey in Middlesex County, New Je...   \n",
       "1                           Mays Landing, New Jersey   \n",
       "2                                 Randolph, New York   \n",
       "3                           Pinellas County, Florida   \n",
       "4                                Baltimore, Maryland   \n",
       "\n",
       "                                          categories  \\\n",
       "0  [Real Estate For Sale, New Jersey, Marinas and...   \n",
       "1  [Real Estate For Sale, New Jersey, Other, Mays...   \n",
       "2  [Real Estate For Sale, New York, Hotels, Rando...   \n",
       "3  [Real Estate For Sale, Florida, Other, Pinella...   \n",
       "4  [Real Estate For Sale, Maryland, Bars, Pubs an...   \n",
       "\n",
       "                       similar  \\\n",
       "0  [1864705, 2071534, 2057087]   \n",
       "1  [2075819, 1864705, 2071534]   \n",
       "2  [2059235, 2080381, 2077331]   \n",
       "3  [2035549, 2067510, 2054271]   \n",
       "4  [2082461, 2050777, 2043561]   \n",
       "\n",
       "                                             details  \\\n",
       "0  Location:\\nMiddlesex County, NJ\\nType:\\nOther ...   \n",
       "1  Location:\\nMays Landing, NJ\\nType:\\nOffice\\nBu...   \n",
       "2  Location:\\nRandolph, NY\\nType:\\nOther Business...   \n",
       "3  Location:\\nPinellas County, FL\\nType:\\nMulti-F...   \n",
       "4  Location:\\nBaltimore, MD\\nType:\\nRetail\\nBuild...   \n",
       "\n",
       "                                          financials      price  \n",
       "0  Asking Price:\\n$2,500,000\\n                   ...  2500000.0  \n",
       "1  Asking Price:\\n$225,000\\n                     ...   225000.0  \n",
       "2  Asking Price:\\n$425,000\\n                     ...   425000.0  \n",
       "3  Asking Price:\\n$595,000\\n                     ...   595000.0  \n",
       "4  Asking Price:\\n$1,050,000\\n                   ...  1050000.0  "
      ]
     },
     "execution_count": 7,
     "metadata": {},
     "output_type": "execute_result"
    }
   ],
   "source": [
    "df_dd.head()"
   ]
  },
  {
   "cell_type": "markdown",
   "metadata": {},
   "source": [
    "### Read in \"listing\" business data from web scraper"
   ]
  },
  {
   "cell_type": "code",
   "execution_count": 8,
   "metadata": {},
   "outputs": [],
   "source": [
    "df_l=pd.concat([pd.read_json('data/bizbuysell.list.lines.1.json.zip',lines=True),\n",
    "                             pd.read_json('data/bizbuysell.list.lines.2.json.zip',lines=True)])"
   ]
  },
  {
   "cell_type": "markdown",
   "metadata": {},
   "source": [
    "### Clean up listing data"
   ]
  },
  {
   "cell_type": "code",
   "execution_count": 9,
   "metadata": {},
   "outputs": [],
   "source": [
    "def proc_fin(row):\n",
    "    result=''\n",
    "    if pd.isna(row['asking_price'])==False:\n",
    "        result+=f'Asking Price:\\n{row[\"asking_price\"]}\\n'\n",
    "    if pd.isna(row['cash_flow'])==False:\n",
    "        result+=f'Cash Flow:\\n{row[\"cash_flow\"]}\\n'        \n",
    "    return result"
   ]
  },
  {
   "cell_type": "code",
   "execution_count": 10,
   "metadata": {},
   "outputs": [],
   "source": [
    "df_l['id']=df_l.s_id\n",
    "df_l['src']='listings'\n",
    "df_l['url']='https://www.bizbuysell.com'+df_l['s_url']\n",
    "df_l['title']=df_l['s_name']\n",
    "df_l['desc']=df_l['s_desc']\n",
    "df_l['local']=df_l['s_local']\n",
    "df_l['region']=df_l['s_region']\n",
    "df_l['location']=df_l['loc']\n",
    "df_l['title_loc']=df_l['title'].str.extract(r\"in (.+) - BizBuySell\")\n",
    "df_l['categories']=df_l['s_breadcrumbs']\n",
    "df_l['details']=''\n",
    "df_l['financials']=df_l.apply(proc_fin,axis=1)\n",
    "df_l['price']=df_d['s_price'].replace('$','').replace(',','')\n",
    "df_l['similar']=[list() for x in range(len(df_l.index))]"
   ]
  },
  {
   "cell_type": "code",
   "execution_count": 11,
   "metadata": {},
   "outputs": [],
   "source": [
    "df_ll=df_l[['id','src','url','title',\n",
    "            'desc','local','region','location','title_loc','categories', 'similar',\n",
    "            'details','financials','price']]"
   ]
  },
  {
   "cell_type": "code",
   "execution_count": 12,
   "metadata": {},
   "outputs": [
    {
     "data": {
      "text/plain": [
       "(263592, 14)"
      ]
     },
     "execution_count": 12,
     "metadata": {},
     "output_type": "execute_result"
    }
   ],
   "source": [
    "df_ll.shape"
   ]
  },
  {
   "cell_type": "code",
   "execution_count": 13,
   "metadata": {},
   "outputs": [
    {
     "data": {
      "text/html": [
       "<div>\n",
       "<style scoped>\n",
       "    .dataframe tbody tr th:only-of-type {\n",
       "        vertical-align: middle;\n",
       "    }\n",
       "\n",
       "    .dataframe tbody tr th {\n",
       "        vertical-align: top;\n",
       "    }\n",
       "\n",
       "    .dataframe thead th {\n",
       "        text-align: right;\n",
       "    }\n",
       "</style>\n",
       "<table border=\"1\" class=\"dataframe\">\n",
       "  <thead>\n",
       "    <tr style=\"text-align: right;\">\n",
       "      <th></th>\n",
       "      <th>id</th>\n",
       "      <th>src</th>\n",
       "      <th>url</th>\n",
       "      <th>title</th>\n",
       "      <th>desc</th>\n",
       "      <th>local</th>\n",
       "      <th>region</th>\n",
       "      <th>location</th>\n",
       "      <th>title_loc</th>\n",
       "      <th>categories</th>\n",
       "      <th>similar</th>\n",
       "      <th>details</th>\n",
       "      <th>financials</th>\n",
       "      <th>price</th>\n",
       "    </tr>\n",
       "  </thead>\n",
       "  <tbody>\n",
       "    <tr>\n",
       "      <th>0</th>\n",
       "      <td>1972353</td>\n",
       "      <td>listings</td>\n",
       "      <td>https://www.bizbuysell.com/Business-Opportunit...</td>\n",
       "      <td>Turnkey Jewelry Store in the Caribbean</td>\n",
       "      <td>Almost 33 years ago, the founders of The Natur...</td>\n",
       "      <td>None</td>\n",
       "      <td>Christiansted</td>\n",
       "      <td>Christiansted</td>\n",
       "      <td>NaN</td>\n",
       "      <td>[Businesses For Sale, Travel Businesses For Sa...</td>\n",
       "      <td>[]</td>\n",
       "      <td></td>\n",
       "      <td>Asking Price:\\n$2,000,000\\n</td>\n",
       "      <td>2500000.0</td>\n",
       "    </tr>\n",
       "    <tr>\n",
       "      <th>1</th>\n",
       "      <td>1815206</td>\n",
       "      <td>listings</td>\n",
       "      <td>https://www.bizbuysell.com/Business-Opportunit...</td>\n",
       "      <td>Tennessee River Gorge® Mountain Cabins Offers ...</td>\n",
       "      <td>We are selling 51% \"controlling interest\" of T...</td>\n",
       "      <td>Whitwell</td>\n",
       "      <td>TN</td>\n",
       "      <td>Whitwell, TN</td>\n",
       "      <td>NaN</td>\n",
       "      <td>[Businesses For Sale, Travel Businesses For Sa...</td>\n",
       "      <td>[]</td>\n",
       "      <td></td>\n",
       "      <td>Asking Price:\\n$870,000\\nCash Flow:\\nCash Flow...</td>\n",
       "      <td>225000.0</td>\n",
       "    </tr>\n",
       "    <tr>\n",
       "      <th>2</th>\n",
       "      <td>2023577</td>\n",
       "      <td>listings</td>\n",
       "      <td>https://www.bizbuysell.com/Business-Opportunit...</td>\n",
       "      <td>Top-Rated Detroit Tour Company For Sale</td>\n",
       "      <td>This top-rated Detroit tour company offers an ...</td>\n",
       "      <td>Detroit</td>\n",
       "      <td>MI</td>\n",
       "      <td>Detroit, MI</td>\n",
       "      <td>NaN</td>\n",
       "      <td>[Businesses For Sale, Travel Businesses For Sa...</td>\n",
       "      <td>[]</td>\n",
       "      <td></td>\n",
       "      <td>Asking Price:\\n$2,300,000\\nCash Flow:\\nCash Fl...</td>\n",
       "      <td>425000.0</td>\n",
       "    </tr>\n",
       "    <tr>\n",
       "      <th>3</th>\n",
       "      <td>2066007</td>\n",
       "      <td>listings</td>\n",
       "      <td>https://www.bizbuysell.com/Business-Opportunit...</td>\n",
       "      <td>Southern Vermont B&amp;B</td>\n",
       "      <td>Step back in time to the Victorian era in this...</td>\n",
       "      <td>Poultney</td>\n",
       "      <td>VT</td>\n",
       "      <td>Poultney, VT</td>\n",
       "      <td>NaN</td>\n",
       "      <td>[Businesses For Sale, Travel Businesses For Sa...</td>\n",
       "      <td>[]</td>\n",
       "      <td></td>\n",
       "      <td>Asking Price:\\n$695,000\\n</td>\n",
       "      <td>595000.0</td>\n",
       "    </tr>\n",
       "    <tr>\n",
       "      <th>4</th>\n",
       "      <td>27828757</td>\n",
       "      <td>listings</td>\n",
       "      <td>https://www.bizbuysell.com/Business-Auction/co...</td>\n",
       "      <td>Courtyard Houston Hobby Airport</td>\n",
       "      <td>84,444 SF Hotel For Sale</td>\n",
       "      <td>Houston</td>\n",
       "      <td>TX</td>\n",
       "      <td>NaN</td>\n",
       "      <td>NaN</td>\n",
       "      <td>[Businesses For Sale, Travel Businesses For Sa...</td>\n",
       "      <td>[]</td>\n",
       "      <td></td>\n",
       "      <td></td>\n",
       "      <td>1050000.0</td>\n",
       "    </tr>\n",
       "  </tbody>\n",
       "</table>\n",
       "</div>"
      ],
      "text/plain": [
       "         id       src                                                url  \\\n",
       "0   1972353  listings  https://www.bizbuysell.com/Business-Opportunit...   \n",
       "1   1815206  listings  https://www.bizbuysell.com/Business-Opportunit...   \n",
       "2   2023577  listings  https://www.bizbuysell.com/Business-Opportunit...   \n",
       "3   2066007  listings  https://www.bizbuysell.com/Business-Opportunit...   \n",
       "4  27828757  listings  https://www.bizbuysell.com/Business-Auction/co...   \n",
       "\n",
       "                                               title  \\\n",
       "0             Turnkey Jewelry Store in the Caribbean   \n",
       "1  Tennessee River Gorge® Mountain Cabins Offers ...   \n",
       "2            Top-Rated Detroit Tour Company For Sale   \n",
       "3                               Southern Vermont B&B   \n",
       "4                    Courtyard Houston Hobby Airport   \n",
       "\n",
       "                                                desc     local         region  \\\n",
       "0  Almost 33 years ago, the founders of The Natur...      None  Christiansted   \n",
       "1  We are selling 51% \"controlling interest\" of T...  Whitwell             TN   \n",
       "2  This top-rated Detroit tour company offers an ...   Detroit             MI   \n",
       "3  Step back in time to the Victorian era in this...  Poultney             VT   \n",
       "4                           84,444 SF Hotel For Sale   Houston             TX   \n",
       "\n",
       "        location title_loc                                         categories  \\\n",
       "0  Christiansted       NaN  [Businesses For Sale, Travel Businesses For Sa...   \n",
       "1   Whitwell, TN       NaN  [Businesses For Sale, Travel Businesses For Sa...   \n",
       "2    Detroit, MI       NaN  [Businesses For Sale, Travel Businesses For Sa...   \n",
       "3   Poultney, VT       NaN  [Businesses For Sale, Travel Businesses For Sa...   \n",
       "4            NaN       NaN  [Businesses For Sale, Travel Businesses For Sa...   \n",
       "\n",
       "  similar details                                         financials  \\\n",
       "0      []                                Asking Price:\\n$2,000,000\\n   \n",
       "1      []          Asking Price:\\n$870,000\\nCash Flow:\\nCash Flow...   \n",
       "2      []          Asking Price:\\n$2,300,000\\nCash Flow:\\nCash Fl...   \n",
       "3      []                                  Asking Price:\\n$695,000\\n   \n",
       "4      []                                                              \n",
       "\n",
       "       price  \n",
       "0  2500000.0  \n",
       "1   225000.0  \n",
       "2   425000.0  \n",
       "3   595000.0  \n",
       "4  1050000.0  "
      ]
     },
     "execution_count": 13,
     "metadata": {},
     "output_type": "execute_result"
    }
   ],
   "source": [
    "df_ll.head()"
   ]
  },
  {
   "cell_type": "markdown",
   "metadata": {},
   "source": [
    "### Join detailed and listing data"
   ]
  },
  {
   "cell_type": "code",
   "execution_count": 14,
   "metadata": {},
   "outputs": [],
   "source": [
    "df_out=pd.concat([df_dd,df_ll])"
   ]
  },
  {
   "cell_type": "code",
   "execution_count": 15,
   "metadata": {},
   "outputs": [
    {
     "data": {
      "text/plain": [
       "(302163, 14)"
      ]
     },
     "execution_count": 15,
     "metadata": {},
     "output_type": "execute_result"
    }
   ],
   "source": [
    "df_out.shape"
   ]
  },
  {
   "cell_type": "markdown",
   "metadata": {},
   "source": [
    "### Save inital wrangled data parquet file"
   ]
  },
  {
   "cell_type": "code",
   "execution_count": 16,
   "metadata": {},
   "outputs": [],
   "source": [
    "df_out.to_parquet('data/bizbuysell.dataset.1.parquet')"
   ]
  }
 ],
 "metadata": {
  "kernelspec": {
   "display_name": "Python 3 (ipykernel)",
   "language": "python",
   "name": "python3"
  },
  "language_info": {
   "codemirror_mode": {
    "name": "ipython",
    "version": 3
   },
   "file_extension": ".py",
   "mimetype": "text/x-python",
   "name": "python",
   "nbconvert_exporter": "python",
   "pygments_lexer": "ipython3",
   "version": "3.7.17"
  }
 },
 "nbformat": 4,
 "nbformat_minor": 4
}
