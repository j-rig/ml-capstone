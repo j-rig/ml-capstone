{
 "cells": [
  {
   "cell_type": "markdown",
   "id": "5c9d076d",
   "metadata": {},
   "source": [
    "# 21.6 11 Pick Your Deployment Method"
   ]
  },
  {
   "cell_type": "markdown",
   "id": "bf9d5aa0",
   "metadata": {},
   "source": [
    "# Deployment method"
   ]
  },
  {
   "cell_type": "markdown",
   "id": "9a412f7f",
   "metadata": {},
   "source": [
    "For my project I will deploy as a web application using Flask and pythonanywhere.com.\n",
    "\n",
    "1. Train, test, and pickle the applicaion model.\n",
    "2. Develop and test Flask applicaiton locally.\n",
    "3. Build my project package using source distribution (sdist) into a tar.gz file. The package will bundle all the applicaion code and data including the pickled model.\n",
    "4. Load and deploy the web application using pythonanywhere.com.\n",
    "\n",
    "\n",
    "\n",
    "\n",
    "* https://jrig.pythonanywhere.com/\n",
    "* https://jrig.pythonanywhere.com/about\n",
    "* https://jrig.pythonanywhere.com/api/bizbuysell/url"
   ]
  },
  {
   "cell_type": "code",
   "execution_count": null,
   "id": "dda11078",
   "metadata": {},
   "outputs": [],
   "source": []
  }
 ],
 "metadata": {
  "kernelspec": {
   "display_name": "Python 3 (ipykernel)",
   "language": "python",
   "name": "python3"
  },
  "language_info": {
   "codemirror_mode": {
    "name": "ipython",
    "version": 3
   },
   "file_extension": ".py",
   "mimetype": "text/x-python",
   "name": "python",
   "nbconvert_exporter": "python",
   "pygments_lexer": "ipython3",
   "version": "3.9.17"
  }
 },
 "nbformat": 4,
 "nbformat_minor": 5
}
