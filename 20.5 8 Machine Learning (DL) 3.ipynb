{
 "cells": [
  {
   "cell_type": "markdown",
   "id": "fabacc7a",
   "metadata": {},
   "source": [
    "# 20.5 8 Machine Learning (DL) Prototype 3"
   ]
  },
  {
   "cell_type": "code",
   "execution_count": 1,
   "id": "b00f3cc7",
   "metadata": {},
   "outputs": [],
   "source": [
    "import warnings\n",
    "warnings.filterwarnings('ignore')"
   ]
  },
  {
   "cell_type": "code",
   "execution_count": 2,
   "id": "597b484f",
   "metadata": {},
   "outputs": [],
   "source": [
    "import pandas as pd\n",
    "import numpy as np\n",
    "from sklearn.model_selection import train_test_split\n",
    "from sklearn.feature_extraction.text import TfidfVectorizer\n",
    "from sklearn.linear_model import SGDRegressor\n",
    "from sklearn.ensemble import GradientBoostingRegressor\n",
    "from sklearn.model_selection import GridSearchCV\n",
    "from sklearn.metrics import r2_score\n",
    "from sklearn.decomposition import PCA\n",
    "import seaborn as sns\n",
    "import joblib"
   ]
  },
  {
   "cell_type": "markdown",
   "id": "a4cfb341",
   "metadata": {},
   "source": [
    "### best performing models from comparison testing"
   ]
  },
  {
   "cell_type": "code",
   "execution_count": 3,
   "id": "c70e9569",
   "metadata": {},
   "outputs": [],
   "source": [
    "linear_model='SGDRegressor'"
   ]
  },
  {
   "cell_type": "code",
   "execution_count": 4,
   "id": "acdc1cd8",
   "metadata": {},
   "outputs": [],
   "source": [
    "feature_model='GradientBoostingRegressor'\n",
    "feature_columns=['cash_flow', 'gross_revenue']"
   ]
  },
  {
   "cell_type": "markdown",
   "id": "74a67bc3",
   "metadata": {},
   "source": [
    "### load processed bizbuysell dataset"
   ]
  },
  {
   "cell_type": "code",
   "execution_count": 5,
   "id": "2813c02c",
   "metadata": {},
   "outputs": [],
   "source": [
    "df_in=pd.read_parquet('data/bizwiz_value_score_2.parquet')"
   ]
  },
  {
   "cell_type": "code",
   "execution_count": 6,
   "id": "a370e7df",
   "metadata": {},
   "outputs": [
    {
     "name": "stdout",
     "output_type": "stream",
     "text": [
      "<class 'pandas.core.frame.DataFrame'>\n",
      "Index: 12143 entries, 1427 to 36567\n",
      "Data columns (total 21 columns):\n",
      " #   Column                                 Non-Null Count  Dtype  \n",
      "---  ------                                 --------------  -----  \n",
      " 0   id                                     12143 non-null  float64\n",
      " 1   pptitle                                12143 non-null  object \n",
      " 2   ppdesc                                 12143 non-null  object \n",
      " 3   ppdetails                              12143 non-null  object \n",
      " 4   ppfinancials                           12143 non-null  object \n",
      " 5   pcategories                            12143 non-null  object \n",
      " 6   COUNTY_NAME                            12143 non-null  object \n",
      " 7   STATE_NAME                             12143 non-null  object \n",
      " 8   price                                  12143 non-null  float64\n",
      " 9   cash_flow                              12143 non-null  float64\n",
      " 10  gross_revenue                          12143 non-null  float64\n",
      " 11  established                            12143 non-null  float64\n",
      " 12  POVERTY_PERCENT                        12143 non-null  float64\n",
      " 13  MEDIAN_HOUSEHOLD_INCOME                12143 non-null  float64\n",
      " 14  bizwiz_value_score                     12143 non-null  float64\n",
      " 15  bizwiz_class                           12143 non-null  int64  \n",
      " 16  bizwiz_label                           12143 non-null  object \n",
      " 17  label_num                              12143 non-null  int64  \n",
      " 18  label                                  12143 non-null  object \n",
      " 19  exp(sqrt(cash_flow) - cash_flow)       12143 non-null  float64\n",
      " 20  sqrt(cash_flow + sqrt(gross_revenue))  12143 non-null  float64\n",
      "dtypes: float64(10), int64(2), object(9)\n",
      "memory usage: 2.0+ MB\n"
     ]
    }
   ],
   "source": [
    "df_in.info()"
   ]
  },
  {
   "cell_type": "markdown",
   "id": "39d60dd8",
   "metadata": {},
   "source": [
    "# text model"
   ]
  },
  {
   "cell_type": "markdown",
   "id": "73496eba",
   "metadata": {},
   "source": [
    "### vectorize text"
   ]
  },
  {
   "cell_type": "code",
   "execution_count": 7,
   "id": "72474093",
   "metadata": {},
   "outputs": [],
   "source": [
    "vect_text=TfidfVectorizer(stop_words='english',ngram_range=(1, 2),max_df=0.5,min_df=20)"
   ]
  },
  {
   "cell_type": "code",
   "execution_count": 8,
   "id": "7b726699",
   "metadata": {},
   "outputs": [],
   "source": [
    "text= df_in.pptitle + ' ' + df_in.ppdesc + ' ' + df_in.ppdetails + ' ' + df_in.ppfinancials "
   ]
  },
  {
   "cell_type": "code",
   "execution_count": 9,
   "id": "b3107a55",
   "metadata": {},
   "outputs": [
    {
     "name": "stdout",
     "output_type": "stream",
     "text": [
      "CPU times: user 4.84 s, sys: 29.3 ms, total: 4.87 s\n",
      "Wall time: 4.87 s\n"
     ]
    }
   ],
   "source": [
    "%time X_text = vect_text.fit_transform(text)"
   ]
  },
  {
   "cell_type": "code",
   "execution_count": 10,
   "id": "7bd3a3ad",
   "metadata": {},
   "outputs": [
    {
     "data": {
      "text/plain": [
       "(12143, 13646)"
      ]
     },
     "execution_count": 10,
     "metadata": {},
     "output_type": "execute_result"
    }
   ],
   "source": [
    "X_text.shape"
   ]
  },
  {
   "cell_type": "markdown",
   "id": "5faf5754",
   "metadata": {},
   "source": [
    "### test train split"
   ]
  },
  {
   "cell_type": "code",
   "execution_count": 11,
   "id": "0ea501f0",
   "metadata": {},
   "outputs": [],
   "source": [
    "X_train, X_test, y_train, y_test = train_test_split(X_text, df_in.price,random_state=1)"
   ]
  },
  {
   "cell_type": "code",
   "execution_count": 12,
   "id": "dfae2be2",
   "metadata": {},
   "outputs": [],
   "source": [
    "regr= SGDRegressor()\n",
    "regr.fit(X_train, y_train)\n",
    "y_pred = regr.predict(X_test)\n",
    "tr2=r2_score(y_test,y_pred)"
   ]
  },
  {
   "cell_type": "code",
   "execution_count": 13,
   "id": "29242ca4",
   "metadata": {},
   "outputs": [
    {
     "data": {
      "text/plain": [
       "0.324204487090319"
      ]
     },
     "execution_count": 13,
     "metadata": {},
     "output_type": "execute_result"
    }
   ],
   "source": [
    "tr2"
   ]
  },
  {
   "cell_type": "markdown",
   "id": "4d39fb75",
   "metadata": {},
   "source": [
    "# feature model"
   ]
  },
  {
   "cell_type": "code",
   "execution_count": 14,
   "id": "fee3dbb8",
   "metadata": {},
   "outputs": [],
   "source": [
    "df_f=df_in[feature_columns]"
   ]
  },
  {
   "cell_type": "code",
   "execution_count": 15,
   "id": "3dafd399",
   "metadata": {},
   "outputs": [],
   "source": [
    "Xf_train, Xf_test, yf_train, yf_test = train_test_split(df_f, df_in.price,random_state=1)"
   ]
  },
  {
   "cell_type": "code",
   "execution_count": 16,
   "id": "c0b54d82",
   "metadata": {},
   "outputs": [],
   "source": [
    "regrf= GradientBoostingRegressor()\n",
    "regrf.fit(Xf_train, yf_train)\n",
    "yf_pred = regrf.predict(Xf_test)\n",
    "fr2=r2_score(yf_test,yf_pred)"
   ]
  },
  {
   "cell_type": "code",
   "execution_count": 17,
   "id": "50109d51",
   "metadata": {},
   "outputs": [
    {
     "data": {
      "text/plain": [
       "0.6016297217430493"
      ]
     },
     "execution_count": 17,
     "metadata": {},
     "output_type": "execute_result"
    }
   ],
   "source": [
    "fr2"
   ]
  },
  {
   "cell_type": "markdown",
   "id": "7b95ffd3",
   "metadata": {},
   "source": [
    "# save models"
   ]
  },
  {
   "cell_type": "code",
   "execution_count": 18,
   "id": "c34667dc",
   "metadata": {},
   "outputs": [
    {
     "data": {
      "text/plain": [
       "['data/model.final.joblib']"
      ]
     },
     "execution_count": 18,
     "metadata": {},
     "output_type": "execute_result"
    }
   ],
   "source": [
    "joblib.dump((vect_text,regr,regrf),'data/model.final.joblib',True)"
   ]
  },
  {
   "cell_type": "markdown",
   "id": "62a4ec32",
   "metadata": {},
   "source": [
    "### grid search SGDRegressor"
   ]
  },
  {
   "cell_type": "code",
   "execution_count": 19,
   "id": "c3562fd9",
   "metadata": {},
   "outputs": [],
   "source": [
    "param_grid= {\n",
    "    'alpha': 10.0 ** -np.arange(1, 3),\n",
    "    'loss': ['squared_loss', 'huber', 'epsilon_insensitive'],\n",
    "    'penalty': ['l2', 'l1', 'elasticnet'],\n",
    "    'learning_rate': ['constant', 'optimal', 'invscaling'],\n",
    "    'early_stopping': [True],\n",
    "#     'verbose':[1],\n",
    "}"
   ]
  },
  {
   "cell_type": "code",
   "execution_count": 20,
   "id": "28fc828d",
   "metadata": {},
   "outputs": [],
   "source": [
    "model=SGDRegressor()"
   ]
  },
  {
   "cell_type": "code",
   "execution_count": 21,
   "id": "dce26a24",
   "metadata": {},
   "outputs": [],
   "source": [
    "# clf = GridSearchCV(model, param_grid)\n",
    "# clf.fit(X_train, y_train)\n",
    "# print(\"Best score: \" + str(clf.best_score_))"
   ]
  },
  {
   "cell_type": "markdown",
   "id": "58efeefc",
   "metadata": {},
   "source": [
    "### score GradientBoostingRegressor"
   ]
  },
  {
   "cell_type": "code",
   "execution_count": 22,
   "id": "07cbb2dc",
   "metadata": {},
   "outputs": [],
   "source": [
    "param_grid_f= {\n",
    "    'n_estimators': [10, 50, 100, 500],\n",
    "    'learning_rate': [ 0.001, 0.1, 1.0],\n",
    "    'subsample': [0.5, 0.7, 1.0],\n",
    "    'max_depth':[3, 7, 9],\n",
    "#     'verbose':[1],\n",
    "}"
   ]
  },
  {
   "cell_type": "code",
   "execution_count": 23,
   "id": "d153381f",
   "metadata": {},
   "outputs": [],
   "source": [
    "model_f=GradientBoostingRegressor()"
   ]
  },
  {
   "cell_type": "code",
   "execution_count": 24,
   "id": "06eaf787",
   "metadata": {},
   "outputs": [],
   "source": [
    "# clf_f = GridSearchCV(model_f, param_grid_f)\n",
    "# clf_f.fit(Xf_train, yf_train)\n",
    "# print(\"Best score: \" + str(clf_f.best_score_))"
   ]
  },
  {
   "cell_type": "code",
   "execution_count": null,
   "id": "87b565b3",
   "metadata": {},
   "outputs": [],
   "source": []
  }
 ],
 "metadata": {
  "kernelspec": {
   "display_name": "Python 3 (ipykernel)",
   "language": "python",
   "name": "python3"
  },
  "language_info": {
   "codemirror_mode": {
    "name": "ipython",
    "version": 3
   },
   "file_extension": ".py",
   "mimetype": "text/x-python",
   "name": "python",
   "nbconvert_exporter": "python",
   "pygments_lexer": "ipython3",
   "version": "3.9.17"
  }
 },
 "nbformat": 4,
 "nbformat_minor": 5
}
