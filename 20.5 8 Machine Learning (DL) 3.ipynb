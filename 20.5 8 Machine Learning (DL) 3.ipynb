{
 "cells": [
  {
   "cell_type": "markdown",
   "id": "f3186ba5",
   "metadata": {},
   "source": [
    "# 20.5 8 Machine Learning (DL) Prototype 3"
   ]
  },
  {
   "cell_type": "code",
   "execution_count": 1,
   "id": "a0e3b8dc",
   "metadata": {},
   "outputs": [],
   "source": [
    "import warnings\n",
    "warnings.filterwarnings('ignore')"
   ]
  },
  {
   "cell_type": "code",
   "execution_count": 2,
   "id": "9f81358e",
   "metadata": {},
   "outputs": [],
   "source": [
    "import pandas as pd\n",
    "import numpy as np\n",
    "from sklearn.model_selection import train_test_split\n",
    "from sklearn.feature_extraction.text import TfidfVectorizer\n",
    "# from sklearn.linear_model import SGDRegressor\n",
    "from sklearn.linear_model import *\n",
    "# from sklearn.ensemble import GradientBoostingRegressor\n",
    "from sklearn.ensemble import *\n",
    "from sklearn.model_selection import GridSearchCV\n",
    "from sklearn.metrics import r2_score\n",
    "from sklearn.decomposition import PCA\n",
    "import seaborn as sns\n",
    "import joblib"
   ]
  },
  {
   "cell_type": "markdown",
   "id": "8c8c01de",
   "metadata": {},
   "source": [
    "### best performing models from comparison testing"
   ]
  },
  {
   "cell_type": "code",
   "execution_count": 3,
   "id": "b61c4afd",
   "metadata": {},
   "outputs": [],
   "source": [
    "linear_model='SGDRegressor'"
   ]
  },
  {
   "cell_type": "code",
   "execution_count": 4,
   "id": "b90d68ee",
   "metadata": {},
   "outputs": [],
   "source": [
    "feature_model='GradientBoostingRegressor'\n",
    "feature_columns=['cash_flow', 'gross_revenue']\n",
    "feature_columns2=['gross_revenue']"
   ]
  },
  {
   "cell_type": "markdown",
   "id": "2df26364",
   "metadata": {},
   "source": [
    "### load processed bizbuysell dataset"
   ]
  },
  {
   "cell_type": "code",
   "execution_count": 5,
   "id": "974bc494",
   "metadata": {},
   "outputs": [],
   "source": [
    "df_in=pd.read_parquet('data/bizwiz_value_score_2.parquet')"
   ]
  },
  {
   "cell_type": "code",
   "execution_count": 6,
   "id": "3c6d9539",
   "metadata": {},
   "outputs": [
    {
     "name": "stdout",
     "output_type": "stream",
     "text": [
      "<class 'pandas.core.frame.DataFrame'>\n",
      "Index: 12143 entries, 1427 to 36567\n",
      "Data columns (total 21 columns):\n",
      " #   Column                                 Non-Null Count  Dtype  \n",
      "---  ------                                 --------------  -----  \n",
      " 0   id                                     12143 non-null  float64\n",
      " 1   pptitle                                12143 non-null  object \n",
      " 2   ppdesc                                 12143 non-null  object \n",
      " 3   ppdetails                              12143 non-null  object \n",
      " 4   ppfinancials                           12143 non-null  object \n",
      " 5   pcategories                            12143 non-null  object \n",
      " 6   COUNTY_NAME                            12143 non-null  object \n",
      " 7   STATE_NAME                             12143 non-null  object \n",
      " 8   price                                  12143 non-null  float64\n",
      " 9   cash_flow                              12143 non-null  float64\n",
      " 10  gross_revenue                          12143 non-null  float64\n",
      " 11  established                            12143 non-null  float64\n",
      " 12  POVERTY_PERCENT                        12143 non-null  float64\n",
      " 13  MEDIAN_HOUSEHOLD_INCOME                12143 non-null  float64\n",
      " 14  bizwiz_value_score                     12143 non-null  float64\n",
      " 15  bizwiz_class                           12143 non-null  int64  \n",
      " 16  bizwiz_label                           12143 non-null  object \n",
      " 17  label_num                              12143 non-null  int64  \n",
      " 18  label                                  12143 non-null  object \n",
      " 19  exp(sqrt(cash_flow) - cash_flow)       12143 non-null  float64\n",
      " 20  sqrt(cash_flow + sqrt(gross_revenue))  12143 non-null  float64\n",
      "dtypes: float64(10), int64(2), object(9)\n",
      "memory usage: 2.0+ MB\n"
     ]
    }
   ],
   "source": [
    "df_in.info()"
   ]
  },
  {
   "cell_type": "markdown",
   "id": "7d9417b0",
   "metadata": {},
   "source": [
    "# text model"
   ]
  },
  {
   "cell_type": "markdown",
   "id": "87d3c873",
   "metadata": {},
   "source": [
    "### vectorize text"
   ]
  },
  {
   "cell_type": "code",
   "execution_count": 7,
   "id": "5a0442ee",
   "metadata": {},
   "outputs": [],
   "source": [
    "vect_text=TfidfVectorizer(stop_words='english',ngram_range=(1, 2),max_df=0.5,min_df=20)"
   ]
  },
  {
   "cell_type": "code",
   "execution_count": 8,
   "id": "31da340c",
   "metadata": {},
   "outputs": [],
   "source": [
    "text= df_in.pptitle + ' ' + df_in.ppdesc + ' ' + df_in.ppdetails + ' ' + df_in.ppfinancials "
   ]
  },
  {
   "cell_type": "code",
   "execution_count": 9,
   "id": "fa7194e0",
   "metadata": {},
   "outputs": [
    {
     "name": "stdout",
     "output_type": "stream",
     "text": [
      "CPU times: user 4.73 s, sys: 0 ns, total: 4.73 s\n",
      "Wall time: 4.7 s\n"
     ]
    }
   ],
   "source": [
    "%time X_text = vect_text.fit_transform(text)"
   ]
  },
  {
   "cell_type": "code",
   "execution_count": 10,
   "id": "f34153ee",
   "metadata": {},
   "outputs": [
    {
     "data": {
      "text/plain": [
       "(12143, 13646)"
      ]
     },
     "execution_count": 10,
     "metadata": {},
     "output_type": "execute_result"
    }
   ],
   "source": [
    "X_text.shape"
   ]
  },
  {
   "cell_type": "markdown",
   "id": "60402f13",
   "metadata": {},
   "source": [
    "### test train split"
   ]
  },
  {
   "cell_type": "code",
   "execution_count": 11,
   "id": "8daa9f16",
   "metadata": {},
   "outputs": [],
   "source": [
    "X_train, X_test, y_train, y_test = train_test_split(X_text, df_in.price,random_state=1)"
   ]
  },
  {
   "cell_type": "code",
   "execution_count": 12,
   "id": "f96e3309",
   "metadata": {},
   "outputs": [],
   "source": [
    "regr= SGDRegressor()\n",
    "regr.fit(X_train, y_train)\n",
    "y_pred = regr.predict(X_test)\n",
    "tr2=r2_score(y_test,y_pred)"
   ]
  },
  {
   "cell_type": "code",
   "execution_count": 13,
   "id": "04120eed",
   "metadata": {},
   "outputs": [
    {
     "data": {
      "text/plain": [
       "0.3241745628774694"
      ]
     },
     "execution_count": 13,
     "metadata": {},
     "output_type": "execute_result"
    }
   ],
   "source": [
    "tr2"
   ]
  },
  {
   "cell_type": "markdown",
   "id": "f8fc2755",
   "metadata": {},
   "source": [
    "# feature model"
   ]
  },
  {
   "cell_type": "code",
   "execution_count": 14,
   "id": "f3cf6c9e",
   "metadata": {},
   "outputs": [],
   "source": [
    "df_f=df_in[feature_columns]"
   ]
  },
  {
   "cell_type": "code",
   "execution_count": 15,
   "id": "49db1322",
   "metadata": {},
   "outputs": [],
   "source": [
    "Xf_train, Xf_test, yf_train, yf_test = train_test_split(df_f, df_in.price,random_state=1)"
   ]
  },
  {
   "cell_type": "code",
   "execution_count": 16,
   "id": "220b34a7",
   "metadata": {},
   "outputs": [],
   "source": [
    "regrf= GradientBoostingRegressor()\n",
    "regrf.fit(Xf_train, yf_train)\n",
    "yf_pred = regrf.predict(Xf_test)\n",
    "fr2=r2_score(yf_test,yf_pred)"
   ]
  },
  {
   "cell_type": "code",
   "execution_count": 17,
   "id": "676421f0",
   "metadata": {},
   "outputs": [
    {
     "data": {
      "text/plain": [
       "0.6018403101993004"
      ]
     },
     "execution_count": 17,
     "metadata": {},
     "output_type": "execute_result"
    }
   ],
   "source": [
    "fr2"
   ]
  },
  {
   "cell_type": "markdown",
   "id": "bfd55425",
   "metadata": {},
   "source": [
    "## feature model 2"
   ]
  },
  {
   "cell_type": "code",
   "execution_count": 18,
   "id": "9ff507f2",
   "metadata": {},
   "outputs": [],
   "source": [
    "df_f2=df_in[feature_columns2]"
   ]
  },
  {
   "cell_type": "code",
   "execution_count": 19,
   "id": "3ee3cf7e",
   "metadata": {},
   "outputs": [],
   "source": [
    "Xf2_train, Xf2_test, yf2_train, yf2_test = train_test_split(df_f2, df_in.price,random_state=1)"
   ]
  },
  {
   "cell_type": "code",
   "execution_count": 20,
   "id": "bc966a45",
   "metadata": {},
   "outputs": [],
   "source": [
    "regrf2= GradientBoostingRegressor()\n",
    "regrf2.fit(Xf2_train, yf2_train)\n",
    "yf2_pred = regrf2.predict(Xf2_test)\n",
    "f2r2=r2_score(yf2_test,yf2_pred)"
   ]
  },
  {
   "cell_type": "code",
   "execution_count": 21,
   "id": "63185906",
   "metadata": {},
   "outputs": [
    {
     "data": {
      "text/plain": [
       "0.4493732482052831"
      ]
     },
     "execution_count": 21,
     "metadata": {},
     "output_type": "execute_result"
    }
   ],
   "source": [
    "f2r2"
   ]
  },
  {
   "cell_type": "markdown",
   "id": "e3d6ab81",
   "metadata": {},
   "source": [
    "## feature+text 1"
   ]
  },
  {
   "cell_type": "code",
   "execution_count": 22,
   "id": "a2882370",
   "metadata": {},
   "outputs": [],
   "source": [
    "pred_text= regr.predict(X_text)"
   ]
  },
  {
   "cell_type": "code",
   "execution_count": 23,
   "id": "4725599e",
   "metadata": {},
   "outputs": [
    {
     "data": {
      "text/plain": [
       "(12143,)"
      ]
     },
     "execution_count": 23,
     "metadata": {},
     "output_type": "execute_result"
    }
   ],
   "source": [
    "pred_text.shape"
   ]
  },
  {
   "cell_type": "code",
   "execution_count": 24,
   "id": "06cc1fdc",
   "metadata": {},
   "outputs": [],
   "source": [
    "df_pred_text_price=pd.DataFrame(pred_text,columns=['text_price'],index=df_in.index)"
   ]
  },
  {
   "cell_type": "code",
   "execution_count": 25,
   "id": "4a47ef88",
   "metadata": {},
   "outputs": [
    {
     "name": "stdout",
     "output_type": "stream",
     "text": [
      "<class 'pandas.core.frame.DataFrame'>\n",
      "Index: 12143 entries, 1427 to 36567\n",
      "Data columns (total 1 columns):\n",
      " #   Column      Non-Null Count  Dtype  \n",
      "---  ------      --------------  -----  \n",
      " 0   text_price  12143 non-null  float64\n",
      "dtypes: float64(1)\n",
      "memory usage: 189.7 KB\n"
     ]
    }
   ],
   "source": [
    "df_pred_text_price.info()"
   ]
  },
  {
   "cell_type": "code",
   "execution_count": 26,
   "id": "0e81fbda",
   "metadata": {},
   "outputs": [],
   "source": [
    "df_ft=pd.concat([df_in[feature_columns],df_pred_text_price],axis=1)"
   ]
  },
  {
   "cell_type": "code",
   "execution_count": 27,
   "id": "af33bc48",
   "metadata": {},
   "outputs": [
    {
     "name": "stdout",
     "output_type": "stream",
     "text": [
      "<class 'pandas.core.frame.DataFrame'>\n",
      "Index: 12143 entries, 1427 to 36567\n",
      "Data columns (total 3 columns):\n",
      " #   Column         Non-Null Count  Dtype  \n",
      "---  ------         --------------  -----  \n",
      " 0   cash_flow      12143 non-null  float64\n",
      " 1   gross_revenue  12143 non-null  float64\n",
      " 2   text_price     12143 non-null  float64\n",
      "dtypes: float64(3)\n",
      "memory usage: 379.5 KB\n"
     ]
    }
   ],
   "source": [
    "df_ft.info()"
   ]
  },
  {
   "cell_type": "code",
   "execution_count": 28,
   "id": "ae85f286",
   "metadata": {},
   "outputs": [
    {
     "data": {
      "text/html": [
       "<div>\n",
       "<style scoped>\n",
       "    .dataframe tbody tr th:only-of-type {\n",
       "        vertical-align: middle;\n",
       "    }\n",
       "\n",
       "    .dataframe tbody tr th {\n",
       "        vertical-align: top;\n",
       "    }\n",
       "\n",
       "    .dataframe thead th {\n",
       "        text-align: right;\n",
       "    }\n",
       "</style>\n",
       "<table border=\"1\" class=\"dataframe\">\n",
       "  <thead>\n",
       "    <tr style=\"text-align: right;\">\n",
       "      <th></th>\n",
       "      <th>cash_flow</th>\n",
       "      <th>gross_revenue</th>\n",
       "      <th>text_price</th>\n",
       "    </tr>\n",
       "  </thead>\n",
       "  <tbody>\n",
       "    <tr>\n",
       "      <th>1427</th>\n",
       "      <td>123452.0</td>\n",
       "      <td>254352.0</td>\n",
       "      <td>288270.890703</td>\n",
       "    </tr>\n",
       "    <tr>\n",
       "      <th>1428</th>\n",
       "      <td>221000.0</td>\n",
       "      <td>1310000.0</td>\n",
       "      <td>218815.407670</td>\n",
       "    </tr>\n",
       "    <tr>\n",
       "      <th>1438</th>\n",
       "      <td>0.0</td>\n",
       "      <td>500000.0</td>\n",
       "      <td>244933.769291</td>\n",
       "    </tr>\n",
       "    <tr>\n",
       "      <th>1440</th>\n",
       "      <td>140478.0</td>\n",
       "      <td>594681.0</td>\n",
       "      <td>317743.692925</td>\n",
       "    </tr>\n",
       "    <tr>\n",
       "      <th>1444</th>\n",
       "      <td>75900.0</td>\n",
       "      <td>160000.0</td>\n",
       "      <td>633541.626788</td>\n",
       "    </tr>\n",
       "  </tbody>\n",
       "</table>\n",
       "</div>"
      ],
      "text/plain": [
       "      cash_flow  gross_revenue     text_price\n",
       "1427   123452.0       254352.0  288270.890703\n",
       "1428   221000.0      1310000.0  218815.407670\n",
       "1438        0.0       500000.0  244933.769291\n",
       "1440   140478.0       594681.0  317743.692925\n",
       "1444    75900.0       160000.0  633541.626788"
      ]
     },
     "execution_count": 28,
     "metadata": {},
     "output_type": "execute_result"
    }
   ],
   "source": [
    "df_ft.head()"
   ]
  },
  {
   "cell_type": "code",
   "execution_count": 29,
   "id": "8e717961",
   "metadata": {},
   "outputs": [],
   "source": [
    "Xft_train, Xft_test, yft_train, yft_test = train_test_split(df_ft, df_in.price,random_state=1)"
   ]
  },
  {
   "cell_type": "code",
   "execution_count": 30,
   "id": "814a7169",
   "metadata": {},
   "outputs": [],
   "source": [
    "regrft= GradientBoostingRegressor()\n",
    "regrft.fit(Xft_train, yft_train)\n",
    "yft_pred = regrft.predict(Xft_test)\n",
    "ftr2=r2_score(yft_test,yft_pred)"
   ]
  },
  {
   "cell_type": "code",
   "execution_count": 31,
   "id": "acb852b2",
   "metadata": {},
   "outputs": [
    {
     "data": {
      "text/plain": [
       "0.6099913760254531"
      ]
     },
     "execution_count": 31,
     "metadata": {},
     "output_type": "execute_result"
    }
   ],
   "source": [
    "ftr2"
   ]
  },
  {
   "cell_type": "markdown",
   "id": "1d2959f5",
   "metadata": {},
   "source": [
    "## feature+text 2"
   ]
  },
  {
   "cell_type": "code",
   "execution_count": 32,
   "id": "286e1628",
   "metadata": {},
   "outputs": [],
   "source": [
    "df_ft2=pd.concat([df_in[feature_columns2],df_pred_text_price],axis=1)"
   ]
  },
  {
   "cell_type": "code",
   "execution_count": 33,
   "id": "c6c04a7b",
   "metadata": {},
   "outputs": [
    {
     "name": "stdout",
     "output_type": "stream",
     "text": [
      "<class 'pandas.core.frame.DataFrame'>\n",
      "Index: 12143 entries, 1427 to 36567\n",
      "Data columns (total 2 columns):\n",
      " #   Column         Non-Null Count  Dtype  \n",
      "---  ------         --------------  -----  \n",
      " 0   gross_revenue  12143 non-null  float64\n",
      " 1   text_price     12143 non-null  float64\n",
      "dtypes: float64(2)\n",
      "memory usage: 284.6 KB\n"
     ]
    }
   ],
   "source": [
    "df_ft2.info()"
   ]
  },
  {
   "cell_type": "code",
   "execution_count": 34,
   "id": "4ef48662",
   "metadata": {},
   "outputs": [],
   "source": [
    "Xft2_train, Xft2_test, yft2_train, yft2_test = train_test_split(df_ft2, df_in.price,random_state=1)"
   ]
  },
  {
   "cell_type": "code",
   "execution_count": 35,
   "id": "5a0b2ceb",
   "metadata": {},
   "outputs": [
    {
     "name": "stdout",
     "output_type": "stream",
     "text": [
      "<class 'pandas.core.series.Series'>\n",
      "Index: 3036 entries, 36231 to 4380\n",
      "Series name: price\n",
      "Non-Null Count  Dtype  \n",
      "--------------  -----  \n",
      "3036 non-null   float64\n",
      "dtypes: float64(1)\n",
      "memory usage: 47.4 KB\n"
     ]
    }
   ],
   "source": [
    "yft2_test.info()"
   ]
  },
  {
   "cell_type": "code",
   "execution_count": 36,
   "id": "b2301157",
   "metadata": {},
   "outputs": [],
   "source": [
    "regrft2= GradientBoostingRegressor()\n",
    "regrft2.fit(Xft2_train, yft2_train)\n",
    "yft2_pred = regrft2.predict(Xft2_test)\n",
    "ft2r2=r2_score(yft2_test,yft2_pred)"
   ]
  },
  {
   "cell_type": "code",
   "execution_count": 37,
   "id": "43893acf",
   "metadata": {},
   "outputs": [
    {
     "data": {
      "text/plain": [
       "0.5006534250928668"
      ]
     },
     "execution_count": 37,
     "metadata": {},
     "output_type": "execute_result"
    }
   ],
   "source": [
    "ft2r2"
   ]
  },
  {
   "cell_type": "markdown",
   "id": "55fdcf83",
   "metadata": {},
   "source": [
    "## feature plus+text test a range of models"
   ]
  },
  {
   "cell_type": "code",
   "execution_count": 38,
   "id": "bedf67c9",
   "metadata": {},
   "outputs": [],
   "source": [
    "ensemble_models=['GradientBoostingRegressor','HistGradientBoostingRegressor','RandomForestRegressor',\n",
    "                'ExtraTreesRegressor','BaggingRegressor']"
   ]
  },
  {
   "cell_type": "code",
   "execution_count": 39,
   "id": "01ed3c0d",
   "metadata": {},
   "outputs": [],
   "source": [
    "def test_model(model, X_train, y_train, X_test, y_test):\n",
    "    print(f'testing {model}...')\n",
    "    regr_= eval(model)()\n",
    "    regr_.fit(X_train, y_train)\n",
    "    y_pred = regr_.predict(X_test)\n",
    "    r2=r2_score(y_test,y_pred)\n",
    "    print(f'{model}: {r2}')\n",
    "    return r2"
   ]
  },
  {
   "cell_type": "code",
   "execution_count": 40,
   "id": "f1a9f275",
   "metadata": {},
   "outputs": [],
   "source": [
    "em_r2_scores={}"
   ]
  },
  {
   "cell_type": "code",
   "execution_count": 41,
   "id": "e9328212",
   "metadata": {},
   "outputs": [
    {
     "name": "stdout",
     "output_type": "stream",
     "text": [
      "testing GradientBoostingRegressor...\n",
      "GradientBoostingRegressor: 0.6101356711650938\n",
      "testing HistGradientBoostingRegressor...\n",
      "HistGradientBoostingRegressor: 0.6091697696959355\n",
      "testing RandomForestRegressor...\n",
      "RandomForestRegressor: 0.5980297000349521\n",
      "testing ExtraTreesRegressor...\n",
      "ExtraTreesRegressor: 0.5753274303626235\n",
      "testing BaggingRegressor...\n",
      "BaggingRegressor: 0.5687753497697587\n"
     ]
    }
   ],
   "source": [
    "for m in ensemble_models:\n",
    "   em_r2_scores[m]=test_model(m,Xft_train,yft_train, Xft_test, yft_test)"
   ]
  },
  {
   "cell_type": "code",
   "execution_count": 42,
   "id": "fc185179",
   "metadata": {},
   "outputs": [],
   "source": [
    "dfr=pd.DataFrame.from_dict(em_r2_scores,'index')\n",
    "dfr['ensemble model']=dfr.index\n",
    "dfr['r2']=dfr[0]\n",
    "dfr=dfr[dfr.r2 > 0]\n",
    "dfr=dfr.sort_values('r2',ascending=False)"
   ]
  },
  {
   "cell_type": "code",
   "execution_count": 43,
   "id": "e41ccaae",
   "metadata": {},
   "outputs": [
    {
     "data": {
      "text/plain": [
       "<Axes: xlabel='r2', ylabel='ensemble model'>"
      ]
     },
     "execution_count": 43,
     "metadata": {},
     "output_type": "execute_result"
    },
    {
     "data": {
      "image/png": "[encoded data removed]",
      "text/plain": [
       "<Figure size 640x480 with 1 Axes>"
      ]
     },
     "metadata": {},
     "output_type": "display_data"
    }
   ],
   "source": [
    "sns.barplot(dfr,x='r2', y='ensemble model',orient='h')"
   ]
  },
  {
   "cell_type": "code",
   "execution_count": 44,
   "id": "e4616797",
   "metadata": {},
   "outputs": [],
   "source": [
    "linear_models=['LinearRegression','Ridge','RidgeCV ',\n",
    "               'Lasso','LassoCV','LassoLarsCV',\n",
    "               'LassoLarsIC','ElasticNet','Lars','LassoLars',\n",
    "              'OrthogonalMatchingPursuit','BayesianRidge','ARDRegression','TweedieRegressor',\n",
    "               'SGDRegressor','PassiveAggressiveRegressor','RANSACRegressor',\n",
    "               'HuberRegressor']"
   ]
  },
  {
   "cell_type": "code",
   "execution_count": 45,
   "id": "2cf3b7b0",
   "metadata": {},
   "outputs": [],
   "source": [
    "lm_r2_scores={}"
   ]
  },
  {
   "cell_type": "code",
   "execution_count": 46,
   "id": "a6509229",
   "metadata": {},
   "outputs": [
    {
     "name": "stdout",
     "output_type": "stream",
     "text": [
      "testing LinearRegression...\n",
      "LinearRegression: 0.3248391996506699\n",
      "testing Ridge...\n",
      "Ridge: 0.3248391996506701\n",
      "testing RidgeCV ...\n",
      "RidgeCV : -1.288853795633604\n",
      "testing Lasso...\n",
      "Lasso: 0.3248391996525919\n",
      "testing LassoCV...\n",
      "LassoCV: 0.3002063534587309\n",
      "testing LassoLarsCV...\n",
      "LassoLarsCV: 0.2061282063409392\n",
      "testing LassoLarsIC...\n",
      "LassoLarsIC: 0.3248391996506699\n",
      "testing ElasticNet...\n",
      "ElasticNet: 0.32483919965326447\n",
      "testing Lars...\n",
      "Lars: 0.3248391996506699\n",
      "testing LassoLars...\n",
      "LassoLars: 0.3248503375349794\n",
      "testing OrthogonalMatchingPursuit...\n",
      "OrthogonalMatchingPursuit: 0.3139337426942306\n",
      "testing BayesianRidge...\n",
      "BayesianRidge: 0.3248844763577552\n",
      "testing ARDRegression...\n",
      "ARDRegression: 0.3246571704780945\n",
      "testing TweedieRegressor...\n",
      "TweedieRegressor: 0.3248392005256341\n",
      "testing SGDRegressor...\n",
      "SGDRegressor: -6.975954717727991e+32\n",
      "testing PassiveAggressiveRegressor...\n",
      "PassiveAggressiveRegressor: 0.4225374086588044\n",
      "testing RANSACRegressor...\n",
      "RANSACRegressor: -148.89541213402373\n",
      "testing HuberRegressor...\n",
      "HuberRegressor: 0.49135826831108187\n"
     ]
    }
   ],
   "source": [
    "for m in linear_models:\n",
    "   lm_r2_scores[m]=test_model(m,Xft_train,yft_train, Xft_test, yft_test)"
   ]
  },
  {
   "cell_type": "code",
   "execution_count": 47,
   "id": "fdfecb2d",
   "metadata": {},
   "outputs": [],
   "source": [
    "dfr=pd.DataFrame.from_dict(lm_r2_scores,'index')\n",
    "dfr['linear model']=dfr.index\n",
    "dfr['r2']=dfr[0]\n",
    "dfr=dfr[dfr.r2 > 0]\n",
    "dfr=dfr.sort_values('r2',ascending=False)"
   ]
  },
  {
   "cell_type": "code",
   "execution_count": 48,
   "id": "0b336386",
   "metadata": {},
   "outputs": [
    {
     "data": {
      "text/plain": [
       "<Axes: xlabel='r2', ylabel='linear model'>"
      ]
     },
     "execution_count": 48,
     "metadata": {},
     "output_type": "execute_result"
    },
    {
     "data": {
      "image/png": "[encoded data removed]",
      "text/plain": [
       "<Figure size 640x480 with 1 Axes>"
      ]
     },
     "metadata": {},
     "output_type": "display_data"
    }
   ],
   "source": [
    "sns.barplot(dfr,x='r2', y='linear model',orient='h')"
   ]
  },
  {
   "cell_type": "markdown",
   "id": "ede3d490",
   "metadata": {},
   "source": [
    "# save models"
   ]
  },
  {
   "cell_type": "markdown",
   "id": "f15830ec",
   "metadata": {},
   "source": [
    "* text vectorizer, text model, text/gross revenue model, text/gross revenue/cash flow model\n",
    "* r2 ~ .3, .5, .6"
   ]
  },
  {
   "cell_type": "code",
   "execution_count": 49,
   "id": "ee1ec142",
   "metadata": {},
   "outputs": [
    {
     "data": {
      "text/plain": [
       "['data/model.final.joblib']"
      ]
     },
     "execution_count": 49,
     "metadata": {},
     "output_type": "execute_result"
    }
   ],
   "source": [
    "joblib.dump((vect_text,regr,regrft2,regrft),'data/model.final.joblib',True)"
   ]
  },
  {
   "cell_type": "markdown",
   "id": "2119a91f",
   "metadata": {},
   "source": [
    "### grid search SGDRegressor"
   ]
  },
  {
   "cell_type": "code",
   "execution_count": 50,
   "id": "e35df761",
   "metadata": {},
   "outputs": [],
   "source": [
    "param_grid= {\n",
    "    'alpha': 10.0 ** -np.arange(1, 3),\n",
    "    'loss': ['squared_loss', 'huber', 'epsilon_insensitive'],\n",
    "    'penalty': ['l2', 'l1', 'elasticnet'],\n",
    "    'learning_rate': ['constant', 'optimal', 'invscaling'],\n",
    "    'early_stopping': [True],\n",
    "#     'verbose':[1],\n",
    "}"
   ]
  },
  {
   "cell_type": "code",
   "execution_count": 51,
   "id": "b98dc119",
   "metadata": {},
   "outputs": [],
   "source": [
    "#model=SGDRegressor()"
   ]
  },
  {
   "cell_type": "code",
   "execution_count": 52,
   "id": "da4f501e",
   "metadata": {},
   "outputs": [],
   "source": [
    "# clf = GridSearchCV(model, param_grid)\n",
    "# clf.fit(X_train, y_train)\n",
    "# print(\"Best score: \" + str(clf.best_score_))"
   ]
  },
  {
   "cell_type": "markdown",
   "id": "a7d93228",
   "metadata": {},
   "source": [
    "### score GradientBoostingRegressor"
   ]
  },
  {
   "cell_type": "code",
   "execution_count": 53,
   "id": "358b5478",
   "metadata": {},
   "outputs": [],
   "source": [
    "param_grid_f= {\n",
    "    'n_estimators': [10, 50, 100, 500],\n",
    "    'learning_rate': [ 0.001, 0.1, 1.0],\n",
    "    'subsample': [0.5, 0.7, 1.0],\n",
    "    'max_depth':[3, 7, 9],\n",
    "#     'verbose':[1],\n",
    "}"
   ]
  },
  {
   "cell_type": "code",
   "execution_count": 54,
   "id": "174ec75e",
   "metadata": {},
   "outputs": [],
   "source": [
    "#model_f=GradientBoostingRegressor()"
   ]
  },
  {
   "cell_type": "code",
   "execution_count": 55,
   "id": "50b535cc",
   "metadata": {},
   "outputs": [],
   "source": [
    "# clf_f = GridSearchCV(model_f, param_grid_f)\n",
    "# clf_f.fit(Xf_train, yf_train)\n",
    "# print(\"Best score: \" + str(clf_f.best_score_))"
   ]
  },
  {
   "cell_type": "markdown",
   "id": "de9272fc",
   "metadata": {},
   "source": [
    "* Turns out model defaults are pretty good"
   ]
  },
  {
   "cell_type": "code",
   "execution_count": null,
   "id": "0ee5ad82",
   "metadata": {},
   "outputs": [],
   "source": []
  }
 ],
 "metadata": {
  "kernelspec": {
   "display_name": "Python 3 (ipykernel)",
   "language": "python",
   "name": "python3"
  },
  "language_info": {
   "codemirror_mode": {
    "name": "ipython",
    "version": 3
   },
   "file_extension": ".py",
   "mimetype": "text/x-python",
   "name": "python",
   "nbconvert_exporter": "python",
   "pygments_lexer": "ipython3",
   "version": "3.9.17"
  }
 },
 "nbformat": 4,
 "nbformat_minor": 5
}
