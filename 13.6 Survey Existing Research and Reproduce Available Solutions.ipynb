{
 "cells": [
  {
   "cell_type": "markdown",
   "metadata": {},
   "source": [
    "# 13.6 Survey Existing Research and Reproduce Available Solutions"
   ]
  },
  {
   "cell_type": "markdown",
   "metadata": {},
   "source": [
    "# Survey of research papers and articles\n",
    "Here is a survey of research papers and articles that relate to my capstone project. My project proposes to use text from business for sale listings on the web to predict the business price (value). Simlar projects will use text to predict continous variables such as price."
   ]
  },
  {
   "cell_type": "markdown",
   "metadata": {},
   "source": [
    "# 1) NLP in the Stock Market"
   ]
  },
  {
   "cell_type": "markdown",
   "metadata": {},
   "source": [
    "Article: https://towardsdatascience.com/nlp-in-the-stock-market-8760d062eb92"
   ]
  },
  {
   "cell_type": "markdown",
   "metadata": {},
   "source": [
    "Code: https://github.com/roshan-adusumilli/nlp_10-ks/blob/master/NLP_on_Financial_Statements.ipynb"
   ]
  },
  {
   "cell_type": "markdown",
   "metadata": {},
   "source": [
    "This article is about using natural language processing (NLP) to analyze 10-k filings to predict stock movements. It discusses what 10-k filings are and how NLP can be used to extract sentiment from them. It also goes into detail about the steps involved in building an NLP model to analyze 10-k filings. The article concludes by discussing the results of the model and how they can be used to make investment decisions."
   ]
  },
  {
   "cell_type": "markdown",
   "metadata": {},
   "source": [
    "* Natural language processing (NLP) can be used to extract sentiment from 10-K filings.\n",
    "* Positive sentiment correlates with high stock returns, while negative sentiment correlates with low stock returns.\n",
    "* It is difficult to replicate these results in the real world due to the many complex factors that influence stock prices."
   ]
  },
  {
   "cell_type": "markdown",
   "metadata": {},
   "source": [
    "# 2) List price prediction with scraped real-estate data"
   ]
  },
  {
   "cell_type": "markdown",
   "metadata": {},
   "source": [
    "Article: https://medium.com/ilb-labs-publications/list-price-prediction-with-scraped-real-estate-data-df5e49f14547"
   ]
  },
  {
   "cell_type": "markdown",
   "metadata": {},
   "source": [
    "Code: Inline in article"
   ]
  },
  {
   "cell_type": "markdown",
   "metadata": {},
   "source": [
    "This is an article about predicting list prices of real estate listings using machine learning. It discusses scraping data from the web and using it to train a model. The authors find that many features are important, including the number of rooms, bedrooms, and bathrooms. They also find that the textual description of the property is informative. The authors conclude that their model is able to predict list prices accurately."
   ]
  },
  {
   "cell_type": "markdown",
   "metadata": {},
   "source": [
    "* It is important to collect a large and diverse dataset of real estate listings.\n",
    "* It is important to clean the data and remove outliers.\n",
    "* Some features are more important than others when predicting list price.\n",
    "* It is important to use a machine learning model that is appropriate for the data and the task.\n",
    "* It is important to evaluate the performance of the model on a held-out test set.\n",
    "\n",
    "The article also discusses some specific techniques for predicting list price, such as using a random forest model and using feature engineering to create new features from the existing data."
   ]
  },
  {
   "cell_type": "markdown",
   "metadata": {},
   "source": [
    "# 3) A Sustainable Price Prediction Model for Airbnb Listings Using Machine Learning and Sentiment Analysis"
   ]
  },
  {
   "cell_type": "markdown",
   "metadata": {},
   "source": [
    "Article: https://www.mdpi.com/2071-1050/15/17/13159"
   ]
  },
  {
   "cell_type": "markdown",
   "metadata": {},
   "source": [
    "Code: Inline in article"
   ]
  },
  {
   "cell_type": "markdown",
   "metadata": {},
   "source": [
    "This article discusses the importance of pricing rental properties accurately and proposes a model that incorporates property specifications, owner information, and customer reviews to predict the price of Airbnb listings. The authors trained and evaluated several machine learning models on an Airbnb listing dataset from Barcelona. The final model uses a variety of features, including the number of bedrooms, bathrooms, and amenities, as well as the average sentiment score of customer reviews. The authors conclude that their model can be used by Airbnb owners to estimate the expected value of their listings."
   ]
  },
  {
   "cell_type": "markdown",
   "metadata": {},
   "source": [
    "* The authors used a variety of machine learning algorithms to predict Airbnb listing prices, including linear regression, artificial neural networks, and k-nearest neighbors.\n",
    "* They found that the most important factors in predicting price were the number of bedrooms, the maximum capacity of the listing, and the number of beds.\n",
    "* They also found that listings with more positive sentiment had higher predicted prices."
   ]
  },
  {
   "cell_type": "markdown",
   "metadata": {},
   "source": [
    "# 4) Introduction — End-to-End Machine Learning for Real Estate Price Prediction"
   ]
  },
  {
   "cell_type": "markdown",
   "metadata": {},
   "source": [
    "Article: https://data4help.medium.com/introduction-end-to-end-machine-learning-for-real-estate-price-prediction-556beb2d0475"
   ]
  },
  {
   "cell_type": "markdown",
   "metadata": {},
   "source": [
    "Code: Inline in article"
   ]
  },
  {
   "cell_type": "markdown",
   "metadata": {},
   "source": [
    "This is an article about predicting real estate prices with web scraped data. It discusses the challenges of predicting real estate prices and the steps taken to create a model. The authors found that using a variety of features, including the number of bedrooms and bathrooms, the square footage of the property, and the distance to various sized cities, improved the accuracy of their model. They also found that including natural language processing features, such as the description of the property, further improved the accuracy of the model. The authors conclude that their model can be used to accurately predict real estate prices, especially for more expensive properties."
   ]
  },
  {
   "cell_type": "markdown",
   "metadata": {},
   "source": [
    "* Predicting real estate prices is a challenging task due to the many factors that can influence the price of a property.\n",
    "* The authors used a variety of machine learning techniques, including XG-Boost and random forests, to build a predictive model.\n",
    "* They found that using natural language processing features from the property descriptions improved the accuracy of the model.\n",
    "* The final model was able to predict real estate prices with an overall mean absolute percentage error of less than 20%.\n",
    "* The authors also discuss the limitations of their model and suggest areas for future improvement."
   ]
  },
  {
   "cell_type": "markdown",
   "metadata": {},
   "source": [
    "# How I can apply what I learned to my own project"
   ]
  },
  {
   "cell_type": "markdown",
   "metadata": {},
   "source": [
    "I worked through these articles and created notebooks to test their ideas in the survey folder of my project. After that, I continued on testing the ideas in these papers in notebooks in my project that begin with 13.6."
   ]
  },
  {
   "cell_type": "markdown",
   "metadata": {},
   "source": [
    "Overall I will use the same steps and model types seen in these projects\n",
    "\n",
    "* clean data\n",
    "* remove outliers \n",
    "* create features \n",
    "* clustering\n",
    "* process text\n",
    "    * tokenize\n",
    "    * stemming\n",
    "    * ngrams\n",
    "    * cleaning \n",
    "* td-idf scores \n",
    "* split data into test/train\n",
    "* search for best performing models\n",
    "    *score models with MSE, r2\n",
    "* search for best model paramters"
   ]
  }
 ],
 "metadata": {
  "kernelspec": {
   "display_name": "Python 3 (ipykernel)",
   "language": "python",
   "name": "python3"
  },
  "language_info": {
   "codemirror_mode": {
    "name": "ipython",
    "version": 3
   },
   "file_extension": ".py",
   "mimetype": "text/x-python",
   "name": "python",
   "nbconvert_exporter": "python",
   "pygments_lexer": "ipython3",
   "version": "3.9.17"
  }
 },
 "nbformat": 4,
 "nbformat_minor": 4
}
