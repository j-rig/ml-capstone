{
 "cells": [
  {
   "cell_type": "markdown",
   "metadata": {},
   "source": [
    "# Classification of bizbuysell data"
   ]
  },
  {
   "cell_type": "markdown",
   "metadata": {},
   "source": [
    "### With HStack"
   ]
  },
  {
   "cell_type": "code",
   "execution_count": 1,
   "metadata": {},
   "outputs": [],
   "source": [
    "import warnings\n",
    "warnings.filterwarnings('ignore')"
   ]
  },
  {
   "cell_type": "code",
   "execution_count": 2,
   "metadata": {},
   "outputs": [],
   "source": [
    "import pandas as pd\n",
    "import numpy as np\n",
    "from sklearn.model_selection import train_test_split\n",
    "from sklearn.feature_extraction.text import TfidfVectorizer\n",
    "from sklearn.linear_model import SGDRegressor\n",
    "from sklearn.preprocessing import MultiLabelBinarizer\n",
    "from sklearn.metrics import mean_squared_error\n",
    "from sklearn.metrics import r2_score\n",
    "import joblib\n",
    "import seaborn as sns\n",
    "import pickle"
   ]
  },
  {
   "cell_type": "code",
   "execution_count": 3,
   "metadata": {},
   "outputs": [],
   "source": [
    "#import resource"
   ]
  },
  {
   "cell_type": "code",
   "execution_count": 4,
   "metadata": {},
   "outputs": [],
   "source": [
    "#dir(resource)"
   ]
  },
  {
   "cell_type": "markdown",
   "metadata": {},
   "source": [
    "### Load labeled bizbuysell dataset"
   ]
  },
  {
   "cell_type": "code",
   "execution_count": 5,
   "metadata": {},
   "outputs": [],
   "source": [
    "df_in=pd.read_parquet('data/bizwiz_value_score.parquet')"
   ]
  },
  {
   "cell_type": "code",
   "execution_count": 6,
   "metadata": {},
   "outputs": [
    {
     "data": {
      "text/html": [
       "<div>\n",
       "<style scoped>\n",
       "    .dataframe tbody tr th:only-of-type {\n",
       "        vertical-align: middle;\n",
       "    }\n",
       "\n",
       "    .dataframe tbody tr th {\n",
       "        vertical-align: top;\n",
       "    }\n",
       "\n",
       "    .dataframe thead th {\n",
       "        text-align: right;\n",
       "    }\n",
       "</style>\n",
       "<table border=\"1\" class=\"dataframe\">\n",
       "  <thead>\n",
       "    <tr style=\"text-align: right;\">\n",
       "      <th></th>\n",
       "      <th>id</th>\n",
       "      <th>pptitle</th>\n",
       "      <th>ppdesc</th>\n",
       "      <th>ppdetails</th>\n",
       "      <th>pcategories</th>\n",
       "      <th>COUNTY_NAME</th>\n",
       "      <th>STATE_NAME</th>\n",
       "      <th>price</th>\n",
       "      <th>cash_flow</th>\n",
       "      <th>bizwiz_value_score</th>\n",
       "      <th>bizwiz_class</th>\n",
       "      <th>bizwiz_label</th>\n",
       "      <th>label_num</th>\n",
       "      <th>label</th>\n",
       "    </tr>\n",
       "  </thead>\n",
       "  <tbody>\n",
       "    <tr>\n",
       "      <th>1</th>\n",
       "      <td>1990890.0</td>\n",
       "      <td>high exposur may land new jersey</td>\n",
       "      <td>amaz opportun price sell readi busi locat hear...</td>\n",
       "      <td>locat may land nj type offic build statu estab...</td>\n",
       "      <td>[real_estate_for_sale, new_jersey, other, mays...</td>\n",
       "      <td>Atlantic</td>\n",
       "      <td>New Jersey</td>\n",
       "      <td>225000.0</td>\n",
       "      <td>NaN</td>\n",
       "      <td>4.062859</td>\n",
       "      <td>3</td>\n",
       "      <td>high</td>\n",
       "      <td>2</td>\n",
       "      <td>high</td>\n",
       "    </tr>\n",
       "    <tr>\n",
       "      <th>3</th>\n",
       "      <td>2039720.0</td>\n",
       "      <td>duplex short term long term pinella counti flo...</td>\n",
       "      <td>rare largo seminol area duplex central locat p...</td>\n",
       "      <td>locat pinella counti fl type multi famili buil...</td>\n",
       "      <td>[real_estate_for_sale, florida, other, pinella...</td>\n",
       "      <td>Pinellas</td>\n",
       "      <td>Florida</td>\n",
       "      <td>595000.0</td>\n",
       "      <td>NaN</td>\n",
       "      <td>3.464210</td>\n",
       "      <td>2</td>\n",
       "      <td>medium</td>\n",
       "      <td>1</td>\n",
       "      <td>low</td>\n",
       "    </tr>\n",
       "    <tr>\n",
       "      <th>4</th>\n",
       "      <td>1576680.0</td>\n",
       "      <td>major price reduct rest tavern 13 000sq ft bui...</td>\n",
       "      <td>price reduc 850 000 make offer current owner w...</td>\n",
       "      <td>locat baltimor md type retail build sf 13 000 ...</td>\n",
       "      <td>[real_estate_for_sale, maryland, bars,_pubs_an...</td>\n",
       "      <td>Baltimore (city)</td>\n",
       "      <td>Maryland</td>\n",
       "      <td>1050000.0</td>\n",
       "      <td>NaN</td>\n",
       "      <td>2.505054</td>\n",
       "      <td>1</td>\n",
       "      <td>low</td>\n",
       "      <td>1</td>\n",
       "      <td>low</td>\n",
       "    </tr>\n",
       "    <tr>\n",
       "      <th>5</th>\n",
       "      <td>2087638.0</td>\n",
       "      <td>busi real estat casco michigan</td>\n",
       "      <td>• busi real estat sale • liquor shopp first fl...</td>\n",
       "      <td>locat casco mi type multi famili build sf 5 21...</td>\n",
       "      <td>[real_estate_for_sale, michigan, convenience_s...</td>\n",
       "      <td>St. Clair</td>\n",
       "      <td>Michigan</td>\n",
       "      <td>699900.0</td>\n",
       "      <td>NaN</td>\n",
       "      <td>2.973314</td>\n",
       "      <td>1</td>\n",
       "      <td>low</td>\n",
       "      <td>1</td>\n",
       "      <td>low</td>\n",
       "    </tr>\n",
       "    <tr>\n",
       "      <th>7</th>\n",
       "      <td>2051958.0</td>\n",
       "      <td>turnkey restaur near lake wister state park hi...</td>\n",
       "      <td>commerci real estat sale welcom 409 us highway...</td>\n",
       "      <td>locat wister ok type busi real estat build sta...</td>\n",
       "      <td>[real_estate_for_sale, oklahoma, diners, wister]</td>\n",
       "      <td>Le Flore</td>\n",
       "      <td>Oklahoma</td>\n",
       "      <td>236000.0</td>\n",
       "      <td>NaN</td>\n",
       "      <td>3.712142</td>\n",
       "      <td>2</td>\n",
       "      <td>medium</td>\n",
       "      <td>1</td>\n",
       "      <td>low</td>\n",
       "    </tr>\n",
       "  </tbody>\n",
       "</table>\n",
       "</div>"
      ],
      "text/plain": [
       "          id                                            pptitle  \\\n",
       "1  1990890.0                   high exposur may land new jersey   \n",
       "3  2039720.0  duplex short term long term pinella counti flo...   \n",
       "4  1576680.0  major price reduct rest tavern 13 000sq ft bui...   \n",
       "5  2087638.0                     busi real estat casco michigan   \n",
       "7  2051958.0  turnkey restaur near lake wister state park hi...   \n",
       "\n",
       "                                              ppdesc  \\\n",
       "1  amaz opportun price sell readi busi locat hear...   \n",
       "3  rare largo seminol area duplex central locat p...   \n",
       "4  price reduc 850 000 make offer current owner w...   \n",
       "5  • busi real estat sale • liquor shopp first fl...   \n",
       "7  commerci real estat sale welcom 409 us highway...   \n",
       "\n",
       "                                           ppdetails  \\\n",
       "1  locat may land nj type offic build statu estab...   \n",
       "3  locat pinella counti fl type multi famili buil...   \n",
       "4  locat baltimor md type retail build sf 13 000 ...   \n",
       "5  locat casco mi type multi famili build sf 5 21...   \n",
       "7  locat wister ok type busi real estat build sta...   \n",
       "\n",
       "                                         pcategories       COUNTY_NAME  \\\n",
       "1  [real_estate_for_sale, new_jersey, other, mays...          Atlantic   \n",
       "3  [real_estate_for_sale, florida, other, pinella...          Pinellas   \n",
       "4  [real_estate_for_sale, maryland, bars,_pubs_an...  Baltimore (city)   \n",
       "5  [real_estate_for_sale, michigan, convenience_s...         St. Clair   \n",
       "7   [real_estate_for_sale, oklahoma, diners, wister]          Le Flore   \n",
       "\n",
       "   STATE_NAME      price  cash_flow  bizwiz_value_score  bizwiz_class  \\\n",
       "1  New Jersey   225000.0        NaN            4.062859             3   \n",
       "3     Florida   595000.0        NaN            3.464210             2   \n",
       "4    Maryland  1050000.0        NaN            2.505054             1   \n",
       "5    Michigan   699900.0        NaN            2.973314             1   \n",
       "7    Oklahoma   236000.0        NaN            3.712142             2   \n",
       "\n",
       "  bizwiz_label  label_num label  \n",
       "1         high          2  high  \n",
       "3       medium          1   low  \n",
       "4          low          1   low  \n",
       "5          low          1   low  \n",
       "7       medium          1   low  "
      ]
     },
     "execution_count": 6,
     "metadata": {},
     "output_type": "execute_result"
    }
   ],
   "source": [
    "df_in.head()"
   ]
  },
  {
   "cell_type": "markdown",
   "metadata": {},
   "source": [
    "### Create datasets"
   ]
  },
  {
   "cell_type": "code",
   "execution_count": 7,
   "metadata": {},
   "outputs": [],
   "source": [
    "#dfa=df_in"
   ]
  },
  {
   "cell_type": "code",
   "execution_count": 8,
   "metadata": {},
   "outputs": [],
   "source": [
    "#dfa.info()"
   ]
  },
  {
   "cell_type": "code",
   "execution_count": 9,
   "metadata": {},
   "outputs": [],
   "source": [
    "dfb=df_in.dropna()"
   ]
  },
  {
   "cell_type": "code",
   "execution_count": 10,
   "metadata": {},
   "outputs": [
    {
     "name": "stdout",
     "output_type": "stream",
     "text": [
      "<class 'pandas.core.frame.DataFrame'>\n",
      "Index: 15856 entries, 1427 to 208608\n",
      "Data columns (total 14 columns):\n",
      " #   Column              Non-Null Count  Dtype  \n",
      "---  ------              --------------  -----  \n",
      " 0   id                  15856 non-null  float64\n",
      " 1   pptitle             15856 non-null  object \n",
      " 2   ppdesc              15856 non-null  object \n",
      " 3   ppdetails           15856 non-null  object \n",
      " 4   pcategories         15856 non-null  object \n",
      " 5   COUNTY_NAME         15856 non-null  object \n",
      " 6   STATE_NAME          15856 non-null  object \n",
      " 7   price               15856 non-null  float64\n",
      " 8   cash_flow           15856 non-null  float64\n",
      " 9   bizwiz_value_score  15856 non-null  float64\n",
      " 10  bizwiz_class        15856 non-null  int64  \n",
      " 11  bizwiz_label        15856 non-null  object \n",
      " 12  label_num           15856 non-null  int64  \n",
      " 13  label               15856 non-null  object \n",
      "dtypes: float64(4), int64(2), object(8)\n",
      "memory usage: 1.8+ MB\n"
     ]
    }
   ],
   "source": [
    "dfb.info()"
   ]
  },
  {
   "cell_type": "markdown",
   "metadata": {},
   "source": [
    "### vectorize text"
   ]
  },
  {
   "cell_type": "code",
   "execution_count": 11,
   "metadata": {},
   "outputs": [],
   "source": [
    "#vect_text_A=TfidfVectorizer(stop_words='english',ngram_range=(1, 2),max_df=0.5,min_df=2)"
   ]
  },
  {
   "cell_type": "code",
   "execution_count": 12,
   "metadata": {},
   "outputs": [],
   "source": [
    "#%time XA_text = vect_text_A.fit_transform(dfa.pptitle + ' ' + dfa.ppdesc + ' ' + dfa.ppdetails).toarray()"
   ]
  },
  {
   "cell_type": "code",
   "execution_count": 13,
   "metadata": {},
   "outputs": [],
   "source": [
    "#XA_text.shape"
   ]
  },
  {
   "cell_type": "code",
   "execution_count": 14,
   "metadata": {},
   "outputs": [],
   "source": [
    "vect_text_B=TfidfVectorizer(stop_words='english',ngram_range=(1, 2),max_df=0.5,min_df=2)"
   ]
  },
  {
   "cell_type": "code",
   "execution_count": 15,
   "metadata": {},
   "outputs": [
    {
     "name": "stdout",
     "output_type": "stream",
     "text": [
      "CPU times: user 20.2 s, sys: 6.62 s, total: 26.8 s\n",
      "Wall time: 26.8 s\n"
     ]
    }
   ],
   "source": [
    "%time XB_text = vect_text_B.fit_transform(dfb.pptitle + ' ' + dfb.ppdesc + ' ' + dfb.ppdetails).toarray()"
   ]
  },
  {
   "cell_type": "code",
   "execution_count": 16,
   "metadata": {},
   "outputs": [
    {
     "data": {
      "text/plain": [
       "(15856, 200920)"
      ]
     },
     "execution_count": 16,
     "metadata": {},
     "output_type": "execute_result"
    }
   ],
   "source": [
    "XB_text.shape"
   ]
  },
  {
   "cell_type": "markdown",
   "metadata": {},
   "source": [
    "### vectorize categories"
   ]
  },
  {
   "cell_type": "code",
   "execution_count": 17,
   "metadata": {},
   "outputs": [],
   "source": [
    "#vect_cat_A = MultiLabelBinarizer()"
   ]
  },
  {
   "cell_type": "code",
   "execution_count": 18,
   "metadata": {},
   "outputs": [],
   "source": [
    "#%time XA_cat =vect_cat_A.fit_transform(dfa['pcategories'])"
   ]
  },
  {
   "cell_type": "code",
   "execution_count": 19,
   "metadata": {},
   "outputs": [],
   "source": [
    "#XA_cat.shape"
   ]
  },
  {
   "cell_type": "code",
   "execution_count": 20,
   "metadata": {},
   "outputs": [],
   "source": [
    "vect_cat_B = MultiLabelBinarizer()"
   ]
  },
  {
   "cell_type": "code",
   "execution_count": 21,
   "metadata": {},
   "outputs": [
    {
     "name": "stdout",
     "output_type": "stream",
     "text": [
      "CPU times: user 1.03 s, sys: 279 ms, total: 1.31 s\n",
      "Wall time: 1.31 s\n"
     ]
    }
   ],
   "source": [
    "%time XB_cat =vect_cat_B.fit_transform(dfb['pcategories'])"
   ]
  },
  {
   "cell_type": "code",
   "execution_count": 22,
   "metadata": {},
   "outputs": [
    {
     "data": {
      "text/plain": [
       "(15856, 3160)"
      ]
     },
     "execution_count": 22,
     "metadata": {},
     "output_type": "execute_result"
    }
   ],
   "source": [
    "XB_cat.shape"
   ]
  },
  {
   "cell_type": "markdown",
   "metadata": {},
   "source": [
    "### vectorize cash_flow"
   ]
  },
  {
   "cell_type": "code",
   "execution_count": 23,
   "metadata": {},
   "outputs": [],
   "source": [
    "XB_cf=dfb['cash_flow'].to_numpy().reshape((dfb.shape[0],1))"
   ]
  },
  {
   "cell_type": "code",
   "execution_count": 24,
   "metadata": {},
   "outputs": [
    {
     "data": {
      "text/plain": [
       "(15856, 1)"
      ]
     },
     "execution_count": 24,
     "metadata": {},
     "output_type": "execute_result"
    }
   ],
   "source": [
    "XB_cf.shape"
   ]
  },
  {
   "cell_type": "markdown",
   "metadata": {},
   "source": [
    "### hstack vectors"
   ]
  },
  {
   "cell_type": "code",
   "execution_count": 25,
   "metadata": {},
   "outputs": [],
   "source": [
    "#%time XA=np.hstack((XA_text,XA_cat))"
   ]
  },
  {
   "cell_type": "code",
   "execution_count": 26,
   "metadata": {},
   "outputs": [],
   "source": [
    "#XA.shape"
   ]
  },
  {
   "cell_type": "code",
   "execution_count": null,
   "metadata": {},
   "outputs": [],
   "source": [
    "%time XB=np.hstack((XB_text,XB_cat,XB_cf))"
   ]
  },
  {
   "cell_type": "code",
   "execution_count": null,
   "metadata": {},
   "outputs": [],
   "source": [
    "XB.shape"
   ]
  },
  {
   "cell_type": "code",
   "execution_count": null,
   "metadata": {},
   "outputs": [],
   "source": []
  }
 ],
 "metadata": {
  "kernelspec": {
   "display_name": "Python 3 (ipykernel)",
   "language": "python",
   "name": "python3"
  },
  "language_info": {
   "codemirror_mode": {
    "name": "ipython",
    "version": 3
   },
   "file_extension": ".py",
   "mimetype": "text/x-python",
   "name": "python",
   "nbconvert_exporter": "python",
   "pygments_lexer": "ipython3",
   "version": "3.9.17"
  }
 },
 "nbformat": 4,
 "nbformat_minor": 4
}
