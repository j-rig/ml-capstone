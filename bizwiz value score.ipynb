{
 "cells": [
  {
   "cell_type": "markdown",
   "id": "ae3fd86a",
   "metadata": {},
   "source": [
    "# bizwiz value score"
   ]
  },
  {
   "cell_type": "code",
   "execution_count": 1,
   "id": "06f3b032",
   "metadata": {},
   "outputs": [],
   "source": [
    "import warnings\n",
    "warnings.filterwarnings('ignore')"
   ]
  },
  {
   "cell_type": "code",
   "execution_count": 2,
   "id": "fcd769a8",
   "metadata": {},
   "outputs": [],
   "source": [
    "import pandas as pd\n",
    "import seaborn as sns\n",
    "import matplotlib.pyplot as plt"
   ]
  },
  {
   "cell_type": "code",
   "execution_count": 3,
   "id": "0786ff3e",
   "metadata": {},
   "outputs": [],
   "source": [
    "import nltk\n",
    "import string\n",
    "from nltk import word_tokenize\n",
    "from nltk.corpus import stopwords\n",
    "from nltk.stem.porter import PorterStemmer"
   ]
  },
  {
   "cell_type": "code",
   "execution_count": 4,
   "id": "c316164b",
   "metadata": {},
   "outputs": [
    {
     "name": "stderr",
     "output_type": "stream",
     "text": [
      "[nltk_data] Downloading package punkt to /root/nltk_data...\n",
      "[nltk_data]   Package punkt is already up-to-date!\n",
      "[nltk_data] Downloading package stopwords to /root/nltk_data...\n",
      "[nltk_data]   Package stopwords is already up-to-date!\n"
     ]
    },
    {
     "data": {
      "text/plain": [
       "True"
      ]
     },
     "execution_count": 4,
     "metadata": {},
     "output_type": "execute_result"
    }
   ],
   "source": [
    "nltk.download('punkt')\n",
    "nltk.download('stopwords')"
   ]
  },
  {
   "cell_type": "code",
   "execution_count": 5,
   "id": "47a51658",
   "metadata": {},
   "outputs": [],
   "source": [
    "df_in=pd.read_parquet('data/bizbuysell.dataset.3.parquet')"
   ]
  },
  {
   "cell_type": "code",
   "execution_count": 6,
   "id": "a0e3a5ce",
   "metadata": {},
   "outputs": [
    {
     "data": {
      "text/plain": [
       "(27338, 34)"
      ]
     },
     "execution_count": 6,
     "metadata": {},
     "output_type": "execute_result"
    }
   ],
   "source": [
    "df_in.shape"
   ]
  },
  {
   "cell_type": "code",
   "execution_count": 7,
   "id": "ec75e20f",
   "metadata": {},
   "outputs": [
    {
     "data": {
      "text/plain": [
       "Index(['id', 'src', 'url', 'title', 'desc', 'local', 'region', 'location',\n",
       "       'title_loc', 'categories', 'similar', 'details', 'financials', 'price',\n",
       "       'FEATURE_ID', 'FEATURE_NAME', 'FEATURE_CLASS', 'CENSUS_CODE',\n",
       "       'CENSUS_CLASS_CODE', 'GSA_CODE', 'OPM_CODE', 'STATE_NUMERIC',\n",
       "       'STATE_ALPHA', 'COUNTY_SEQUENCE', 'COUNTY_NUMERIC', 'COUNTY_NAME',\n",
       "       'PRIMARY_LATITUDE', 'PRIMARY_LONGITUDE', 'DATE_CREATED', 'DATE_EDITED',\n",
       "       'STATE_NAME', 'POVERTY_PERCENT', 'MEDIAN_HOUSEHOLD_INCOME', 'H3_15'],\n",
       "      dtype='object')"
      ]
     },
     "execution_count": 7,
     "metadata": {},
     "output_type": "execute_result"
    }
   ],
   "source": [
    "df_in.columns"
   ]
  },
  {
   "cell_type": "code",
   "execution_count": 8,
   "id": "99fc9835",
   "metadata": {},
   "outputs": [],
   "source": [
    "dfa=df_in"
   ]
  },
  {
   "cell_type": "markdown",
   "id": "c1b39765",
   "metadata": {},
   "source": [
    "### text preprocessing"
   ]
  },
  {
   "cell_type": "code",
   "execution_count": 9,
   "id": "d7299e33",
   "metadata": {},
   "outputs": [],
   "source": [
    "def preprocess_text(text):\n",
    "    text = text.lower()\n",
    "    \n",
    "    text_p = \"\".join([char for char in text if char not in string.punctuation])\n",
    "    \n",
    "    words = word_tokenize(text_p)\n",
    "    \n",
    "    stop_words = stopwords.words('english')\n",
    "    stop_words.append('bizbuysell')\n",
    "    filtered_words = [word for word in words if word not in stop_words]\n",
    "    \n",
    "    porter = PorterStemmer()\n",
    "    stemmed = [porter.stem(word) for word in filtered_words]\n",
    "    \n",
    "    return \" \".join(stemmed)"
   ]
  },
  {
   "cell_type": "code",
   "execution_count": 10,
   "id": "09f2b6e8",
   "metadata": {},
   "outputs": [],
   "source": [
    "dfa['pptitle']=dfa['title'].apply(preprocess_text)"
   ]
  },
  {
   "cell_type": "code",
   "execution_count": 11,
   "id": "f07f4d9e",
   "metadata": {},
   "outputs": [],
   "source": [
    "dfa['ppdesc']=dfa['desc'].apply(preprocess_text)"
   ]
  },
  {
   "cell_type": "markdown",
   "id": "1ff47861",
   "metadata": {},
   "source": [
    "### scoring"
   ]
  },
  {
   "cell_type": "code",
   "execution_count": 12,
   "id": "22ce4e10",
   "metadata": {},
   "outputs": [],
   "source": [
    "dfa['global_price_value']=1.0-dfa['price']/dfa.price.max()"
   ]
  },
  {
   "cell_type": "code",
   "execution_count": 13,
   "id": "fe07c9c3",
   "metadata": {},
   "outputs": [],
   "source": [
    "dfa['local_price_max']=dfa.groupby(['COUNTY_NUMERIC','STATE_NUMERIC'])['price'].transform('max')\n",
    "dfa['local_price_value']=1.0-dfa['price']/dfa.local_price_max"
   ]
  },
  {
   "cell_type": "code",
   "execution_count": 14,
   "id": "6454e074",
   "metadata": {},
   "outputs": [],
   "source": [
    "dfa['poverty_value']=1.0-(dfa.POVERTY_PERCENT/100.0)"
   ]
  },
  {
   "cell_type": "code",
   "execution_count": 15,
   "id": "7dfc0f35",
   "metadata": {},
   "outputs": [],
   "source": [
    "dfa['income_value']=dfa.MEDIAN_HOUSEHOLD_INCOME/dfa.MEDIAN_HOUSEHOLD_INCOME.max()"
   ]
  },
  {
   "cell_type": "code",
   "execution_count": 16,
   "id": "2b9ce49f",
   "metadata": {},
   "outputs": [],
   "source": [
    "weights=[1.0,2.0,1.0,1.5]\n",
    "dfa['bizwiz_value_score']= weights[0]*dfa.global_price_value+ weights[1]*dfa.local_price_value+ \\\n",
    "    weights[2]*dfa.poverty_value+ weights[3]*dfa.income_value"
   ]
  },
  {
   "cell_type": "code",
   "execution_count": 17,
   "id": "befe8dee",
   "metadata": {},
   "outputs": [],
   "source": [
    "score=dfa[\"bizwiz_value_score\"]"
   ]
  },
  {
   "cell_type": "code",
   "execution_count": 18,
   "id": "59647e1f",
   "metadata": {
    "scrolled": true
   },
   "outputs": [
    {
     "data": {
      "text/plain": [
       "<AxesSubplot:xlabel='bizwiz_value_score', ylabel='Density'>"
      ]
     },
     "execution_count": 18,
     "metadata": {},
     "output_type": "execute_result"
    },
    {
     "data": {
      "image/png": "[encoded data removed]",
      "text/plain": [
       "<Figure size 640x480 with 1 Axes>"
      ]
     },
     "metadata": {},
     "output_type": "display_data"
    }
   ],
   "source": [
    "sns.distplot(score, bins=10)"
   ]
  },
  {
   "cell_type": "code",
   "execution_count": 19,
   "id": "9e9149a4",
   "metadata": {},
   "outputs": [],
   "source": [
    "q=score.quantile([0.25, 0.5, 0.75])\n",
    "def set_class(x):\n",
    "    if x > q.iloc[2]:\n",
    "        return 4\n",
    "    elif x > q.iloc[1]:\n",
    "        return 3    \n",
    "    elif x > q.iloc[0]:\n",
    "        return 2\n",
    "    return 1\n",
    "dfa['bizwiz_class']=dfa[\"bizwiz_value_score\"].apply(set_class)"
   ]
  },
  {
   "cell_type": "code",
   "execution_count": 20,
   "id": "fa814655",
   "metadata": {},
   "outputs": [
    {
     "data": {
      "text/plain": [
       "1    6836\n",
       "3    6835\n",
       "2    6834\n",
       "4    6833\n",
       "Name: bizwiz_class, dtype: int64"
      ]
     },
     "execution_count": 20,
     "metadata": {},
     "output_type": "execute_result"
    }
   ],
   "source": [
    "dfa['bizwiz_class'].value_counts()"
   ]
  },
  {
   "cell_type": "code",
   "execution_count": 21,
   "id": "8b125fd6",
   "metadata": {},
   "outputs": [],
   "source": [
    "def set_label(x):\n",
    "    lbl=['','low','medium','high','highest']\n",
    "    return lbl[x]\n",
    "dfa['bizwiz_label']=dfa[\"bizwiz_class\"].apply(set_label)"
   ]
  },
  {
   "cell_type": "code",
   "execution_count": 22,
   "id": "bc29e9a5",
   "metadata": {},
   "outputs": [],
   "source": [
    "def two_label_num(x):\n",
    "    if x in (3,4):\n",
    "        return 2\n",
    "    return 1\n",
    "def two_label(x):\n",
    "    if x in (3,4):\n",
    "        return 'high'\n",
    "    return 'low'\n",
    "dfa['label_num']=dfa[\"bizwiz_class\"].apply(two_label_num)\n",
    "dfa['label']=dfa[\"bizwiz_class\"].apply(two_label)"
   ]
  },
  {
   "cell_type": "code",
   "execution_count": 23,
   "id": "99e7debb",
   "metadata": {},
   "outputs": [],
   "source": [
    "df_out=dfa[['id','pptitle','ppdesc','COUNTY_NAME','STATE_NAME',\n",
    "            'bizwiz_value_score','bizwiz_class','bizwiz_label','label_num','label']]"
   ]
  },
  {
   "cell_type": "code",
   "execution_count": 24,
   "id": "ec62313b",
   "metadata": {},
   "outputs": [],
   "source": [
    "df_out=df_out.dropna()"
   ]
  },
  {
   "cell_type": "code",
   "execution_count": 25,
   "id": "52981d3d",
   "metadata": {},
   "outputs": [
    {
     "data": {
      "text/plain": [
       "Index(['id', 'pptitle', 'ppdesc', 'COUNTY_NAME', 'STATE_NAME',\n",
       "       'bizwiz_value_score', 'bizwiz_class', 'bizwiz_label', 'label_num',\n",
       "       'label'],\n",
       "      dtype='object')"
      ]
     },
     "execution_count": 25,
     "metadata": {},
     "output_type": "execute_result"
    }
   ],
   "source": [
    "df_out.columns"
   ]
  },
  {
   "cell_type": "code",
   "execution_count": 26,
   "id": "37d8cca8",
   "metadata": {},
   "outputs": [
    {
     "data": {
      "text/plain": [
       "(27336, 10)"
      ]
     },
     "execution_count": 26,
     "metadata": {},
     "output_type": "execute_result"
    }
   ],
   "source": [
    "df_out.shape"
   ]
  },
  {
   "cell_type": "code",
   "execution_count": 27,
   "id": "7cd3e125",
   "metadata": {},
   "outputs": [
    {
     "data": {
      "text/html": [
       "<div>\n",
       "<style scoped>\n",
       "    .dataframe tbody tr th:only-of-type {\n",
       "        vertical-align: middle;\n",
       "    }\n",
       "\n",
       "    .dataframe tbody tr th {\n",
       "        vertical-align: top;\n",
       "    }\n",
       "\n",
       "    .dataframe thead th {\n",
       "        text-align: right;\n",
       "    }\n",
       "</style>\n",
       "<table border=\"1\" class=\"dataframe\">\n",
       "  <thead>\n",
       "    <tr style=\"text-align: right;\">\n",
       "      <th></th>\n",
       "      <th>id</th>\n",
       "      <th>pptitle</th>\n",
       "      <th>ppdesc</th>\n",
       "      <th>COUNTY_NAME</th>\n",
       "      <th>STATE_NAME</th>\n",
       "      <th>bizwiz_value_score</th>\n",
       "      <th>bizwiz_class</th>\n",
       "      <th>bizwiz_label</th>\n",
       "      <th>label_num</th>\n",
       "      <th>label</th>\n",
       "    </tr>\n",
       "  </thead>\n",
       "  <tbody>\n",
       "    <tr>\n",
       "      <th>1</th>\n",
       "      <td>1990890.0</td>\n",
       "      <td>high exposur may land new jersey</td>\n",
       "      <td>amaz opportun price sell readi busi locat hear...</td>\n",
       "      <td>Atlantic</td>\n",
       "      <td>New Jersey</td>\n",
       "      <td>4.062859</td>\n",
       "      <td>3</td>\n",
       "      <td>high</td>\n",
       "      <td>2</td>\n",
       "      <td>high</td>\n",
       "    </tr>\n",
       "    <tr>\n",
       "      <th>3</th>\n",
       "      <td>2039720.0</td>\n",
       "      <td>duplex short term long term pinella counti flo...</td>\n",
       "      <td>rare largoseminol area duplex central locat pi...</td>\n",
       "      <td>Pinellas</td>\n",
       "      <td>Florida</td>\n",
       "      <td>3.464210</td>\n",
       "      <td>2</td>\n",
       "      <td>medium</td>\n",
       "      <td>1</td>\n",
       "      <td>low</td>\n",
       "    </tr>\n",
       "    <tr>\n",
       "      <th>4</th>\n",
       "      <td>1576680.0</td>\n",
       "      <td>major price reduct resttavern 13000sq ft build...</td>\n",
       "      <td>price reduc 850 000 make offercurr owner want ...</td>\n",
       "      <td>Baltimore (city)</td>\n",
       "      <td>Maryland</td>\n",
       "      <td>2.505054</td>\n",
       "      <td>1</td>\n",
       "      <td>low</td>\n",
       "      <td>1</td>\n",
       "      <td>low</td>\n",
       "    </tr>\n",
       "    <tr>\n",
       "      <th>5</th>\n",
       "      <td>2087638.0</td>\n",
       "      <td>busi real estat casco michigan</td>\n",
       "      <td>• busi real estat sale• liquorshopp first floo...</td>\n",
       "      <td>St. Clair</td>\n",
       "      <td>Michigan</td>\n",
       "      <td>2.973314</td>\n",
       "      <td>1</td>\n",
       "      <td>low</td>\n",
       "      <td>1</td>\n",
       "      <td>low</td>\n",
       "    </tr>\n",
       "    <tr>\n",
       "      <th>7</th>\n",
       "      <td>2051958.0</td>\n",
       "      <td>turnkey restaur near lake wister state park hi...</td>\n",
       "      <td>commerci real estat sale welcom 409 us highway...</td>\n",
       "      <td>Le Flore</td>\n",
       "      <td>Oklahoma</td>\n",
       "      <td>3.712142</td>\n",
       "      <td>2</td>\n",
       "      <td>medium</td>\n",
       "      <td>1</td>\n",
       "      <td>low</td>\n",
       "    </tr>\n",
       "  </tbody>\n",
       "</table>\n",
       "</div>"
      ],
      "text/plain": [
       "          id                                            pptitle  \\\n",
       "1  1990890.0                   high exposur may land new jersey   \n",
       "3  2039720.0  duplex short term long term pinella counti flo...   \n",
       "4  1576680.0  major price reduct resttavern 13000sq ft build...   \n",
       "5  2087638.0                     busi real estat casco michigan   \n",
       "7  2051958.0  turnkey restaur near lake wister state park hi...   \n",
       "\n",
       "                                              ppdesc       COUNTY_NAME  \\\n",
       "1  amaz opportun price sell readi busi locat hear...          Atlantic   \n",
       "3  rare largoseminol area duplex central locat pi...          Pinellas   \n",
       "4  price reduc 850 000 make offercurr owner want ...  Baltimore (city)   \n",
       "5  • busi real estat sale• liquorshopp first floo...         St. Clair   \n",
       "7  commerci real estat sale welcom 409 us highway...          Le Flore   \n",
       "\n",
       "   STATE_NAME  bizwiz_value_score  bizwiz_class bizwiz_label  label_num label  \n",
       "1  New Jersey            4.062859             3         high          2  high  \n",
       "3     Florida            3.464210             2       medium          1   low  \n",
       "4    Maryland            2.505054             1          low          1   low  \n",
       "5    Michigan            2.973314             1          low          1   low  \n",
       "7    Oklahoma            3.712142             2       medium          1   low  "
      ]
     },
     "execution_count": 27,
     "metadata": {},
     "output_type": "execute_result"
    }
   ],
   "source": [
    "df_out.head()"
   ]
  },
  {
   "cell_type": "code",
   "execution_count": 28,
   "id": "b68e62dd",
   "metadata": {},
   "outputs": [
    {
     "name": "stdout",
     "output_type": "stream",
     "text": [
      "<class 'pandas.core.frame.DataFrame'>\n",
      "Int64Index: 27336 entries, 1 to 208608\n",
      "Data columns (total 10 columns):\n",
      " #   Column              Non-Null Count  Dtype  \n",
      "---  ------              --------------  -----  \n",
      " 0   id                  27336 non-null  float64\n",
      " 1   pptitle             27336 non-null  object \n",
      " 2   ppdesc              27336 non-null  object \n",
      " 3   COUNTY_NAME         27336 non-null  object \n",
      " 4   STATE_NAME          27336 non-null  object \n",
      " 5   bizwiz_value_score  27336 non-null  float64\n",
      " 6   bizwiz_class        27336 non-null  int64  \n",
      " 7   bizwiz_label        27336 non-null  object \n",
      " 8   label_num           27336 non-null  int64  \n",
      " 9   label               27336 non-null  object \n",
      "dtypes: float64(2), int64(2), object(6)\n",
      "memory usage: 2.3+ MB\n"
     ]
    }
   ],
   "source": [
    "df_out.info()"
   ]
  },
  {
   "cell_type": "code",
   "execution_count": 29,
   "id": "d518ed54",
   "metadata": {},
   "outputs": [],
   "source": [
    "df_out.to_parquet('data/bizwiz_value_score.parquet')"
   ]
  }
 ],
 "metadata": {
  "kernelspec": {
   "display_name": "Python 3 (ipykernel)",
   "language": "python",
   "name": "python3"
  },
  "language_info": {
   "codemirror_mode": {
    "name": "ipython",
    "version": 3
   },
   "file_extension": ".py",
   "mimetype": "text/x-python",
   "name": "python",
   "nbconvert_exporter": "python",
   "pygments_lexer": "ipython3",
   "version": "3.7.17"
  }
 },
 "nbformat": 4,
 "nbformat_minor": 5
}
