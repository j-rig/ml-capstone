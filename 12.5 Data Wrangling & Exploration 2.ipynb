{
 "cells": [
  {
   "cell_type": "markdown",
   "metadata": {},
   "source": [
    "## Bizbuysell Data Wrangling & Exploration 2"
   ]
  },
  {
   "cell_type": "markdown",
   "metadata": {},
   "source": [
    "https://www.springboard.com/archeio/download/2c28c1ea344a4f71a7489f3b8ce78755/\n",
    "https://docs.google.com/document/d/1ySJxTqB79npcJZ2VQSE4PZEydSYYWI5IvNcwrCKpkto/edit"
   ]
  },
  {
   "cell_type": "code",
   "execution_count": 1,
   "metadata": {},
   "outputs": [],
   "source": [
    "import warnings\n",
    "warnings.filterwarnings('ignore')"
   ]
  },
  {
   "cell_type": "code",
   "execution_count": 2,
   "metadata": {},
   "outputs": [],
   "source": [
    "import pandas as pd"
   ]
  },
  {
   "cell_type": "markdown",
   "metadata": {},
   "source": [
    "### Load dataset"
   ]
  },
  {
   "cell_type": "code",
   "execution_count": 3,
   "metadata": {},
   "outputs": [],
   "source": [
    "df_in=pd.read_parquet('data/bizbuysell.dataset.1.parquet')"
   ]
  },
  {
   "cell_type": "code",
   "execution_count": 4,
   "metadata": {},
   "outputs": [
    {
     "data": {
      "text/plain": [
       "(302163, 14)"
      ]
     },
     "execution_count": 4,
     "metadata": {},
     "output_type": "execute_result"
    }
   ],
   "source": [
    "df_in.shape"
   ]
  },
  {
   "cell_type": "code",
   "execution_count": 5,
   "metadata": {},
   "outputs": [
    {
     "data": {
      "text/html": [
       "<div>\n",
       "<style scoped>\n",
       "    .dataframe tbody tr th:only-of-type {\n",
       "        vertical-align: middle;\n",
       "    }\n",
       "\n",
       "    .dataframe tbody tr th {\n",
       "        vertical-align: top;\n",
       "    }\n",
       "\n",
       "    .dataframe thead th {\n",
       "        text-align: right;\n",
       "    }\n",
       "</style>\n",
       "<table border=\"1\" class=\"dataframe\">\n",
       "  <thead>\n",
       "    <tr style=\"text-align: right;\">\n",
       "      <th></th>\n",
       "      <th>id</th>\n",
       "      <th>src</th>\n",
       "      <th>url</th>\n",
       "      <th>title</th>\n",
       "      <th>desc</th>\n",
       "      <th>local</th>\n",
       "      <th>region</th>\n",
       "      <th>location</th>\n",
       "      <th>title_loc</th>\n",
       "      <th>categories</th>\n",
       "      <th>similar</th>\n",
       "      <th>details</th>\n",
       "      <th>financials</th>\n",
       "      <th>price</th>\n",
       "    </tr>\n",
       "  </thead>\n",
       "  <tbody>\n",
       "    <tr>\n",
       "      <th>0</th>\n",
       "      <td>2067319.0</td>\n",
       "      <td>details</td>\n",
       "      <td>https://www.bizbuysell.com/Business-Real-Estat...</td>\n",
       "      <td>Popular Marina in Central New Jersey in Middle...</td>\n",
       "      <td>It is fully owned by a man and his wife since ...</td>\n",
       "      <td>Middlesex</td>\n",
       "      <td>New Jersey</td>\n",
       "      <td>Middlesex County, NJ</td>\n",
       "      <td>Central New Jersey in Middlesex County, New Je...</td>\n",
       "      <td>[Real Estate For Sale, New Jersey, Marinas and...</td>\n",
       "      <td>[1864705, 2071534, 2057087]</td>\n",
       "      <td>Location:\\nMiddlesex County, NJ\\nType:\\nOther ...</td>\n",
       "      <td>Asking Price:\\n$2,500,000\\n                   ...</td>\n",
       "      <td>2500000.0</td>\n",
       "    </tr>\n",
       "    <tr>\n",
       "      <th>1</th>\n",
       "      <td>1990890.0</td>\n",
       "      <td>details</td>\n",
       "      <td>https://www.bizbuysell.com/Business-Real-Estat...</td>\n",
       "      <td>High Exposure in Mays Landing, New Jersey - Bi...</td>\n",
       "      <td>AMAZING OPPORTUNITY! Priced to sell and ready ...</td>\n",
       "      <td>Mays Landing</td>\n",
       "      <td>New Jersey</td>\n",
       "      <td>Mays Landing, NJ (Atlantic County)</td>\n",
       "      <td>Mays Landing, New Jersey</td>\n",
       "      <td>[Real Estate For Sale, New Jersey, Other, Mays...</td>\n",
       "      <td>[2075819, 1864705, 2071534]</td>\n",
       "      <td>Location:\\nMays Landing, NJ\\nType:\\nOffice\\nBu...</td>\n",
       "      <td>Asking Price:\\n$225,000\\n                     ...</td>\n",
       "      <td>225000.0</td>\n",
       "    </tr>\n",
       "    <tr>\n",
       "      <th>2</th>\n",
       "      <td>2050006.0</td>\n",
       "      <td>details</td>\n",
       "      <td>https://www.bizbuysell.com/Business-Real-Estat...</td>\n",
       "      <td>Rental Units with Real Estate in Randolph, New...</td>\n",
       "      <td>This is a 6 unit Airbnb with an average occupa...</td>\n",
       "      <td>Randolph</td>\n",
       "      <td>New York</td>\n",
       "      <td>Randolph, NY (Cattaraugus County)</td>\n",
       "      <td>Randolph, New York</td>\n",
       "      <td>[Real Estate For Sale, New York, Hotels, Rando...</td>\n",
       "      <td>[2059235, 2080381, 2077331]</td>\n",
       "      <td>Location:\\nRandolph, NY\\nType:\\nOther Business...</td>\n",
       "      <td>Asking Price:\\n$425,000\\n                     ...</td>\n",
       "      <td>425000.0</td>\n",
       "    </tr>\n",
       "    <tr>\n",
       "      <th>3</th>\n",
       "      <td>2039720.0</td>\n",
       "      <td>details</td>\n",
       "      <td>https://www.bizbuysell.com/Business-Real-Estat...</td>\n",
       "      <td>Duplex, Short term or Long term in Pinellas Co...</td>\n",
       "      <td>Rare Largo/Seminole area duplex centrally loca...</td>\n",
       "      <td>Pinellas</td>\n",
       "      <td>Florida</td>\n",
       "      <td>Pinellas County, FL</td>\n",
       "      <td>Pinellas County, Florida</td>\n",
       "      <td>[Real Estate For Sale, Florida, Other, Pinella...</td>\n",
       "      <td>[2035549, 2067510, 2054271]</td>\n",
       "      <td>Location:\\nPinellas County, FL\\nType:\\nMulti-F...</td>\n",
       "      <td>Asking Price:\\n$595,000\\n                     ...</td>\n",
       "      <td>595000.0</td>\n",
       "    </tr>\n",
       "    <tr>\n",
       "      <th>4</th>\n",
       "      <td>1576680.0</td>\n",
       "      <td>details</td>\n",
       "      <td>https://www.bizbuysell.com/Business-Real-Estat...</td>\n",
       "      <td>Major Price Reduction Rest/Tavern/ 13,000sq. f...</td>\n",
       "      <td>Price reduced to $850. 000 MAKE AN OFFER!!!!!!...</td>\n",
       "      <td>Baltimore</td>\n",
       "      <td>Maryland</td>\n",
       "      <td>Baltimore, MD (Baltimore City County)</td>\n",
       "      <td>Baltimore, Maryland</td>\n",
       "      <td>[Real Estate For Sale, Maryland, Bars, Pubs an...</td>\n",
       "      <td>[2082461, 2050777, 2043561]</td>\n",
       "      <td>Location:\\nBaltimore, MD\\nType:\\nRetail\\nBuild...</td>\n",
       "      <td>Asking Price:\\n$1,050,000\\n                   ...</td>\n",
       "      <td>1050000.0</td>\n",
       "    </tr>\n",
       "  </tbody>\n",
       "</table>\n",
       "</div>"
      ],
      "text/plain": [
       "          id      src                                                url  \\\n",
       "0  2067319.0  details  https://www.bizbuysell.com/Business-Real-Estat...   \n",
       "1  1990890.0  details  https://www.bizbuysell.com/Business-Real-Estat...   \n",
       "2  2050006.0  details  https://www.bizbuysell.com/Business-Real-Estat...   \n",
       "3  2039720.0  details  https://www.bizbuysell.com/Business-Real-Estat...   \n",
       "4  1576680.0  details  https://www.bizbuysell.com/Business-Real-Estat...   \n",
       "\n",
       "                                               title  \\\n",
       "0  Popular Marina in Central New Jersey in Middle...   \n",
       "1  High Exposure in Mays Landing, New Jersey - Bi...   \n",
       "2  Rental Units with Real Estate in Randolph, New...   \n",
       "3  Duplex, Short term or Long term in Pinellas Co...   \n",
       "4  Major Price Reduction Rest/Tavern/ 13,000sq. f...   \n",
       "\n",
       "                                                desc         local  \\\n",
       "0  It is fully owned by a man and his wife since ...     Middlesex   \n",
       "1  AMAZING OPPORTUNITY! Priced to sell and ready ...  Mays Landing   \n",
       "2  This is a 6 unit Airbnb with an average occupa...      Randolph   \n",
       "3  Rare Largo/Seminole area duplex centrally loca...      Pinellas   \n",
       "4  Price reduced to $850. 000 MAKE AN OFFER!!!!!!...     Baltimore   \n",
       "\n",
       "       region                               location  \\\n",
       "0  New Jersey                   Middlesex County, NJ   \n",
       "1  New Jersey     Mays Landing, NJ (Atlantic County)   \n",
       "2    New York      Randolph, NY (Cattaraugus County)   \n",
       "3     Florida                    Pinellas County, FL   \n",
       "4    Maryland  Baltimore, MD (Baltimore City County)   \n",
       "\n",
       "                                           title_loc  \\\n",
       "0  Central New Jersey in Middlesex County, New Je...   \n",
       "1                           Mays Landing, New Jersey   \n",
       "2                                 Randolph, New York   \n",
       "3                           Pinellas County, Florida   \n",
       "4                                Baltimore, Maryland   \n",
       "\n",
       "                                          categories  \\\n",
       "0  [Real Estate For Sale, New Jersey, Marinas and...   \n",
       "1  [Real Estate For Sale, New Jersey, Other, Mays...   \n",
       "2  [Real Estate For Sale, New York, Hotels, Rando...   \n",
       "3  [Real Estate For Sale, Florida, Other, Pinella...   \n",
       "4  [Real Estate For Sale, Maryland, Bars, Pubs an...   \n",
       "\n",
       "                       similar  \\\n",
       "0  [1864705, 2071534, 2057087]   \n",
       "1  [2075819, 1864705, 2071534]   \n",
       "2  [2059235, 2080381, 2077331]   \n",
       "3  [2035549, 2067510, 2054271]   \n",
       "4  [2082461, 2050777, 2043561]   \n",
       "\n",
       "                                             details  \\\n",
       "0  Location:\\nMiddlesex County, NJ\\nType:\\nOther ...   \n",
       "1  Location:\\nMays Landing, NJ\\nType:\\nOffice\\nBu...   \n",
       "2  Location:\\nRandolph, NY\\nType:\\nOther Business...   \n",
       "3  Location:\\nPinellas County, FL\\nType:\\nMulti-F...   \n",
       "4  Location:\\nBaltimore, MD\\nType:\\nRetail\\nBuild...   \n",
       "\n",
       "                                          financials      price  \n",
       "0  Asking Price:\\n$2,500,000\\n                   ...  2500000.0  \n",
       "1  Asking Price:\\n$225,000\\n                     ...   225000.0  \n",
       "2  Asking Price:\\n$425,000\\n                     ...   425000.0  \n",
       "3  Asking Price:\\n$595,000\\n                     ...   595000.0  \n",
       "4  Asking Price:\\n$1,050,000\\n                   ...  1050000.0  "
      ]
     },
     "execution_count": 5,
     "metadata": {},
     "output_type": "execute_result"
    }
   ],
   "source": [
    "df_in.head()"
   ]
  },
  {
   "cell_type": "markdown",
   "metadata": {},
   "source": [
    "### A: business id, local, region"
   ]
  },
  {
   "cell_type": "code",
   "execution_count": 6,
   "metadata": {},
   "outputs": [],
   "source": [
    "dfa=df_in[['id','local','region']]\n",
    "dfa=dfa.dropna()"
   ]
  },
  {
   "cell_type": "code",
   "execution_count": 7,
   "metadata": {},
   "outputs": [
    {
     "data": {
      "text/plain": [
       "(260534, 3)"
      ]
     },
     "execution_count": 7,
     "metadata": {},
     "output_type": "execute_result"
    }
   ],
   "source": [
    "dfa.shape"
   ]
  },
  {
   "cell_type": "code",
   "execution_count": 8,
   "metadata": {},
   "outputs": [
    {
     "data": {
      "text/html": [
       "<div>\n",
       "<style scoped>\n",
       "    .dataframe tbody tr th:only-of-type {\n",
       "        vertical-align: middle;\n",
       "    }\n",
       "\n",
       "    .dataframe tbody tr th {\n",
       "        vertical-align: top;\n",
       "    }\n",
       "\n",
       "    .dataframe thead th {\n",
       "        text-align: right;\n",
       "    }\n",
       "</style>\n",
       "<table border=\"1\" class=\"dataframe\">\n",
       "  <thead>\n",
       "    <tr style=\"text-align: right;\">\n",
       "      <th></th>\n",
       "      <th>id</th>\n",
       "      <th>local</th>\n",
       "      <th>region</th>\n",
       "    </tr>\n",
       "  </thead>\n",
       "  <tbody>\n",
       "    <tr>\n",
       "      <th>0</th>\n",
       "      <td>2067319.0</td>\n",
       "      <td>Middlesex</td>\n",
       "      <td>New Jersey</td>\n",
       "    </tr>\n",
       "    <tr>\n",
       "      <th>1</th>\n",
       "      <td>1990890.0</td>\n",
       "      <td>Mays Landing</td>\n",
       "      <td>New Jersey</td>\n",
       "    </tr>\n",
       "    <tr>\n",
       "      <th>2</th>\n",
       "      <td>2050006.0</td>\n",
       "      <td>Randolph</td>\n",
       "      <td>New York</td>\n",
       "    </tr>\n",
       "    <tr>\n",
       "      <th>3</th>\n",
       "      <td>2039720.0</td>\n",
       "      <td>Pinellas</td>\n",
       "      <td>Florida</td>\n",
       "    </tr>\n",
       "    <tr>\n",
       "      <th>4</th>\n",
       "      <td>1576680.0</td>\n",
       "      <td>Baltimore</td>\n",
       "      <td>Maryland</td>\n",
       "    </tr>\n",
       "  </tbody>\n",
       "</table>\n",
       "</div>"
      ],
      "text/plain": [
       "          id         local      region\n",
       "0  2067319.0     Middlesex  New Jersey\n",
       "1  1990890.0  Mays Landing  New Jersey\n",
       "2  2050006.0      Randolph    New York\n",
       "3  2039720.0      Pinellas     Florida\n",
       "4  1576680.0     Baltimore    Maryland"
      ]
     },
     "execution_count": 8,
     "metadata": {},
     "output_type": "execute_result"
    }
   ],
   "source": [
    "dfa.head()"
   ]
  },
  {
   "cell_type": "markdown",
   "metadata": {},
   "source": [
    "### B: business id, location"
   ]
  },
  {
   "cell_type": "code",
   "execution_count": 9,
   "metadata": {},
   "outputs": [],
   "source": [
    "dfb=df_in[['id','location']]\n",
    "dfb=dfb.dropna()"
   ]
  },
  {
   "cell_type": "code",
   "execution_count": 10,
   "metadata": {},
   "outputs": [
    {
     "data": {
      "text/plain": [
       "(283483, 2)"
      ]
     },
     "execution_count": 10,
     "metadata": {},
     "output_type": "execute_result"
    }
   ],
   "source": [
    "dfb.shape"
   ]
  },
  {
   "cell_type": "code",
   "execution_count": 11,
   "metadata": {},
   "outputs": [
    {
     "data": {
      "text/html": [
       "<div>\n",
       "<style scoped>\n",
       "    .dataframe tbody tr th:only-of-type {\n",
       "        vertical-align: middle;\n",
       "    }\n",
       "\n",
       "    .dataframe tbody tr th {\n",
       "        vertical-align: top;\n",
       "    }\n",
       "\n",
       "    .dataframe thead th {\n",
       "        text-align: right;\n",
       "    }\n",
       "</style>\n",
       "<table border=\"1\" class=\"dataframe\">\n",
       "  <thead>\n",
       "    <tr style=\"text-align: right;\">\n",
       "      <th></th>\n",
       "      <th>id</th>\n",
       "      <th>location</th>\n",
       "    </tr>\n",
       "  </thead>\n",
       "  <tbody>\n",
       "    <tr>\n",
       "      <th>0</th>\n",
       "      <td>2067319.0</td>\n",
       "      <td>Middlesex County, NJ</td>\n",
       "    </tr>\n",
       "    <tr>\n",
       "      <th>1</th>\n",
       "      <td>1990890.0</td>\n",
       "      <td>Mays Landing, NJ (Atlantic County)</td>\n",
       "    </tr>\n",
       "    <tr>\n",
       "      <th>2</th>\n",
       "      <td>2050006.0</td>\n",
       "      <td>Randolph, NY (Cattaraugus County)</td>\n",
       "    </tr>\n",
       "    <tr>\n",
       "      <th>3</th>\n",
       "      <td>2039720.0</td>\n",
       "      <td>Pinellas County, FL</td>\n",
       "    </tr>\n",
       "    <tr>\n",
       "      <th>4</th>\n",
       "      <td>1576680.0</td>\n",
       "      <td>Baltimore, MD (Baltimore City County)</td>\n",
       "    </tr>\n",
       "  </tbody>\n",
       "</table>\n",
       "</div>"
      ],
      "text/plain": [
       "          id                               location\n",
       "0  2067319.0                   Middlesex County, NJ\n",
       "1  1990890.0     Mays Landing, NJ (Atlantic County)\n",
       "2  2050006.0      Randolph, NY (Cattaraugus County)\n",
       "3  2039720.0                    Pinellas County, FL\n",
       "4  1576680.0  Baltimore, MD (Baltimore City County)"
      ]
     },
     "execution_count": 11,
     "metadata": {},
     "output_type": "execute_result"
    }
   ],
   "source": [
    "dfb.head()"
   ]
  },
  {
   "cell_type": "code",
   "execution_count": 12,
   "metadata": {},
   "outputs": [],
   "source": [
    "def parse_location(loc):\n",
    "    a=pd.NA\n",
    "    b=pd.NA\n",
    "    c=pd.NA\n",
    "    d=pd.NA\n",
    "    loc=loc.replace('(Relocatable)','')\n",
    "    loc=loc.replace('County','')\n",
    "    loc= loc.split(',')\n",
    "    if len(loc)!=2:\n",
    "        if len(loc)==1 and len(loc[0]):\n",
    "            a=loc[0].strip()\n",
    "        return a,b,c,d\n",
    "    b=loc[0]\n",
    "    c=loc[1]\n",
    "    b=b.strip()\n",
    "    c=c.strip()\n",
    "    if len(c)==2:\n",
    "        return a,b,c,d\n",
    "    d=c[2:]\n",
    "    d= d.replace('(','')\n",
    "    d= d.replace(')','')\n",
    "    d= d.strip()\n",
    "    c=c[:2]\n",
    "    return a,b,c,d"
   ]
  },
  {
   "cell_type": "code",
   "execution_count": 13,
   "metadata": {},
   "outputs": [],
   "source": [
    "dfb['l']=dfb['location'].apply(parse_location)\n",
    "dfb['a']=dfb['l'].apply(lambda x: x[0])\n",
    "dfb['b']=dfb['l'].apply(lambda x: x[1])\n",
    "dfb['c']=dfb['l'].apply(lambda x: x[2])\n",
    "dfb['d']=dfb['l'].apply(lambda x: x[3])"
   ]
  },
  {
   "cell_type": "code",
   "execution_count": 14,
   "metadata": {},
   "outputs": [
    {
     "data": {
      "text/plain": [
       "(283483, 7)"
      ]
     },
     "execution_count": 14,
     "metadata": {},
     "output_type": "execute_result"
    }
   ],
   "source": [
    "dfb.shape"
   ]
  },
  {
   "cell_type": "code",
   "execution_count": 15,
   "metadata": {},
   "outputs": [
    {
     "data": {
      "text/html": [
       "<div>\n",
       "<style scoped>\n",
       "    .dataframe tbody tr th:only-of-type {\n",
       "        vertical-align: middle;\n",
       "    }\n",
       "\n",
       "    .dataframe tbody tr th {\n",
       "        vertical-align: top;\n",
       "    }\n",
       "\n",
       "    .dataframe thead th {\n",
       "        text-align: right;\n",
       "    }\n",
       "</style>\n",
       "<table border=\"1\" class=\"dataframe\">\n",
       "  <thead>\n",
       "    <tr style=\"text-align: right;\">\n",
       "      <th></th>\n",
       "      <th>id</th>\n",
       "      <th>location</th>\n",
       "      <th>l</th>\n",
       "      <th>a</th>\n",
       "      <th>b</th>\n",
       "      <th>c</th>\n",
       "      <th>d</th>\n",
       "    </tr>\n",
       "  </thead>\n",
       "  <tbody>\n",
       "    <tr>\n",
       "      <th>0</th>\n",
       "      <td>2067319.0</td>\n",
       "      <td>Middlesex County, NJ</td>\n",
       "      <td>(&lt;NA&gt;, Middlesex, NJ, &lt;NA&gt;)</td>\n",
       "      <td>&lt;NA&gt;</td>\n",
       "      <td>Middlesex</td>\n",
       "      <td>NJ</td>\n",
       "      <td>&lt;NA&gt;</td>\n",
       "    </tr>\n",
       "    <tr>\n",
       "      <th>1</th>\n",
       "      <td>1990890.0</td>\n",
       "      <td>Mays Landing, NJ (Atlantic County)</td>\n",
       "      <td>(&lt;NA&gt;, Mays Landing, NJ, Atlantic)</td>\n",
       "      <td>&lt;NA&gt;</td>\n",
       "      <td>Mays Landing</td>\n",
       "      <td>NJ</td>\n",
       "      <td>Atlantic</td>\n",
       "    </tr>\n",
       "    <tr>\n",
       "      <th>2</th>\n",
       "      <td>2050006.0</td>\n",
       "      <td>Randolph, NY (Cattaraugus County)</td>\n",
       "      <td>(&lt;NA&gt;, Randolph, NY, Cattaraugus)</td>\n",
       "      <td>&lt;NA&gt;</td>\n",
       "      <td>Randolph</td>\n",
       "      <td>NY</td>\n",
       "      <td>Cattaraugus</td>\n",
       "    </tr>\n",
       "    <tr>\n",
       "      <th>3</th>\n",
       "      <td>2039720.0</td>\n",
       "      <td>Pinellas County, FL</td>\n",
       "      <td>(&lt;NA&gt;, Pinellas, FL, &lt;NA&gt;)</td>\n",
       "      <td>&lt;NA&gt;</td>\n",
       "      <td>Pinellas</td>\n",
       "      <td>FL</td>\n",
       "      <td>&lt;NA&gt;</td>\n",
       "    </tr>\n",
       "    <tr>\n",
       "      <th>4</th>\n",
       "      <td>1576680.0</td>\n",
       "      <td>Baltimore, MD (Baltimore City County)</td>\n",
       "      <td>(&lt;NA&gt;, Baltimore, MD, Baltimore City)</td>\n",
       "      <td>&lt;NA&gt;</td>\n",
       "      <td>Baltimore</td>\n",
       "      <td>MD</td>\n",
       "      <td>Baltimore City</td>\n",
       "    </tr>\n",
       "  </tbody>\n",
       "</table>\n",
       "</div>"
      ],
      "text/plain": [
       "          id                               location  \\\n",
       "0  2067319.0                   Middlesex County, NJ   \n",
       "1  1990890.0     Mays Landing, NJ (Atlantic County)   \n",
       "2  2050006.0      Randolph, NY (Cattaraugus County)   \n",
       "3  2039720.0                    Pinellas County, FL   \n",
       "4  1576680.0  Baltimore, MD (Baltimore City County)   \n",
       "\n",
       "                                       l     a             b   c  \\\n",
       "0            (<NA>, Middlesex, NJ, <NA>)  <NA>     Middlesex  NJ   \n",
       "1     (<NA>, Mays Landing, NJ, Atlantic)  <NA>  Mays Landing  NJ   \n",
       "2      (<NA>, Randolph, NY, Cattaraugus)  <NA>      Randolph  NY   \n",
       "3             (<NA>, Pinellas, FL, <NA>)  <NA>      Pinellas  FL   \n",
       "4  (<NA>, Baltimore, MD, Baltimore City)  <NA>     Baltimore  MD   \n",
       "\n",
       "                d  \n",
       "0            <NA>  \n",
       "1        Atlantic  \n",
       "2     Cattaraugus  \n",
       "3            <NA>  \n",
       "4  Baltimore City  "
      ]
     },
     "execution_count": 15,
     "metadata": {},
     "output_type": "execute_result"
    }
   ],
   "source": [
    "dfb.head()"
   ]
  },
  {
   "cell_type": "markdown",
   "metadata": {},
   "source": [
    "### C: business id, local, 2 letter region from page"
   ]
  },
  {
   "cell_type": "code",
   "execution_count": 16,
   "metadata": {},
   "outputs": [],
   "source": [
    "dfc=dfb[['id','b','c']]\n",
    "dfc.columns=['id','local','region2']\n",
    "dfc=dfc.dropna()"
   ]
  },
  {
   "cell_type": "code",
   "execution_count": 17,
   "metadata": {},
   "outputs": [
    {
     "data": {
      "text/plain": [
       "(258069, 3)"
      ]
     },
     "execution_count": 17,
     "metadata": {},
     "output_type": "execute_result"
    }
   ],
   "source": [
    "dfc.shape"
   ]
  },
  {
   "cell_type": "code",
   "execution_count": 18,
   "metadata": {},
   "outputs": [
    {
     "data": {
      "text/html": [
       "<div>\n",
       "<style scoped>\n",
       "    .dataframe tbody tr th:only-of-type {\n",
       "        vertical-align: middle;\n",
       "    }\n",
       "\n",
       "    .dataframe tbody tr th {\n",
       "        vertical-align: top;\n",
       "    }\n",
       "\n",
       "    .dataframe thead th {\n",
       "        text-align: right;\n",
       "    }\n",
       "</style>\n",
       "<table border=\"1\" class=\"dataframe\">\n",
       "  <thead>\n",
       "    <tr style=\"text-align: right;\">\n",
       "      <th></th>\n",
       "      <th>id</th>\n",
       "      <th>local</th>\n",
       "      <th>region2</th>\n",
       "    </tr>\n",
       "  </thead>\n",
       "  <tbody>\n",
       "    <tr>\n",
       "      <th>0</th>\n",
       "      <td>2067319.0</td>\n",
       "      <td>Middlesex</td>\n",
       "      <td>NJ</td>\n",
       "    </tr>\n",
       "    <tr>\n",
       "      <th>1</th>\n",
       "      <td>1990890.0</td>\n",
       "      <td>Mays Landing</td>\n",
       "      <td>NJ</td>\n",
       "    </tr>\n",
       "    <tr>\n",
       "      <th>2</th>\n",
       "      <td>2050006.0</td>\n",
       "      <td>Randolph</td>\n",
       "      <td>NY</td>\n",
       "    </tr>\n",
       "    <tr>\n",
       "      <th>3</th>\n",
       "      <td>2039720.0</td>\n",
       "      <td>Pinellas</td>\n",
       "      <td>FL</td>\n",
       "    </tr>\n",
       "    <tr>\n",
       "      <th>4</th>\n",
       "      <td>1576680.0</td>\n",
       "      <td>Baltimore</td>\n",
       "      <td>MD</td>\n",
       "    </tr>\n",
       "  </tbody>\n",
       "</table>\n",
       "</div>"
      ],
      "text/plain": [
       "          id         local region2\n",
       "0  2067319.0     Middlesex      NJ\n",
       "1  1990890.0  Mays Landing      NJ\n",
       "2  2050006.0      Randolph      NY\n",
       "3  2039720.0      Pinellas      FL\n",
       "4  1576680.0     Baltimore      MD"
      ]
     },
     "execution_count": 18,
     "metadata": {},
     "output_type": "execute_result"
    }
   ],
   "source": [
    "dfc.head()"
   ]
  },
  {
   "cell_type": "markdown",
   "metadata": {},
   "source": [
    "### D: business id, local, 2 letter region from page"
   ]
  },
  {
   "cell_type": "code",
   "execution_count": 19,
   "metadata": {},
   "outputs": [],
   "source": [
    "dfd=dfb[['id','d','c']]\n",
    "dfd.columns=['id','local','region2']\n",
    "dfd=dfd.dropna()"
   ]
  },
  {
   "cell_type": "code",
   "execution_count": 20,
   "metadata": {},
   "outputs": [
    {
     "data": {
      "text/plain": [
       "(22892, 3)"
      ]
     },
     "execution_count": 20,
     "metadata": {},
     "output_type": "execute_result"
    }
   ],
   "source": [
    "dfd.shape"
   ]
  },
  {
   "cell_type": "code",
   "execution_count": 21,
   "metadata": {},
   "outputs": [
    {
     "data": {
      "text/html": [
       "<div>\n",
       "<style scoped>\n",
       "    .dataframe tbody tr th:only-of-type {\n",
       "        vertical-align: middle;\n",
       "    }\n",
       "\n",
       "    .dataframe tbody tr th {\n",
       "        vertical-align: top;\n",
       "    }\n",
       "\n",
       "    .dataframe thead th {\n",
       "        text-align: right;\n",
       "    }\n",
       "</style>\n",
       "<table border=\"1\" class=\"dataframe\">\n",
       "  <thead>\n",
       "    <tr style=\"text-align: right;\">\n",
       "      <th></th>\n",
       "      <th>id</th>\n",
       "      <th>local</th>\n",
       "      <th>region2</th>\n",
       "    </tr>\n",
       "  </thead>\n",
       "  <tbody>\n",
       "    <tr>\n",
       "      <th>1</th>\n",
       "      <td>1990890.0</td>\n",
       "      <td>Atlantic</td>\n",
       "      <td>NJ</td>\n",
       "    </tr>\n",
       "    <tr>\n",
       "      <th>2</th>\n",
       "      <td>2050006.0</td>\n",
       "      <td>Cattaraugus</td>\n",
       "      <td>NY</td>\n",
       "    </tr>\n",
       "    <tr>\n",
       "      <th>4</th>\n",
       "      <td>1576680.0</td>\n",
       "      <td>Baltimore City</td>\n",
       "      <td>MD</td>\n",
       "    </tr>\n",
       "    <tr>\n",
       "      <th>5</th>\n",
       "      <td>2087638.0</td>\n",
       "      <td>Saint Clair</td>\n",
       "      <td>MI</td>\n",
       "    </tr>\n",
       "    <tr>\n",
       "      <th>7</th>\n",
       "      <td>2051958.0</td>\n",
       "      <td>LeFlore</td>\n",
       "      <td>OK</td>\n",
       "    </tr>\n",
       "  </tbody>\n",
       "</table>\n",
       "</div>"
      ],
      "text/plain": [
       "          id           local region2\n",
       "1  1990890.0        Atlantic      NJ\n",
       "2  2050006.0     Cattaraugus      NY\n",
       "4  1576680.0  Baltimore City      MD\n",
       "5  2087638.0     Saint Clair      MI\n",
       "7  2051958.0         LeFlore      OK"
      ]
     },
     "execution_count": 21,
     "metadata": {},
     "output_type": "execute_result"
    }
   ],
   "source": [
    "dfd.head()"
   ]
  },
  {
   "cell_type": "markdown",
   "metadata": {},
   "source": [
    "### Read in detailed location data from national fed codes dataset"
   ]
  },
  {
   "cell_type": "code",
   "execution_count": 22,
   "metadata": {},
   "outputs": [],
   "source": [
    "df_fc=pd.read_csv('https://geonames.usgs.gov/docs/federalcodes/NationalFedCodes.zip',delimiter='|')"
   ]
  },
  {
   "cell_type": "code",
   "execution_count": 23,
   "metadata": {},
   "outputs": [
    {
     "data": {
      "text/plain": [
       "(202532, 16)"
      ]
     },
     "execution_count": 23,
     "metadata": {},
     "output_type": "execute_result"
    }
   ],
   "source": [
    "df_fc.shape"
   ]
  },
  {
   "cell_type": "code",
   "execution_count": 24,
   "metadata": {},
   "outputs": [
    {
     "data": {
      "text/html": [
       "<div>\n",
       "<style scoped>\n",
       "    .dataframe tbody tr th:only-of-type {\n",
       "        vertical-align: middle;\n",
       "    }\n",
       "\n",
       "    .dataframe tbody tr th {\n",
       "        vertical-align: top;\n",
       "    }\n",
       "\n",
       "    .dataframe thead th {\n",
       "        text-align: right;\n",
       "    }\n",
       "</style>\n",
       "<table border=\"1\" class=\"dataframe\">\n",
       "  <thead>\n",
       "    <tr style=\"text-align: right;\">\n",
       "      <th></th>\n",
       "      <th>FEATURE_ID</th>\n",
       "      <th>FEATURE_NAME</th>\n",
       "      <th>FEATURE_CLASS</th>\n",
       "      <th>CENSUS_CODE</th>\n",
       "      <th>CENSUS_CLASS_CODE</th>\n",
       "      <th>GSA_CODE</th>\n",
       "      <th>OPM_CODE</th>\n",
       "      <th>STATE_NUMERIC</th>\n",
       "      <th>STATE_ALPHA</th>\n",
       "      <th>COUNTY_SEQUENCE</th>\n",
       "      <th>COUNTY_NUMERIC</th>\n",
       "      <th>COUNTY_NAME</th>\n",
       "      <th>PRIMARY_LATITUDE</th>\n",
       "      <th>PRIMARY_LONGITUDE</th>\n",
       "      <th>DATE_CREATED</th>\n",
       "      <th>DATE_EDITED</th>\n",
       "    </tr>\n",
       "  </thead>\n",
       "  <tbody>\n",
       "    <tr>\n",
       "      <th>0</th>\n",
       "      <td>479</td>\n",
       "      <td>Adamana</td>\n",
       "      <td>Populated Place</td>\n",
       "      <td>00170</td>\n",
       "      <td>U6</td>\n",
       "      <td>NaN</td>\n",
       "      <td>NaN</td>\n",
       "      <td>4</td>\n",
       "      <td>AZ</td>\n",
       "      <td>1</td>\n",
       "      <td>1</td>\n",
       "      <td>Apache</td>\n",
       "      <td>34.976692</td>\n",
       "      <td>-109.822338</td>\n",
       "      <td>02/08/1980</td>\n",
       "      <td>NaN</td>\n",
       "    </tr>\n",
       "    <tr>\n",
       "      <th>1</th>\n",
       "      <td>492</td>\n",
       "      <td>Adobe</td>\n",
       "      <td>Populated Place</td>\n",
       "      <td>00350</td>\n",
       "      <td>U6</td>\n",
       "      <td>NaN</td>\n",
       "      <td>NaN</td>\n",
       "      <td>4</td>\n",
       "      <td>AZ</td>\n",
       "      <td>1</td>\n",
       "      <td>13</td>\n",
       "      <td>Maricopa</td>\n",
       "      <td>33.689205</td>\n",
       "      <td>-112.122653</td>\n",
       "      <td>02/08/1980</td>\n",
       "      <td>NaN</td>\n",
       "    </tr>\n",
       "    <tr>\n",
       "      <th>2</th>\n",
       "      <td>511</td>\n",
       "      <td>Agua Fria</td>\n",
       "      <td>Populated Place</td>\n",
       "      <td>00520</td>\n",
       "      <td>U4</td>\n",
       "      <td>NaN</td>\n",
       "      <td>NaN</td>\n",
       "      <td>4</td>\n",
       "      <td>AZ</td>\n",
       "      <td>1</td>\n",
       "      <td>13</td>\n",
       "      <td>Maricopa</td>\n",
       "      <td>33.605595</td>\n",
       "      <td>-112.314604</td>\n",
       "      <td>02/08/1980</td>\n",
       "      <td>NaN</td>\n",
       "    </tr>\n",
       "    <tr>\n",
       "      <th>3</th>\n",
       "      <td>516</td>\n",
       "      <td>Aguila</td>\n",
       "      <td>Populated Place</td>\n",
       "      <td>00730</td>\n",
       "      <td>U5</td>\n",
       "      <td>5.0</td>\n",
       "      <td>40005013.0</td>\n",
       "      <td>4</td>\n",
       "      <td>AZ</td>\n",
       "      <td>1</td>\n",
       "      <td>13</td>\n",
       "      <td>Maricopa</td>\n",
       "      <td>33.942807</td>\n",
       "      <td>-113.174081</td>\n",
       "      <td>02/08/1980</td>\n",
       "      <td>01/29/2011</td>\n",
       "    </tr>\n",
       "    <tr>\n",
       "      <th>4</th>\n",
       "      <td>538</td>\n",
       "      <td>Ajo</td>\n",
       "      <td>Populated Place</td>\n",
       "      <td>00870</td>\n",
       "      <td>U5</td>\n",
       "      <td>10.0</td>\n",
       "      <td>40010019.0</td>\n",
       "      <td>4</td>\n",
       "      <td>AZ</td>\n",
       "      <td>1</td>\n",
       "      <td>19</td>\n",
       "      <td>Pima</td>\n",
       "      <td>32.371725</td>\n",
       "      <td>-112.860710</td>\n",
       "      <td>02/08/1980</td>\n",
       "      <td>03/21/2008</td>\n",
       "    </tr>\n",
       "  </tbody>\n",
       "</table>\n",
       "</div>"
      ],
      "text/plain": [
       "   FEATURE_ID FEATURE_NAME    FEATURE_CLASS CENSUS_CODE CENSUS_CLASS_CODE  \\\n",
       "0         479      Adamana  Populated Place       00170                U6   \n",
       "1         492        Adobe  Populated Place       00350                U6   \n",
       "2         511    Agua Fria  Populated Place       00520                U4   \n",
       "3         516       Aguila  Populated Place       00730                U5   \n",
       "4         538          Ajo  Populated Place       00870                U5   \n",
       "\n",
       "   GSA_CODE    OPM_CODE  STATE_NUMERIC STATE_ALPHA  COUNTY_SEQUENCE  \\\n",
       "0       NaN         NaN              4          AZ                1   \n",
       "1       NaN         NaN              4          AZ                1   \n",
       "2       NaN         NaN              4          AZ                1   \n",
       "3       5.0  40005013.0              4          AZ                1   \n",
       "4      10.0  40010019.0              4          AZ                1   \n",
       "\n",
       "   COUNTY_NUMERIC COUNTY_NAME  PRIMARY_LATITUDE  PRIMARY_LONGITUDE  \\\n",
       "0               1      Apache         34.976692        -109.822338   \n",
       "1              13    Maricopa         33.689205        -112.122653   \n",
       "2              13    Maricopa         33.605595        -112.314604   \n",
       "3              13    Maricopa         33.942807        -113.174081   \n",
       "4              19        Pima         32.371725        -112.860710   \n",
       "\n",
       "  DATE_CREATED DATE_EDITED  \n",
       "0   02/08/1980         NaN  \n",
       "1   02/08/1980         NaN  \n",
       "2   02/08/1980         NaN  \n",
       "3   02/08/1980  01/29/2011  \n",
       "4   02/08/1980  03/21/2008  "
      ]
     },
     "execution_count": 24,
     "metadata": {},
     "output_type": "execute_result"
    }
   ],
   "source": [
    "df_fc.head()"
   ]
  },
  {
   "cell_type": "code",
   "execution_count": 25,
   "metadata": {},
   "outputs": [
    {
     "data": {
      "text/plain": [
       "array(['AZ', 'CA', 'NV', 'NM', 'UT', 'AR', 'MO', 'OK', 'AL', 'CO', 'CT',\n",
       "       'DE', 'MD', 'OR', 'FL', 'GA', 'HI', 'ID', 'WY', 'WA', 'IL', 'WI',\n",
       "       'IN', 'OH', 'IA', 'KS', 'NE', 'KY', 'TN', 'DC', 'LA', 'TX', 'ME',\n",
       "       'NH', 'MA', 'RI', 'MI', 'MN', 'SD', 'MS', 'MT', 'NJ', 'NY', 'NC',\n",
       "       'SC', 'ND', 'PA', 'VA', 'AS', 'GU', 'MP', 'FM', 'PW', 'AK', 'VT',\n",
       "       'WV', 'PR', 'VI'], dtype=object)"
      ]
     },
     "execution_count": 25,
     "metadata": {},
     "output_type": "execute_result"
    }
   ],
   "source": [
    "df_fc.STATE_ALPHA.unique()"
   ]
  },
  {
   "cell_type": "code",
   "execution_count": 26,
   "metadata": {},
   "outputs": [
    {
     "data": {
      "text/html": [
       "<div>\n",
       "<style scoped>\n",
       "    .dataframe tbody tr th:only-of-type {\n",
       "        vertical-align: middle;\n",
       "    }\n",
       "\n",
       "    .dataframe tbody tr th {\n",
       "        vertical-align: top;\n",
       "    }\n",
       "\n",
       "    .dataframe thead th {\n",
       "        text-align: right;\n",
       "    }\n",
       "</style>\n",
       "<table border=\"1\" class=\"dataframe\">\n",
       "  <thead>\n",
       "    <tr style=\"text-align: right;\">\n",
       "      <th></th>\n",
       "      <th>STATE_ALPHA</th>\n",
       "      <th>STATE_NAME</th>\n",
       "    </tr>\n",
       "  </thead>\n",
       "  <tbody>\n",
       "    <tr>\n",
       "      <th>0</th>\n",
       "      <td>AK</td>\n",
       "      <td>Alaska</td>\n",
       "    </tr>\n",
       "    <tr>\n",
       "      <th>1</th>\n",
       "      <td>AZ</td>\n",
       "      <td>Arizona</td>\n",
       "    </tr>\n",
       "    <tr>\n",
       "      <th>2</th>\n",
       "      <td>AR</td>\n",
       "      <td>Arkansas</td>\n",
       "    </tr>\n",
       "    <tr>\n",
       "      <th>3</th>\n",
       "      <td>CA</td>\n",
       "      <td>California</td>\n",
       "    </tr>\n",
       "    <tr>\n",
       "      <th>4</th>\n",
       "      <td>CO</td>\n",
       "      <td>Colorado</td>\n",
       "    </tr>\n",
       "  </tbody>\n",
       "</table>\n",
       "</div>"
      ],
      "text/plain": [
       "  STATE_ALPHA  STATE_NAME\n",
       "0          AK      Alaska\n",
       "1          AZ     Arizona\n",
       "2          AR    Arkansas\n",
       "3          CA  California\n",
       "4          CO    Colorado"
      ]
     },
     "execution_count": 26,
     "metadata": {},
     "output_type": "execute_result"
    }
   ],
   "source": [
    "df_states=pd.read_csv('data/states.csv')\n",
    "df_states.columns=['STATE_ALPHA','STATE_NAME']\n",
    "df_states.head()"
   ]
  },
  {
   "cell_type": "code",
   "execution_count": 27,
   "metadata": {},
   "outputs": [],
   "source": [
    "df_fc=df_fc.merge(df_states, how='left', on=['STATE_ALPHA'])"
   ]
  },
  {
   "cell_type": "code",
   "execution_count": 28,
   "metadata": {},
   "outputs": [],
   "source": [
    "# set feature as local\n",
    "df_fca=df_fc[df_fc.FEATURE_CLASS.isin(['Populated Place','Locale','Census','Military'])]\n",
    "df_fca=df_fca[['FEATURE_ID','FEATURE_NAME','STATE_NAME','STATE_ALPHA']]\n",
    "df_fca.columns=['FEATURE_ID','local','region','region2']\n",
    "df_fca.drop_duplicates(subset=['local','region2'], keep='first') \n",
    "\n",
    "# set county as local\n",
    "df_fcb=df_fc[df_fc.CENSUS_CLASS_CODE=='H1'] #County or Equivalent Feature\n",
    "df_fcb=df_fcb[['FEATURE_ID','COUNTY_NAME','STATE_NAME','STATE_ALPHA']]\n",
    "df_fcb.columns=['FEATURE_ID','local','region','region2']\n",
    "df_fcb.drop_duplicates(subset=['local','region2'], keep='first') \n",
    "\n",
    "df_fcab=pd.concat([df_fca, df_fcb])\n",
    "df_fcab=df_fcab.dropna()"
   ]
  },
  {
   "cell_type": "code",
   "execution_count": 29,
   "metadata": {},
   "outputs": [
    {
     "data": {
      "text/plain": [
       "(137259, 4)"
      ]
     },
     "execution_count": 29,
     "metadata": {},
     "output_type": "execute_result"
    }
   ],
   "source": [
    "df_fcab.shape"
   ]
  },
  {
   "cell_type": "code",
   "execution_count": 30,
   "metadata": {},
   "outputs": [
    {
     "data": {
      "text/html": [
       "<div>\n",
       "<style scoped>\n",
       "    .dataframe tbody tr th:only-of-type {\n",
       "        vertical-align: middle;\n",
       "    }\n",
       "\n",
       "    .dataframe tbody tr th {\n",
       "        vertical-align: top;\n",
       "    }\n",
       "\n",
       "    .dataframe thead th {\n",
       "        text-align: right;\n",
       "    }\n",
       "</style>\n",
       "<table border=\"1\" class=\"dataframe\">\n",
       "  <thead>\n",
       "    <tr style=\"text-align: right;\">\n",
       "      <th></th>\n",
       "      <th>FEATURE_ID</th>\n",
       "      <th>local</th>\n",
       "      <th>region</th>\n",
       "      <th>region2</th>\n",
       "    </tr>\n",
       "  </thead>\n",
       "  <tbody>\n",
       "    <tr>\n",
       "      <th>0</th>\n",
       "      <td>479</td>\n",
       "      <td>Adamana</td>\n",
       "      <td>Arizona</td>\n",
       "      <td>AZ</td>\n",
       "    </tr>\n",
       "    <tr>\n",
       "      <th>1</th>\n",
       "      <td>492</td>\n",
       "      <td>Adobe</td>\n",
       "      <td>Arizona</td>\n",
       "      <td>AZ</td>\n",
       "    </tr>\n",
       "    <tr>\n",
       "      <th>2</th>\n",
       "      <td>511</td>\n",
       "      <td>Agua Fria</td>\n",
       "      <td>Arizona</td>\n",
       "      <td>AZ</td>\n",
       "    </tr>\n",
       "    <tr>\n",
       "      <th>3</th>\n",
       "      <td>516</td>\n",
       "      <td>Aguila</td>\n",
       "      <td>Arizona</td>\n",
       "      <td>AZ</td>\n",
       "    </tr>\n",
       "    <tr>\n",
       "      <th>4</th>\n",
       "      <td>538</td>\n",
       "      <td>Ajo</td>\n",
       "      <td>Arizona</td>\n",
       "      <td>AZ</td>\n",
       "    </tr>\n",
       "  </tbody>\n",
       "</table>\n",
       "</div>"
      ],
      "text/plain": [
       "   FEATURE_ID      local   region region2\n",
       "0         479    Adamana  Arizona      AZ\n",
       "1         492      Adobe  Arizona      AZ\n",
       "2         511  Agua Fria  Arizona      AZ\n",
       "3         516     Aguila  Arizona      AZ\n",
       "4         538        Ajo  Arizona      AZ"
      ]
     },
     "execution_count": 30,
     "metadata": {},
     "output_type": "execute_result"
    }
   ],
   "source": [
    "df_fcab.head()"
   ]
  },
  {
   "cell_type": "markdown",
   "metadata": {},
   "source": [
    "### E Merge dfa & df_fcab"
   ]
  },
  {
   "cell_type": "code",
   "execution_count": 31,
   "metadata": {},
   "outputs": [],
   "source": [
    "dfe=dfa.merge(df_fcab, how='left', on=['local','region'])\n",
    "dfe=dfe.dropna()"
   ]
  },
  {
   "cell_type": "code",
   "execution_count": 32,
   "metadata": {},
   "outputs": [
    {
     "data": {
      "text/plain": [
       "(49087, 5)"
      ]
     },
     "execution_count": 32,
     "metadata": {},
     "output_type": "execute_result"
    }
   ],
   "source": [
    "dfe.shape"
   ]
  },
  {
   "cell_type": "code",
   "execution_count": 33,
   "metadata": {},
   "outputs": [
    {
     "data": {
      "text/html": [
       "<div>\n",
       "<style scoped>\n",
       "    .dataframe tbody tr th:only-of-type {\n",
       "        vertical-align: middle;\n",
       "    }\n",
       "\n",
       "    .dataframe tbody tr th {\n",
       "        vertical-align: top;\n",
       "    }\n",
       "\n",
       "    .dataframe thead th {\n",
       "        text-align: right;\n",
       "    }\n",
       "</style>\n",
       "<table border=\"1\" class=\"dataframe\">\n",
       "  <thead>\n",
       "    <tr style=\"text-align: right;\">\n",
       "      <th></th>\n",
       "      <th>id</th>\n",
       "      <th>local</th>\n",
       "      <th>region</th>\n",
       "      <th>FEATURE_ID</th>\n",
       "      <th>region2</th>\n",
       "    </tr>\n",
       "  </thead>\n",
       "  <tbody>\n",
       "    <tr>\n",
       "      <th>0</th>\n",
       "      <td>2067319.0</td>\n",
       "      <td>Middlesex</td>\n",
       "      <td>New Jersey</td>\n",
       "      <td>878315.0</td>\n",
       "      <td>NJ</td>\n",
       "    </tr>\n",
       "    <tr>\n",
       "      <th>1</th>\n",
       "      <td>2067319.0</td>\n",
       "      <td>Middlesex</td>\n",
       "      <td>New Jersey</td>\n",
       "      <td>882230.0</td>\n",
       "      <td>NJ</td>\n",
       "    </tr>\n",
       "    <tr>\n",
       "      <th>2</th>\n",
       "      <td>1990890.0</td>\n",
       "      <td>Mays Landing</td>\n",
       "      <td>New Jersey</td>\n",
       "      <td>878206.0</td>\n",
       "      <td>NJ</td>\n",
       "    </tr>\n",
       "    <tr>\n",
       "      <th>3</th>\n",
       "      <td>2050006.0</td>\n",
       "      <td>Randolph</td>\n",
       "      <td>New York</td>\n",
       "      <td>962181.0</td>\n",
       "      <td>NY</td>\n",
       "    </tr>\n",
       "    <tr>\n",
       "      <th>4</th>\n",
       "      <td>2039720.0</td>\n",
       "      <td>Pinellas</td>\n",
       "      <td>Florida</td>\n",
       "      <td>295745.0</td>\n",
       "      <td>FL</td>\n",
       "    </tr>\n",
       "  </tbody>\n",
       "</table>\n",
       "</div>"
      ],
      "text/plain": [
       "          id         local      region  FEATURE_ID region2\n",
       "0  2067319.0     Middlesex  New Jersey    878315.0      NJ\n",
       "1  2067319.0     Middlesex  New Jersey    882230.0      NJ\n",
       "2  1990890.0  Mays Landing  New Jersey    878206.0      NJ\n",
       "3  2050006.0      Randolph    New York    962181.0      NY\n",
       "4  2039720.0      Pinellas     Florida    295745.0      FL"
      ]
     },
     "execution_count": 33,
     "metadata": {},
     "output_type": "execute_result"
    }
   ],
   "source": [
    "dfe.head()"
   ]
  },
  {
   "cell_type": "markdown",
   "metadata": {},
   "source": [
    "### F Merge dfc,dfd & df_fcab"
   ]
  },
  {
   "cell_type": "code",
   "execution_count": 34,
   "metadata": {},
   "outputs": [],
   "source": [
    "dff=pd.concat([dfc, dfd])\n",
    "dff=dff.merge(df_fcab, how='left', on=['local','region2'])\n",
    "dff=dff.dropna()"
   ]
  },
  {
   "cell_type": "code",
   "execution_count": 35,
   "metadata": {},
   "outputs": [
    {
     "data": {
      "text/plain": [
       "(396666, 5)"
      ]
     },
     "execution_count": 35,
     "metadata": {},
     "output_type": "execute_result"
    }
   ],
   "source": [
    "dff.shape"
   ]
  },
  {
   "cell_type": "code",
   "execution_count": 36,
   "metadata": {},
   "outputs": [
    {
     "data": {
      "text/html": [
       "<div>\n",
       "<style scoped>\n",
       "    .dataframe tbody tr th:only-of-type {\n",
       "        vertical-align: middle;\n",
       "    }\n",
       "\n",
       "    .dataframe tbody tr th {\n",
       "        vertical-align: top;\n",
       "    }\n",
       "\n",
       "    .dataframe thead th {\n",
       "        text-align: right;\n",
       "    }\n",
       "</style>\n",
       "<table border=\"1\" class=\"dataframe\">\n",
       "  <thead>\n",
       "    <tr style=\"text-align: right;\">\n",
       "      <th></th>\n",
       "      <th>id</th>\n",
       "      <th>local</th>\n",
       "      <th>region2</th>\n",
       "      <th>FEATURE_ID</th>\n",
       "      <th>region</th>\n",
       "    </tr>\n",
       "  </thead>\n",
       "  <tbody>\n",
       "    <tr>\n",
       "      <th>0</th>\n",
       "      <td>2067319.0</td>\n",
       "      <td>Middlesex</td>\n",
       "      <td>NJ</td>\n",
       "      <td>878315.0</td>\n",
       "      <td>New Jersey</td>\n",
       "    </tr>\n",
       "    <tr>\n",
       "      <th>1</th>\n",
       "      <td>2067319.0</td>\n",
       "      <td>Middlesex</td>\n",
       "      <td>NJ</td>\n",
       "      <td>882230.0</td>\n",
       "      <td>New Jersey</td>\n",
       "    </tr>\n",
       "    <tr>\n",
       "      <th>2</th>\n",
       "      <td>1990890.0</td>\n",
       "      <td>Mays Landing</td>\n",
       "      <td>NJ</td>\n",
       "      <td>878206.0</td>\n",
       "      <td>New Jersey</td>\n",
       "    </tr>\n",
       "    <tr>\n",
       "      <th>3</th>\n",
       "      <td>2050006.0</td>\n",
       "      <td>Randolph</td>\n",
       "      <td>NY</td>\n",
       "      <td>962181.0</td>\n",
       "      <td>New York</td>\n",
       "    </tr>\n",
       "    <tr>\n",
       "      <th>4</th>\n",
       "      <td>2039720.0</td>\n",
       "      <td>Pinellas</td>\n",
       "      <td>FL</td>\n",
       "      <td>295745.0</td>\n",
       "      <td>Florida</td>\n",
       "    </tr>\n",
       "  </tbody>\n",
       "</table>\n",
       "</div>"
      ],
      "text/plain": [
       "          id         local region2  FEATURE_ID      region\n",
       "0  2067319.0     Middlesex      NJ    878315.0  New Jersey\n",
       "1  2067319.0     Middlesex      NJ    882230.0  New Jersey\n",
       "2  1990890.0  Mays Landing      NJ    878206.0  New Jersey\n",
       "3  2050006.0      Randolph      NY    962181.0    New York\n",
       "4  2039720.0      Pinellas      FL    295745.0     Florida"
      ]
     },
     "execution_count": 36,
     "metadata": {},
     "output_type": "execute_result"
    }
   ],
   "source": [
    "dff.head()"
   ]
  },
  {
   "cell_type": "markdown",
   "metadata": {},
   "source": [
    "### G Merge dfe & dfc and drop duplicates"
   ]
  },
  {
   "cell_type": "code",
   "execution_count": 37,
   "metadata": {},
   "outputs": [],
   "source": [
    "dfg=pd.concat([dfe,dff])\n",
    "dfg=dfg.drop_duplicates('id')\n",
    "dfg=dfg[['id','FEATURE_ID']]"
   ]
  },
  {
   "cell_type": "code",
   "execution_count": 38,
   "metadata": {},
   "outputs": [
    {
     "data": {
      "text/plain": [
       "(33774, 2)"
      ]
     },
     "execution_count": 38,
     "metadata": {},
     "output_type": "execute_result"
    }
   ],
   "source": [
    "dfg.shape"
   ]
  },
  {
   "cell_type": "code",
   "execution_count": 39,
   "metadata": {},
   "outputs": [
    {
     "data": {
      "text/html": [
       "<div>\n",
       "<style scoped>\n",
       "    .dataframe tbody tr th:only-of-type {\n",
       "        vertical-align: middle;\n",
       "    }\n",
       "\n",
       "    .dataframe tbody tr th {\n",
       "        vertical-align: top;\n",
       "    }\n",
       "\n",
       "    .dataframe thead th {\n",
       "        text-align: right;\n",
       "    }\n",
       "</style>\n",
       "<table border=\"1\" class=\"dataframe\">\n",
       "  <thead>\n",
       "    <tr style=\"text-align: right;\">\n",
       "      <th></th>\n",
       "      <th>id</th>\n",
       "      <th>FEATURE_ID</th>\n",
       "    </tr>\n",
       "  </thead>\n",
       "  <tbody>\n",
       "    <tr>\n",
       "      <th>0</th>\n",
       "      <td>2067319.0</td>\n",
       "      <td>878315.0</td>\n",
       "    </tr>\n",
       "    <tr>\n",
       "      <th>2</th>\n",
       "      <td>1990890.0</td>\n",
       "      <td>878206.0</td>\n",
       "    </tr>\n",
       "    <tr>\n",
       "      <th>3</th>\n",
       "      <td>2050006.0</td>\n",
       "      <td>962181.0</td>\n",
       "    </tr>\n",
       "    <tr>\n",
       "      <th>4</th>\n",
       "      <td>2039720.0</td>\n",
       "      <td>295745.0</td>\n",
       "    </tr>\n",
       "    <tr>\n",
       "      <th>5</th>\n",
       "      <td>1576680.0</td>\n",
       "      <td>597040.0</td>\n",
       "    </tr>\n",
       "  </tbody>\n",
       "</table>\n",
       "</div>"
      ],
      "text/plain": [
       "          id  FEATURE_ID\n",
       "0  2067319.0    878315.0\n",
       "2  1990890.0    878206.0\n",
       "3  2050006.0    962181.0\n",
       "4  2039720.0    295745.0\n",
       "5  1576680.0    597040.0"
      ]
     },
     "execution_count": 39,
     "metadata": {},
     "output_type": "execute_result"
    }
   ],
   "source": [
    "dfg.head()"
   ]
  },
  {
   "cell_type": "code",
   "execution_count": 40,
   "metadata": {},
   "outputs": [],
   "source": [
    "dfg=dfg.merge(df_fc, how='left',on=['FEATURE_ID'])\n",
    "dfg=dfg.drop_duplicates('id')"
   ]
  },
  {
   "cell_type": "code",
   "execution_count": 41,
   "metadata": {},
   "outputs": [
    {
     "data": {
      "text/plain": [
       "(33774, 18)"
      ]
     },
     "execution_count": 41,
     "metadata": {},
     "output_type": "execute_result"
    }
   ],
   "source": [
    "dfg.shape"
   ]
  },
  {
   "cell_type": "code",
   "execution_count": 42,
   "metadata": {},
   "outputs": [
    {
     "data": {
      "text/html": [
       "<div>\n",
       "<style scoped>\n",
       "    .dataframe tbody tr th:only-of-type {\n",
       "        vertical-align: middle;\n",
       "    }\n",
       "\n",
       "    .dataframe tbody tr th {\n",
       "        vertical-align: top;\n",
       "    }\n",
       "\n",
       "    .dataframe thead th {\n",
       "        text-align: right;\n",
       "    }\n",
       "</style>\n",
       "<table border=\"1\" class=\"dataframe\">\n",
       "  <thead>\n",
       "    <tr style=\"text-align: right;\">\n",
       "      <th></th>\n",
       "      <th>id</th>\n",
       "      <th>FEATURE_ID</th>\n",
       "      <th>FEATURE_NAME</th>\n",
       "      <th>FEATURE_CLASS</th>\n",
       "      <th>CENSUS_CODE</th>\n",
       "      <th>CENSUS_CLASS_CODE</th>\n",
       "      <th>GSA_CODE</th>\n",
       "      <th>OPM_CODE</th>\n",
       "      <th>STATE_NUMERIC</th>\n",
       "      <th>STATE_ALPHA</th>\n",
       "      <th>COUNTY_SEQUENCE</th>\n",
       "      <th>COUNTY_NUMERIC</th>\n",
       "      <th>COUNTY_NAME</th>\n",
       "      <th>PRIMARY_LATITUDE</th>\n",
       "      <th>PRIMARY_LONGITUDE</th>\n",
       "      <th>DATE_CREATED</th>\n",
       "      <th>DATE_EDITED</th>\n",
       "      <th>STATE_NAME</th>\n",
       "    </tr>\n",
       "  </thead>\n",
       "  <tbody>\n",
       "    <tr>\n",
       "      <th>0</th>\n",
       "      <td>2067319.0</td>\n",
       "      <td>878315.0</td>\n",
       "      <td>Middlesex</td>\n",
       "      <td>Populated Place</td>\n",
       "      <td>45900</td>\n",
       "      <td>P1</td>\n",
       "      <td>1920.0</td>\n",
       "      <td>341920023.0</td>\n",
       "      <td>34</td>\n",
       "      <td>NJ</td>\n",
       "      <td>1</td>\n",
       "      <td>23</td>\n",
       "      <td>Middlesex</td>\n",
       "      <td>40.572603</td>\n",
       "      <td>-74.492654</td>\n",
       "      <td>09/08/1979</td>\n",
       "      <td>03/17/2008</td>\n",
       "      <td>New Jersey</td>\n",
       "    </tr>\n",
       "    <tr>\n",
       "      <th>1</th>\n",
       "      <td>1990890.0</td>\n",
       "      <td>878206.0</td>\n",
       "      <td>Mays Landing</td>\n",
       "      <td>Populated Place</td>\n",
       "      <td>44820</td>\n",
       "      <td>U5</td>\n",
       "      <td>1850.0</td>\n",
       "      <td>341850001.0</td>\n",
       "      <td>34</td>\n",
       "      <td>NJ</td>\n",
       "      <td>1</td>\n",
       "      <td>1</td>\n",
       "      <td>Atlantic</td>\n",
       "      <td>39.452339</td>\n",
       "      <td>-74.727663</td>\n",
       "      <td>09/08/1979</td>\n",
       "      <td>12/06/2013</td>\n",
       "      <td>New Jersey</td>\n",
       "    </tr>\n",
       "    <tr>\n",
       "      <th>2</th>\n",
       "      <td>2050006.0</td>\n",
       "      <td>962181.0</td>\n",
       "      <td>Randolph</td>\n",
       "      <td>Populated Place</td>\n",
       "      <td>60576</td>\n",
       "      <td>U5</td>\n",
       "      <td>5080.0</td>\n",
       "      <td>365080009.0</td>\n",
       "      <td>36</td>\n",
       "      <td>NY</td>\n",
       "      <td>1</td>\n",
       "      <td>9</td>\n",
       "      <td>Cattaraugus</td>\n",
       "      <td>42.162005</td>\n",
       "      <td>-78.975317</td>\n",
       "      <td>01/23/1980</td>\n",
       "      <td>11/08/2019</td>\n",
       "      <td>New York</td>\n",
       "    </tr>\n",
       "    <tr>\n",
       "      <th>3</th>\n",
       "      <td>2039720.0</td>\n",
       "      <td>295745.0</td>\n",
       "      <td>Pinellas County</td>\n",
       "      <td>Civil</td>\n",
       "      <td>99103</td>\n",
       "      <td>H1</td>\n",
       "      <td>NaN</td>\n",
       "      <td>NaN</td>\n",
       "      <td>12</td>\n",
       "      <td>FL</td>\n",
       "      <td>1</td>\n",
       "      <td>103</td>\n",
       "      <td>Pinellas</td>\n",
       "      <td>27.905111</td>\n",
       "      <td>-82.799568</td>\n",
       "      <td>08/28/1987</td>\n",
       "      <td>06/04/2021</td>\n",
       "      <td>Florida</td>\n",
       "    </tr>\n",
       "    <tr>\n",
       "      <th>4</th>\n",
       "      <td>1576680.0</td>\n",
       "      <td>597040.0</td>\n",
       "      <td>Baltimore</td>\n",
       "      <td>Populated Place</td>\n",
       "      <td>04000</td>\n",
       "      <td>P1</td>\n",
       "      <td>50.0</td>\n",
       "      <td>240050510.0</td>\n",
       "      <td>24</td>\n",
       "      <td>MD</td>\n",
       "      <td>1</td>\n",
       "      <td>510</td>\n",
       "      <td>Baltimore (city)</td>\n",
       "      <td>39.290385</td>\n",
       "      <td>-76.612189</td>\n",
       "      <td>09/12/1979</td>\n",
       "      <td>03/17/2008</td>\n",
       "      <td>Maryland</td>\n",
       "    </tr>\n",
       "  </tbody>\n",
       "</table>\n",
       "</div>"
      ],
      "text/plain": [
       "          id  FEATURE_ID     FEATURE_NAME    FEATURE_CLASS CENSUS_CODE  \\\n",
       "0  2067319.0    878315.0        Middlesex  Populated Place       45900   \n",
       "1  1990890.0    878206.0     Mays Landing  Populated Place       44820   \n",
       "2  2050006.0    962181.0         Randolph  Populated Place       60576   \n",
       "3  2039720.0    295745.0  Pinellas County            Civil       99103   \n",
       "4  1576680.0    597040.0        Baltimore  Populated Place       04000   \n",
       "\n",
       "  CENSUS_CLASS_CODE  GSA_CODE     OPM_CODE  STATE_NUMERIC STATE_ALPHA  \\\n",
       "0                P1    1920.0  341920023.0             34          NJ   \n",
       "1                U5    1850.0  341850001.0             34          NJ   \n",
       "2                U5    5080.0  365080009.0             36          NY   \n",
       "3                H1       NaN          NaN             12          FL   \n",
       "4                P1      50.0  240050510.0             24          MD   \n",
       "\n",
       "   COUNTY_SEQUENCE  COUNTY_NUMERIC       COUNTY_NAME  PRIMARY_LATITUDE  \\\n",
       "0                1              23         Middlesex         40.572603   \n",
       "1                1               1          Atlantic         39.452339   \n",
       "2                1               9       Cattaraugus         42.162005   \n",
       "3                1             103          Pinellas         27.905111   \n",
       "4                1             510  Baltimore (city)         39.290385   \n",
       "\n",
       "   PRIMARY_LONGITUDE DATE_CREATED DATE_EDITED  STATE_NAME  \n",
       "0         -74.492654   09/08/1979  03/17/2008  New Jersey  \n",
       "1         -74.727663   09/08/1979  12/06/2013  New Jersey  \n",
       "2         -78.975317   01/23/1980  11/08/2019    New York  \n",
       "3         -82.799568   08/28/1987  06/04/2021     Florida  \n",
       "4         -76.612189   09/12/1979  03/17/2008    Maryland  "
      ]
     },
     "execution_count": 42,
     "metadata": {},
     "output_type": "execute_result"
    }
   ],
   "source": [
    "\n",
    "dfg.head()"
   ]
  },
  {
   "cell_type": "markdown",
   "metadata": {},
   "source": [
    "### Merge dataset with location info"
   ]
  },
  {
   "cell_type": "code",
   "execution_count": 43,
   "metadata": {},
   "outputs": [],
   "source": [
    "df_out=df_in.merge(dfg,how='left', on=['id'])"
   ]
  },
  {
   "cell_type": "code",
   "execution_count": 44,
   "metadata": {},
   "outputs": [
    {
     "data": {
      "text/plain": [
       "(302163, 31)"
      ]
     },
     "execution_count": 44,
     "metadata": {},
     "output_type": "execute_result"
    }
   ],
   "source": [
    "df_out.shape"
   ]
  },
  {
   "cell_type": "code",
   "execution_count": 45,
   "metadata": {},
   "outputs": [
    {
     "data": {
      "text/plain": [
       "Index(['id', 'src', 'url', 'title', 'desc', 'local', 'region', 'location',\n",
       "       'title_loc', 'categories', 'similar', 'details', 'financials', 'price',\n",
       "       'FEATURE_ID', 'FEATURE_NAME', 'FEATURE_CLASS', 'CENSUS_CODE',\n",
       "       'CENSUS_CLASS_CODE', 'GSA_CODE', 'OPM_CODE', 'STATE_NUMERIC',\n",
       "       'STATE_ALPHA', 'COUNTY_SEQUENCE', 'COUNTY_NUMERIC', 'COUNTY_NAME',\n",
       "       'PRIMARY_LATITUDE', 'PRIMARY_LONGITUDE', 'DATE_CREATED', 'DATE_EDITED',\n",
       "       'STATE_NAME'],\n",
       "      dtype='object')"
      ]
     },
     "execution_count": 45,
     "metadata": {},
     "output_type": "execute_result"
    }
   ],
   "source": [
    "df_out.columns"
   ]
  },
  {
   "cell_type": "code",
   "execution_count": 46,
   "metadata": {},
   "outputs": [
    {
     "data": {
      "text/html": [
       "<div>\n",
       "<style scoped>\n",
       "    .dataframe tbody tr th:only-of-type {\n",
       "        vertical-align: middle;\n",
       "    }\n",
       "\n",
       "    .dataframe tbody tr th {\n",
       "        vertical-align: top;\n",
       "    }\n",
       "\n",
       "    .dataframe thead th {\n",
       "        text-align: right;\n",
       "    }\n",
       "</style>\n",
       "<table border=\"1\" class=\"dataframe\">\n",
       "  <thead>\n",
       "    <tr style=\"text-align: right;\">\n",
       "      <th></th>\n",
       "      <th>id</th>\n",
       "      <th>src</th>\n",
       "      <th>url</th>\n",
       "      <th>title</th>\n",
       "      <th>desc</th>\n",
       "      <th>local</th>\n",
       "      <th>region</th>\n",
       "      <th>location</th>\n",
       "      <th>title_loc</th>\n",
       "      <th>categories</th>\n",
       "      <th>...</th>\n",
       "      <th>STATE_NUMERIC</th>\n",
       "      <th>STATE_ALPHA</th>\n",
       "      <th>COUNTY_SEQUENCE</th>\n",
       "      <th>COUNTY_NUMERIC</th>\n",
       "      <th>COUNTY_NAME</th>\n",
       "      <th>PRIMARY_LATITUDE</th>\n",
       "      <th>PRIMARY_LONGITUDE</th>\n",
       "      <th>DATE_CREATED</th>\n",
       "      <th>DATE_EDITED</th>\n",
       "      <th>STATE_NAME</th>\n",
       "    </tr>\n",
       "  </thead>\n",
       "  <tbody>\n",
       "    <tr>\n",
       "      <th>0</th>\n",
       "      <td>2067319.0</td>\n",
       "      <td>details</td>\n",
       "      <td>https://www.bizbuysell.com/Business-Real-Estat...</td>\n",
       "      <td>Popular Marina in Central New Jersey in Middle...</td>\n",
       "      <td>It is fully owned by a man and his wife since ...</td>\n",
       "      <td>Middlesex</td>\n",
       "      <td>New Jersey</td>\n",
       "      <td>Middlesex County, NJ</td>\n",
       "      <td>Central New Jersey in Middlesex County, New Je...</td>\n",
       "      <td>[Real Estate For Sale, New Jersey, Marinas and...</td>\n",
       "      <td>...</td>\n",
       "      <td>34.0</td>\n",
       "      <td>NJ</td>\n",
       "      <td>1.0</td>\n",
       "      <td>23.0</td>\n",
       "      <td>Middlesex</td>\n",
       "      <td>40.572603</td>\n",
       "      <td>-74.492654</td>\n",
       "      <td>09/08/1979</td>\n",
       "      <td>03/17/2008</td>\n",
       "      <td>New Jersey</td>\n",
       "    </tr>\n",
       "    <tr>\n",
       "      <th>1</th>\n",
       "      <td>1990890.0</td>\n",
       "      <td>details</td>\n",
       "      <td>https://www.bizbuysell.com/Business-Real-Estat...</td>\n",
       "      <td>High Exposure in Mays Landing, New Jersey - Bi...</td>\n",
       "      <td>AMAZING OPPORTUNITY! Priced to sell and ready ...</td>\n",
       "      <td>Mays Landing</td>\n",
       "      <td>New Jersey</td>\n",
       "      <td>Mays Landing, NJ (Atlantic County)</td>\n",
       "      <td>Mays Landing, New Jersey</td>\n",
       "      <td>[Real Estate For Sale, New Jersey, Other, Mays...</td>\n",
       "      <td>...</td>\n",
       "      <td>34.0</td>\n",
       "      <td>NJ</td>\n",
       "      <td>1.0</td>\n",
       "      <td>1.0</td>\n",
       "      <td>Atlantic</td>\n",
       "      <td>39.452339</td>\n",
       "      <td>-74.727663</td>\n",
       "      <td>09/08/1979</td>\n",
       "      <td>12/06/2013</td>\n",
       "      <td>New Jersey</td>\n",
       "    </tr>\n",
       "    <tr>\n",
       "      <th>2</th>\n",
       "      <td>2050006.0</td>\n",
       "      <td>details</td>\n",
       "      <td>https://www.bizbuysell.com/Business-Real-Estat...</td>\n",
       "      <td>Rental Units with Real Estate in Randolph, New...</td>\n",
       "      <td>This is a 6 unit Airbnb with an average occupa...</td>\n",
       "      <td>Randolph</td>\n",
       "      <td>New York</td>\n",
       "      <td>Randolph, NY (Cattaraugus County)</td>\n",
       "      <td>Randolph, New York</td>\n",
       "      <td>[Real Estate For Sale, New York, Hotels, Rando...</td>\n",
       "      <td>...</td>\n",
       "      <td>36.0</td>\n",
       "      <td>NY</td>\n",
       "      <td>1.0</td>\n",
       "      <td>9.0</td>\n",
       "      <td>Cattaraugus</td>\n",
       "      <td>42.162005</td>\n",
       "      <td>-78.975317</td>\n",
       "      <td>01/23/1980</td>\n",
       "      <td>11/08/2019</td>\n",
       "      <td>New York</td>\n",
       "    </tr>\n",
       "    <tr>\n",
       "      <th>3</th>\n",
       "      <td>2039720.0</td>\n",
       "      <td>details</td>\n",
       "      <td>https://www.bizbuysell.com/Business-Real-Estat...</td>\n",
       "      <td>Duplex, Short term or Long term in Pinellas Co...</td>\n",
       "      <td>Rare Largo/Seminole area duplex centrally loca...</td>\n",
       "      <td>Pinellas</td>\n",
       "      <td>Florida</td>\n",
       "      <td>Pinellas County, FL</td>\n",
       "      <td>Pinellas County, Florida</td>\n",
       "      <td>[Real Estate For Sale, Florida, Other, Pinella...</td>\n",
       "      <td>...</td>\n",
       "      <td>12.0</td>\n",
       "      <td>FL</td>\n",
       "      <td>1.0</td>\n",
       "      <td>103.0</td>\n",
       "      <td>Pinellas</td>\n",
       "      <td>27.905111</td>\n",
       "      <td>-82.799568</td>\n",
       "      <td>08/28/1987</td>\n",
       "      <td>06/04/2021</td>\n",
       "      <td>Florida</td>\n",
       "    </tr>\n",
       "    <tr>\n",
       "      <th>4</th>\n",
       "      <td>1576680.0</td>\n",
       "      <td>details</td>\n",
       "      <td>https://www.bizbuysell.com/Business-Real-Estat...</td>\n",
       "      <td>Major Price Reduction Rest/Tavern/ 13,000sq. f...</td>\n",
       "      <td>Price reduced to $850. 000 MAKE AN OFFER!!!!!!...</td>\n",
       "      <td>Baltimore</td>\n",
       "      <td>Maryland</td>\n",
       "      <td>Baltimore, MD (Baltimore City County)</td>\n",
       "      <td>Baltimore, Maryland</td>\n",
       "      <td>[Real Estate For Sale, Maryland, Bars, Pubs an...</td>\n",
       "      <td>...</td>\n",
       "      <td>24.0</td>\n",
       "      <td>MD</td>\n",
       "      <td>1.0</td>\n",
       "      <td>510.0</td>\n",
       "      <td>Baltimore (city)</td>\n",
       "      <td>39.290385</td>\n",
       "      <td>-76.612189</td>\n",
       "      <td>09/12/1979</td>\n",
       "      <td>03/17/2008</td>\n",
       "      <td>Maryland</td>\n",
       "    </tr>\n",
       "  </tbody>\n",
       "</table>\n",
       "<p>5 rows × 31 columns</p>\n",
       "</div>"
      ],
      "text/plain": [
       "          id      src                                                url  \\\n",
       "0  2067319.0  details  https://www.bizbuysell.com/Business-Real-Estat...   \n",
       "1  1990890.0  details  https://www.bizbuysell.com/Business-Real-Estat...   \n",
       "2  2050006.0  details  https://www.bizbuysell.com/Business-Real-Estat...   \n",
       "3  2039720.0  details  https://www.bizbuysell.com/Business-Real-Estat...   \n",
       "4  1576680.0  details  https://www.bizbuysell.com/Business-Real-Estat...   \n",
       "\n",
       "                                               title  \\\n",
       "0  Popular Marina in Central New Jersey in Middle...   \n",
       "1  High Exposure in Mays Landing, New Jersey - Bi...   \n",
       "2  Rental Units with Real Estate in Randolph, New...   \n",
       "3  Duplex, Short term or Long term in Pinellas Co...   \n",
       "4  Major Price Reduction Rest/Tavern/ 13,000sq. f...   \n",
       "\n",
       "                                                desc         local  \\\n",
       "0  It is fully owned by a man and his wife since ...     Middlesex   \n",
       "1  AMAZING OPPORTUNITY! Priced to sell and ready ...  Mays Landing   \n",
       "2  This is a 6 unit Airbnb with an average occupa...      Randolph   \n",
       "3  Rare Largo/Seminole area duplex centrally loca...      Pinellas   \n",
       "4  Price reduced to $850. 000 MAKE AN OFFER!!!!!!...     Baltimore   \n",
       "\n",
       "       region                               location  \\\n",
       "0  New Jersey                   Middlesex County, NJ   \n",
       "1  New Jersey     Mays Landing, NJ (Atlantic County)   \n",
       "2    New York      Randolph, NY (Cattaraugus County)   \n",
       "3     Florida                    Pinellas County, FL   \n",
       "4    Maryland  Baltimore, MD (Baltimore City County)   \n",
       "\n",
       "                                           title_loc  \\\n",
       "0  Central New Jersey in Middlesex County, New Je...   \n",
       "1                           Mays Landing, New Jersey   \n",
       "2                                 Randolph, New York   \n",
       "3                           Pinellas County, Florida   \n",
       "4                                Baltimore, Maryland   \n",
       "\n",
       "                                          categories  ... STATE_NUMERIC  \\\n",
       "0  [Real Estate For Sale, New Jersey, Marinas and...  ...          34.0   \n",
       "1  [Real Estate For Sale, New Jersey, Other, Mays...  ...          34.0   \n",
       "2  [Real Estate For Sale, New York, Hotels, Rando...  ...          36.0   \n",
       "3  [Real Estate For Sale, Florida, Other, Pinella...  ...          12.0   \n",
       "4  [Real Estate For Sale, Maryland, Bars, Pubs an...  ...          24.0   \n",
       "\n",
       "  STATE_ALPHA COUNTY_SEQUENCE  COUNTY_NUMERIC       COUNTY_NAME  \\\n",
       "0          NJ             1.0            23.0         Middlesex   \n",
       "1          NJ             1.0             1.0          Atlantic   \n",
       "2          NY             1.0             9.0       Cattaraugus   \n",
       "3          FL             1.0           103.0          Pinellas   \n",
       "4          MD             1.0           510.0  Baltimore (city)   \n",
       "\n",
       "  PRIMARY_LATITUDE PRIMARY_LONGITUDE DATE_CREATED DATE_EDITED  STATE_NAME  \n",
       "0        40.572603        -74.492654   09/08/1979  03/17/2008  New Jersey  \n",
       "1        39.452339        -74.727663   09/08/1979  12/06/2013  New Jersey  \n",
       "2        42.162005        -78.975317   01/23/1980  11/08/2019    New York  \n",
       "3        27.905111        -82.799568   08/28/1987  06/04/2021     Florida  \n",
       "4        39.290385        -76.612189   09/12/1979  03/17/2008    Maryland  \n",
       "\n",
       "[5 rows x 31 columns]"
      ]
     },
     "execution_count": 46,
     "metadata": {},
     "output_type": "execute_result"
    }
   ],
   "source": [
    "df_out.head()"
   ]
  },
  {
   "cell_type": "code",
   "execution_count": 47,
   "metadata": {},
   "outputs": [],
   "source": [
    "assert df_in.shape[0]==df_out.shape[0]"
   ]
  },
  {
   "cell_type": "markdown",
   "metadata": {},
   "source": [
    "### Drop rows without a location"
   ]
  },
  {
   "cell_type": "code",
   "execution_count": 48,
   "metadata": {},
   "outputs": [
    {
     "data": {
      "text/plain": [
       "(252852, 31)"
      ]
     },
     "execution_count": 48,
     "metadata": {},
     "output_type": "execute_result"
    }
   ],
   "source": [
    "df_out=df_out.dropna(subset=['FEATURE_ID'])\n",
    "df_out.shape"
   ]
  },
  {
   "cell_type": "markdown",
   "metadata": {},
   "source": [
    "### Save processed data to parquet file"
   ]
  },
  {
   "cell_type": "code",
   "execution_count": 49,
   "metadata": {},
   "outputs": [],
   "source": [
    "df_out.to_parquet('data/bizbuysell.dataset.2.parquet')"
   ]
  }
 ],
 "metadata": {
  "kernelspec": {
   "display_name": "Python 3 (ipykernel)",
   "language": "python",
   "name": "python3"
  },
  "language_info": {
   "codemirror_mode": {
    "name": "ipython",
    "version": 3
   },
   "file_extension": ".py",
   "mimetype": "text/x-python",
   "name": "python",
   "nbconvert_exporter": "python",
   "pygments_lexer": "ipython3",
   "version": "3.7.17"
  }
 },
 "nbformat": 4,
 "nbformat_minor": 4
}
