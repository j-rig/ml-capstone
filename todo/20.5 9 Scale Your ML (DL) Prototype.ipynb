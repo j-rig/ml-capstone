{
 "cells": [
  {
   "cell_type": "markdown",
   "id": "ec768965",
   "metadata": {},
   "source": [
    "20.5 9 Scale Your ML (DL) Prototype"
   ]
  },
  {
   "cell_type": "markdown",
   "id": "b88e23b0",
   "metadata": {},
   "source": [
    "In this step, your goal is to ensure that your ML/DL approach, which you’ve proved to be\n",
    "viable, can work with large volumes of data. You need to scale your prototype. Please\n",
    "work with your mentor to determine what that means for your problem.\n",
    "Using scikit-learn, SparkML, Keras, TensorFlow, PyTorch, or some of the other\n",
    "technologies you have learned, implement your prototype at scale.\n",
    "In case your earlier prototype was working with a subset, ensure that this scaled-up\n",
    "prototype can handle your complete dataset.\n",
    "Think about what your capstone problem would look like in the real world:\n",
    "● How much data would you need to handle?\n",
    "● Can you scale your prototype to handle that volume of data using the approach\n",
    "and tools you have selected?"
   ]
  },
  {
   "cell_type": "markdown",
   "id": "d836e83f",
   "metadata": {},
   "source": [
    "The submission shows that the student understands how to scale a machine learning or a deep learning model.\n",
    "The scaled prototype can handle the complete dataset that the student has collected (even if the student has only used a sample, so far) and is capable of handling all of the data that a real-world version of the application would need to handle.\n",
    "The submission demonstrates that the student made well-thought-out decisions about scaling their prototype:\n",
    "Choice of tools/libraries: scikit-learn, SparkML, TensorFlow, Keras, and PyTorch, etc.\n",
    "Choice of machine learning/deep learning technique\n"
   ]
  },
  {
   "cell_type": "markdown",
   "id": "563d3244",
   "metadata": {},
   "source": [
    "Well-documented GitHub repository and code. The Jupyter notebooks for the code provide step-by-step documentation that’s easy to follow."
   ]
  },
  {
   "cell_type": "code",
   "execution_count": null,
   "id": "9d59b283",
   "metadata": {},
   "outputs": [],
   "source": []
  }
 ],
 "metadata": {
  "kernelspec": {
   "display_name": "Python 3 (ipykernel)",
   "language": "python",
   "name": "python3"
  },
  "language_info": {
   "codemirror_mode": {
    "name": "ipython",
    "version": 3
   },
   "file_extension": ".py",
   "mimetype": "text/x-python",
   "name": "python",
   "nbconvert_exporter": "python",
   "pygments_lexer": "ipython3",
   "version": "3.9.17"
  }
 },
 "nbformat": 4,
 "nbformat_minor": 5
}
