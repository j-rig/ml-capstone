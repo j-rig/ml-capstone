{
 "cells": [
  {
   "cell_type": "markdown",
   "id": "c5fcd85f",
   "metadata": {},
   "source": [
    "14.8 Experiment with Various Models"
   ]
  },
  {
   "cell_type": "markdown",
   "id": "593aaf3f",
   "metadata": {},
   "source": [
    "The purpose of this step is for you to rigorously test how to build the best model for analyzing\n",
    "the patterns found in your dataset. Perform some of the following activities:\n",
    "- Build an automated process to test many modeling techniques and ML algorithms with\n",
    "your data to see which one yields the best results.\n",
    "- Define the performance metric(s) best applied to your problem (accuracy, F1, RSME,\n",
    "LOC, etc.).\n",
    "- Test various loss functions across models to see which one yields the best result.\n",
    "- Perform tuning of one or more models, across one or multiple hyperparameters.\n",
    "- Build a robust cross-validation process for your problem.\n",
    "- Ensemble multiple models together, and demonstrate the superior results.\n",
    "- Analyze the prediction results to confirm how some of your models ended up properly\n",
    "generalizing or overfitting the data.\n",
    "- Present your best model(s)."
   ]
  },
  {
   "cell_type": "code",
   "execution_count": null,
   "id": "2b719c6b",
   "metadata": {},
   "outputs": [],
   "source": []
  },
  {
   "cell_type": "markdown",
   "id": "b996d039",
   "metadata": {},
   "source": [
    "### grid search"
   ]
  },
  {
   "cell_type": "code",
   "execution_count": null,
   "id": "6c106727",
   "metadata": {},
   "outputs": [],
   "source": [
    "#https://stackoverflow.com/questions/60553339/how-to-plot-sklearns-gridsearchcv-results-vs-params?rq=3\n",
    "#https://gist.github.com/harrywang/153a9b896b65570089ae1c4e5d8659ec"
   ]
  },
  {
   "cell_type": "markdown",
   "id": "c6ee59ca",
   "metadata": {},
   "source": [
    "### cross validation"
   ]
  },
  {
   "cell_type": "code",
   "execution_count": null,
   "id": "b8e34e15",
   "metadata": {},
   "outputs": [],
   "source": [
    "#https://neptune.ai/blog/cross-validation-in-machine-learning-how-to-do-it-right"
   ]
  }
 ],
 "metadata": {
  "kernelspec": {
   "display_name": "Python 3 (ipykernel)",
   "language": "python",
   "name": "python3"
  },
  "language_info": {
   "codemirror_mode": {
    "name": "ipython",
    "version": 3
   },
   "file_extension": ".py",
   "mimetype": "text/x-python",
   "name": "python",
   "nbconvert_exporter": "python",
   "pygments_lexer": "ipython3",
   "version": "3.9.17"
  }
 },
 "nbformat": 4,
 "nbformat_minor": 5
}
