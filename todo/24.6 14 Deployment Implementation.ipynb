{
 "cells": [
  {
   "cell_type": "markdown",
   "id": "e7555772",
   "metadata": {},
   "source": [
    "24.6 14 Deployment Implementation"
   ]
  },
  {
   "cell_type": "markdown",
   "id": "e3c85baf",
   "metadata": {},
   "source": [
    "Now that you’ve refactored your code and designed an architecture for your system, it’s\n",
    "time to actually implement the architecture and deploy it to production.\n",
    "The exact steps you follow here will depend on your project. You and your mentor will\n",
    "work on that together. Here are a few common steps that MLEs might follow:\n",
    "1. Step One: Implement your data pipeline. This is where all of the engineering skills\n",
    "you’ve learned will come in handy.\n",
    "a. Implement the right systems for storing your data, loading it for training\n",
    "your model, and making predictions with your model.\n",
    "b. Make sure you log necessary and sufficient information for monitoring\n",
    "and debugging your system.\n",
    "c. Test each component and subsystem as much as possible as you build it\n",
    "out. It’s much easier to find bugs in smaller systems than larger ones\n",
    "2. Step Two: Design an API using a tool such as Swagger. If you choose to use a\n",
    "managed ML service (e.g. Domino, AWS SageMaker, Google Cloud ML), they\n",
    "might provide out-of-the-box API calls. That’s completely fine!\n",
    "a. As you design your API, try to make sure your API follows good design\n",
    "principles.\n",
    "b. Use a tool such as Flask to create a simple user interface for your API\n",
    "3. Step Three: Package your application as a Docker container. This makes it easy\n",
    "for you or anyone else to “spin up” your application without worrying about\n",
    "installing the right tools or libraries. Some of the platforms you’ll use might\n",
    "provide out-of-the-box support for containers; you’re welcome to use that.\n",
    "4. Step Four: Test your API using tools such as Postman or Swagger. Make sure\n",
    "you test both read and write functions and various corner cases.\n",
    "5. Step Five: Document your API. Using a tool such as Sphinx lets you automatically\n",
    "create beautiful API documentation from annotations in your code. Add your\n",
    "documentation to your GitHub repository. @Lucy we need a guide/blog post to\n",
    "walk them through how to do this.\n",
    "6. Step Six: Add instructions at the very beginning of the README for your GitHub\n",
    "repository on how to install and build your project from scratch, as well as how to\n",
    "access and use your application.\n",
    "7. Step Seven: Include a Jupyter notebook in the repo that demonstrates how to\n",
    "use the API, and why it is useful. Writing a blog-style article is even better. Look\n",
    "at fast.ai to see how they do it.\n",
    "8. Step Eight: Submit a link to your GitHub repository."
   ]
  },
  {
   "cell_type": "markdown",
   "id": "fda21348",
   "metadata": {},
   "source": [
    "The student has submitted a link to a production repository i.e. a Github repository with production-ready code and instructions in the README on how to run the application."
   ]
  },
  {
   "cell_type": "markdown",
   "id": "33655844",
   "metadata": {},
   "source": [
    "The submission demonstrates that the student has a clear understanding of how to take production-ready code into deployment. Specifically:\n",
    "The proposed data pipelines have been implemented; all of the data can be stored, and transported as needed to the right component(s) in the application.\n",
    "The application logs the necessary information to monitor performance and debug it in case of issues.\n",
    "The application is adequately ‘containerized’, whether by using a managed platform such as Domino or Google’s Cloud ML Engine or by using Docker or similar containerization tools.\n"
   ]
  },
  {
   "cell_type": "code",
   "execution_count": null,
   "id": "962f98dc",
   "metadata": {},
   "outputs": [],
   "source": []
  }
 ],
 "metadata": {
  "kernelspec": {
   "display_name": "Python 3 (ipykernel)",
   "language": "python",
   "name": "python3"
  },
  "language_info": {
   "codemirror_mode": {
    "name": "ipython",
    "version": 3
   },
   "file_extension": ".py",
   "mimetype": "text/x-python",
   "name": "python",
   "nbconvert_exporter": "python",
   "pygments_lexer": "ipython3",
   "version": "3.9.17"
  }
 },
 "nbformat": 4,
 "nbformat_minor": 5
}
