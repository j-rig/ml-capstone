{
 "cells": [
  {
   "cell_type": "markdown",
   "id": "2d1001b3",
   "metadata": {},
   "source": [
    "21.6 11 Pick Your Deployment Method"
   ]
  },
  {
   "cell_type": "markdown",
   "id": "da7d1af6",
   "metadata": {},
   "source": [
    "In this step, you will pick how you would like to deploy your project. The right\n",
    "deployment method will vary depending on the scope of your project.\n",
    "● There are three major ways to deploy your projects: as an API, through a library\n",
    "on an existing framework, or through a shipping product (which can be either a\n",
    "web site end users can access for example, or a mobile app).\n",
    "● Refer to some of the project examples.\n",
    "● Be aware of your time management.\n",
    "● Please refer to Unit 23 which teaches basic tools and unit 24 has more advanced\n",
    "options."
   ]
  },
  {
   "cell_type": "markdown",
   "id": "8ef9aeec",
   "metadata": {},
   "source": [
    "● A shortlist of your next steps regarding deployment and engineering. Please\n",
    "discuss with your mentor to decide deployment methods."
   ]
  },
  {
   "cell_type": "code",
   "execution_count": null,
   "id": "6cd9c1f7",
   "metadata": {},
   "outputs": [],
   "source": []
  }
 ],
 "metadata": {
  "kernelspec": {
   "display_name": "Python 3 (ipykernel)",
   "language": "python",
   "name": "python3"
  },
  "language_info": {
   "codemirror_mode": {
    "name": "ipython",
    "version": 3
   },
   "file_extension": ".py",
   "mimetype": "text/x-python",
   "name": "python",
   "nbconvert_exporter": "python",
   "pygments_lexer": "ipython3",
   "version": "3.9.17"
  }
 },
 "nbformat": 4,
 "nbformat_minor": 5
}
