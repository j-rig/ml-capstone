{
 "cells": [
  {
   "cell_type": "markdown",
   "id": "c924a00c",
   "metadata": {},
   "source": [
    "# 8.6 Project Proposal"
   ]
  },
  {
   "cell_type": "markdown",
   "id": "225b30a7",
   "metadata": {},
   "source": [
    "Once you’ve decided on your final capstone project idea, we’d like you to write a proposal. A\n",
    "project proposal is a short (1-2 page) document that answers the following questions:\n",
    "1. What is the problem you want to solve? Why is it an interesting problem?\n",
    "2. What data are you going to use to solve this problem? How will you acquire this data?\n",
    "3. In brief, outline your approach to solving this problem. You might not know everything in\n",
    "advance, and this approach may change later. This might include information like:\n",
    "a. Is this a supervised or unsupervised problem?\n",
    "b. If supervised, is it a classification or regression problem?\n",
    "c. What are you trying to predict?\n",
    "d. What will you use as predictors?\n",
    "e. Will you try a more “traditional” machine learning approach, a deep learning\n",
    "approach, or both?\n",
    "4. What will be your final deliverable? Will it be an application deployed as a web service\n",
    "with an API or a more robust web/mobile app.\n",
    "5. What computational resources would you need at a minimum to do this project? You\n",
    "may not have a very clear sense now but work with your mentor to come to an estimate. In\n",
    "real industrial applications, you’ll often be called upon to provide resource estimates at the\n",
    "beginning of a project.\n",
    "a. Processing power (CPU)\n",
    "b. Memory\n",
    "c. Specialized hardware such as GPUs"
   ]
  },
  {
   "cell_type": "markdown",
   "id": "9e53dda7",
   "metadata": {},
   "source": [
    "The submission demonstrates that the student has articulated a problem statement that is within the scope of this course.\n",
    "The submission demonstrates that the student has selected a problem with a dataset that is relatively clean, easy-to-use, and within the scope of this course.\n",
    "The submission demonstrates the student’s ability to justify the need for a significant problem to solve.\n",
    "The submission includes a well-thought-out estimate (developed in collaboration with the mentor) of the computational resources that might be required for this project.\n",
    "\n",
    "The proposal is clear and follows a logical flow in stating the problem to be addressed and the data to be utilized. \n",
    "\n"
   ]
  },
  {
   "cell_type": "code",
   "execution_count": null,
   "id": "9f18efe5",
   "metadata": {},
   "outputs": [],
   "source": []
  }
 ],
 "metadata": {
  "kernelspec": {
   "display_name": "Python 3 (ipykernel)",
   "language": "python",
   "name": "python3"
  },
  "language_info": {
   "codemirror_mode": {
    "name": "ipython",
    "version": 3
   },
   "file_extension": ".py",
   "mimetype": "text/x-python",
   "name": "python",
   "nbconvert_exporter": "python",
   "pygments_lexer": "ipython3",
   "version": "3.9.17"
  }
 },
 "nbformat": 4,
 "nbformat_minor": 5
}
