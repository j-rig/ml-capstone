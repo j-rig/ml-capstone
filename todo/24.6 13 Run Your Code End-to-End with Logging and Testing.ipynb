{
 "cells": [
  {
   "cell_type": "markdown",
   "id": "7c013e2f",
   "metadata": {},
   "source": [
    "# 24.6 13 Run Your Code End-to-End with Logging and Testing"
   ]
  },
  {
   "cell_type": "markdown",
   "id": "844b48f8",
   "metadata": {},
   "source": [
    "So far, your code has been running in a Jupyter notebook. However, that’s not the way\n",
    "production code works. The very first step in deploying your prototype to production is\n",
    "to ensure that your code runs independently from the command line and is well-tested.\n",
    "Now is the time for you to apply all of the best practices that you’ve learned about\n",
    "software engineering!"
   ]
  },
  {
   "cell_type": "markdown",
   "id": "aefebc36",
   "metadata": {},
   "source": [
    "Project Submission Steps\n",
    "1. Create a new repository for your production code by cloning the repository where\n",
    "your prototype was created. We will call this new repository the production repo.\n",
    "2. Refactor the code in the production repo. This might include the following steps\n",
    "as applicable:\n",
    "a. Get your code out of your Jupyter notebooks into Python files. You’ll edit\n",
    "the Python files in a code editor or an IDE such as PyCharm, Eclipse, or\n",
    "Atom. Pick your favorite editor or IDE here, no restrictions! Revisit the\n",
    "pre-work to refresh your memory on setting up IDEs\n",
    "b. Create Python modules, classes, and functions as appropriate, so your\n",
    "code is well-organized\n",
    "c. Remove unnecessary print and debugging statements, along with\n",
    "interactive features such as visualizations\n",
    "d. Add useful logging statements at critical points of the code\n",
    "3. Add unit tests to test your various functions and methods. Aim for at least 60%\n",
    "of code coverage in your tests. Think about how to cover edge cases or\n",
    "erroneous inputs.\n",
    "4. Ensure that your code runs end-to-end from the command line with appropriate\n",
    "command-line options\n",
    "5. Create a README at the top level of your repository documenting exactly how to\n",
    "run your code.\n",
    "6. Submit a link to your production repo containing the refactored and tested code."
   ]
  },
  {
   "cell_type": "code",
   "execution_count": null,
   "id": "394f20a6",
   "metadata": {},
   "outputs": [],
   "source": []
  }
 ],
 "metadata": {
  "kernelspec": {
   "display_name": "Python 3 (ipykernel)",
   "language": "python",
   "name": "python3"
  },
  "language_info": {
   "codemirror_mode": {
    "name": "ipython",
    "version": 3
   },
   "file_extension": ".py",
   "mimetype": "text/x-python",
   "name": "python",
   "nbconvert_exporter": "python",
   "pygments_lexer": "ipython3",
   "version": "3.9.17"
  }
 },
 "nbformat": 4,
 "nbformat_minor": 5
}
