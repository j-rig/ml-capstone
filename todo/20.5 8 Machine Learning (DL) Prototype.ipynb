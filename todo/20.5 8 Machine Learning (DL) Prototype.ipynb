{
 "cells": [
  {
   "cell_type": "markdown",
   "id": "2142acbc",
   "metadata": {},
   "source": [
    "20.5 8 Machine Learning (DL) Prototype"
   ]
  },
  {
   "cell_type": "markdown",
   "id": "732c974d",
   "metadata": {},
   "source": [
    "The goal of this step is to find a machine learning or deep learning approach that works\n",
    "for your problem, and then show that the approach you choose is a viable one. Since the\n",
    "application has not been deployed to production yet, we’ll call it a prototype.\n",
    "For this step, you’ll build your prototype in a Jupyter notebook. Depending on your\n",
    "problem, you’ll use a more ‘traditional’ machine learning (ML) technique or a deep\n",
    "learning (DL) technique. Your goal is to come up with a working implementation of your\n",
    "prototype in a Jupyter notebook. This prototype could work on a subset of the data but\n",
    "demonstrates that your approach to solving the problem is a viable one based on the\n",
    "following criteria:\n",
    "● The data has been reasonably split into training, validation, and test sets.\n",
    "● You have used the correct metric(s) to evaluate the performance of your\n",
    "algorithm.\n",
    "● The performance of your algorithm is ‘good enough’ as determined by your\n",
    "mentor."
   ]
  },
  {
   "cell_type": "markdown",
   "id": "2870ac24",
   "metadata": {},
   "source": [
    "After completing the above, you’ll submit a link to your Jupyter notebook with the\n",
    "ML/DL algorithm coded and your results well-documented in a way that your mentor (or\n",
    "a potential employer) can easily follow."
   ]
  },
  {
   "cell_type": "markdown",
   "id": "567dac78",
   "metadata": {},
   "source": [
    "The submission shows that the student understands how to design, implement, and justify a suitable machine learning and/or deep learning approach to a problem.\n",
    "The submission demonstrates that the student made thoughtful decisions about validating and testing the approach:\n",
    "The data has been reasonably split into training, validation, and test sets.\n",
    "The ML/DL algorithm chosen for the approach makes sense in the context of the problem.\n",
    "The student has used the correct metric(s) to evaluate the performance of their algorithm.\n",
    "The performance of their algorithm is ‘good enough’ to \n"
   ]
  },
  {
   "cell_type": "code",
   "execution_count": null,
   "id": "4cbcb933",
   "metadata": {},
   "outputs": [],
   "source": []
  }
 ],
 "metadata": {
  "kernelspec": {
   "display_name": "Python 3 (ipykernel)",
   "language": "python",
   "name": "python3"
  },
  "language_info": {
   "codemirror_mode": {
    "name": "ipython",
    "version": 3
   },
   "file_extension": ".py",
   "mimetype": "text/x-python",
   "name": "python",
   "nbconvert_exporter": "python",
   "pygments_lexer": "ipython3",
   "version": "3.9.17"
  }
 },
 "nbformat": 4,
 "nbformat_minor": 5
}
