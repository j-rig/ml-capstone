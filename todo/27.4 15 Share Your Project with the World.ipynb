{
 "cells": [
  {
   "cell_type": "markdown",
   "id": "08f1e069",
   "metadata": {},
   "source": [
    "27.4 15 Share Your Project with the World"
   ]
  },
  {
   "cell_type": "markdown",
   "id": "6894002c",
   "metadata": {},
   "source": [
    "Now that you’re done, it’s time to share your project with the world.\n",
    "The final deliverables for your project, such as your code and application (please see the project\n",
    "evaluation section below), are part of your portfolio. That means you’ll be sharing them with\n",
    "potential employers. We require students to share their projects on Slack to receive feedback\n",
    "from peers and on GitHub to highlight their skills to potential employers.\n",
    "When you and your mentor agree on a stopping point for the project, you should have the\n",
    "following deliverables ready before asking your student advisor to start the completion process.\n",
    "Mandatory deliverables\n",
    "● Code for your project, well-documented on GitHub. We’ve provided some guidelines for\n",
    "what a good GitHub should look like below."
   ]
  },
  {
   "cell_type": "markdown",
   "id": "68d94cdd",
   "metadata": {},
   "source": [
    "● An application that is deployed on a cloud platform. This application must be accessible\n",
    "using an API or a web service. Your GitHub README should contain instructions on how\n",
    "to access and use the application."
   ]
  },
  {
   "cell_type": "markdown",
   "id": "f0e6767c",
   "metadata": {},
   "source": []
  }
 ],
 "metadata": {
  "kernelspec": {
   "display_name": "Python 3 (ipykernel)",
   "language": "python",
   "name": "python3"
  },
  "language_info": {
   "codemirror_mode": {
    "name": "ipython",
    "version": 3
   },
   "file_extension": ".py",
   "mimetype": "text/x-python",
   "name": "python",
   "nbconvert_exporter": "python",
   "pygments_lexer": "ipython3",
   "version": "3.9.17"
  }
 },
 "nbformat": 4,
 "nbformat_minor": 5
}
