{
 "cells": [
  {
   "cell_type": "markdown",
   "id": "133cfc70",
   "metadata": {},
   "source": [
    "20.5 10 Study Advanced Units"
   ]
  },
  {
   "cell_type": "markdown",
   "id": "96933f44",
   "metadata": {},
   "source": [
    "We have three optional units in this course that will provide you with in-depth knowledge\n",
    "in Deep Learning, Natural Language Processing, or Computer Vision (this is actually two\n",
    "units, one conceptual and one hands-on). These units are here to help you succeed in\n",
    "your capstone and your career if you wish to specialize in one of these topics.\n",
    "● If you pick Deep Learning/NLP/Computer Vision, you will need to do additional\n",
    "study. We have created units on each of these topics and will share some\n",
    "advanced, state-of-art knowledge.\n",
    "● Refer to FAQ if you are undecided about pursuing one of the topics.\n",
    "● You will still need knowledge of the basic algorithms taught throughout the\n",
    "course"
   ]
  },
  {
   "cell_type": "markdown",
   "id": "2cf07eec",
   "metadata": {},
   "source": [
    ". If you are pursuing one of these specializations, please pick one of the\n",
    "four optional units (unit 30-33) to study."
   ]
  },
  {
   "cell_type": "markdown",
   "id": "e3cc241e",
   "metadata": {},
   "source": [
    "2. After you finish studying these units, write a few paragraphs on how you\n",
    "have leveraged the more advanced technique (if it applies to them) in a\n",
    "notebook, and compare such solutions with previous results with your\n",
    "mentor.\n",
    "3. Then please mark this project step as complete, after you finish studying\n",
    "the optional units."
   ]
  },
  {
   "cell_type": "code",
   "execution_count": null,
   "id": "2ec3dad3",
   "metadata": {},
   "outputs": [],
   "source": []
  }
 ],
 "metadata": {
  "kernelspec": {
   "display_name": "Python 3 (ipykernel)",
   "language": "python",
   "name": "python3"
  },
  "language_info": {
   "codemirror_mode": {
    "name": "ipython",
    "version": 3
   },
   "file_extension": ".py",
   "mimetype": "text/x-python",
   "name": "python",
   "nbconvert_exporter": "python",
   "pygments_lexer": "ipython3",
   "version": "3.9.17"
  }
 },
 "nbformat": 4,
 "nbformat_minor": 5
}
