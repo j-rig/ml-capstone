{
 "cells": [
  {
   "cell_type": "markdown",
   "id": "9ace8d88",
   "metadata": {},
   "source": [
    "23.5 12 Design Your Deployment Solution Architecture"
   ]
  },
  {
   "cell_type": "markdown",
   "id": "e62d9c87",
   "metadata": {},
   "source": [
    "You should start deploying a prototype by determining what the deployment would look\n",
    "like in production. What are the various pieces of the deployment and how do they fit\n",
    "together? Here are some specific questions to think about:\n",
    "● What are the major components of your system? What are the inputs and\n",
    "outputs?\n",
    "● Where and how will the data be stored?\n",
    "● How will data get from one component of the system to another?\n",
    "● What is the lifecycle of your ML/DL model?\n",
    "○ How frequently do you need to retrain your model? Is it at fixed intervals\n",
    "when you collect a certain amount of new data or when some other\n",
    "conditions are met?\n",
    "○ What kind of data do you need for retraining? How will you store and\n",
    "manage it?\n",
    "○ How do you know if the retrained model is good enough to deploy?"
   ]
  },
  {
   "cell_type": "markdown",
   "id": "d9468e5c",
   "metadata": {},
   "source": [
    "How will the retrained model be deployed?\n",
    "○ How will the retrained model be stored as an artifact?\n",
    "● How will the system be monitored? How will you debug it if there are problems?\n",
    "● How will your system respond to unexpected errors or outages?\n",
    "● What are the specific tools/technologies you’ll use to build this system?\n",
    "● What is the estimated implementation cost in terms of resources, time, and\n",
    "money as applicable?"
   ]
  },
  {
   "cell_type": "markdown",
   "id": "3109713e",
   "metadata": {},
   "source": []
  },
  {
   "cell_type": "markdown",
   "id": "6d8f68c5",
   "metadata": {},
   "source": [
    "1. A sketch or diagram of what your deployment architecture would look like. You’re\n",
    "welcome to draw it by hand and take a picture to upload to your document.\n",
    "2. A 1-2 page write-up explaining your design decisions, covering why you chose to\n",
    "design your system in a certain way and why you have chosen to use certain\n",
    "technologies. Also, include an estimate of the cost of the system (e.g. computing\n",
    "resources, time, money).\n",
    "3. A pre-deployment checklist. Please refer to 20.4.1 (link) to the list of questions\n",
    "that you should think through."
   ]
  },
  {
   "cell_type": "markdown",
   "id": "4ff93450",
   "metadata": {},
   "source": [
    "The submission demonstrates that the student has articulated a deployment architecture that answers the following questions about the deployment of the Capstone Project prototype (as relevant):\n",
    "What are the major components of your system? What are the inputs and outputs?\n",
    "Where and how will the data be stored?\n",
    "How will data get from one component of the system to another?\n",
    "What is the lifecycle of the ML/DL model?\n",
    "How frequently does the model need retraining? Is it at fixed intervals or when certain conditions are met? \n"
   ]
  },
  {
   "cell_type": "code",
   "execution_count": null,
   "id": "e001ea60",
   "metadata": {},
   "outputs": [],
   "source": []
  }
 ],
 "metadata": {
  "kernelspec": {
   "display_name": "Python 3 (ipykernel)",
   "language": "python",
   "name": "python3"
  },
  "language_info": {
   "codemirror_mode": {
    "name": "ipython",
    "version": 3
   },
   "file_extension": ".py",
   "mimetype": "text/x-python",
   "name": "python",
   "nbconvert_exporter": "python",
   "pygments_lexer": "ipython3",
   "version": "3.9.17"
  }
 },
 "nbformat": 4,
 "nbformat_minor": 5
}
