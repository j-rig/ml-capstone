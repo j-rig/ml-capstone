{
 "cells": [
  {
   "cell_type": "markdown",
   "id": "4473b491",
   "metadata": {},
   "source": [
    "# 8.6 Project Proposal"
   ]
  },
  {
   "cell_type": "markdown",
   "id": "e4a2159c",
   "metadata": {},
   "source": [
    "## Problem"
   ]
  },
  {
   "cell_type": "markdown",
   "id": "5afac91f",
   "metadata": {},
   "source": [
    "The problem I want to solve is how to accurately evaluate the price of a business for sale. \n",
    "This is an interesting problem because it is complex and there is no one-size-fits-all solution. The price of a business depends on many factors, including its financial performance, industry, location, and the overall market conditions. By using NLP to extract relevant information from business listings, such as the business's revenue, profit, industry, and location, we can develop a model that can predict the business price with a high degree of accuracy. This information could then be used by buyers to identify businesses that are undervalued or overpriced."
   ]
  },
  {
   "cell_type": "markdown",
   "id": "961c8b8a",
   "metadata": {},
   "source": [
    "## Data"
   ]
  },
  {
   "cell_type": "markdown",
   "id": "06d2e1b3",
   "metadata": {},
   "source": [
    "The data that I will use to solve this problem is the data that is publicly available on the BuizBuySell website. This data includes business listings, financial data, and industry information. I will acquire this data using web scraping techniques."
   ]
  },
  {
   "cell_type": "markdown",
   "id": "7dbbe4c3",
   "metadata": {},
   "source": [
    "## Approach"
   ]
  },
  {
   "cell_type": "markdown",
   "id": "5216a845",
   "metadata": {},
   "source": [
    "This is a supervised learning problem, as I am trying to predict a continuous value (the business price) based on a set of predictor variables (such as the business's listing text, financials, category, and location). I will use a machine learning model to predict the business price.\n",
    "\n",
    "Traditional machine learning: I will train a linear regression model to predict the business price. \n",
    "\n",
    "Deep learning: I will also train a deep learning model, such as a neural network, to predict the business price."
   ]
  },
  {
   "cell_type": "markdown",
   "id": "b1068d60",
   "metadata": {},
   "source": [
    "## Deliverable"
   ]
  },
  {
   "cell_type": "markdown",
   "id": "76f57869",
   "metadata": {},
   "source": [
    "My final deliverable will be a web application with an REST API that can be used to evaluate the price of a business for sale. The API will accept the listing url and return a predicted business price."
   ]
  },
  {
   "cell_type": "markdown",
   "id": "f54b8169",
   "metadata": {},
   "source": [
    "## Computational Resources"
   ]
  },
  {
   "cell_type": "markdown",
   "id": "bebfa9e3",
   "metadata": {},
   "source": [
    "The following computational resources would be needed at a minimum to do this project:\n",
    "\n",
    "Processing power (CPU): A CPU with at least 4 cores and 8 threads.\n",
    "Memory: At least 16 GB of RAM.\n",
    "Specialized hardware such as GPUs: A GPU is not required, but it would be beneficial for training a deep learning model."
   ]
  },
  {
   "cell_type": "code",
   "execution_count": null,
   "id": "a9270933",
   "metadata": {},
   "outputs": [],
   "source": []
  }
 ],
 "metadata": {
  "kernelspec": {
   "display_name": "Python 3 (ipykernel)",
   "language": "python",
   "name": "python3"
  },
  "language_info": {
   "codemirror_mode": {
    "name": "ipython",
    "version": 3
   },
   "file_extension": ".py",
   "mimetype": "text/x-python",
   "name": "python",
   "nbconvert_exporter": "python",
   "pygments_lexer": "ipython3",
   "version": "3.9.17"
  }
 },
 "nbformat": 4,
 "nbformat_minor": 5
}
